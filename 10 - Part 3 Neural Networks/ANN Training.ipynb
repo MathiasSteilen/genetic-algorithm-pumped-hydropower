{
 "cells": [
  {
   "cell_type": "markdown",
   "metadata": {},
   "source": [
    "# Pumped-Storage Optimisation with Neural Network trained by Genetic Algorithm"
   ]
  },
  {
   "cell_type": "code",
   "execution_count": 1,
   "metadata": {},
   "outputs": [],
   "source": [
    "import pandas as pd\n",
    "import numpy as np\n",
    "import plotnine as pn\n",
    "import plotly.graph_objs as go\n",
    "import plotly.express as px\n",
    "from tqdm.notebook import tqdm\n",
    "from IPython.display import clear_output, display\n",
    "import os\n",
    "from itertools import product\n",
    "\n",
    "# Import own implementations\n",
    "from milp import MILP\n",
    "import genetic\n",
    "from genetic import GA_ANN, evaluate_fitness\n",
    "\n",
    "# Importing tuning libraries\n",
    "import ray\n",
    "from ray import train, tune\n",
    "from ray.tune.search.optuna import OptunaSearch\n",
    "from ray.tune.schedulers import ASHAScheduler\n",
    "\n",
    "# Import Pytorch stuff\n",
    "import torch\n",
    "import torch.nn as nn\n",
    "import torch.nn.functional as F\n",
    "from torch.utils.data import DataLoader\n",
    "import torch.optim as optim\n",
    "\n",
    "# Import genetic algorithm library\n",
    "from deap import base, creator, tools, algorithms\n",
    "\n",
    "background_colour = \"#F2F2F2\"\n",
    "pn.theme_set(\n",
    "    pn.theme_classic()\n",
    "    + pn.theme(\n",
    "        text=pn.element_text(family=\"monospace\"),\n",
    "        plot_background=pn.element_rect(\n",
    "            fill=background_colour, colour=background_colour\n",
    "        ),\n",
    "        panel_background=pn.element_rect(\n",
    "            fill=background_colour, colour=background_colour\n",
    "        ),\n",
    "        legend_background=pn.element_rect(\n",
    "            fill=background_colour, colour=background_colour\n",
    "        ),\n",
    "    )\n",
    ")\n",
    "\n",
    "%load_ext blackcellmagic"
   ]
  },
  {
   "cell_type": "markdown",
   "metadata": {},
   "source": [
    "## The Power Plant"
   ]
  },
  {
   "cell_type": "code",
   "execution_count": 2,
   "metadata": {},
   "outputs": [],
   "source": [
    "plant_params = {\n",
    "    \"EFFICIENCY\": 0.75,\n",
    "    \"MAX_STORAGE_M3\": 5000,\n",
    "    \"MIN_STORAGE_M3\": 0,\n",
    "    \"TURBINE_POWER_MW\": 100,\n",
    "    \"PUMP_POWER_MW\": 100,\n",
    "    \"TURBINE_RATE_M3H\": 500,\n",
    "    \"MIN_STORAGE_MWH\": 0,\n",
    "    \"INITIAL_WATER_LEVEL_PCT\": 0,\n",
    "}\n",
    "plant_params[\"INITIAL_WATER_LEVEL\"] = (\n",
    "    plant_params[\"INITIAL_WATER_LEVEL_PCT\"] * plant_params[\"MAX_STORAGE_M3\"]\n",
    ")\n",
    "plant_params[\"PUMP_RATE_M3H\"] = (\n",
    "    plant_params[\"TURBINE_RATE_M3H\"] * plant_params[\"EFFICIENCY\"]\n",
    ")\n",
    "plant_params[\"MAX_STORAGE_MWH\"] = (\n",
    "    plant_params[\"MAX_STORAGE_M3\"] / plant_params[\"TURBINE_RATE_M3H\"]\n",
    ") * plant_params[\"TURBINE_POWER_MW\"]\n",
    "plant_params[\"LOOKAHEAD\"] = (\n",
    "    plant_params[\"MAX_STORAGE_M3\"] / plant_params[\"TURBINE_RATE_M3H\"]\n",
    ") * 3"
   ]
  },
  {
   "cell_type": "markdown",
   "metadata": {},
   "source": [
    "## Price Data"
   ]
  },
  {
   "cell_type": "code",
   "execution_count": 3,
   "metadata": {},
   "outputs": [
    {
     "data": {
      "text/html": [
       "<div>\n",
       "<style scoped>\n",
       "    .dataframe tbody tr th:only-of-type {\n",
       "        vertical-align: middle;\n",
       "    }\n",
       "\n",
       "    .dataframe tbody tr th {\n",
       "        vertical-align: top;\n",
       "    }\n",
       "\n",
       "    .dataframe thead th {\n",
       "        text-align: right;\n",
       "    }\n",
       "</style>\n",
       "<table border=\"1\" class=\"dataframe\">\n",
       "  <thead>\n",
       "    <tr style=\"text-align: right;\">\n",
       "      <th></th>\n",
       "      <th>spot</th>\n",
       "      <th>utc_time</th>\n",
       "    </tr>\n",
       "  </thead>\n",
       "  <tbody>\n",
       "    <tr>\n",
       "      <th>0</th>\n",
       "      <td>36.99</td>\n",
       "      <td>2017-12-31 23:00:00+00:00</td>\n",
       "    </tr>\n",
       "    <tr>\n",
       "      <th>1</th>\n",
       "      <td>31.08</td>\n",
       "      <td>2018-01-01 00:00:00+00:00</td>\n",
       "    </tr>\n",
       "  </tbody>\n",
       "</table>\n",
       "</div>"
      ],
      "text/plain": [
       "    spot                  utc_time\n",
       "0  36.99 2017-12-31 23:00:00+00:00\n",
       "1  31.08 2018-01-01 00:00:00+00:00"
      ]
     },
     "execution_count": 3,
     "metadata": {},
     "output_type": "execute_result"
    }
   ],
   "source": [
    "df = pd.read_csv(\"../01 - Data/spot_prices_utc.csv\").assign(utc_time = lambda x: pd.to_datetime(x.utc_time))\n",
    "df.head(2)"
   ]
  },
  {
   "cell_type": "code",
   "execution_count": 4,
   "metadata": {},
   "outputs": [
    {
     "name": "stdout",
     "output_type": "stream",
     "text": [
      "<class 'pandas.core.frame.DataFrame'>\n",
      "RangeIndex: 48166 entries, 0 to 48165\n",
      "Data columns (total 2 columns):\n",
      " #   Column    Non-Null Count  Dtype              \n",
      "---  ------    --------------  -----              \n",
      " 0   spot      48166 non-null  float64            \n",
      " 1   utc_time  48166 non-null  datetime64[ns, UTC]\n",
      "dtypes: datetime64[ns, UTC](1), float64(1)\n",
      "memory usage: 752.7 KB\n"
     ]
    }
   ],
   "source": [
    "df.info()"
   ]
  },
  {
   "cell_type": "code",
   "execution_count": 5,
   "metadata": {},
   "outputs": [
    {
     "data": {
      "text/plain": [
       "Timestamp('2017-12-31 23:00:00+0000', tz='UTC')"
      ]
     },
     "execution_count": 5,
     "metadata": {},
     "output_type": "execute_result"
    }
   ],
   "source": [
    "df.utc_time.min()"
   ]
  },
  {
   "cell_type": "code",
   "execution_count": 6,
   "metadata": {},
   "outputs": [
    {
     "data": {
      "text/plain": [
       "Timestamp('2023-06-30 21:00:00+0000', tz='UTC')"
      ]
     },
     "execution_count": 6,
     "metadata": {},
     "output_type": "execute_result"
    }
   ],
   "source": [
    "df.utc_time.max()"
   ]
  },
  {
   "cell_type": "markdown",
   "metadata": {},
   "source": [
    "Keep the part that was before the madness:"
   ]
  },
  {
   "cell_type": "code",
   "execution_count": 7,
   "metadata": {},
   "outputs": [],
   "source": [
    "df = df.query('utc_time < @pd.Timestamp(\"2020-01-01\", tz=\"UTC\")')"
   ]
  },
  {
   "cell_type": "markdown",
   "metadata": {},
   "source": [
    "Then set two weeks aside, one for validation and one for testing."
   ]
  },
  {
   "cell_type": "code",
   "execution_count": 8,
   "metadata": {},
   "outputs": [],
   "source": [
    "df_train = df.query('utc_time < @pd.Timestamp(\"2019-12-18\", tz=\"UTC\")').reset_index(\n",
    "    drop=True\n",
    ")\n",
    "df_val = (\n",
    "    df.query('utc_time >= @pd.Timestamp(\"2019-12-18\", tz=\"UTC\")')\n",
    "    .query('utc_time < @pd.Timestamp(\"2019-12-25\", tz=\"UTC\")')\n",
    "    .reset_index(drop=True)\n",
    "    .reset_index(drop=True)\n",
    ")\n",
    "df_test = df.query('utc_time >= @pd.Timestamp(\"2019-12-25\", tz=\"UTC\")').reset_index(\n",
    "    drop=True\n",
    ")"
   ]
  },
  {
   "cell_type": "code",
   "execution_count": 9,
   "metadata": {},
   "outputs": [
    {
     "name": "stdout",
     "output_type": "stream",
     "text": [
      "(17184, 2) (168, 2) (168, 2)\n"
     ]
    }
   ],
   "source": [
    "print(df_train.shape, df_val.shape, df_test.shape)"
   ]
  },
  {
   "cell_type": "markdown",
   "metadata": {},
   "source": [
    "### Preparing the dataset for the neural network"
   ]
  },
  {
   "cell_type": "code",
   "execution_count": 10,
   "metadata": {},
   "outputs": [
    {
     "data": {
      "text/html": [
       "<div>\n",
       "<style scoped>\n",
       "    .dataframe tbody tr th:only-of-type {\n",
       "        vertical-align: middle;\n",
       "    }\n",
       "\n",
       "    .dataframe tbody tr th {\n",
       "        vertical-align: top;\n",
       "    }\n",
       "\n",
       "    .dataframe thead th {\n",
       "        text-align: right;\n",
       "    }\n",
       "</style>\n",
       "<table border=\"1\" class=\"dataframe\">\n",
       "  <thead>\n",
       "    <tr style=\"text-align: right;\">\n",
       "      <th></th>\n",
       "      <th>spot</th>\n",
       "      <th>utc_time</th>\n",
       "    </tr>\n",
       "  </thead>\n",
       "  <tbody>\n",
       "    <tr>\n",
       "      <th>0</th>\n",
       "      <td>36.99</td>\n",
       "      <td>2017-12-31 23:00:00+00:00</td>\n",
       "    </tr>\n",
       "    <tr>\n",
       "      <th>1</th>\n",
       "      <td>31.08</td>\n",
       "      <td>2018-01-01 00:00:00+00:00</td>\n",
       "    </tr>\n",
       "    <tr>\n",
       "      <th>2</th>\n",
       "      <td>29.17</td>\n",
       "      <td>2018-01-01 01:00:00+00:00</td>\n",
       "    </tr>\n",
       "    <tr>\n",
       "      <th>3</th>\n",
       "      <td>21.96</td>\n",
       "      <td>2018-01-01 02:00:00+00:00</td>\n",
       "    </tr>\n",
       "    <tr>\n",
       "      <th>4</th>\n",
       "      <td>14.96</td>\n",
       "      <td>2018-01-01 03:00:00+00:00</td>\n",
       "    </tr>\n",
       "    <tr>\n",
       "      <th>...</th>\n",
       "      <td>...</td>\n",
       "      <td>...</td>\n",
       "    </tr>\n",
       "    <tr>\n",
       "      <th>17179</th>\n",
       "      <td>47.55</td>\n",
       "      <td>2019-12-17 19:00:00+00:00</td>\n",
       "    </tr>\n",
       "    <tr>\n",
       "      <th>17180</th>\n",
       "      <td>41.18</td>\n",
       "      <td>2019-12-17 20:00:00+00:00</td>\n",
       "    </tr>\n",
       "    <tr>\n",
       "      <th>17181</th>\n",
       "      <td>41.53</td>\n",
       "      <td>2019-12-17 21:00:00+00:00</td>\n",
       "    </tr>\n",
       "    <tr>\n",
       "      <th>17182</th>\n",
       "      <td>39.84</td>\n",
       "      <td>2019-12-17 22:00:00+00:00</td>\n",
       "    </tr>\n",
       "    <tr>\n",
       "      <th>17183</th>\n",
       "      <td>38.81</td>\n",
       "      <td>2019-12-17 23:00:00+00:00</td>\n",
       "    </tr>\n",
       "  </tbody>\n",
       "</table>\n",
       "<p>17184 rows × 2 columns</p>\n",
       "</div>"
      ],
      "text/plain": [
       "        spot                  utc_time\n",
       "0      36.99 2017-12-31 23:00:00+00:00\n",
       "1      31.08 2018-01-01 00:00:00+00:00\n",
       "2      29.17 2018-01-01 01:00:00+00:00\n",
       "3      21.96 2018-01-01 02:00:00+00:00\n",
       "4      14.96 2018-01-01 03:00:00+00:00\n",
       "...      ...                       ...\n",
       "17179  47.55 2019-12-17 19:00:00+00:00\n",
       "17180  41.18 2019-12-17 20:00:00+00:00\n",
       "17181  41.53 2019-12-17 21:00:00+00:00\n",
       "17182  39.84 2019-12-17 22:00:00+00:00\n",
       "17183  38.81 2019-12-17 23:00:00+00:00\n",
       "\n",
       "[17184 rows x 2 columns]"
      ]
     },
     "execution_count": 10,
     "metadata": {},
     "output_type": "execute_result"
    }
   ],
   "source": [
    "df_train"
   ]
  },
  {
   "cell_type": "markdown",
   "metadata": {},
   "source": [
    "Create maximum number of possible 168 hour sequences and put them into table format:"
   ]
  },
  {
   "cell_type": "code",
   "execution_count": 11,
   "metadata": {},
   "outputs": [],
   "source": [
    "def create_sequences(in_array, sequence_length):\n",
    "    out_array = np.zeros((len(in_array)-sequence_length+1, sequence_length), dtype=np.float32)\n",
    "\n",
    "    for i in tqdm(range(len(in_array)-sequence_length+1)):\n",
    "        out_array[i] = np.array(in_array[i:i+sequence_length])\n",
    "\n",
    "    return out_array"
   ]
  },
  {
   "cell_type": "code",
   "execution_count": 12,
   "metadata": {},
   "outputs": [
    {
     "data": {
      "text/plain": [
       "17184"
      ]
     },
     "execution_count": 12,
     "metadata": {},
     "output_type": "execute_result"
    }
   ],
   "source": [
    "len(df_train.spot)"
   ]
  },
  {
   "cell_type": "code",
   "execution_count": 13,
   "metadata": {},
   "outputs": [
    {
     "data": {
      "application/vnd.jupyter.widget-view+json": {
       "model_id": "2e3569d74bbb473a9b50c2986f6be340",
       "version_major": 2,
       "version_minor": 0
      },
      "text/plain": [
       "  0%|          | 0/17017 [00:00<?, ?it/s]"
      ]
     },
     "metadata": {},
     "output_type": "display_data"
    },
    {
     "data": {
      "application/vnd.jupyter.widget-view+json": {
       "model_id": "1371b282569349be9b02b754264f79be",
       "version_major": 2,
       "version_minor": 0
      },
      "text/plain": [
       "  0%|          | 0/1 [00:00<?, ?it/s]"
      ]
     },
     "metadata": {},
     "output_type": "display_data"
    },
    {
     "data": {
      "application/vnd.jupyter.widget-view+json": {
       "model_id": "f3867a8fce5f42149a15491edeca9a61",
       "version_major": 2,
       "version_minor": 0
      },
      "text/plain": [
       "  0%|          | 0/1 [00:00<?, ?it/s]"
      ]
     },
     "metadata": {},
     "output_type": "display_data"
    }
   ],
   "source": [
    "X_train = create_sequences(df_train.spot, 168)\n",
    "X_val = create_sequences(df_val.spot, 168)\n",
    "X_test = create_sequences(df_test.spot, 168)"
   ]
  },
  {
   "cell_type": "code",
   "execution_count": 14,
   "metadata": {},
   "outputs": [
    {
     "data": {
      "text/plain": [
       "array([[36.99, 31.08, 29.17, ..., 42.58, 45.05, 33.3 ],\n",
       "       [31.08, 29.17, 21.96, ..., 45.05, 33.3 , 21.95],\n",
       "       [29.17, 21.96, 14.96, ..., 33.3 , 21.95, 19.67],\n",
       "       ...,\n",
       "       [42.43, 37.36, 34.94, ..., 47.55, 41.18, 41.53],\n",
       "       [37.36, 34.94, 33.57, ..., 41.18, 41.53, 39.84],\n",
       "       [34.94, 33.57, 32.8 , ..., 41.53, 39.84, 38.81]], dtype=float32)"
      ]
     },
     "execution_count": 14,
     "metadata": {},
     "output_type": "execute_result"
    }
   ],
   "source": [
    "X_train"
   ]
  },
  {
   "cell_type": "code",
   "execution_count": 15,
   "metadata": {},
   "outputs": [
    {
     "data": {
      "text/plain": [
       "(17017, 168)"
      ]
     },
     "execution_count": 15,
     "metadata": {},
     "output_type": "execute_result"
    }
   ],
   "source": [
    "X_train.shape"
   ]
  },
  {
   "cell_type": "code",
   "execution_count": 16,
   "metadata": {},
   "outputs": [
    {
     "data": {
      "text/plain": [
       "array([[35.45, 34.29, 33.08, 33.01, 36.92, 43.47, 48.56, 50.73, 50.4 ,\n",
       "        49.35, 48.61, 48.03, 47.72, 48.62, 50.08, 52.22, 54.13, 54.17,\n",
       "        50.99, 47.76, 41.58, 43.58, 39.33, 36.19, 32.3 , 30.13, 29.64,\n",
       "        28.44, 34.67, 43.03, 44.05, 46.52, 46.3 , 46.16, 45.1 , 44.1 ,\n",
       "        44.07, 45.69, 46.57, 47.39, 46.08, 45.67, 45.59, 43.02, 41.05,\n",
       "        40.02, 37.02, 33.72, 32.08, 30.16, 29.88, 29.96, 33.6 , 39.03,\n",
       "        44.71, 42.08, 38.81, 44.38, 44.77, 42.68, 42.47, 42.98, 43.07,\n",
       "        37.6 , 38.58, 37.96, 40.33, 38.59, 38.32, 35.1 , 31.23, 31.97,\n",
       "        26.83, 21.92, 20.56, 20.48, 21.66, 30.07, 33.17, 33.93, 35.1 ,\n",
       "        35.28, 35.72, 33.3 , 33.79, 33.94, 35.96, 37.76, 39.02, 40.01,\n",
       "        37.56, 35.27, 34.2 , 32.47, 24.5 , 21.18, 13.93,  8.88,  7.39,\n",
       "         6.49,  7.91,  9.13, 16.52, 22.22, 28.48, 29.99, 31.39, 32.15,\n",
       "        29.87, 30.89, 31.74, 35.3 , 38.34, 37.49, 37.1 , 33.77, 29.58,\n",
       "        27.34, 21.93, 14.17,  9.81,  6.08,  3.1 ,  3.78,  8.84, 24.29,\n",
       "        33.45, 39.16, 38.41, 36.8 , 37.95, 33.78, 33.21, 35.07, 36.24,\n",
       "        37.04, 39.25, 40.89, 39.71, 40.01, 38.83, 32.09, 25.07, 18.56,\n",
       "        11.99,  9.53,  8.84,  8.81, 12.62, 22.09, 25.78, 30.07, 32.47,\n",
       "        32.77, 32.73, 32.48, 31.87, 31.98, 33.92, 37.54, 37.68, 36.43,\n",
       "        33.2 , 30.66, 26.37, 24.22, 18.66,  9.72]], dtype=float32)"
      ]
     },
     "execution_count": 16,
     "metadata": {},
     "output_type": "execute_result"
    }
   ],
   "source": [
    "X_val"
   ]
  },
  {
   "cell_type": "code",
   "execution_count": 17,
   "metadata": {},
   "outputs": [
    {
     "data": {
      "text/plain": [
       "(1, 168)"
      ]
     },
     "execution_count": 17,
     "metadata": {},
     "output_type": "execute_result"
    }
   ],
   "source": [
    "X_val.shape"
   ]
  },
  {
   "cell_type": "markdown",
   "metadata": {},
   "source": [
    "The different columns represent the hour 1 to hour 168, but indexed at zero, hence only until 167. Each row will be fed into the neural network."
   ]
  },
  {
   "cell_type": "code",
   "execution_count": 18,
   "metadata": {},
   "outputs": [
    {
     "data": {
      "text/html": [
       "<div>\n",
       "<style scoped>\n",
       "    .dataframe tbody tr th:only-of-type {\n",
       "        vertical-align: middle;\n",
       "    }\n",
       "\n",
       "    .dataframe tbody tr th {\n",
       "        vertical-align: top;\n",
       "    }\n",
       "\n",
       "    .dataframe thead th {\n",
       "        text-align: right;\n",
       "    }\n",
       "</style>\n",
       "<table border=\"1\" class=\"dataframe\">\n",
       "  <thead>\n",
       "    <tr style=\"text-align: right;\">\n",
       "      <th></th>\n",
       "      <th>0</th>\n",
       "      <th>1</th>\n",
       "      <th>2</th>\n",
       "      <th>3</th>\n",
       "      <th>4</th>\n",
       "      <th>5</th>\n",
       "      <th>6</th>\n",
       "      <th>7</th>\n",
       "      <th>8</th>\n",
       "      <th>9</th>\n",
       "      <th>...</th>\n",
       "      <th>158</th>\n",
       "      <th>159</th>\n",
       "      <th>160</th>\n",
       "      <th>161</th>\n",
       "      <th>162</th>\n",
       "      <th>163</th>\n",
       "      <th>164</th>\n",
       "      <th>165</th>\n",
       "      <th>166</th>\n",
       "      <th>167</th>\n",
       "    </tr>\n",
       "  </thead>\n",
       "  <tbody>\n",
       "    <tr>\n",
       "      <th>0</th>\n",
       "      <td>36.990002</td>\n",
       "      <td>31.080000</td>\n",
       "      <td>29.170000</td>\n",
       "      <td>21.959999</td>\n",
       "      <td>14.96</td>\n",
       "      <td>-5.92</td>\n",
       "      <td>-6.10</td>\n",
       "      <td>-10.02</td>\n",
       "      <td>-5.71</td>\n",
       "      <td>-1.88</td>\n",
       "      <td>...</td>\n",
       "      <td>20.660000</td>\n",
       "      <td>20.299999</td>\n",
       "      <td>24.150000</td>\n",
       "      <td>32.270000</td>\n",
       "      <td>46.389999</td>\n",
       "      <td>46.919998</td>\n",
       "      <td>45.450001</td>\n",
       "      <td>42.580002</td>\n",
       "      <td>45.049999</td>\n",
       "      <td>33.299999</td>\n",
       "    </tr>\n",
       "    <tr>\n",
       "      <th>1</th>\n",
       "      <td>31.080000</td>\n",
       "      <td>29.170000</td>\n",
       "      <td>21.959999</td>\n",
       "      <td>14.960000</td>\n",
       "      <td>-5.92</td>\n",
       "      <td>-6.10</td>\n",
       "      <td>-10.02</td>\n",
       "      <td>-5.71</td>\n",
       "      <td>-1.88</td>\n",
       "      <td>-10.48</td>\n",
       "      <td>...</td>\n",
       "      <td>20.299999</td>\n",
       "      <td>24.150000</td>\n",
       "      <td>32.270000</td>\n",
       "      <td>46.389999</td>\n",
       "      <td>46.919998</td>\n",
       "      <td>45.450001</td>\n",
       "      <td>42.580002</td>\n",
       "      <td>45.049999</td>\n",
       "      <td>33.299999</td>\n",
       "      <td>21.950001</td>\n",
       "    </tr>\n",
       "    <tr>\n",
       "      <th>2</th>\n",
       "      <td>29.170000</td>\n",
       "      <td>21.959999</td>\n",
       "      <td>14.960000</td>\n",
       "      <td>-5.920000</td>\n",
       "      <td>-6.10</td>\n",
       "      <td>-10.02</td>\n",
       "      <td>-5.71</td>\n",
       "      <td>-1.88</td>\n",
       "      <td>-10.48</td>\n",
       "      <td>-6.79</td>\n",
       "      <td>...</td>\n",
       "      <td>24.150000</td>\n",
       "      <td>32.270000</td>\n",
       "      <td>46.389999</td>\n",
       "      <td>46.919998</td>\n",
       "      <td>45.450001</td>\n",
       "      <td>42.580002</td>\n",
       "      <td>45.049999</td>\n",
       "      <td>33.299999</td>\n",
       "      <td>21.950001</td>\n",
       "      <td>19.670000</td>\n",
       "    </tr>\n",
       "  </tbody>\n",
       "</table>\n",
       "<p>3 rows × 168 columns</p>\n",
       "</div>"
      ],
      "text/plain": [
       "         0          1          2          3      4      5      6      7    \\\n",
       "0  36.990002  31.080000  29.170000  21.959999  14.96  -5.92  -6.10 -10.02   \n",
       "1  31.080000  29.170000  21.959999  14.960000  -5.92  -6.10 -10.02  -5.71   \n",
       "2  29.170000  21.959999  14.960000  -5.920000  -6.10 -10.02  -5.71  -1.88   \n",
       "\n",
       "     8      9    ...        158        159        160        161        162  \\\n",
       "0  -5.71  -1.88  ...  20.660000  20.299999  24.150000  32.270000  46.389999   \n",
       "1  -1.88 -10.48  ...  20.299999  24.150000  32.270000  46.389999  46.919998   \n",
       "2 -10.48  -6.79  ...  24.150000  32.270000  46.389999  46.919998  45.450001   \n",
       "\n",
       "         163        164        165        166        167  \n",
       "0  46.919998  45.450001  42.580002  45.049999  33.299999  \n",
       "1  45.450001  42.580002  45.049999  33.299999  21.950001  \n",
       "2  42.580002  45.049999  33.299999  21.950001  19.670000  \n",
       "\n",
       "[3 rows x 168 columns]"
      ]
     },
     "execution_count": 18,
     "metadata": {},
     "output_type": "execute_result"
    }
   ],
   "source": [
    "pd.DataFrame(X_train).head(3)"
   ]
  },
  {
   "cell_type": "markdown",
   "metadata": {},
   "source": [
    "## MILP\n",
    "\n",
    "Find the solutions for the validation and testing periods."
   ]
  },
  {
   "cell_type": "code",
   "execution_count": 19,
   "metadata": {},
   "outputs": [
    {
     "name": "stdout",
     "output_type": "stream",
     "text": [
      "Optimal\n",
      "95261.00076436996\n"
     ]
    },
    {
     "data": {
      "text/html": [
       "<div>\n",
       "<style scoped>\n",
       "    .dataframe tbody tr th:only-of-type {\n",
       "        vertical-align: middle;\n",
       "    }\n",
       "\n",
       "    .dataframe tbody tr th {\n",
       "        vertical-align: top;\n",
       "    }\n",
       "\n",
       "    .dataframe thead th {\n",
       "        text-align: right;\n",
       "    }\n",
       "</style>\n",
       "<table border=\"1\" class=\"dataframe\">\n",
       "  <thead>\n",
       "    <tr style=\"text-align: right;\">\n",
       "      <th></th>\n",
       "      <th>water_level</th>\n",
       "      <th>action</th>\n",
       "      <th>colour_id</th>\n",
       "      <th>utc_time</th>\n",
       "      <th>spot</th>\n",
       "    </tr>\n",
       "  </thead>\n",
       "  <tbody>\n",
       "    <tr>\n",
       "      <th>0</th>\n",
       "      <td>0.0</td>\n",
       "      <td>0</td>\n",
       "      <td>nothing</td>\n",
       "      <td>2019-12-18 00:00:00+00:00</td>\n",
       "      <td>36.990002</td>\n",
       "    </tr>\n",
       "    <tr>\n",
       "      <th>1</th>\n",
       "      <td>0.0</td>\n",
       "      <td>0</td>\n",
       "      <td>nothing</td>\n",
       "      <td>2019-12-18 01:00:00+00:00</td>\n",
       "      <td>31.080000</td>\n",
       "    </tr>\n",
       "  </tbody>\n",
       "</table>\n",
       "</div>"
      ],
      "text/plain": [
       "   water_level  action colour_id                  utc_time       spot\n",
       "0          0.0       0   nothing 2019-12-18 00:00:00+00:00  36.990002\n",
       "1          0.0       0   nothing 2019-12-18 01:00:00+00:00  31.080000"
      ]
     },
     "execution_count": 19,
     "metadata": {},
     "output_type": "execute_result"
    }
   ],
   "source": [
    "milp_solver = MILP(plant_params=plant_params, spot=X_train[0], utc_time=df_val[\"utc_time\"])\n",
    "milp_model, milp_status, milp_profile = milp_solver.solve()\n",
    "print(milp_status)\n",
    "optimal_val = milp_model.objective.value()\n",
    "print(optimal_val)\n",
    "milp_profile.head(2)"
   ]
  },
  {
   "cell_type": "code",
   "execution_count": 20,
   "metadata": {},
   "outputs": [
    {
     "name": "stdout",
     "output_type": "stream",
     "text": [
      "Optimal\n",
      "46943.0\n"
     ]
    },
    {
     "data": {
      "text/html": [
       "<div>\n",
       "<style scoped>\n",
       "    .dataframe tbody tr th:only-of-type {\n",
       "        vertical-align: middle;\n",
       "    }\n",
       "\n",
       "    .dataframe tbody tr th {\n",
       "        vertical-align: top;\n",
       "    }\n",
       "\n",
       "    .dataframe thead th {\n",
       "        text-align: right;\n",
       "    }\n",
       "</style>\n",
       "<table border=\"1\" class=\"dataframe\">\n",
       "  <thead>\n",
       "    <tr style=\"text-align: right;\">\n",
       "      <th></th>\n",
       "      <th>water_level</th>\n",
       "      <th>action</th>\n",
       "      <th>colour_id</th>\n",
       "      <th>utc_time</th>\n",
       "      <th>spot</th>\n",
       "    </tr>\n",
       "  </thead>\n",
       "  <tbody>\n",
       "    <tr>\n",
       "      <th>0</th>\n",
       "      <td>375.0</td>\n",
       "      <td>-1</td>\n",
       "      <td>pump</td>\n",
       "      <td>2019-12-18 00:00:00+00:00</td>\n",
       "      <td>35.45</td>\n",
       "    </tr>\n",
       "    <tr>\n",
       "      <th>1</th>\n",
       "      <td>750.0</td>\n",
       "      <td>-1</td>\n",
       "      <td>pump</td>\n",
       "      <td>2019-12-18 01:00:00+00:00</td>\n",
       "      <td>34.29</td>\n",
       "    </tr>\n",
       "  </tbody>\n",
       "</table>\n",
       "</div>"
      ],
      "text/plain": [
       "   water_level  action colour_id                  utc_time   spot\n",
       "0        375.0      -1      pump 2019-12-18 00:00:00+00:00  35.45\n",
       "1        750.0      -1      pump 2019-12-18 01:00:00+00:00  34.29"
      ]
     },
     "execution_count": 20,
     "metadata": {},
     "output_type": "execute_result"
    }
   ],
   "source": [
    "milp_solver = MILP(plant_params=plant_params, spot=df_val[\"spot\"], utc_time=df_val[\"utc_time\"])\n",
    "milp_model, milp_status, milp_profile = milp_solver.solve()\n",
    "print(milp_status)\n",
    "optimal_val = milp_model.objective.value()\n",
    "print(optimal_val)\n",
    "milp_profile.head(2)"
   ]
  },
  {
   "cell_type": "code",
   "execution_count": 21,
   "metadata": {},
   "outputs": [
    {
     "name": "stdout",
     "output_type": "stream",
     "text": [
      "Optimal\n",
      "43665.0\n"
     ]
    },
    {
     "data": {
      "text/html": [
       "<div>\n",
       "<style scoped>\n",
       "    .dataframe tbody tr th:only-of-type {\n",
       "        vertical-align: middle;\n",
       "    }\n",
       "\n",
       "    .dataframe tbody tr th {\n",
       "        vertical-align: top;\n",
       "    }\n",
       "\n",
       "    .dataframe thead th {\n",
       "        text-align: right;\n",
       "    }\n",
       "</style>\n",
       "<table border=\"1\" class=\"dataframe\">\n",
       "  <thead>\n",
       "    <tr style=\"text-align: right;\">\n",
       "      <th></th>\n",
       "      <th>water_level</th>\n",
       "      <th>action</th>\n",
       "      <th>colour_id</th>\n",
       "      <th>utc_time</th>\n",
       "      <th>spot</th>\n",
       "    </tr>\n",
       "  </thead>\n",
       "  <tbody>\n",
       "    <tr>\n",
       "      <th>0</th>\n",
       "      <td>375.0</td>\n",
       "      <td>-1</td>\n",
       "      <td>pump</td>\n",
       "      <td>2017-12-31 23:00:00+00:00</td>\n",
       "      <td>7.50</td>\n",
       "    </tr>\n",
       "    <tr>\n",
       "      <th>1</th>\n",
       "      <td>750.0</td>\n",
       "      <td>-1</td>\n",
       "      <td>pump</td>\n",
       "      <td>2018-01-01 00:00:00+00:00</td>\n",
       "      <td>5.47</td>\n",
       "    </tr>\n",
       "  </tbody>\n",
       "</table>\n",
       "</div>"
      ],
      "text/plain": [
       "   water_level  action colour_id                  utc_time  spot\n",
       "0        375.0      -1      pump 2017-12-31 23:00:00+00:00  7.50\n",
       "1        750.0      -1      pump 2018-01-01 00:00:00+00:00  5.47"
      ]
     },
     "execution_count": 21,
     "metadata": {},
     "output_type": "execute_result"
    }
   ],
   "source": [
    "milp_solver = MILP(plant_params=plant_params, spot=df_test[\"spot\"], utc_time=df[\"utc_time\"])\n",
    "milp_model, milp_status, milp_profile = milp_solver.solve()\n",
    "print(milp_status)\n",
    "optimal_test = milp_model.objective.value()\n",
    "print(optimal_test)\n",
    "milp_profile.head(2)"
   ]
  },
  {
   "cell_type": "markdown",
   "metadata": {},
   "source": [
    "## Feed Forward Neural Network\n",
    "\n",
    "Predict the full week (168 output neurons, sigmoid activation to output values between 0 and 1, then use thresholds for translations into actions).\n",
    "\n",
    "Randomly initiate the lake level such that the network can learn different situations."
   ]
  },
  {
   "cell_type": "code",
   "execution_count": 22,
   "metadata": {},
   "outputs": [],
   "source": [
    "class ANN(nn.Module):\n",
    "    def __init__(self, input_size, output_size, hidden_layers, hidden_size):\n",
    "        super(ANN, self).__init__()\n",
    "        self.input_size = input_size\n",
    "        self.output_size = output_size\n",
    "        self.hidden_layers = hidden_layers\n",
    "        self.hidden_size = hidden_size\n",
    "        \n",
    "        # Define input layer\n",
    "        self.input_layer = nn.Linear(input_size, hidden_size)\n",
    "        \n",
    "        # Define hidden layers\n",
    "        self.hidden_layers = nn.ModuleList()\n",
    "        for _ in range(hidden_layers):\n",
    "            self.hidden_layers.append(nn.Linear(hidden_size, hidden_size))\n",
    "        \n",
    "        # Define output layer\n",
    "        self.output_layer = nn.Linear(hidden_size, output_size)\n",
    "        \n",
    "    def forward(self, x):\n",
    "        x = torch.relu(self.input_layer(x))\n",
    "        for layer in self.hidden_layers:\n",
    "            x = torch.relu(layer(x))\n",
    "        x = torch.sigmoid(self.output_layer(x))\n",
    "        return x"
   ]
  },
  {
   "cell_type": "code",
   "execution_count": 23,
   "metadata": {},
   "outputs": [
    {
     "data": {
      "text/plain": [
       "ANN(\n",
       "  (input_layer): Linear(in_features=168, out_features=16, bias=True)\n",
       "  (hidden_layers): ModuleList(\n",
       "    (0): Linear(in_features=16, out_features=16, bias=True)\n",
       "  )\n",
       "  (output_layer): Linear(in_features=16, out_features=168, bias=True)\n",
       ")"
      ]
     },
     "execution_count": 23,
     "metadata": {},
     "output_type": "execute_result"
    }
   ],
   "source": [
    "model = ANN(input_size=168, output_size=168, hidden_layers=1, hidden_size=16)\n",
    "for param in model.parameters():\n",
    "    param.requires_grad = False\n",
    "\n",
    "model"
   ]
  },
  {
   "cell_type": "code",
   "execution_count": 24,
   "metadata": {},
   "outputs": [],
   "source": [
    "def encode_chromosome(model):\n",
    "    \"\"\"\n",
    "    Encodes the model parameters into a single chromosome, which can be used for genetic algorithms.\n",
    "    \"\"\"\n",
    "    chromosome = torch.tensor([], dtype=torch.float32)\n",
    "\n",
    "    for param in model.parameters():\n",
    "        chromosome = torch.cat((chromosome, param.view(-1)))\n",
    "\n",
    "    return chromosome.numpy()\n",
    "\n",
    "\n",
    "def decode_chromosome(model, chromosome):\n",
    "    \"\"\"\n",
    "    Decodes the chromosome into the model parameters and updates the model with the new parameters.\n",
    "    \"\"\"\n",
    "    chromosome = torch.tensor(chromosome)\n",
    "    model_params = list(model.parameters())\n",
    "    start = 0\n",
    "\n",
    "    for param in model_params:\n",
    "        end = start + torch.numel(param)\n",
    "        param.data = chromosome[start:end].view(param.size())\n",
    "        start = end"
   ]
  },
  {
   "cell_type": "code",
   "execution_count": 25,
   "metadata": {},
   "outputs": [
    {
     "data": {
      "text/plain": [
       "array([ 0.02309757, -0.06416433, -0.02658171, ..., -0.21808612,\n",
       "       -0.1612595 ,  0.06143069], dtype=float32)"
      ]
     },
     "execution_count": 25,
     "metadata": {},
     "output_type": "execute_result"
    }
   ],
   "source": [
    "individual = encode_chromosome(model)\n",
    "individual"
   ]
  },
  {
   "cell_type": "markdown",
   "metadata": {},
   "source": [
    "Then setting the weights manually using a chromosome (example all zeros):"
   ]
  },
  {
   "cell_type": "code",
   "execution_count": 26,
   "metadata": {},
   "outputs": [
    {
     "data": {
      "text/plain": [
       "[Parameter containing:\n",
       " tensor([[0., 0., 0.,  ..., 0., 0., 0.],\n",
       "         [0., 0., 0.,  ..., 0., 0., 0.],\n",
       "         [0., 0., 0.,  ..., 0., 0., 0.],\n",
       "         ...,\n",
       "         [0., 0., 0.,  ..., 0., 0., 0.],\n",
       "         [0., 0., 0.,  ..., 0., 0., 0.],\n",
       "         [0., 0., 0.,  ..., 0., 0., 0.]]),\n",
       " Parameter containing:\n",
       " tensor([0., 0., 0., 0., 0., 0., 0., 0., 0., 0., 0., 0., 0., 0., 0., 0.]),\n",
       " Parameter containing:\n",
       " tensor([[0., 0., 0., 0., 0., 0., 0., 0., 0., 0., 0., 0., 0., 0., 0., 0.],\n",
       "         [0., 0., 0., 0., 0., 0., 0., 0., 0., 0., 0., 0., 0., 0., 0., 0.],\n",
       "         [0., 0., 0., 0., 0., 0., 0., 0., 0., 0., 0., 0., 0., 0., 0., 0.],\n",
       "         [0., 0., 0., 0., 0., 0., 0., 0., 0., 0., 0., 0., 0., 0., 0., 0.],\n",
       "         [0., 0., 0., 0., 0., 0., 0., 0., 0., 0., 0., 0., 0., 0., 0., 0.],\n",
       "         [0., 0., 0., 0., 0., 0., 0., 0., 0., 0., 0., 0., 0., 0., 0., 0.],\n",
       "         [0., 0., 0., 0., 0., 0., 0., 0., 0., 0., 0., 0., 0., 0., 0., 0.],\n",
       "         [0., 0., 0., 0., 0., 0., 0., 0., 0., 0., 0., 0., 0., 0., 0., 0.],\n",
       "         [0., 0., 0., 0., 0., 0., 0., 0., 0., 0., 0., 0., 0., 0., 0., 0.],\n",
       "         [0., 0., 0., 0., 0., 0., 0., 0., 0., 0., 0., 0., 0., 0., 0., 0.],\n",
       "         [0., 0., 0., 0., 0., 0., 0., 0., 0., 0., 0., 0., 0., 0., 0., 0.],\n",
       "         [0., 0., 0., 0., 0., 0., 0., 0., 0., 0., 0., 0., 0., 0., 0., 0.],\n",
       "         [0., 0., 0., 0., 0., 0., 0., 0., 0., 0., 0., 0., 0., 0., 0., 0.],\n",
       "         [0., 0., 0., 0., 0., 0., 0., 0., 0., 0., 0., 0., 0., 0., 0., 0.],\n",
       "         [0., 0., 0., 0., 0., 0., 0., 0., 0., 0., 0., 0., 0., 0., 0., 0.],\n",
       "         [0., 0., 0., 0., 0., 0., 0., 0., 0., 0., 0., 0., 0., 0., 0., 0.]]),\n",
       " Parameter containing:\n",
       " tensor([0., 0., 0., 0., 0., 0., 0., 0., 0., 0., 0., 0., 0., 0., 0., 0.]),\n",
       " Parameter containing:\n",
       " tensor([[0., 0., 0.,  ..., 0., 0., 0.],\n",
       "         [0., 0., 0.,  ..., 0., 0., 0.],\n",
       "         [0., 0., 0.,  ..., 0., 0., 0.],\n",
       "         ...,\n",
       "         [0., 0., 0.,  ..., 0., 0., 0.],\n",
       "         [0., 0., 0.,  ..., 0., 0., 0.],\n",
       "         [0., 0., 0.,  ..., 0., 0., 0.]]),\n",
       " Parameter containing:\n",
       " tensor([0., 0., 0., 0., 0., 0., 0., 0., 0., 0., 0., 0., 0., 0., 0., 0., 0., 0., 0., 0., 0., 0., 0., 0.,\n",
       "         0., 0., 0., 0., 0., 0., 0., 0., 0., 0., 0., 0., 0., 0., 0., 0., 0., 0., 0., 0., 0., 0., 0., 0.,\n",
       "         0., 0., 0., 0., 0., 0., 0., 0., 0., 0., 0., 0., 0., 0., 0., 0., 0., 0., 0., 0., 0., 0., 0., 0.,\n",
       "         0., 0., 0., 0., 0., 0., 0., 0., 0., 0., 0., 0., 0., 0., 0., 0., 0., 0., 0., 0., 0., 0., 0., 0.,\n",
       "         0., 0., 0., 0., 0., 0., 0., 0., 0., 0., 0., 0., 0., 0., 0., 0., 0., 0., 0., 0., 0., 0., 0., 0.,\n",
       "         0., 0., 0., 0., 0., 0., 0., 0., 0., 0., 0., 0., 0., 0., 0., 0., 0., 0., 0., 0., 0., 0., 0., 0.,\n",
       "         0., 0., 0., 0., 0., 0., 0., 0., 0., 0., 0., 0., 0., 0., 0., 0., 0., 0., 0., 0., 0., 0., 0., 0.])]"
      ]
     },
     "execution_count": 26,
     "metadata": {},
     "output_type": "execute_result"
    }
   ],
   "source": [
    "random_new_chromosome = np.zeros_like(individual, dtype=np.float32)\n",
    "\n",
    "decode_chromosome(model, random_new_chromosome)\n",
    "list(model.parameters())"
   ]
  },
  {
   "cell_type": "code",
   "execution_count": 27,
   "metadata": {},
   "outputs": [
    {
     "data": {
      "text/plain": [
       "torch.float32"
      ]
     },
     "execution_count": 27,
     "metadata": {},
     "output_type": "execute_result"
    }
   ],
   "source": [
    "next(model.parameters()).dtype"
   ]
  },
  {
   "cell_type": "code",
   "execution_count": 28,
   "metadata": {},
   "outputs": [
    {
     "data": {
      "text/plain": [
       "dtype('float32')"
      ]
     },
     "execution_count": 28,
     "metadata": {},
     "output_type": "execute_result"
    }
   ],
   "source": [
    "X_train[0].dtype"
   ]
  },
  {
   "cell_type": "code",
   "execution_count": 29,
   "metadata": {},
   "outputs": [
    {
     "data": {
      "text/plain": [
       "tensor([0.5000, 0.5000, 0.5000, 0.5000, 0.5000, 0.5000, 0.5000, 0.5000, 0.5000,\n",
       "        0.5000, 0.5000, 0.5000, 0.5000, 0.5000, 0.5000, 0.5000, 0.5000, 0.5000,\n",
       "        0.5000, 0.5000, 0.5000, 0.5000, 0.5000, 0.5000, 0.5000, 0.5000, 0.5000,\n",
       "        0.5000, 0.5000, 0.5000, 0.5000, 0.5000, 0.5000, 0.5000, 0.5000, 0.5000,\n",
       "        0.5000, 0.5000, 0.5000, 0.5000, 0.5000, 0.5000, 0.5000, 0.5000, 0.5000,\n",
       "        0.5000, 0.5000, 0.5000, 0.5000, 0.5000, 0.5000, 0.5000, 0.5000, 0.5000,\n",
       "        0.5000, 0.5000, 0.5000, 0.5000, 0.5000, 0.5000, 0.5000, 0.5000, 0.5000,\n",
       "        0.5000, 0.5000, 0.5000, 0.5000, 0.5000, 0.5000, 0.5000, 0.5000, 0.5000,\n",
       "        0.5000, 0.5000, 0.5000, 0.5000, 0.5000, 0.5000, 0.5000, 0.5000, 0.5000,\n",
       "        0.5000, 0.5000, 0.5000, 0.5000, 0.5000, 0.5000, 0.5000, 0.5000, 0.5000,\n",
       "        0.5000, 0.5000, 0.5000, 0.5000, 0.5000, 0.5000, 0.5000, 0.5000, 0.5000,\n",
       "        0.5000, 0.5000, 0.5000, 0.5000, 0.5000, 0.5000, 0.5000, 0.5000, 0.5000,\n",
       "        0.5000, 0.5000, 0.5000, 0.5000, 0.5000, 0.5000, 0.5000, 0.5000, 0.5000,\n",
       "        0.5000, 0.5000, 0.5000, 0.5000, 0.5000, 0.5000, 0.5000, 0.5000, 0.5000,\n",
       "        0.5000, 0.5000, 0.5000, 0.5000, 0.5000, 0.5000, 0.5000, 0.5000, 0.5000,\n",
       "        0.5000, 0.5000, 0.5000, 0.5000, 0.5000, 0.5000, 0.5000, 0.5000, 0.5000,\n",
       "        0.5000, 0.5000, 0.5000, 0.5000, 0.5000, 0.5000, 0.5000, 0.5000, 0.5000,\n",
       "        0.5000, 0.5000, 0.5000, 0.5000, 0.5000, 0.5000, 0.5000, 0.5000, 0.5000,\n",
       "        0.5000, 0.5000, 0.5000, 0.5000, 0.5000, 0.5000])"
      ]
     },
     "execution_count": 29,
     "metadata": {},
     "output_type": "execute_result"
    }
   ],
   "source": [
    "model(torch.tensor(X_train[0]))"
   ]
  },
  {
   "cell_type": "code",
   "execution_count": 30,
   "metadata": {},
   "outputs": [
    {
     "data": {
      "text/plain": [
       "array([0])"
      ]
     },
     "execution_count": 30,
     "metadata": {},
     "output_type": "execute_result"
    }
   ],
   "source": [
    "evaluate_fitness(\n",
    "    population=[model(torch.tensor(X_train[0])).detach().numpy()],\n",
    "    ps_params=plant_params,\n",
    "    spot_prices=X_train[0],\n",
    ")"
   ]
  },
  {
   "cell_type": "markdown",
   "metadata": {},
   "source": [
    "### Developing the genetic algorithm\n"
   ]
  },
  {
   "cell_type": "code",
   "execution_count": 31,
   "metadata": {},
   "outputs": [],
   "source": [
    "model = ANN(input_size=169, output_size=168, hidden_layers=1, hidden_size=16)\n",
    "\n",
    "# Need to set the gradients to zero\n",
    "for param in model.parameters():\n",
    "    param.requires_grad = False"
   ]
  },
  {
   "cell_type": "markdown",
   "metadata": {},
   "source": [
    "Initialise a population of random individuals (200) of the size of parameters ():"
   ]
  },
  {
   "cell_type": "code",
   "execution_count": 32,
   "metadata": {},
   "outputs": [
    {
     "data": {
      "text/plain": [
       "array([[ 0.11089212,  0.0997879 , -0.1399377 , ...,  0.017062  ,\n",
       "         0.11972897,  0.05528555],\n",
       "       [ 0.13017757,  0.04601926,  0.06193453, ...,  0.02769292,\n",
       "         0.14260024, -0.1349315 ],\n",
       "       [-0.07609696,  0.11903714,  0.19870432, ..., -0.24225171,\n",
       "         0.16072379, -0.07765348],\n",
       "       ...,\n",
       "       [-0.04571274, -0.02426161,  0.06360061, ...,  0.17606959,\n",
       "        -0.05138629,  0.04703814],\n",
       "       [ 0.01624773,  0.0976718 ,  0.04584014, ..., -0.08011267,\n",
       "        -0.17762926, -0.08881866],\n",
       "       [-0.06859829, -0.17922966,  0.04481868, ..., -0.15205441,\n",
       "         0.05462956, -0.17786144]], dtype=float32)"
      ]
     },
     "execution_count": 32,
     "metadata": {},
     "output_type": "execute_result"
    }
   ],
   "source": [
    "population_size = 200\n",
    "individual_size = encode_chromosome(model).shape[0]\n",
    "\n",
    "population = np.random.normal(loc=0, scale=0.1, size=(population_size, individual_size))\n",
    "population = np.array(population, dtype=np.float32)\n",
    "population"
   ]
  },
  {
   "cell_type": "markdown",
   "metadata": {},
   "source": [
    "Make predictions with each individual, which will then be used to evaluate their fitness:"
   ]
  },
  {
   "cell_type": "code",
   "execution_count": 33,
   "metadata": {},
   "outputs": [],
   "source": [
    "prices = df.spot\n",
    "lake_level = 2500\n",
    "# add the lake level to input data\n",
    "input_data = torch.cat([torch.tensor([lake_level]), torch.tensor(X_val[0])])\n",
    "\n",
    "predictions = np.zeros((population_size, X_val.shape[1]), dtype=np.float32)\n",
    "\n",
    "for idx, individual in enumerate(population):\n",
    "    \n",
    "    # Set the model weights\n",
    "    decode_chromosome(model, individual)\n",
    "\n",
    "    # Make predictions with the configuration\n",
    "    predictions[idx] = model(input_data).numpy()"
   ]
  },
  {
   "cell_type": "markdown",
   "metadata": {},
   "source": [
    "Evaluate the fitness of each individual using their predictions:"
   ]
  },
  {
   "cell_type": "code",
   "execution_count": 34,
   "metadata": {},
   "outputs": [
    {
     "data": {
      "text/plain": [
       "array([-2667526.99882984, -2603722.99954891, -2353027.99885273,\n",
       "       -3184122.99835682, -2069011.99953556, -3668374.99992847,\n",
       "       -4483544.00031567, -2381706.99837208, -3957159.99891758,\n",
       "       -4643255.99925518])"
      ]
     },
     "execution_count": 34,
     "metadata": {},
     "output_type": "execute_result"
    }
   ],
   "source": [
    "fitnesses = evaluate_fitness(\n",
    "    population=predictions,\n",
    "    ps_params=plant_params,\n",
    "    spot_prices=X_val[0]\n",
    ")\n",
    "\n",
    "fitnesses[:10]"
   ]
  },
  {
   "cell_type": "markdown",
   "metadata": {},
   "source": [
    "Gaussian mutation:"
   ]
  },
  {
   "cell_type": "code",
   "execution_count": 35,
   "metadata": {},
   "outputs": [
    {
     "data": {
      "text/plain": [
       "array([ 0.01231367,  0.18103372, -0.30211253, ..., -0.01691937,\n",
       "       -0.01462722,  0.05070179])"
      ]
     },
     "execution_count": 35,
     "metadata": {},
     "output_type": "execute_result"
    }
   ],
   "source": [
    "population[0] + np.random.normal(loc=0, scale=0.1, size=individual_size)"
   ]
  },
  {
   "cell_type": "markdown",
   "metadata": {},
   "source": [
    "## Using the Class"
   ]
  },
  {
   "cell_type": "code",
   "execution_count": 38,
   "metadata": {},
   "outputs": [],
   "source": [
    "best_config = {\n",
    "    \"TOTAL_GENERATIONS\": 500,\n",
    "    \"POP_SIZE\": 200,\n",
    "    \"INITIAL_MUTATION_RATE\": 0.28,\n",
    "    \"FINAL_MUTATION_RATE\": 0.09,\n",
    "    \"MUTATION_SIGMA\": 4,\n",
    "    \"INITIAL_EXPLORATION\": 0.67,\n",
    "    \"ELITISM\": 0.5,\n",
    "    \"SURVIVAL_RATE\": 0.5,\n",
    "}"
   ]
  },
  {
   "cell_type": "code",
   "execution_count": 39,
   "metadata": {},
   "outputs": [
    {
     "data": {
      "application/vnd.jupyter.widget-view+json": {
       "model_id": "e0616f189bb8462192def616b569f458",
       "version_major": 2,
       "version_minor": 0
      },
      "text/plain": [
       "  0%|          | 0/500 [00:00<?, ?it/s]"
      ]
     },
     "metadata": {},
     "output_type": "display_data"
    }
   ],
   "source": [
    "ga_solver = GA_ANN(\n",
    "    plant_params=plant_params,\n",
    "    spot=X_val[0],\n",
    "    hidden_layers=3,\n",
    "    hidden_size=8\n",
    ")\n",
    "\n",
    "population, fitnesses, history = ga_solver.train(\n",
    "    config=best_config,\n",
    "    tune_mode=False\n",
    ")"
   ]
  },
  {
   "cell_type": "code",
   "execution_count": null,
   "metadata": {},
   "outputs": [],
   "source": [
    "history"
   ]
  },
  {
   "cell_type": "code",
   "execution_count": null,
   "metadata": {},
   "outputs": [],
   "source": [
    "(\n",
    "    pn.ggplot(\n",
    "        data=history,\n",
    "        mapping=pn.aes(x=\"generation\", y=\"best\"),\n",
    "    )\n",
    "    + pn.geom_line()\n",
    "    + pn.theme(figure_size=[6, 3])\n",
    "    # + pn.scale_y_log10()\n",
    ")"
   ]
  }
 ],
 "metadata": {
  "kernelspec": {
   "display_name": "general",
   "language": "python",
   "name": "python3"
  },
  "language_info": {
   "codemirror_mode": {
    "name": "ipython",
    "version": 3
   },
   "file_extension": ".py",
   "mimetype": "text/x-python",
   "name": "python",
   "nbconvert_exporter": "python",
   "pygments_lexer": "ipython3",
   "version": "3.11.5"
  }
 },
 "nbformat": 4,
 "nbformat_minor": 2
}
