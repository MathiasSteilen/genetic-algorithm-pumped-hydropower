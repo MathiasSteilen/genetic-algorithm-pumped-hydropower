{
 "cells": [
  {
   "cell_type": "markdown",
   "metadata": {},
   "source": [
    "# Pumped-Storage Optimisation with Neural Network trained by Genetic Algorithm"
   ]
  },
  {
   "cell_type": "code",
   "execution_count": 2,
   "metadata": {},
   "outputs": [
    {
     "name": "stdout",
     "output_type": "stream",
     "text": [
      "The blackcellmagic extension is already loaded. To reload it, use:\n",
      "  %reload_ext blackcellmagic\n"
     ]
    }
   ],
   "source": [
    "import pandas as pd\n",
    "import numpy as np\n",
    "import plotnine as pn\n",
    "import plotly.graph_objs as go\n",
    "import plotly.express as px\n",
    "from tqdm.notebook import tqdm\n",
    "from IPython.display import clear_output, display\n",
    "import os\n",
    "from itertools import product\n",
    "\n",
    "# Import own implementations\n",
    "from milp import MILP\n",
    "import genetic\n",
    "from genetic import GA\n",
    "\n",
    "# Importing tuning libraries\n",
    "import ray\n",
    "from ray import train, tune\n",
    "from ray.tune.search.optuna import OptunaSearch\n",
    "from ray.tune.schedulers import ASHAScheduler\n",
    "\n",
    "# Import Pytorch stuff\n",
    "import torch\n",
    "import torch.nn as nn\n",
    "import torch.nn.functional as F\n",
    "from torch.utils.data import DataLoader\n",
    "import torch.optim as optim\n",
    "\n",
    "# Import genetic algorithm library\n",
    "from deap import base, creator, tools, algorithms\n",
    "\n",
    "background_colour = \"#F2F2F2\"\n",
    "pn.theme_set(\n",
    "    pn.theme_classic()\n",
    "    + pn.theme(\n",
    "        text=pn.element_text(family=\"monospace\"),\n",
    "        plot_background=pn.element_rect(\n",
    "            fill=background_colour, colour=background_colour\n",
    "        ),\n",
    "        panel_background=pn.element_rect(\n",
    "            fill=background_colour, colour=background_colour\n",
    "        ),\n",
    "        legend_background=pn.element_rect(\n",
    "            fill=background_colour, colour=background_colour\n",
    "        ),\n",
    "    )\n",
    ")\n",
    "\n",
    "%load_ext blackcellmagic"
   ]
  },
  {
   "cell_type": "markdown",
   "metadata": {},
   "source": [
    "## The Power Plant"
   ]
  },
  {
   "cell_type": "code",
   "execution_count": 3,
   "metadata": {},
   "outputs": [],
   "source": [
    "plant_params = {\n",
    "    \"EFFICIENCY\": 0.75,\n",
    "    \"MAX_STORAGE_M3\": 5000,\n",
    "    \"MIN_STORAGE_M3\": 0,\n",
    "    \"TURBINE_POWER_MW\": 100,\n",
    "    \"PUMP_POWER_MW\": 100,\n",
    "    \"TURBINE_RATE_M3H\": 500,\n",
    "    \"MIN_STORAGE_MWH\": 0,\n",
    "    \"INITIAL_WATER_LEVEL_PCT\": 0,\n",
    "}\n",
    "plant_params[\"INITIAL_WATER_LEVEL\"] = (\n",
    "    plant_params[\"INITIAL_WATER_LEVEL_PCT\"] * plant_params[\"MAX_STORAGE_M3\"]\n",
    ")\n",
    "plant_params[\"PUMP_RATE_M3H\"] = (\n",
    "    plant_params[\"TURBINE_RATE_M3H\"] * plant_params[\"EFFICIENCY\"]\n",
    ")\n",
    "plant_params[\"MAX_STORAGE_MWH\"] = (\n",
    "    plant_params[\"MAX_STORAGE_M3\"] / plant_params[\"TURBINE_RATE_M3H\"]\n",
    ") * plant_params[\"TURBINE_POWER_MW\"]\n",
    "plant_params[\"LOOKAHEAD\"] = (\n",
    "    plant_params[\"MAX_STORAGE_M3\"] / plant_params[\"TURBINE_RATE_M3H\"]\n",
    ") * 3"
   ]
  },
  {
   "cell_type": "markdown",
   "metadata": {},
   "source": [
    "## Price Data"
   ]
  },
  {
   "cell_type": "code",
   "execution_count": 4,
   "metadata": {},
   "outputs": [
    {
     "data": {
      "text/html": [
       "<div>\n",
       "<style scoped>\n",
       "    .dataframe tbody tr th:only-of-type {\n",
       "        vertical-align: middle;\n",
       "    }\n",
       "\n",
       "    .dataframe tbody tr th {\n",
       "        vertical-align: top;\n",
       "    }\n",
       "\n",
       "    .dataframe thead th {\n",
       "        text-align: right;\n",
       "    }\n",
       "</style>\n",
       "<table border=\"1\" class=\"dataframe\">\n",
       "  <thead>\n",
       "    <tr style=\"text-align: right;\">\n",
       "      <th></th>\n",
       "      <th>spot</th>\n",
       "      <th>utc_time</th>\n",
       "    </tr>\n",
       "  </thead>\n",
       "  <tbody>\n",
       "    <tr>\n",
       "      <th>0</th>\n",
       "      <td>36.99</td>\n",
       "      <td>2017-12-31 23:00:00+00:00</td>\n",
       "    </tr>\n",
       "    <tr>\n",
       "      <th>1</th>\n",
       "      <td>31.08</td>\n",
       "      <td>2018-01-01 00:00:00+00:00</td>\n",
       "    </tr>\n",
       "  </tbody>\n",
       "</table>\n",
       "</div>"
      ],
      "text/plain": [
       "    spot                  utc_time\n",
       "0  36.99 2017-12-31 23:00:00+00:00\n",
       "1  31.08 2018-01-01 00:00:00+00:00"
      ]
     },
     "execution_count": 4,
     "metadata": {},
     "output_type": "execute_result"
    }
   ],
   "source": [
    "df = pd.read_csv(\"../01 - Data/spot_prices_utc.csv\").assign(utc_time = lambda x: pd.to_datetime(x.utc_time))\n",
    "df.head(2)"
   ]
  },
  {
   "cell_type": "code",
   "execution_count": 5,
   "metadata": {},
   "outputs": [
    {
     "name": "stdout",
     "output_type": "stream",
     "text": [
      "<class 'pandas.core.frame.DataFrame'>\n",
      "RangeIndex: 48166 entries, 0 to 48165\n",
      "Data columns (total 2 columns):\n",
      " #   Column    Non-Null Count  Dtype              \n",
      "---  ------    --------------  -----              \n",
      " 0   spot      48166 non-null  float64            \n",
      " 1   utc_time  48166 non-null  datetime64[ns, UTC]\n",
      "dtypes: datetime64[ns, UTC](1), float64(1)\n",
      "memory usage: 752.7 KB\n"
     ]
    }
   ],
   "source": [
    "df.info()"
   ]
  },
  {
   "cell_type": "code",
   "execution_count": 6,
   "metadata": {},
   "outputs": [
    {
     "data": {
      "text/plain": [
       "Timestamp('2017-12-31 23:00:00+0000', tz='UTC')"
      ]
     },
     "execution_count": 6,
     "metadata": {},
     "output_type": "execute_result"
    }
   ],
   "source": [
    "df.utc_time.min()"
   ]
  },
  {
   "cell_type": "code",
   "execution_count": 7,
   "metadata": {},
   "outputs": [
    {
     "data": {
      "text/plain": [
       "Timestamp('2023-06-30 21:00:00+0000', tz='UTC')"
      ]
     },
     "execution_count": 7,
     "metadata": {},
     "output_type": "execute_result"
    }
   ],
   "source": [
    "df.utc_time.max()"
   ]
  },
  {
   "cell_type": "markdown",
   "metadata": {},
   "source": [
    "Keep the part that was before the madness:"
   ]
  },
  {
   "cell_type": "code",
   "execution_count": 8,
   "metadata": {},
   "outputs": [],
   "source": [
    "df = df.query('utc_time < @pd.Timestamp(\"2020-01-01\", tz=\"UTC\")')"
   ]
  },
  {
   "cell_type": "markdown",
   "metadata": {},
   "source": [
    "Then set two weeks aside, one for validation and one for testing."
   ]
  },
  {
   "cell_type": "code",
   "execution_count": 9,
   "metadata": {},
   "outputs": [],
   "source": [
    "df_train = df.query('utc_time < @pd.Timestamp(\"2019-12-18\", tz=\"UTC\")').reset_index(\n",
    "    drop=True\n",
    ")\n",
    "df_val = (\n",
    "    df.query('utc_time >= @pd.Timestamp(\"2019-12-18\", tz=\"UTC\")')\n",
    "    .query('utc_time < @pd.Timestamp(\"2019-12-25\", tz=\"UTC\")')\n",
    "    .reset_index(drop=True)\n",
    "    .reset_index(drop=True)\n",
    ")\n",
    "df_test = df.query('utc_time >= @pd.Timestamp(\"2019-12-25\", tz=\"UTC\")').reset_index(\n",
    "    drop=True\n",
    ")"
   ]
  },
  {
   "cell_type": "code",
   "execution_count": 10,
   "metadata": {},
   "outputs": [
    {
     "name": "stdout",
     "output_type": "stream",
     "text": [
      "(17184, 2) (168, 2) (168, 2)\n"
     ]
    }
   ],
   "source": [
    "print(df_train.shape, df_val.shape, df_test.shape)"
   ]
  },
  {
   "cell_type": "markdown",
   "metadata": {},
   "source": [
    "### Preparing the dataset for the neural network"
   ]
  },
  {
   "cell_type": "code",
   "execution_count": 11,
   "metadata": {},
   "outputs": [
    {
     "data": {
      "text/html": [
       "<div>\n",
       "<style scoped>\n",
       "    .dataframe tbody tr th:only-of-type {\n",
       "        vertical-align: middle;\n",
       "    }\n",
       "\n",
       "    .dataframe tbody tr th {\n",
       "        vertical-align: top;\n",
       "    }\n",
       "\n",
       "    .dataframe thead th {\n",
       "        text-align: right;\n",
       "    }\n",
       "</style>\n",
       "<table border=\"1\" class=\"dataframe\">\n",
       "  <thead>\n",
       "    <tr style=\"text-align: right;\">\n",
       "      <th></th>\n",
       "      <th>spot</th>\n",
       "      <th>utc_time</th>\n",
       "    </tr>\n",
       "  </thead>\n",
       "  <tbody>\n",
       "    <tr>\n",
       "      <th>0</th>\n",
       "      <td>36.99</td>\n",
       "      <td>2017-12-31 23:00:00+00:00</td>\n",
       "    </tr>\n",
       "    <tr>\n",
       "      <th>1</th>\n",
       "      <td>31.08</td>\n",
       "      <td>2018-01-01 00:00:00+00:00</td>\n",
       "    </tr>\n",
       "    <tr>\n",
       "      <th>2</th>\n",
       "      <td>29.17</td>\n",
       "      <td>2018-01-01 01:00:00+00:00</td>\n",
       "    </tr>\n",
       "    <tr>\n",
       "      <th>3</th>\n",
       "      <td>21.96</td>\n",
       "      <td>2018-01-01 02:00:00+00:00</td>\n",
       "    </tr>\n",
       "    <tr>\n",
       "      <th>4</th>\n",
       "      <td>14.96</td>\n",
       "      <td>2018-01-01 03:00:00+00:00</td>\n",
       "    </tr>\n",
       "    <tr>\n",
       "      <th>...</th>\n",
       "      <td>...</td>\n",
       "      <td>...</td>\n",
       "    </tr>\n",
       "    <tr>\n",
       "      <th>17179</th>\n",
       "      <td>47.55</td>\n",
       "      <td>2019-12-17 19:00:00+00:00</td>\n",
       "    </tr>\n",
       "    <tr>\n",
       "      <th>17180</th>\n",
       "      <td>41.18</td>\n",
       "      <td>2019-12-17 20:00:00+00:00</td>\n",
       "    </tr>\n",
       "    <tr>\n",
       "      <th>17181</th>\n",
       "      <td>41.53</td>\n",
       "      <td>2019-12-17 21:00:00+00:00</td>\n",
       "    </tr>\n",
       "    <tr>\n",
       "      <th>17182</th>\n",
       "      <td>39.84</td>\n",
       "      <td>2019-12-17 22:00:00+00:00</td>\n",
       "    </tr>\n",
       "    <tr>\n",
       "      <th>17183</th>\n",
       "      <td>38.81</td>\n",
       "      <td>2019-12-17 23:00:00+00:00</td>\n",
       "    </tr>\n",
       "  </tbody>\n",
       "</table>\n",
       "<p>17184 rows × 2 columns</p>\n",
       "</div>"
      ],
      "text/plain": [
       "        spot                  utc_time\n",
       "0      36.99 2017-12-31 23:00:00+00:00\n",
       "1      31.08 2018-01-01 00:00:00+00:00\n",
       "2      29.17 2018-01-01 01:00:00+00:00\n",
       "3      21.96 2018-01-01 02:00:00+00:00\n",
       "4      14.96 2018-01-01 03:00:00+00:00\n",
       "...      ...                       ...\n",
       "17179  47.55 2019-12-17 19:00:00+00:00\n",
       "17180  41.18 2019-12-17 20:00:00+00:00\n",
       "17181  41.53 2019-12-17 21:00:00+00:00\n",
       "17182  39.84 2019-12-17 22:00:00+00:00\n",
       "17183  38.81 2019-12-17 23:00:00+00:00\n",
       "\n",
       "[17184 rows x 2 columns]"
      ]
     },
     "execution_count": 11,
     "metadata": {},
     "output_type": "execute_result"
    }
   ],
   "source": [
    "df_train"
   ]
  },
  {
   "cell_type": "markdown",
   "metadata": {},
   "source": [
    "Create maximum number of possible 168 hour sequences and put them into table format:"
   ]
  },
  {
   "cell_type": "code",
   "execution_count": 12,
   "metadata": {},
   "outputs": [],
   "source": [
    "def create_sequences(in_array, sequence_length):\n",
    "    out_array = np.zeros((len(in_array)-sequence_length+1, sequence_length), dtype=np.float32)\n",
    "\n",
    "    for i in tqdm(range(len(in_array)-sequence_length+1)):\n",
    "        out_array[i] = np.array(in_array[i:i+sequence_length])\n",
    "\n",
    "    return out_array"
   ]
  },
  {
   "cell_type": "code",
   "execution_count": 13,
   "metadata": {},
   "outputs": [
    {
     "data": {
      "text/plain": [
       "17184"
      ]
     },
     "execution_count": 13,
     "metadata": {},
     "output_type": "execute_result"
    }
   ],
   "source": [
    "len(df_train.spot)"
   ]
  },
  {
   "cell_type": "code",
   "execution_count": 14,
   "metadata": {},
   "outputs": [
    {
     "data": {
      "application/vnd.jupyter.widget-view+json": {
       "model_id": "6f7819383cd4401f82661c749805cdf3",
       "version_major": 2,
       "version_minor": 0
      },
      "text/plain": [
       "  0%|          | 0/17017 [00:00<?, ?it/s]"
      ]
     },
     "metadata": {},
     "output_type": "display_data"
    }
   ],
   "source": [
    "X_train = create_sequences(df_train.spot, 168)"
   ]
  },
  {
   "cell_type": "code",
   "execution_count": 15,
   "metadata": {},
   "outputs": [
    {
     "data": {
      "text/plain": [
       "array([[36.99, 31.08, 29.17, ..., 42.58, 45.05, 33.3 ],\n",
       "       [31.08, 29.17, 21.96, ..., 45.05, 33.3 , 21.95],\n",
       "       [29.17, 21.96, 14.96, ..., 33.3 , 21.95, 19.67],\n",
       "       ...,\n",
       "       [42.43, 37.36, 34.94, ..., 47.55, 41.18, 41.53],\n",
       "       [37.36, 34.94, 33.57, ..., 41.18, 41.53, 39.84],\n",
       "       [34.94, 33.57, 32.8 , ..., 41.53, 39.84, 38.81]], dtype=float32)"
      ]
     },
     "execution_count": 15,
     "metadata": {},
     "output_type": "execute_result"
    }
   ],
   "source": [
    "X_train"
   ]
  },
  {
   "cell_type": "markdown",
   "metadata": {},
   "source": [
    "The different columns represent the hour 1 to hour 168, but indexed at zero, hence only until 167. Each row will be fed into the neural network."
   ]
  },
  {
   "cell_type": "code",
   "execution_count": 16,
   "metadata": {},
   "outputs": [
    {
     "data": {
      "text/html": [
       "<div>\n",
       "<style scoped>\n",
       "    .dataframe tbody tr th:only-of-type {\n",
       "        vertical-align: middle;\n",
       "    }\n",
       "\n",
       "    .dataframe tbody tr th {\n",
       "        vertical-align: top;\n",
       "    }\n",
       "\n",
       "    .dataframe thead th {\n",
       "        text-align: right;\n",
       "    }\n",
       "</style>\n",
       "<table border=\"1\" class=\"dataframe\">\n",
       "  <thead>\n",
       "    <tr style=\"text-align: right;\">\n",
       "      <th></th>\n",
       "      <th>0</th>\n",
       "      <th>1</th>\n",
       "      <th>2</th>\n",
       "      <th>3</th>\n",
       "      <th>4</th>\n",
       "      <th>5</th>\n",
       "      <th>6</th>\n",
       "      <th>7</th>\n",
       "      <th>8</th>\n",
       "      <th>9</th>\n",
       "      <th>...</th>\n",
       "      <th>158</th>\n",
       "      <th>159</th>\n",
       "      <th>160</th>\n",
       "      <th>161</th>\n",
       "      <th>162</th>\n",
       "      <th>163</th>\n",
       "      <th>164</th>\n",
       "      <th>165</th>\n",
       "      <th>166</th>\n",
       "      <th>167</th>\n",
       "    </tr>\n",
       "  </thead>\n",
       "  <tbody>\n",
       "    <tr>\n",
       "      <th>0</th>\n",
       "      <td>36.990002</td>\n",
       "      <td>31.080000</td>\n",
       "      <td>29.170000</td>\n",
       "      <td>21.959999</td>\n",
       "      <td>14.96</td>\n",
       "      <td>-5.92</td>\n",
       "      <td>-6.10</td>\n",
       "      <td>-10.02</td>\n",
       "      <td>-5.71</td>\n",
       "      <td>-1.88</td>\n",
       "      <td>...</td>\n",
       "      <td>20.660000</td>\n",
       "      <td>20.299999</td>\n",
       "      <td>24.150000</td>\n",
       "      <td>32.270000</td>\n",
       "      <td>46.389999</td>\n",
       "      <td>46.919998</td>\n",
       "      <td>45.450001</td>\n",
       "      <td>42.580002</td>\n",
       "      <td>45.049999</td>\n",
       "      <td>33.299999</td>\n",
       "    </tr>\n",
       "    <tr>\n",
       "      <th>1</th>\n",
       "      <td>31.080000</td>\n",
       "      <td>29.170000</td>\n",
       "      <td>21.959999</td>\n",
       "      <td>14.960000</td>\n",
       "      <td>-5.92</td>\n",
       "      <td>-6.10</td>\n",
       "      <td>-10.02</td>\n",
       "      <td>-5.71</td>\n",
       "      <td>-1.88</td>\n",
       "      <td>-10.48</td>\n",
       "      <td>...</td>\n",
       "      <td>20.299999</td>\n",
       "      <td>24.150000</td>\n",
       "      <td>32.270000</td>\n",
       "      <td>46.389999</td>\n",
       "      <td>46.919998</td>\n",
       "      <td>45.450001</td>\n",
       "      <td>42.580002</td>\n",
       "      <td>45.049999</td>\n",
       "      <td>33.299999</td>\n",
       "      <td>21.950001</td>\n",
       "    </tr>\n",
       "    <tr>\n",
       "      <th>2</th>\n",
       "      <td>29.170000</td>\n",
       "      <td>21.959999</td>\n",
       "      <td>14.960000</td>\n",
       "      <td>-5.920000</td>\n",
       "      <td>-6.10</td>\n",
       "      <td>-10.02</td>\n",
       "      <td>-5.71</td>\n",
       "      <td>-1.88</td>\n",
       "      <td>-10.48</td>\n",
       "      <td>-6.79</td>\n",
       "      <td>...</td>\n",
       "      <td>24.150000</td>\n",
       "      <td>32.270000</td>\n",
       "      <td>46.389999</td>\n",
       "      <td>46.919998</td>\n",
       "      <td>45.450001</td>\n",
       "      <td>42.580002</td>\n",
       "      <td>45.049999</td>\n",
       "      <td>33.299999</td>\n",
       "      <td>21.950001</td>\n",
       "      <td>19.670000</td>\n",
       "    </tr>\n",
       "  </tbody>\n",
       "</table>\n",
       "<p>3 rows × 168 columns</p>\n",
       "</div>"
      ],
      "text/plain": [
       "         0          1          2          3      4      5      6      7    \\\n",
       "0  36.990002  31.080000  29.170000  21.959999  14.96  -5.92  -6.10 -10.02   \n",
       "1  31.080000  29.170000  21.959999  14.960000  -5.92  -6.10 -10.02  -5.71   \n",
       "2  29.170000  21.959999  14.960000  -5.920000  -6.10 -10.02  -5.71  -1.88   \n",
       "\n",
       "     8      9    ...        158        159        160        161        162  \\\n",
       "0  -5.71  -1.88  ...  20.660000  20.299999  24.150000  32.270000  46.389999   \n",
       "1  -1.88 -10.48  ...  20.299999  24.150000  32.270000  46.389999  46.919998   \n",
       "2 -10.48  -6.79  ...  24.150000  32.270000  46.389999  46.919998  45.450001   \n",
       "\n",
       "         163        164        165        166        167  \n",
       "0  46.919998  45.450001  42.580002  45.049999  33.299999  \n",
       "1  45.450001  42.580002  45.049999  33.299999  21.950001  \n",
       "2  42.580002  45.049999  33.299999  21.950001  19.670000  \n",
       "\n",
       "[3 rows x 168 columns]"
      ]
     },
     "execution_count": 16,
     "metadata": {},
     "output_type": "execute_result"
    }
   ],
   "source": [
    "pd.DataFrame(X_train).head(3)"
   ]
  },
  {
   "cell_type": "markdown",
   "metadata": {},
   "source": [
    "## MILP\n",
    "\n",
    "Find the solutions for the validation and testing periods."
   ]
  },
  {
   "cell_type": "code",
   "execution_count": 17,
   "metadata": {},
   "outputs": [
    {
     "name": "stdout",
     "output_type": "stream",
     "text": [
      "Optimal\n",
      "46943.0\n"
     ]
    },
    {
     "data": {
      "text/html": [
       "<div>\n",
       "<style scoped>\n",
       "    .dataframe tbody tr th:only-of-type {\n",
       "        vertical-align: middle;\n",
       "    }\n",
       "\n",
       "    .dataframe tbody tr th {\n",
       "        vertical-align: top;\n",
       "    }\n",
       "\n",
       "    .dataframe thead th {\n",
       "        text-align: right;\n",
       "    }\n",
       "</style>\n",
       "<table border=\"1\" class=\"dataframe\">\n",
       "  <thead>\n",
       "    <tr style=\"text-align: right;\">\n",
       "      <th></th>\n",
       "      <th>water_level</th>\n",
       "      <th>action</th>\n",
       "      <th>colour_id</th>\n",
       "      <th>utc_time</th>\n",
       "      <th>spot</th>\n",
       "    </tr>\n",
       "  </thead>\n",
       "  <tbody>\n",
       "    <tr>\n",
       "      <th>0</th>\n",
       "      <td>375.0</td>\n",
       "      <td>-1</td>\n",
       "      <td>pump</td>\n",
       "      <td>2017-12-31 23:00:00+00:00</td>\n",
       "      <td>35.45</td>\n",
       "    </tr>\n",
       "    <tr>\n",
       "      <th>1</th>\n",
       "      <td>750.0</td>\n",
       "      <td>-1</td>\n",
       "      <td>pump</td>\n",
       "      <td>2018-01-01 00:00:00+00:00</td>\n",
       "      <td>34.29</td>\n",
       "    </tr>\n",
       "  </tbody>\n",
       "</table>\n",
       "</div>"
      ],
      "text/plain": [
       "   water_level  action colour_id                  utc_time   spot\n",
       "0        375.0      -1      pump 2017-12-31 23:00:00+00:00  35.45\n",
       "1        750.0      -1      pump 2018-01-01 00:00:00+00:00  34.29"
      ]
     },
     "execution_count": 17,
     "metadata": {},
     "output_type": "execute_result"
    }
   ],
   "source": [
    "milp_solver = MILP(plant_params=plant_params, spot=df_val[\"spot\"], utc_time=df[\"utc_time\"])\n",
    "milp_model, milp_status, milp_profile = milp_solver.solve()\n",
    "print(milp_status)\n",
    "print(milp_model.objective.value())\n",
    "milp_profile.head(2)"
   ]
  },
  {
   "cell_type": "code",
   "execution_count": 18,
   "metadata": {},
   "outputs": [
    {
     "name": "stdout",
     "output_type": "stream",
     "text": [
      "Optimal\n",
      "43665.0\n"
     ]
    },
    {
     "data": {
      "text/html": [
       "<div>\n",
       "<style scoped>\n",
       "    .dataframe tbody tr th:only-of-type {\n",
       "        vertical-align: middle;\n",
       "    }\n",
       "\n",
       "    .dataframe tbody tr th {\n",
       "        vertical-align: top;\n",
       "    }\n",
       "\n",
       "    .dataframe thead th {\n",
       "        text-align: right;\n",
       "    }\n",
       "</style>\n",
       "<table border=\"1\" class=\"dataframe\">\n",
       "  <thead>\n",
       "    <tr style=\"text-align: right;\">\n",
       "      <th></th>\n",
       "      <th>water_level</th>\n",
       "      <th>action</th>\n",
       "      <th>colour_id</th>\n",
       "      <th>utc_time</th>\n",
       "      <th>spot</th>\n",
       "    </tr>\n",
       "  </thead>\n",
       "  <tbody>\n",
       "    <tr>\n",
       "      <th>0</th>\n",
       "      <td>375.0</td>\n",
       "      <td>-1</td>\n",
       "      <td>pump</td>\n",
       "      <td>2017-12-31 23:00:00+00:00</td>\n",
       "      <td>7.50</td>\n",
       "    </tr>\n",
       "    <tr>\n",
       "      <th>1</th>\n",
       "      <td>750.0</td>\n",
       "      <td>-1</td>\n",
       "      <td>pump</td>\n",
       "      <td>2018-01-01 00:00:00+00:00</td>\n",
       "      <td>5.47</td>\n",
       "    </tr>\n",
       "  </tbody>\n",
       "</table>\n",
       "</div>"
      ],
      "text/plain": [
       "   water_level  action colour_id                  utc_time  spot\n",
       "0        375.0      -1      pump 2017-12-31 23:00:00+00:00  7.50\n",
       "1        750.0      -1      pump 2018-01-01 00:00:00+00:00  5.47"
      ]
     },
     "execution_count": 18,
     "metadata": {},
     "output_type": "execute_result"
    }
   ],
   "source": [
    "milp_solver = MILP(plant_params=plant_params, spot=df_test[\"spot\"], utc_time=df[\"utc_time\"])\n",
    "milp_model, milp_status, milp_profile = milp_solver.solve()\n",
    "print(milp_status)\n",
    "print(milp_model.objective.value())\n",
    "milp_profile.head(2)"
   ]
  },
  {
   "cell_type": "markdown",
   "metadata": {},
   "source": [
    "## Feed Forward Neural Network\n",
    "\n",
    "Predict the full week (168 output neurons, sigmoid activation to output values between 0 and 1, then use thresholds for translations into actions)."
   ]
  },
  {
   "cell_type": "code",
   "execution_count": 332,
   "metadata": {},
   "outputs": [],
   "source": [
    "class ANN(nn.Module):\n",
    "    def __init__(self, input_size, output_size, hidden_layers, hidden_size):\n",
    "        super(ANN, self).__init__()\n",
    "        self.input_size = input_size\n",
    "        self.output_size = output_size\n",
    "        self.hidden_layers = hidden_layers\n",
    "        self.hidden_size = hidden_size\n",
    "        \n",
    "        # Define input layer\n",
    "        self.input_layer = nn.Linear(input_size, hidden_size)\n",
    "        \n",
    "        # Define hidden layers\n",
    "        self.hidden_layers = nn.ModuleList()\n",
    "        for _ in range(hidden_layers):\n",
    "            self.hidden_layers.append(nn.Linear(hidden_size, hidden_size))\n",
    "        \n",
    "        # Define output layer\n",
    "        self.output_layer = nn.Linear(hidden_size, output_size)\n",
    "        \n",
    "    def forward(self, x):\n",
    "        x = torch.relu(self.input_layer(x))\n",
    "        for layer in self.hidden_layers:\n",
    "            x = torch.relu(layer(x))\n",
    "        x = torch.sigmoid(self.output_layer(x))\n",
    "        return x"
   ]
  },
  {
   "cell_type": "code",
   "execution_count": 333,
   "metadata": {},
   "outputs": [
    {
     "data": {
      "text/plain": [
       "ANN(\n",
       "  (input_layer): Linear(in_features=168, out_features=16, bias=True)\n",
       "  (hidden_layers): ModuleList(\n",
       "    (0): Linear(in_features=16, out_features=16, bias=True)\n",
       "  )\n",
       "  (output_layer): Linear(in_features=16, out_features=168, bias=True)\n",
       ")"
      ]
     },
     "execution_count": 333,
     "metadata": {},
     "output_type": "execute_result"
    }
   ],
   "source": [
    "model = ANN(input_size=168, output_size=168, hidden_layers=1, hidden_size=16)\n",
    "model"
   ]
  },
  {
   "cell_type": "code",
   "execution_count": 334,
   "metadata": {},
   "outputs": [],
   "source": [
    "def encode_chromosome(model):\n",
    "    \"\"\"\n",
    "    Encodes the model parameters into a single chromosome, which can be used for genetic algorithms.\n",
    "    \"\"\"\n",
    "    chromosome = torch.tensor([])\n",
    "\n",
    "    for param in model.parameters():\n",
    "        chromosome = torch.cat((chromosome, param.view(-1)))\n",
    "\n",
    "    return chromosome\n",
    "\n",
    "\n",
    "def decode_chromosome(model, chromosome):\n",
    "    \"\"\"\n",
    "    Decodes the chromosome into the model parameters and updates the model with the new parameters.\n",
    "    \"\"\"\n",
    "    model_params = list(model.parameters())\n",
    "    start = 0\n",
    "\n",
    "    for param in model_params:\n",
    "        end = start + torch.numel(param)\n",
    "        param.data = chromosome[start:end].view(param.size())\n",
    "        start = end"
   ]
  },
  {
   "cell_type": "code",
   "execution_count": 335,
   "metadata": {},
   "outputs": [
    {
     "data": {
      "text/plain": [
       "tensor([-0.0164,  0.0534,  0.0158,  ...,  0.2435,  0.1798, -0.0679],\n",
       "       grad_fn=<CatBackward0>)"
      ]
     },
     "execution_count": 335,
     "metadata": {},
     "output_type": "execute_result"
    }
   ],
   "source": [
    "encode_chromosome(model)"
   ]
  },
  {
   "cell_type": "code",
   "execution_count": 336,
   "metadata": {},
   "outputs": [],
   "source": [
    "# decode_chromosome(model, torch.zeros(len(encode_chromosome(model))))\n",
    "# list(model.parameters())"
   ]
  },
  {
   "cell_type": "markdown",
   "metadata": {},
   "source": [
    "Experimentally setting the model parameters back to zero shows that the update of the neural net actually works."
   ]
  },
  {
   "cell_type": "code",
   "execution_count": 337,
   "metadata": {},
   "outputs": [
    {
     "data": {
      "text/plain": [
       "torch.float32"
      ]
     },
     "execution_count": 337,
     "metadata": {},
     "output_type": "execute_result"
    }
   ],
   "source": [
    "next(model.parameters()).dtype"
   ]
  },
  {
   "cell_type": "code",
   "execution_count": 338,
   "metadata": {},
   "outputs": [
    {
     "data": {
      "text/plain": [
       "dtype('float32')"
      ]
     },
     "execution_count": 338,
     "metadata": {},
     "output_type": "execute_result"
    }
   ],
   "source": [
    "X_train[0].dtype"
   ]
  },
  {
   "cell_type": "code",
   "execution_count": 339,
   "metadata": {},
   "outputs": [
    {
     "data": {
      "text/plain": [
       "tensor([9.9954e-01, 1.0544e-01, 9.8233e-01, 7.2196e-03, 8.0297e-01, 3.6133e-01,\n",
       "        9.9942e-01, 6.8944e-01, 3.5738e-01, 1.7934e-01, 3.7488e-01, 9.9930e-01,\n",
       "        5.2016e-02, 2.5611e-01, 9.1975e-01, 2.6994e-01, 3.6806e-04, 2.0376e-02,\n",
       "        6.5662e-01, 7.2310e-01, 9.9623e-01, 4.9419e-01, 9.9822e-01, 3.2406e-01,\n",
       "        1.2420e-01, 9.8144e-01, 4.7712e-02, 9.6512e-01, 9.9987e-01, 3.4281e-01,\n",
       "        2.3713e-01, 8.2167e-01, 9.7964e-01, 1.8996e-01, 9.9920e-01, 7.1872e-01,\n",
       "        9.9661e-01, 9.9730e-01, 9.1141e-01, 4.7923e-03, 6.9358e-01, 9.9846e-01,\n",
       "        9.9476e-01, 6.1930e-01, 2.0451e-01, 7.0697e-01, 9.4413e-02, 1.3659e-01,\n",
       "        7.5255e-02, 6.0207e-02, 5.9773e-04, 8.4599e-01, 2.6087e-02, 9.9870e-01,\n",
       "        8.4449e-01, 5.1788e-04, 4.0629e-01, 7.9581e-01, 9.1836e-01, 2.7331e-01,\n",
       "        2.8069e-01, 4.0207e-02, 2.6253e-03, 7.6502e-04, 4.2819e-05, 2.1126e-01,\n",
       "        5.6417e-01, 8.0654e-01, 9.9908e-01, 9.8491e-01, 1.1951e-01, 9.6510e-01,\n",
       "        9.9989e-01, 9.9974e-01, 2.3200e-01, 9.9707e-01, 7.3571e-02, 9.9249e-01,\n",
       "        7.6623e-04, 7.4922e-02, 2.7115e-02, 1.0000e+00, 9.2903e-02, 5.9795e-02,\n",
       "        6.4709e-01, 3.1242e-02, 6.4317e-01, 4.9929e-05, 9.4629e-01, 9.9976e-01,\n",
       "        9.7096e-01, 2.6416e-02, 9.9453e-01, 2.7009e-01, 3.5631e-06, 5.4868e-01,\n",
       "        9.9362e-01, 8.1822e-03, 5.0645e-03, 5.7837e-01, 9.4386e-01, 9.9785e-01,\n",
       "        5.6455e-03, 9.6395e-01, 9.4920e-01, 9.9995e-01, 1.9188e-02, 9.3914e-01,\n",
       "        2.2730e-01, 2.1105e-03, 2.9785e-03, 9.4574e-01, 9.9993e-01, 9.3224e-01,\n",
       "        4.5907e-01, 9.7875e-01, 7.0097e-01, 2.0580e-01, 9.9503e-01, 8.6479e-02,\n",
       "        9.9147e-01, 3.9709e-01, 9.7724e-01, 1.6276e-01, 3.7960e-02, 9.6037e-01,\n",
       "        6.8135e-01, 1.1044e-03, 4.9703e-03, 5.0036e-02, 3.9345e-03, 8.7847e-02,\n",
       "        3.7841e-02, 2.1072e-02, 9.8656e-01, 5.4327e-05, 8.0389e-01, 9.9712e-01,\n",
       "        9.9909e-01, 9.3993e-01, 9.2519e-01, 4.7394e-03, 9.9997e-01, 8.4451e-04,\n",
       "        9.9982e-01, 9.9902e-01, 2.0567e-01, 9.0090e-02, 8.9708e-01, 9.9971e-01,\n",
       "        8.2319e-03, 5.0795e-03, 4.0094e-04, 2.6277e-02, 2.9472e-02, 3.4020e-01,\n",
       "        1.5044e-01, 9.5471e-01, 2.1583e-01, 9.5670e-01, 9.8602e-01, 4.5873e-03,\n",
       "        9.9918e-01, 9.7556e-01, 9.9751e-01, 9.9998e-01, 9.9952e-01, 8.3811e-01],\n",
       "       grad_fn=<SigmoidBackward0>)"
      ]
     },
     "execution_count": 339,
     "metadata": {},
     "output_type": "execute_result"
    }
   ],
   "source": [
    "model(torch.tensor(X_train[0]))"
   ]
  },
  {
   "cell_type": "markdown",
   "metadata": {},
   "source": [
    "### Generalising from one to another week\n"
   ]
  },
  {
   "cell_type": "code",
   "execution_count": null,
   "metadata": {},
   "outputs": [],
   "source": [
    "model = ANN(input_size=169, output_size=168, hidden_layers=1, hidden_size=16)"
   ]
  },
  {
   "cell_type": "code",
   "execution_count": 20,
   "metadata": {},
   "outputs": [
    {
     "data": {
      "application/vnd.jupyter.widget-view+json": {
       "model_id": "0d8b66424aeb46d88969bb54ab72a7bb",
       "version_major": 2,
       "version_minor": 0
      },
      "text/plain": [
       "  0%|          | 0/500 [00:00<?, ?it/s]"
      ]
     },
     "metadata": {},
     "output_type": "display_data"
    },
    {
     "ename": "KeyboardInterrupt",
     "evalue": "",
     "output_type": "error",
     "traceback": [
      "\u001b[1;31m---------------------------------------------------------------------------\u001b[0m",
      "\u001b[1;31mKeyboardInterrupt\u001b[0m                         Traceback (most recent call last)",
      "Cell \u001b[1;32mIn[20], line 5\u001b[0m\n\u001b[0;32m      1\u001b[0m ga_solver \u001b[38;5;241m=\u001b[39m GA_Actions_Tournament(\n\u001b[0;32m      2\u001b[0m     plant_params\u001b[38;5;241m=\u001b[39mplant_params, spot\u001b[38;5;241m=\u001b[39mdf[\u001b[38;5;124m\"\u001b[39m\u001b[38;5;124mspot\u001b[39m\u001b[38;5;124m\"\u001b[39m], utc_time\u001b[38;5;241m=\u001b[39mdf[\u001b[38;5;124m\"\u001b[39m\u001b[38;5;124mutc_time\u001b[39m\u001b[38;5;124m\"\u001b[39m]\n\u001b[0;32m      3\u001b[0m )\n\u001b[1;32m----> 5\u001b[0m population, fitnesses, best_ind, history \u001b[38;5;241m=\u001b[39m \u001b[43mga_solver\u001b[49m\u001b[38;5;241;43m.\u001b[39;49m\u001b[43mtrain\u001b[49m\u001b[43m(\u001b[49m\n\u001b[0;32m      6\u001b[0m \u001b[43m    \u001b[49m\u001b[43mconfig\u001b[49m\u001b[38;5;241;43m=\u001b[39;49m\u001b[43m{\u001b[49m\n\u001b[0;32m      7\u001b[0m \u001b[43m        \u001b[49m\u001b[38;5;124;43m\"\u001b[39;49m\u001b[38;5;124;43mMUTPB\u001b[39;49m\u001b[38;5;124;43m\"\u001b[39;49m\u001b[43m:\u001b[49m\u001b[43m \u001b[49m\u001b[38;5;241;43m1.0\u001b[39;49m\u001b[43m,\u001b[49m\n\u001b[0;32m      8\u001b[0m \u001b[43m        \u001b[49m\u001b[38;5;124;43m\"\u001b[39;49m\u001b[38;5;124;43mPOP_SIZE\u001b[39;49m\u001b[38;5;124;43m\"\u001b[39;49m\u001b[43m:\u001b[49m\u001b[43m \u001b[49m\u001b[38;5;241;43m100\u001b[39;49m\u001b[43m,\u001b[49m\n\u001b[0;32m      9\u001b[0m \u001b[43m        \u001b[49m\u001b[38;5;124;43m\"\u001b[39;49m\u001b[38;5;124;43mCXPB\u001b[39;49m\u001b[38;5;124;43m\"\u001b[39;49m\u001b[43m:\u001b[49m\u001b[43m \u001b[49m\u001b[38;5;241;43m0.3\u001b[39;49m\u001b[43m,\u001b[49m\n\u001b[0;32m     10\u001b[0m \u001b[43m        \u001b[49m\u001b[38;5;124;43m\"\u001b[39;49m\u001b[38;5;124;43mINITIAL_MUTATION_RATE\u001b[39;49m\u001b[38;5;124;43m\"\u001b[39;49m\u001b[43m:\u001b[49m\u001b[43m \u001b[49m\u001b[38;5;241;43m0.05\u001b[39;49m\u001b[43m,\u001b[49m\n\u001b[0;32m     11\u001b[0m \u001b[43m        \u001b[49m\u001b[38;5;124;43m\"\u001b[39;49m\u001b[38;5;124;43mFINAL_MUTATION_RATE\u001b[39;49m\u001b[38;5;124;43m\"\u001b[39;49m\u001b[43m:\u001b[49m\u001b[43m \u001b[49m\u001b[38;5;241;43m0.005\u001b[39;49m\u001b[43m,\u001b[49m\n\u001b[0;32m     12\u001b[0m \u001b[43m        \u001b[49m\u001b[38;5;124;43m\"\u001b[39;49m\u001b[38;5;124;43mTOURNAMENT_SIZE\u001b[39;49m\u001b[38;5;124;43m\"\u001b[39;49m\u001b[43m:\u001b[49m\u001b[43m \u001b[49m\u001b[38;5;241;43m4\u001b[39;49m\u001b[43m,\u001b[49m\n\u001b[0;32m     13\u001b[0m \u001b[43m    \u001b[49m\u001b[43m}\u001b[49m\u001b[43m,\u001b[49m\n\u001b[0;32m     14\u001b[0m \u001b[43m    \u001b[49m\u001b[43mtotal_generations\u001b[49m\u001b[38;5;241;43m=\u001b[39;49m\u001b[38;5;241;43m500\u001b[39;49m\u001b[43m,\u001b[49m\n\u001b[0;32m     15\u001b[0m \u001b[43m    \u001b[49m\u001b[43mtune_mode\u001b[49m\u001b[38;5;241;43m=\u001b[39;49m\u001b[38;5;28;43;01mFalse\u001b[39;49;00m\u001b[43m,\u001b[49m\n\u001b[0;32m     16\u001b[0m \u001b[43m)\u001b[49m\n",
      "File \u001b[1;32mc:\\Users\\mathi\\OneDrive\\Universitaet\\2nd Semester\\5_Supervised Research\\genetic-algorithm-pumped-hydropower\\05 - Final Implementations and Simulations\\genetic.py:119\u001b[0m, in \u001b[0;36mGA_Actions_Tournament.train\u001b[1;34m(self, config, total_generations, tune_mode)\u001b[0m\n\u001b[0;32m    117\u001b[0m \u001b[38;5;28;01mfor\u001b[39;00m mutant \u001b[38;5;129;01min\u001b[39;00m offspring:\n\u001b[0;32m    118\u001b[0m     \u001b[38;5;28;01mif\u001b[39;00m np\u001b[38;5;241m.\u001b[39mrandom\u001b[38;5;241m.\u001b[39mrandom() \u001b[38;5;241m<\u001b[39m config[\u001b[38;5;124m\"\u001b[39m\u001b[38;5;124mMUTPB\u001b[39m\u001b[38;5;124m\"\u001b[39m]:\n\u001b[1;32m--> 119\u001b[0m         \u001b[43mtoolbox\u001b[49m\u001b[38;5;241;43m.\u001b[39;49m\u001b[43mmutate\u001b[49m\u001b[43m(\u001b[49m\u001b[43mmutant\u001b[49m\u001b[43m)\u001b[49m\n\u001b[0;32m    120\u001b[0m         \u001b[38;5;28;01mdel\u001b[39;00m mutant\u001b[38;5;241m.\u001b[39mfitness\u001b[38;5;241m.\u001b[39mvalues\n\u001b[0;32m    122\u001b[0m \u001b[38;5;66;03m# Evaluate the individuals with an invalid fitness\u001b[39;00m\n\u001b[0;32m    123\u001b[0m \u001b[38;5;66;03m# Those are the ones that have been deleted\u001b[39;00m\n",
      "File \u001b[1;32mc:\\Users\\mathi\\miniconda3\\envs\\general\\Lib\\site-packages\\deap\\tools\\mutation.py:169\u001b[0m, in \u001b[0;36mmutUniformInt\u001b[1;34m(individual, low, up, indpb)\u001b[0m\n\u001b[0;32m    166\u001b[0m     \u001b[38;5;28;01mraise\u001b[39;00m \u001b[38;5;167;01mIndexError\u001b[39;00m(\u001b[38;5;124m\"\u001b[39m\u001b[38;5;124mup must be at least the size of individual: \u001b[39m\u001b[38;5;132;01m%d\u001b[39;00m\u001b[38;5;124m < \u001b[39m\u001b[38;5;132;01m%d\u001b[39;00m\u001b[38;5;124m\"\u001b[39m \u001b[38;5;241m%\u001b[39m (\u001b[38;5;28mlen\u001b[39m(up), size))\n\u001b[0;32m    168\u001b[0m \u001b[38;5;28;01mfor\u001b[39;00m i, xl, xu \u001b[38;5;129;01min\u001b[39;00m \u001b[38;5;28mzip\u001b[39m(\u001b[38;5;28mrange\u001b[39m(size), low, up):\n\u001b[1;32m--> 169\u001b[0m     \u001b[38;5;28;01mif\u001b[39;00m \u001b[43mrandom\u001b[49m\u001b[38;5;241;43m.\u001b[39;49m\u001b[43mrandom\u001b[49m\u001b[43m(\u001b[49m\u001b[43m)\u001b[49m\u001b[43m \u001b[49m\u001b[38;5;241;43m<\u001b[39;49m\u001b[43m \u001b[49m\u001b[43mindpb\u001b[49m:\n\u001b[0;32m    170\u001b[0m         individual[i] \u001b[38;5;241m=\u001b[39m random\u001b[38;5;241m.\u001b[39mrandint(xl, xu)\n\u001b[0;32m    172\u001b[0m \u001b[38;5;28;01mreturn\u001b[39;00m individual,\n",
      "File \u001b[1;32m<string>:1\u001b[0m, in \u001b[0;36m__gt__\u001b[1;34m(self, ob)\u001b[0m\n",
      "File \u001b[1;32mc:\\Users\\mathi\\miniconda3\\envs\\general\\Lib\\site-packages\\objproxies.py:17\u001b[0m, in \u001b[0;36mAbstractProxy.__getattribute__\u001b[1;34m(self, attr, oga)\u001b[0m\n\u001b[0;32m     16\u001b[0m \u001b[38;5;28;01mdef\u001b[39;00m \u001b[38;5;21m__getattribute__\u001b[39m(\u001b[38;5;28mself\u001b[39m, attr, oga\u001b[38;5;241m=\u001b[39m\u001b[38;5;28mobject\u001b[39m\u001b[38;5;241m.\u001b[39m\u001b[38;5;21m__getattribute__\u001b[39m):\n\u001b[1;32m---> 17\u001b[0m     subject \u001b[38;5;241m=\u001b[39m \u001b[43moga\u001b[49m\u001b[43m(\u001b[49m\u001b[38;5;28;43mself\u001b[39;49m\u001b[43m,\u001b[49m\u001b[43m \u001b[49m\u001b[38;5;124;43m'\u001b[39;49m\u001b[38;5;124;43m__subject__\u001b[39;49m\u001b[38;5;124;43m'\u001b[39;49m\u001b[43m)\u001b[49m\n\u001b[0;32m     18\u001b[0m     \u001b[38;5;28;01mif\u001b[39;00m attr \u001b[38;5;241m==\u001b[39m \u001b[38;5;124m'\u001b[39m\u001b[38;5;124m__subject__\u001b[39m\u001b[38;5;124m'\u001b[39m:\n\u001b[0;32m     19\u001b[0m         \u001b[38;5;28;01mreturn\u001b[39;00m subject\n",
      "File \u001b[1;32mc:\\Users\\mathi\\miniconda3\\envs\\general\\Lib\\site-packages\\objproxies.py:129\u001b[0m, in \u001b[0;36m<lambda>\u001b[1;34m(self, gc)\u001b[0m\n\u001b[0;32m    127\u001b[0m set_callback \u001b[38;5;241m=\u001b[39m CallbackProxy\u001b[38;5;241m.\u001b[39m__callback__\u001b[38;5;241m.\u001b[39m\u001b[38;5;21m__set__\u001b[39m\n\u001b[0;32m    128\u001b[0m get_callback \u001b[38;5;241m=\u001b[39m CallbackProxy\u001b[38;5;241m.\u001b[39m__callback__\u001b[38;5;241m.\u001b[39m\u001b[38;5;21m__get__\u001b[39m\n\u001b[1;32m--> 129\u001b[0m CallbackProxy\u001b[38;5;241m.\u001b[39m__subject__ \u001b[38;5;241m=\u001b[39m \u001b[38;5;28mproperty\u001b[39m(\u001b[38;5;28;01mlambda\u001b[39;00m \u001b[38;5;28mself\u001b[39m, gc\u001b[38;5;241m=\u001b[39mget_callback: \u001b[43mgc\u001b[49m\u001b[43m(\u001b[49m\u001b[38;5;28;43mself\u001b[39;49m\u001b[43m)\u001b[49m\u001b[43m(\u001b[49m\u001b[43m)\u001b[49m)\n\u001b[0;32m    132\u001b[0m \u001b[38;5;28;01mclass\u001b[39;00m \u001b[38;5;21;01mLazyProxy\u001b[39;00m(CallbackProxy):\n\u001b[0;32m    133\u001b[0m \u001b[38;5;250m    \u001b[39m\u001b[38;5;124;03m\"\"\"Proxy for a lazily-obtained object, that is cached on first use\"\"\"\u001b[39;00m\n",
      "File \u001b[1;32mc:\\Users\\mathi\\OneDrive\\Universitaet\\2nd Semester\\5_Supervised Research\\genetic-algorithm-pumped-hydropower\\05 - Final Implementations and Simulations\\genetic.py:70\u001b[0m, in \u001b[0;36mGA_Actions_Tournament.train.<locals>.<lambda>\u001b[1;34m()\u001b[0m\n\u001b[0;32m     56\u001b[0m toolbox\u001b[38;5;241m.\u001b[39mregister(\u001b[38;5;124m\"\u001b[39m\u001b[38;5;124mevaluate\u001b[39m\u001b[38;5;124m\"\u001b[39m, \u001b[38;5;28mself\u001b[39m\u001b[38;5;241m.\u001b[39m_evaluate_fitness)\n\u001b[0;32m     57\u001b[0m toolbox\u001b[38;5;241m.\u001b[39mregister(\u001b[38;5;124m\"\u001b[39m\u001b[38;5;124mmate\u001b[39m\u001b[38;5;124m\"\u001b[39m, tools\u001b[38;5;241m.\u001b[39mcxOnePoint)\n\u001b[0;32m     58\u001b[0m toolbox\u001b[38;5;241m.\u001b[39mregister(\n\u001b[0;32m     59\u001b[0m     \u001b[38;5;124m\"\u001b[39m\u001b[38;5;124mmutate\u001b[39m\u001b[38;5;124m\"\u001b[39m,\n\u001b[0;32m     60\u001b[0m     tools\u001b[38;5;241m.\u001b[39mmutUniformInt,\n\u001b[0;32m     61\u001b[0m     low\u001b[38;5;241m=\u001b[39m\u001b[38;5;241m-\u001b[39m\u001b[38;5;241m1\u001b[39m,\n\u001b[0;32m     62\u001b[0m     up\u001b[38;5;241m=\u001b[39m\u001b[38;5;241m1\u001b[39m,\n\u001b[0;32m     63\u001b[0m     \u001b[38;5;66;03m# Non linear mutation rate decay\u001b[39;00m\n\u001b[0;32m     64\u001b[0m     indpb\u001b[38;5;241m=\u001b[39mCallbackProxy(\n\u001b[0;32m     65\u001b[0m         \u001b[38;5;28;01mlambda\u001b[39;00m: np\u001b[38;5;241m.\u001b[39mwhere(\n\u001b[0;32m     66\u001b[0m             generation \u001b[38;5;241m<\u001b[39m\u001b[38;5;241m=\u001b[39m \u001b[38;5;28mint\u001b[39m(\u001b[38;5;241m0.8\u001b[39m \u001b[38;5;241m*\u001b[39m total_generations),\n\u001b[0;32m     67\u001b[0m             config[\u001b[38;5;124m\"\u001b[39m\u001b[38;5;124mINITIAL_MUTATION_RATE\u001b[39m\u001b[38;5;124m\"\u001b[39m]\n\u001b[0;32m     68\u001b[0m             \u001b[38;5;241m*\u001b[39m np\u001b[38;5;241m.\u001b[39mexp(\n\u001b[0;32m     69\u001b[0m                 (\n\u001b[1;32m---> 70\u001b[0m                     \u001b[43mnp\u001b[49m\u001b[38;5;241;43m.\u001b[39;49m\u001b[43mlog\u001b[49m\u001b[43m(\u001b[49m\u001b[43mconfig\u001b[49m\u001b[43m[\u001b[49m\u001b[38;5;124;43m\"\u001b[39;49m\u001b[38;5;124;43mFINAL_MUTATION_RATE\u001b[39;49m\u001b[38;5;124;43m\"\u001b[39;49m\u001b[43m]\u001b[49m\u001b[43m)\u001b[49m\n\u001b[0;32m     71\u001b[0m                     \u001b[38;5;241m-\u001b[39m np\u001b[38;5;241m.\u001b[39mlog(config[\u001b[38;5;124m\"\u001b[39m\u001b[38;5;124mINITIAL_MUTATION_RATE\u001b[39m\u001b[38;5;124m\"\u001b[39m])\n\u001b[0;32m     72\u001b[0m                 )\n\u001b[0;32m     73\u001b[0m                 \u001b[38;5;241m/\u001b[39m (\u001b[38;5;241m0.8\u001b[39m \u001b[38;5;241m*\u001b[39m total_generations)\n\u001b[0;32m     74\u001b[0m             )\n\u001b[0;32m     75\u001b[0m             \u001b[38;5;241m*\u001b[39m\u001b[38;5;241m*\u001b[39m generation,\n\u001b[0;32m     76\u001b[0m             config[\u001b[38;5;124m\"\u001b[39m\u001b[38;5;124mFINAL_MUTATION_RATE\u001b[39m\u001b[38;5;124m\"\u001b[39m],\n\u001b[0;32m     77\u001b[0m         )\n\u001b[0;32m     78\u001b[0m     ),\n\u001b[0;32m     79\u001b[0m )\n\u001b[0;32m     80\u001b[0m \u001b[38;5;66;03m# CallbackProxy(\u001b[39;00m\n\u001b[0;32m     81\u001b[0m \u001b[38;5;66;03m#     lambda: (total_generations - generation)\u001b[39;00m\n\u001b[0;32m     82\u001b[0m \u001b[38;5;66;03m#     / total_generations\u001b[39;00m\n\u001b[0;32m     83\u001b[0m \u001b[38;5;66;03m#     * config[\"MUT_IND_PB\"]\u001b[39;00m\n\u001b[0;32m     84\u001b[0m \u001b[38;5;66;03m# ),\u001b[39;00m\n\u001b[0;32m     86\u001b[0m toolbox\u001b[38;5;241m.\u001b[39mregister(\n\u001b[0;32m     87\u001b[0m     \u001b[38;5;124m\"\u001b[39m\u001b[38;5;124mselect\u001b[39m\u001b[38;5;124m\"\u001b[39m, tools\u001b[38;5;241m.\u001b[39mselTournament, tournsize\u001b[38;5;241m=\u001b[39mconfig[\u001b[38;5;124m\"\u001b[39m\u001b[38;5;124mTOURNAMENT_SIZE\u001b[39m\u001b[38;5;124m\"\u001b[39m]\n\u001b[0;32m     88\u001b[0m )\n",
      "\u001b[1;31mKeyboardInterrupt\u001b[0m: "
     ]
    }
   ],
   "source": [
    "ga_solver = GA_Actions_Tournament(\n",
    "    plant_params=plant_params, spot=df[\"spot\"], utc_time=df[\"utc_time\"]\n",
    ")\n",
    "\n",
    "population, fitnesses, best_ind, history = ga_solver.train(\n",
    "    config={\n",
    "        \"MUTPB\": 1.0,\n",
    "        \"POP_SIZE\": 100,\n",
    "        \"CXPB\": 0.3,\n",
    "        \"INITIAL_MUTATION_RATE\": 0.05,\n",
    "        \"FINAL_MUTATION_RATE\": 0.005,\n",
    "        \"TOURNAMENT_SIZE\": 4,\n",
    "    },\n",
    "    total_generations=500,\n",
    "    tune_mode=False,\n",
    ")"
   ]
  },
  {
   "cell_type": "code",
   "execution_count": 18,
   "metadata": {},
   "outputs": [
    {
     "data": {
      "text/html": [
       "<div>\n",
       "<style scoped>\n",
       "    .dataframe tbody tr th:only-of-type {\n",
       "        vertical-align: middle;\n",
       "    }\n",
       "\n",
       "    .dataframe tbody tr th {\n",
       "        vertical-align: top;\n",
       "    }\n",
       "\n",
       "    .dataframe thead th {\n",
       "        text-align: right;\n",
       "    }\n",
       "</style>\n",
       "<table border=\"1\" class=\"dataframe\">\n",
       "  <thead>\n",
       "    <tr style=\"text-align: right;\">\n",
       "      <th></th>\n",
       "      <th>generation</th>\n",
       "      <th>best</th>\n",
       "      <th>average</th>\n",
       "      <th>worst</th>\n",
       "    </tr>\n",
       "  </thead>\n",
       "  <tbody>\n",
       "    <tr>\n",
       "      <th>0</th>\n",
       "      <td>0</td>\n",
       "      <td>-293032.0</td>\n",
       "      <td>-9980398.028</td>\n",
       "      <td>-10460514.0</td>\n",
       "    </tr>\n",
       "    <tr>\n",
       "      <th>1</th>\n",
       "      <td>1</td>\n",
       "      <td>-297433.0</td>\n",
       "      <td>-9738494.206</td>\n",
       "      <td>-10389603.0</td>\n",
       "    </tr>\n",
       "    <tr>\n",
       "      <th>2</th>\n",
       "      <td>2</td>\n",
       "      <td>-243306.0</td>\n",
       "      <td>-9532594.974</td>\n",
       "      <td>-10409811.0</td>\n",
       "    </tr>\n",
       "    <tr>\n",
       "      <th>3</th>\n",
       "      <td>3</td>\n",
       "      <td>-161953.0</td>\n",
       "      <td>-9400322.812</td>\n",
       "      <td>-10345659.0</td>\n",
       "    </tr>\n",
       "    <tr>\n",
       "      <th>4</th>\n",
       "      <td>4</td>\n",
       "      <td>-153819.0</td>\n",
       "      <td>-9079379.224</td>\n",
       "      <td>-10440012.0</td>\n",
       "    </tr>\n",
       "    <tr>\n",
       "      <th>...</th>\n",
       "      <td>...</td>\n",
       "      <td>...</td>\n",
       "      <td>...</td>\n",
       "      <td>...</td>\n",
       "    </tr>\n",
       "    <tr>\n",
       "      <th>295</th>\n",
       "      <td>295</td>\n",
       "      <td>298162.0</td>\n",
       "      <td>-442471.250</td>\n",
       "      <td>-9750296.0</td>\n",
       "    </tr>\n",
       "    <tr>\n",
       "      <th>296</th>\n",
       "      <td>296</td>\n",
       "      <td>298162.0</td>\n",
       "      <td>-142067.478</td>\n",
       "      <td>-9744398.0</td>\n",
       "    </tr>\n",
       "    <tr>\n",
       "      <th>297</th>\n",
       "      <td>297</td>\n",
       "      <td>298162.0</td>\n",
       "      <td>-202000.952</td>\n",
       "      <td>-9749372.0</td>\n",
       "    </tr>\n",
       "    <tr>\n",
       "      <th>298</th>\n",
       "      <td>298</td>\n",
       "      <td>298162.0</td>\n",
       "      <td>-82016.506</td>\n",
       "      <td>-9722400.0</td>\n",
       "    </tr>\n",
       "    <tr>\n",
       "      <th>299</th>\n",
       "      <td>299</td>\n",
       "      <td>298162.0</td>\n",
       "      <td>118074.350</td>\n",
       "      <td>-9746730.0</td>\n",
       "    </tr>\n",
       "  </tbody>\n",
       "</table>\n",
       "<p>300 rows × 4 columns</p>\n",
       "</div>"
      ],
      "text/plain": [
       "     generation      best      average       worst\n",
       "0             0 -293032.0 -9980398.028 -10460514.0\n",
       "1             1 -297433.0 -9738494.206 -10389603.0\n",
       "2             2 -243306.0 -9532594.974 -10409811.0\n",
       "3             3 -161953.0 -9400322.812 -10345659.0\n",
       "4             4 -153819.0 -9079379.224 -10440012.0\n",
       "..          ...       ...          ...         ...\n",
       "295         295  298162.0  -442471.250  -9750296.0\n",
       "296         296  298162.0  -142067.478  -9744398.0\n",
       "297         297  298162.0  -202000.952  -9749372.0\n",
       "298         298  298162.0   -82016.506  -9722400.0\n",
       "299         299  298162.0   118074.350  -9746730.0\n",
       "\n",
       "[300 rows x 4 columns]"
      ]
     },
     "execution_count": 18,
     "metadata": {},
     "output_type": "execute_result"
    }
   ],
   "source": [
    "history"
   ]
  },
  {
   "cell_type": "code",
   "execution_count": 21,
   "metadata": {},
   "outputs": [
    {
     "ename": "NameError",
     "evalue": "name 'history' is not defined",
     "output_type": "error",
     "traceback": [
      "\u001b[1;31m---------------------------------------------------------------------------\u001b[0m",
      "\u001b[1;31mNameError\u001b[0m                                 Traceback (most recent call last)",
      "Cell \u001b[1;32mIn[21], line 4\u001b[0m\n\u001b[0;32m      1\u001b[0m (\n\u001b[0;32m      2\u001b[0m     pn\u001b[38;5;241m.\u001b[39mggplot(\n\u001b[0;32m      3\u001b[0m         data\u001b[38;5;241m=\u001b[39m(\n\u001b[1;32m----> 4\u001b[0m             \u001b[43mhistory\u001b[49m\u001b[38;5;241m.\u001b[39mdrop(\u001b[38;5;124m\"\u001b[39m\u001b[38;5;124mworst\u001b[39m\u001b[38;5;124m\"\u001b[39m, axis\u001b[38;5;241m=\u001b[39m\u001b[38;5;241m1\u001b[39m)\n\u001b[0;32m      5\u001b[0m             \u001b[38;5;241m.\u001b[39mmelt(id_vars\u001b[38;5;241m=\u001b[39m\u001b[38;5;124m\"\u001b[39m\u001b[38;5;124mgeneration\u001b[39m\u001b[38;5;124m\"\u001b[39m)\n\u001b[0;32m      6\u001b[0m         ),\n\u001b[0;32m      7\u001b[0m         mapping\u001b[38;5;241m=\u001b[39mpn\u001b[38;5;241m.\u001b[39maes(x\u001b[38;5;241m=\u001b[39m\u001b[38;5;124m\"\u001b[39m\u001b[38;5;124mgeneration\u001b[39m\u001b[38;5;124m\"\u001b[39m, y\u001b[38;5;241m=\u001b[39m\u001b[38;5;124m\"\u001b[39m\u001b[38;5;124mvalue\u001b[39m\u001b[38;5;124m\"\u001b[39m, colour\u001b[38;5;241m=\u001b[39m\u001b[38;5;124m\"\u001b[39m\u001b[38;5;124mvariable\u001b[39m\u001b[38;5;124m\"\u001b[39m),\n\u001b[0;32m      8\u001b[0m     )\n\u001b[0;32m      9\u001b[0m     \u001b[38;5;241m+\u001b[39m pn\u001b[38;5;241m.\u001b[39mgeom_line()\n\u001b[0;32m     10\u001b[0m     \u001b[38;5;241m+\u001b[39m pn\u001b[38;5;241m.\u001b[39mtheme(figure_size\u001b[38;5;241m=\u001b[39m[\u001b[38;5;241m6\u001b[39m, \u001b[38;5;241m3\u001b[39m])\n\u001b[0;32m     11\u001b[0m     \u001b[38;5;66;03m# + pn.scale_y_log10()\u001b[39;00m\n\u001b[0;32m     12\u001b[0m )\n",
      "\u001b[1;31mNameError\u001b[0m: name 'history' is not defined"
     ]
    }
   ],
   "source": [
    "(\n",
    "    pn.ggplot(\n",
    "        data=(\n",
    "            history.drop(\"worst\", axis=1)\n",
    "            .melt(id_vars=\"generation\")\n",
    "        ),\n",
    "        mapping=pn.aes(x=\"generation\", y=\"value\", colour=\"variable\"),\n",
    "    )\n",
    "    + pn.geom_line()\n",
    "    + pn.theme(figure_size=[6, 3])\n",
    "    # + pn.scale_y_log10()\n",
    ")"
   ]
  },
  {
   "cell_type": "markdown",
   "metadata": {},
   "source": [
    "### Elite Selection"
   ]
  },
  {
   "cell_type": "code",
   "execution_count": 23,
   "metadata": {},
   "outputs": [
    {
     "data": {
      "application/vnd.jupyter.widget-view+json": {
       "model_id": "e08467432ac740278acb569bdb4de2b8",
       "version_major": 2,
       "version_minor": 0
      },
      "text/plain": [
       "  0%|          | 0/500 [00:00<?, ?it/s]"
      ]
     },
     "metadata": {},
     "output_type": "display_data"
    }
   ],
   "source": [
    "ga_solver = GA_Actions_Elite(\n",
    "    plant_params=plant_params, spot=df[\"spot\"], utc_time=df[\"utc_time\"]\n",
    ")\n",
    "\n",
    "population, fitnesses, best_ind, history = ga_solver.train(\n",
    "    config={\n",
    "        \"MUTPB\": 1,\n",
    "        \"POP_SIZE\": 1000,\n",
    "        \"INITIAL_MUTATION_RATE\": 0.05,\n",
    "        \"FINAL_MUTATION_RATE\": 0.005,\n",
    "        \"INITIAL_EXPLORATION\":0.8,\n",
    "        \"ELITISM\": 0.2,\n",
    "    },\n",
    "    total_generations=500,\n",
    "    tune_mode=False,\n",
    ")"
   ]
  },
  {
   "cell_type": "code",
   "execution_count": 24,
   "metadata": {},
   "outputs": [
    {
     "data": {
      "text/html": [
       "<div>\n",
       "<style scoped>\n",
       "    .dataframe tbody tr th:only-of-type {\n",
       "        vertical-align: middle;\n",
       "    }\n",
       "\n",
       "    .dataframe tbody tr th {\n",
       "        vertical-align: top;\n",
       "    }\n",
       "\n",
       "    .dataframe thead th {\n",
       "        text-align: right;\n",
       "    }\n",
       "</style>\n",
       "<table border=\"1\" class=\"dataframe\">\n",
       "  <thead>\n",
       "    <tr style=\"text-align: right;\">\n",
       "      <th></th>\n",
       "      <th>generation</th>\n",
       "      <th>best</th>\n",
       "      <th>average</th>\n",
       "      <th>worst</th>\n",
       "    </tr>\n",
       "  </thead>\n",
       "  <tbody>\n",
       "    <tr>\n",
       "      <th>0</th>\n",
       "      <td>0</td>\n",
       "      <td>-222606.0</td>\n",
       "      <td>-9929118.061</td>\n",
       "      <td>-10546732.0</td>\n",
       "    </tr>\n",
       "    <tr>\n",
       "      <th>1</th>\n",
       "      <td>1</td>\n",
       "      <td>-184636.0</td>\n",
       "      <td>-9709979.027</td>\n",
       "      <td>-10436068.0</td>\n",
       "    </tr>\n",
       "    <tr>\n",
       "      <th>2</th>\n",
       "      <td>2</td>\n",
       "      <td>-147540.0</td>\n",
       "      <td>-9426174.036</td>\n",
       "      <td>-10419410.0</td>\n",
       "    </tr>\n",
       "    <tr>\n",
       "      <th>3</th>\n",
       "      <td>3</td>\n",
       "      <td>-157399.0</td>\n",
       "      <td>-9060452.455</td>\n",
       "      <td>-10466355.0</td>\n",
       "    </tr>\n",
       "    <tr>\n",
       "      <th>4</th>\n",
       "      <td>4</td>\n",
       "      <td>-149594.0</td>\n",
       "      <td>-8915066.782</td>\n",
       "      <td>-10507443.0</td>\n",
       "    </tr>\n",
       "    <tr>\n",
       "      <th>...</th>\n",
       "      <td>...</td>\n",
       "      <td>...</td>\n",
       "      <td>...</td>\n",
       "      <td>...</td>\n",
       "    </tr>\n",
       "    <tr>\n",
       "      <th>495</th>\n",
       "      <td>495</td>\n",
       "      <td>332047.0</td>\n",
       "      <td>-3320078.164</td>\n",
       "      <td>-9764185.0</td>\n",
       "    </tr>\n",
       "    <tr>\n",
       "      <th>496</th>\n",
       "      <td>496</td>\n",
       "      <td>332047.0</td>\n",
       "      <td>-3029849.953</td>\n",
       "      <td>-9738900.0</td>\n",
       "    </tr>\n",
       "    <tr>\n",
       "      <th>497</th>\n",
       "      <td>497</td>\n",
       "      <td>332047.0</td>\n",
       "      <td>-3288952.718</td>\n",
       "      <td>-9746401.0</td>\n",
       "    </tr>\n",
       "    <tr>\n",
       "      <th>498</th>\n",
       "      <td>498</td>\n",
       "      <td>332047.0</td>\n",
       "      <td>-3730213.806</td>\n",
       "      <td>-9758546.0</td>\n",
       "    </tr>\n",
       "    <tr>\n",
       "      <th>499</th>\n",
       "      <td>499</td>\n",
       "      <td>332047.0</td>\n",
       "      <td>-3219299.807</td>\n",
       "      <td>-9739194.0</td>\n",
       "    </tr>\n",
       "  </tbody>\n",
       "</table>\n",
       "<p>500 rows × 4 columns</p>\n",
       "</div>"
      ],
      "text/plain": [
       "     generation      best      average       worst\n",
       "0             0 -222606.0 -9929118.061 -10546732.0\n",
       "1             1 -184636.0 -9709979.027 -10436068.0\n",
       "2             2 -147540.0 -9426174.036 -10419410.0\n",
       "3             3 -157399.0 -9060452.455 -10466355.0\n",
       "4             4 -149594.0 -8915066.782 -10507443.0\n",
       "..          ...       ...          ...         ...\n",
       "495         495  332047.0 -3320078.164  -9764185.0\n",
       "496         496  332047.0 -3029849.953  -9738900.0\n",
       "497         497  332047.0 -3288952.718  -9746401.0\n",
       "498         498  332047.0 -3730213.806  -9758546.0\n",
       "499         499  332047.0 -3219299.807  -9739194.0\n",
       "\n",
       "[500 rows x 4 columns]"
      ]
     },
     "execution_count": 24,
     "metadata": {},
     "output_type": "execute_result"
    }
   ],
   "source": [
    "history"
   ]
  }
 ],
 "metadata": {
  "kernelspec": {
   "display_name": "general",
   "language": "python",
   "name": "python3"
  },
  "language_info": {
   "codemirror_mode": {
    "name": "ipython",
    "version": 3
   },
   "file_extension": ".py",
   "mimetype": "text/x-python",
   "name": "python",
   "nbconvert_exporter": "python",
   "pygments_lexer": "ipython3",
   "version": "3.11.5"
  }
 },
 "nbformat": 4,
 "nbformat_minor": 2
}
