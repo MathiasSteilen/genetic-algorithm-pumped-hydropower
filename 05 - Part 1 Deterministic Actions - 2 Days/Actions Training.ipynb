{
 "cells": [
  {
   "cell_type": "markdown",
   "metadata": {},
   "source": [
    "# Pumped-Storage Optimisation with Genetic Algorithm and MILP"
   ]
  },
  {
   "cell_type": "code",
   "execution_count": 26,
   "metadata": {},
   "outputs": [
    {
     "name": "stdout",
     "output_type": "stream",
     "text": [
      "The blackcellmagic extension is already loaded. To reload it, use:\n",
      "  %reload_ext blackcellmagic\n"
     ]
    }
   ],
   "source": [
    "import pandas as pd\n",
    "import numpy as np\n",
    "import plotnine as pn\n",
    "import plotly.graph_objs as go\n",
    "import plotly.express as px\n",
    "from tqdm.notebook import tqdm\n",
    "from IPython.display import clear_output, display\n",
    "import os\n",
    "from itertools import product\n",
    "import datetime\n",
    "\n",
    "# Import own implementations\n",
    "from milp import MILP\n",
    "import genetic\n",
    "from genetic import GA_Actions_Elite, GA_Actions_Tournament\n",
    "from genetic_numpy import GA_discrete_actions, evaluate_fitness\n",
    "\n",
    "background_colour = \"#F2F2F2\"\n",
    "pn.theme_set(\n",
    "    pn.theme_classic()\n",
    "    + pn.theme(\n",
    "        text=pn.element_text(family=\"monospace\"),\n",
    "        plot_background=pn.element_rect(\n",
    "            fill=background_colour, colour=background_colour\n",
    "        ),\n",
    "        panel_background=pn.element_rect(\n",
    "            fill=background_colour, colour=background_colour\n",
    "        ),\n",
    "        legend_background=pn.element_rect(\n",
    "            fill=background_colour, colour=background_colour\n",
    "        ),\n",
    "    )\n",
    ")\n",
    "\n",
    "%load_ext blackcellmagic"
   ]
  },
  {
   "cell_type": "markdown",
   "metadata": {},
   "source": [
    "## Reading the Price data"
   ]
  },
  {
   "cell_type": "code",
   "execution_count": 27,
   "metadata": {},
   "outputs": [
    {
     "data": {
      "text/html": [
       "<div>\n",
       "<style scoped>\n",
       "    .dataframe tbody tr th:only-of-type {\n",
       "        vertical-align: middle;\n",
       "    }\n",
       "\n",
       "    .dataframe tbody tr th {\n",
       "        vertical-align: top;\n",
       "    }\n",
       "\n",
       "    .dataframe thead th {\n",
       "        text-align: right;\n",
       "    }\n",
       "</style>\n",
       "<table border=\"1\" class=\"dataframe\">\n",
       "  <thead>\n",
       "    <tr style=\"text-align: right;\">\n",
       "      <th></th>\n",
       "      <th>spot</th>\n",
       "      <th>utc_time</th>\n",
       "    </tr>\n",
       "  </thead>\n",
       "  <tbody>\n",
       "    <tr>\n",
       "      <th>0</th>\n",
       "      <td>101.54</td>\n",
       "      <td>2022-01-01 00:00:00+00:00</td>\n",
       "    </tr>\n",
       "    <tr>\n",
       "      <th>1</th>\n",
       "      <td>52.13</td>\n",
       "      <td>2022-01-01 01:00:00+00:00</td>\n",
       "    </tr>\n",
       "  </tbody>\n",
       "</table>\n",
       "</div>"
      ],
      "text/plain": [
       "     spot                   utc_time\n",
       "0  101.54  2022-01-01 00:00:00+00:00\n",
       "1   52.13  2022-01-01 01:00:00+00:00"
      ]
     },
     "execution_count": 27,
     "metadata": {},
     "output_type": "execute_result"
    }
   ],
   "source": [
    "df = pd.read_csv(\"../01 - Data/example_week.csv\")\n",
    "df.head(2)"
   ]
  },
  {
   "cell_type": "code",
   "execution_count": 28,
   "metadata": {},
   "outputs": [
    {
     "name": "stdout",
     "output_type": "stream",
     "text": [
      "<class 'pandas.core.frame.DataFrame'>\n",
      "RangeIndex: 168 entries, 0 to 167\n",
      "Data columns (total 2 columns):\n",
      " #   Column    Non-Null Count  Dtype  \n",
      "---  ------    --------------  -----  \n",
      " 0   spot      168 non-null    float64\n",
      " 1   utc_time  168 non-null    object \n",
      "dtypes: float64(1), object(1)\n",
      "memory usage: 2.8+ KB\n"
     ]
    }
   ],
   "source": [
    "df.info()"
   ]
  },
  {
   "cell_type": "markdown",
   "metadata": {},
   "source": [
    "## The Power Plant"
   ]
  },
  {
   "cell_type": "code",
   "execution_count": 29,
   "metadata": {},
   "outputs": [],
   "source": [
    "plant_params = {\n",
    "    \"EFFICIENCY\": 0.75,\n",
    "    \"MAX_STORAGE_M3\": 5000,\n",
    "    \"MIN_STORAGE_M3\": 0,\n",
    "    \"TURBINE_POWER_MW\": 100,\n",
    "    \"PUMP_POWER_MW\": 100,\n",
    "    \"TURBINE_RATE_M3H\": 500,\n",
    "    \"MIN_STORAGE_MWH\": 0,\n",
    "    \"INITIAL_WATER_LEVEL_PCT\": 0,\n",
    "}\n",
    "plant_params[\"INITIAL_WATER_LEVEL\"] = (\n",
    "    plant_params[\"INITIAL_WATER_LEVEL_PCT\"] * plant_params[\"MAX_STORAGE_M3\"]\n",
    ")\n",
    "plant_params[\"PUMP_RATE_M3H\"] = (\n",
    "    plant_params[\"TURBINE_RATE_M3H\"] * plant_params[\"EFFICIENCY\"]\n",
    ")\n",
    "plant_params[\"MAX_STORAGE_MWH\"] = (\n",
    "    plant_params[\"MAX_STORAGE_M3\"] / plant_params[\"TURBINE_RATE_M3H\"]\n",
    ") * plant_params[\"TURBINE_POWER_MW\"]"
   ]
  },
  {
   "cell_type": "markdown",
   "metadata": {},
   "source": [
    "## MILP"
   ]
  },
  {
   "cell_type": "code",
   "execution_count": 30,
   "metadata": {},
   "outputs": [],
   "source": [
    "milp_solver = MILP(plant_params=plant_params, spot=df[\"spot\"], utc_time=df[\"utc_time\"])"
   ]
  },
  {
   "cell_type": "code",
   "execution_count": 31,
   "metadata": {},
   "outputs": [],
   "source": [
    "milp_model, milp_status, milp_profile = milp_solver.solve()"
   ]
  },
  {
   "cell_type": "code",
   "execution_count": 32,
   "metadata": {},
   "outputs": [
    {
     "data": {
      "text/plain": [
       "'Optimal'"
      ]
     },
     "execution_count": 32,
     "metadata": {},
     "output_type": "execute_result"
    }
   ],
   "source": [
    "milp_status"
   ]
  },
  {
   "cell_type": "code",
   "execution_count": 33,
   "metadata": {},
   "outputs": [
    {
     "data": {
      "text/plain": [
       "350291.0"
      ]
     },
     "execution_count": 33,
     "metadata": {},
     "output_type": "execute_result"
    }
   ],
   "source": [
    "milp_model.objective.value()"
   ]
  },
  {
   "cell_type": "code",
   "execution_count": 34,
   "metadata": {},
   "outputs": [
    {
     "data": {
      "text/html": [
       "<div>\n",
       "<style scoped>\n",
       "    .dataframe tbody tr th:only-of-type {\n",
       "        vertical-align: middle;\n",
       "    }\n",
       "\n",
       "    .dataframe tbody tr th {\n",
       "        vertical-align: top;\n",
       "    }\n",
       "\n",
       "    .dataframe thead th {\n",
       "        text-align: right;\n",
       "    }\n",
       "</style>\n",
       "<table border=\"1\" class=\"dataframe\">\n",
       "  <thead>\n",
       "    <tr style=\"text-align: right;\">\n",
       "      <th></th>\n",
       "      <th>water_level</th>\n",
       "      <th>action</th>\n",
       "      <th>colour_id</th>\n",
       "      <th>utc_time</th>\n",
       "      <th>spot</th>\n",
       "    </tr>\n",
       "  </thead>\n",
       "  <tbody>\n",
       "    <tr>\n",
       "      <th>0</th>\n",
       "      <td>0.0</td>\n",
       "      <td>0</td>\n",
       "      <td>nothing</td>\n",
       "      <td>2022-01-01 00:00:00+00:00</td>\n",
       "      <td>101.54</td>\n",
       "    </tr>\n",
       "    <tr>\n",
       "      <th>1</th>\n",
       "      <td>375.0</td>\n",
       "      <td>-1</td>\n",
       "      <td>pump</td>\n",
       "      <td>2022-01-01 01:00:00+00:00</td>\n",
       "      <td>52.13</td>\n",
       "    </tr>\n",
       "    <tr>\n",
       "      <th>2</th>\n",
       "      <td>750.0</td>\n",
       "      <td>-1</td>\n",
       "      <td>pump</td>\n",
       "      <td>2022-01-01 02:00:00+00:00</td>\n",
       "      <td>20.78</td>\n",
       "    </tr>\n",
       "    <tr>\n",
       "      <th>3</th>\n",
       "      <td>1125.0</td>\n",
       "      <td>-1</td>\n",
       "      <td>pump</td>\n",
       "      <td>2022-01-01 03:00:00+00:00</td>\n",
       "      <td>15.66</td>\n",
       "    </tr>\n",
       "    <tr>\n",
       "      <th>4</th>\n",
       "      <td>1500.0</td>\n",
       "      <td>-1</td>\n",
       "      <td>pump</td>\n",
       "      <td>2022-01-01 04:00:00+00:00</td>\n",
       "      <td>21.47</td>\n",
       "    </tr>\n",
       "  </tbody>\n",
       "</table>\n",
       "</div>"
      ],
      "text/plain": [
       "   water_level  action colour_id                  utc_time    spot\n",
       "0          0.0       0   nothing 2022-01-01 00:00:00+00:00  101.54\n",
       "1        375.0      -1      pump 2022-01-01 01:00:00+00:00   52.13\n",
       "2        750.0      -1      pump 2022-01-01 02:00:00+00:00   20.78\n",
       "3       1125.0      -1      pump 2022-01-01 03:00:00+00:00   15.66\n",
       "4       1500.0      -1      pump 2022-01-01 04:00:00+00:00   21.47"
      ]
     },
     "execution_count": 34,
     "metadata": {},
     "output_type": "execute_result"
    }
   ],
   "source": [
    "milp_profile.head()"
   ]
  },
  {
   "cell_type": "markdown",
   "metadata": {},
   "source": [
    "## Training"
   ]
  },
  {
   "cell_type": "markdown",
   "metadata": {},
   "source": [
    "### Numpy Implementation"
   ]
  },
  {
   "cell_type": "code",
   "execution_count": 35,
   "metadata": {},
   "outputs": [
    {
     "data": {
      "application/vnd.jupyter.widget-view+json": {
       "model_id": "4f8e055f1eee49238d500bcc5468122a",
       "version_major": 2,
       "version_minor": 0
      },
      "text/plain": [
       "  0%|          | 0/500 [00:00<?, ?it/s]"
      ]
     },
     "metadata": {},
     "output_type": "display_data"
    }
   ],
   "source": [
    "best_config = {\n",
    "    \"POP_SIZE\": 500,\n",
    "    \"INITIAL_MUTATION_RATE\": 0.7,\n",
    "    \"FINAL_MUTATION_RATE\": 0.15,\n",
    "    \"INITIAL_EXPLORATION\": 0.85,\n",
    "    \"ELITISM\": 0.9,\n",
    "    \"SURVIVAL_RATE\": 0.4,\n",
    "}\n",
    "\n",
    "ga_solver = GA_discrete_actions(\n",
    "    plant_params=plant_params, spot=df[\"spot\"], utc_time=df[\"utc_time\"], actions_space= [-1, 0, 1]\n",
    ")\n",
    "\n",
    "population, fitnesses, history = ga_solver.train(\n",
    "    config=best_config,\n",
    "    total_generations=500,\n",
    "    tune_mode=False,\n",
    ")"
   ]
  },
  {
   "cell_type": "code",
   "execution_count": 36,
   "metadata": {},
   "outputs": [
    {
     "data": {
      "text/html": [
       "<div>\n",
       "<style scoped>\n",
       "    .dataframe tbody tr th:only-of-type {\n",
       "        vertical-align: middle;\n",
       "    }\n",
       "\n",
       "    .dataframe tbody tr th {\n",
       "        vertical-align: top;\n",
       "    }\n",
       "\n",
       "    .dataframe thead th {\n",
       "        text-align: right;\n",
       "    }\n",
       "</style>\n",
       "<table border=\"1\" class=\"dataframe\">\n",
       "  <thead>\n",
       "    <tr style=\"text-align: right;\">\n",
       "      <th></th>\n",
       "      <th>generation</th>\n",
       "      <th>best</th>\n",
       "      <th>average</th>\n",
       "      <th>worst</th>\n",
       "    </tr>\n",
       "  </thead>\n",
       "  <tbody>\n",
       "    <tr>\n",
       "      <th>0</th>\n",
       "      <td>0</td>\n",
       "      <td>-345811.0</td>\n",
       "      <td>-2016579.946</td>\n",
       "      <td>-4664286.0</td>\n",
       "    </tr>\n",
       "    <tr>\n",
       "      <th>1</th>\n",
       "      <td>1</td>\n",
       "      <td>0.0</td>\n",
       "      <td>-1484281.164</td>\n",
       "      <td>-3422686.0</td>\n",
       "    </tr>\n",
       "    <tr>\n",
       "      <th>2</th>\n",
       "      <td>2</td>\n",
       "      <td>0.0</td>\n",
       "      <td>-1182136.752</td>\n",
       "      <td>-2956508.0</td>\n",
       "    </tr>\n",
       "    <tr>\n",
       "      <th>3</th>\n",
       "      <td>3</td>\n",
       "      <td>-13776.0</td>\n",
       "      <td>-1010483.566</td>\n",
       "      <td>-2997929.0</td>\n",
       "    </tr>\n",
       "    <tr>\n",
       "      <th>4</th>\n",
       "      <td>4</td>\n",
       "      <td>0.0</td>\n",
       "      <td>-901023.528</td>\n",
       "      <td>-2329237.0</td>\n",
       "    </tr>\n",
       "    <tr>\n",
       "      <th>...</th>\n",
       "      <td>...</td>\n",
       "      <td>...</td>\n",
       "      <td>...</td>\n",
       "      <td>...</td>\n",
       "    </tr>\n",
       "    <tr>\n",
       "      <th>495</th>\n",
       "      <td>495</td>\n",
       "      <td>309622.0</td>\n",
       "      <td>296256.406</td>\n",
       "      <td>-141501.0</td>\n",
       "    </tr>\n",
       "    <tr>\n",
       "      <th>496</th>\n",
       "      <td>496</td>\n",
       "      <td>309622.0</td>\n",
       "      <td>294194.916</td>\n",
       "      <td>-141731.0</td>\n",
       "    </tr>\n",
       "    <tr>\n",
       "      <th>497</th>\n",
       "      <td>497</td>\n",
       "      <td>309622.0</td>\n",
       "      <td>299202.396</td>\n",
       "      <td>-142275.0</td>\n",
       "    </tr>\n",
       "    <tr>\n",
       "      <th>498</th>\n",
       "      <td>498</td>\n",
       "      <td>309622.0</td>\n",
       "      <td>297419.910</td>\n",
       "      <td>-142275.0</td>\n",
       "    </tr>\n",
       "    <tr>\n",
       "      <th>499</th>\n",
       "      <td>499</td>\n",
       "      <td>309622.0</td>\n",
       "      <td>291642.016</td>\n",
       "      <td>-142275.0</td>\n",
       "    </tr>\n",
       "  </tbody>\n",
       "</table>\n",
       "<p>500 rows × 4 columns</p>\n",
       "</div>"
      ],
      "text/plain": [
       "     generation      best      average      worst\n",
       "0             0 -345811.0 -2016579.946 -4664286.0\n",
       "1             1       0.0 -1484281.164 -3422686.0\n",
       "2             2       0.0 -1182136.752 -2956508.0\n",
       "3             3  -13776.0 -1010483.566 -2997929.0\n",
       "4             4       0.0  -901023.528 -2329237.0\n",
       "..          ...       ...          ...        ...\n",
       "495         495  309622.0   296256.406  -141501.0\n",
       "496         496  309622.0   294194.916  -141731.0\n",
       "497         497  309622.0   299202.396  -142275.0\n",
       "498         498  309622.0   297419.910  -142275.0\n",
       "499         499  309622.0   291642.016  -142275.0\n",
       "\n",
       "[500 rows x 4 columns]"
      ]
     },
     "execution_count": 36,
     "metadata": {},
     "output_type": "execute_result"
    }
   ],
   "source": [
    "history"
   ]
  },
  {
   "cell_type": "code",
   "execution_count": 37,
   "metadata": {},
   "outputs": [],
   "source": [
    "history.to_csv(f\"./Training Results/{datetime.datetime.now().strftime('%Y%m%d%H%M')}_training_history_elite_numpy.csv\", index=False)"
   ]
  },
  {
   "cell_type": "markdown",
   "metadata": {},
   "source": [
    "Best individual:"
   ]
  },
  {
   "cell_type": "code",
   "execution_count": 38,
   "metadata": {},
   "outputs": [],
   "source": [
    "best_individual_df = df.assign(action = population[fitnesses.argmax()])\n",
    "best_individual_df.to_csv(f\"./Training Results/{datetime.datetime.now().strftime('%Y%m%d%H%M')}_best_individual_elite_numpy.csv\", index=False)"
   ]
  },
  {
   "cell_type": "code",
   "execution_count": 39,
   "metadata": {},
   "outputs": [
    {
     "data": {
      "text/html": [
       "<div>\n",
       "<style scoped>\n",
       "    .dataframe tbody tr th:only-of-type {\n",
       "        vertical-align: middle;\n",
       "    }\n",
       "\n",
       "    .dataframe tbody tr th {\n",
       "        vertical-align: top;\n",
       "    }\n",
       "\n",
       "    .dataframe thead th {\n",
       "        text-align: right;\n",
       "    }\n",
       "</style>\n",
       "<table border=\"1\" class=\"dataframe\">\n",
       "  <thead>\n",
       "    <tr style=\"text-align: right;\">\n",
       "      <th></th>\n",
       "      <th>spot</th>\n",
       "      <th>utc_time</th>\n",
       "      <th>action</th>\n",
       "    </tr>\n",
       "  </thead>\n",
       "  <tbody>\n",
       "    <tr>\n",
       "      <th>0</th>\n",
       "      <td>101.54</td>\n",
       "      <td>2022-01-01 00:00:00+00:00</td>\n",
       "      <td>0.0</td>\n",
       "    </tr>\n",
       "    <tr>\n",
       "      <th>1</th>\n",
       "      <td>52.13</td>\n",
       "      <td>2022-01-01 01:00:00+00:00</td>\n",
       "      <td>1.0</td>\n",
       "    </tr>\n",
       "    <tr>\n",
       "      <th>2</th>\n",
       "      <td>20.78</td>\n",
       "      <td>2022-01-01 02:00:00+00:00</td>\n",
       "      <td>1.0</td>\n",
       "    </tr>\n",
       "    <tr>\n",
       "      <th>3</th>\n",
       "      <td>15.66</td>\n",
       "      <td>2022-01-01 03:00:00+00:00</td>\n",
       "      <td>1.0</td>\n",
       "    </tr>\n",
       "    <tr>\n",
       "      <th>4</th>\n",
       "      <td>21.47</td>\n",
       "      <td>2022-01-01 04:00:00+00:00</td>\n",
       "      <td>1.0</td>\n",
       "    </tr>\n",
       "    <tr>\n",
       "      <th>...</th>\n",
       "      <td>...</td>\n",
       "      <td>...</td>\n",
       "      <td>...</td>\n",
       "    </tr>\n",
       "    <tr>\n",
       "      <th>163</th>\n",
       "      <td>239.02</td>\n",
       "      <td>2022-01-07 19:00:00+00:00</td>\n",
       "      <td>0.0</td>\n",
       "    </tr>\n",
       "    <tr>\n",
       "      <th>164</th>\n",
       "      <td>223.79</td>\n",
       "      <td>2022-01-07 20:00:00+00:00</td>\n",
       "      <td>0.0</td>\n",
       "    </tr>\n",
       "    <tr>\n",
       "      <th>165</th>\n",
       "      <td>213.85</td>\n",
       "      <td>2022-01-07 21:00:00+00:00</td>\n",
       "      <td>0.0</td>\n",
       "    </tr>\n",
       "    <tr>\n",
       "      <th>166</th>\n",
       "      <td>211.64</td>\n",
       "      <td>2022-01-07 22:00:00+00:00</td>\n",
       "      <td>0.0</td>\n",
       "    </tr>\n",
       "    <tr>\n",
       "      <th>167</th>\n",
       "      <td>215.25</td>\n",
       "      <td>2022-01-07 23:00:00+00:00</td>\n",
       "      <td>0.0</td>\n",
       "    </tr>\n",
       "  </tbody>\n",
       "</table>\n",
       "<p>168 rows × 3 columns</p>\n",
       "</div>"
      ],
      "text/plain": [
       "       spot                   utc_time  action\n",
       "0    101.54  2022-01-01 00:00:00+00:00     0.0\n",
       "1     52.13  2022-01-01 01:00:00+00:00     1.0\n",
       "2     20.78  2022-01-01 02:00:00+00:00     1.0\n",
       "3     15.66  2022-01-01 03:00:00+00:00     1.0\n",
       "4     21.47  2022-01-01 04:00:00+00:00     1.0\n",
       "..      ...                        ...     ...\n",
       "163  239.02  2022-01-07 19:00:00+00:00     0.0\n",
       "164  223.79  2022-01-07 20:00:00+00:00     0.0\n",
       "165  213.85  2022-01-07 21:00:00+00:00     0.0\n",
       "166  211.64  2022-01-07 22:00:00+00:00     0.0\n",
       "167  215.25  2022-01-07 23:00:00+00:00     0.0\n",
       "\n",
       "[168 rows x 3 columns]"
      ]
     },
     "execution_count": 39,
     "metadata": {},
     "output_type": "execute_result"
    }
   ],
   "source": [
    "best_individual_df"
   ]
  },
  {
   "cell_type": "markdown",
   "metadata": {},
   "source": [
    "### Elite Selection"
   ]
  },
  {
   "cell_type": "code",
   "execution_count": 40,
   "metadata": {},
   "outputs": [],
   "source": [
    "best_config = {\n",
    "    \"MUTPB\": 1,\n",
    "    \"POP_SIZE\": 200,\n",
    "    \"INITIAL_MUTATION_RATE\": 0.05,\n",
    "    \"FINAL_MUTATION_RATE\": 0.01,\n",
    "    \"INITIAL_EXPLORATION\": 0.66,\n",
    "    \"ELITISM\": 0.1,\n",
    "}"
   ]
  },
  {
   "cell_type": "code",
   "execution_count": 41,
   "metadata": {},
   "outputs": [
    {
     "name": "stderr",
     "output_type": "stream",
     "text": [
      "c:\\Users\\mathi\\miniconda3\\envs\\general\\Lib\\site-packages\\deap\\creator.py:185: RuntimeWarning: A class named 'FitnessMax' has already been created and it will be overwritten. Consider deleting previous creation of that class or rename it.\n",
      "c:\\Users\\mathi\\miniconda3\\envs\\general\\Lib\\site-packages\\deap\\creator.py:185: RuntimeWarning: A class named 'Individual' has already been created and it will be overwritten. Consider deleting previous creation of that class or rename it.\n"
     ]
    },
    {
     "data": {
      "application/vnd.jupyter.widget-view+json": {
       "model_id": "8c3832c3b7244434b4953e5bfabdbcc8",
       "version_major": 2,
       "version_minor": 0
      },
      "text/plain": [
       "  0%|          | 0/500 [00:00<?, ?it/s]"
      ]
     },
     "metadata": {},
     "output_type": "display_data"
    }
   ],
   "source": [
    "ga_solver = GA_Actions_Elite(\n",
    "    plant_params=plant_params, spot=df[\"spot\"], utc_time=df[\"utc_time\"]\n",
    ")\n",
    "\n",
    "population, fitnesses, best_ind, history = ga_solver.train(\n",
    "    config=best_config,\n",
    "    total_generations=500,\n",
    "    tune_mode=False,\n",
    ")"
   ]
  },
  {
   "cell_type": "code",
   "execution_count": 42,
   "metadata": {},
   "outputs": [
    {
     "data": {
      "text/html": [
       "<div>\n",
       "<style scoped>\n",
       "    .dataframe tbody tr th:only-of-type {\n",
       "        vertical-align: middle;\n",
       "    }\n",
       "\n",
       "    .dataframe tbody tr th {\n",
       "        vertical-align: top;\n",
       "    }\n",
       "\n",
       "    .dataframe thead th {\n",
       "        text-align: right;\n",
       "    }\n",
       "</style>\n",
       "<table border=\"1\" class=\"dataframe\">\n",
       "  <thead>\n",
       "    <tr style=\"text-align: right;\">\n",
       "      <th></th>\n",
       "      <th>generation</th>\n",
       "      <th>best</th>\n",
       "      <th>average</th>\n",
       "      <th>worst</th>\n",
       "    </tr>\n",
       "  </thead>\n",
       "  <tbody>\n",
       "    <tr>\n",
       "      <th>0</th>\n",
       "      <td>0</td>\n",
       "      <td>-187626.0</td>\n",
       "      <td>-1619343.915</td>\n",
       "      <td>-4437270.0</td>\n",
       "    </tr>\n",
       "    <tr>\n",
       "      <th>1</th>\n",
       "      <td>1</td>\n",
       "      <td>-100165.0</td>\n",
       "      <td>-876590.090</td>\n",
       "      <td>-2725694.0</td>\n",
       "    </tr>\n",
       "    <tr>\n",
       "      <th>2</th>\n",
       "      <td>2</td>\n",
       "      <td>-111323.0</td>\n",
       "      <td>-704760.850</td>\n",
       "      <td>-2044265.0</td>\n",
       "    </tr>\n",
       "    <tr>\n",
       "      <th>3</th>\n",
       "      <td>3</td>\n",
       "      <td>-119431.0</td>\n",
       "      <td>-606759.765</td>\n",
       "      <td>-1900917.0</td>\n",
       "    </tr>\n",
       "    <tr>\n",
       "      <th>4</th>\n",
       "      <td>4</td>\n",
       "      <td>-122540.0</td>\n",
       "      <td>-592313.495</td>\n",
       "      <td>-1757064.0</td>\n",
       "    </tr>\n",
       "    <tr>\n",
       "      <th>...</th>\n",
       "      <td>...</td>\n",
       "      <td>...</td>\n",
       "      <td>...</td>\n",
       "      <td>...</td>\n",
       "    </tr>\n",
       "    <tr>\n",
       "      <th>495</th>\n",
       "      <td>495</td>\n",
       "      <td>312026.0</td>\n",
       "      <td>156041.680</td>\n",
       "      <td>-332074.0</td>\n",
       "    </tr>\n",
       "    <tr>\n",
       "      <th>496</th>\n",
       "      <td>496</td>\n",
       "      <td>312026.0</td>\n",
       "      <td>173208.775</td>\n",
       "      <td>-247729.0</td>\n",
       "    </tr>\n",
       "    <tr>\n",
       "      <th>497</th>\n",
       "      <td>497</td>\n",
       "      <td>312026.0</td>\n",
       "      <td>173580.140</td>\n",
       "      <td>-328107.0</td>\n",
       "    </tr>\n",
       "    <tr>\n",
       "      <th>498</th>\n",
       "      <td>498</td>\n",
       "      <td>312026.0</td>\n",
       "      <td>164646.280</td>\n",
       "      <td>-428034.0</td>\n",
       "    </tr>\n",
       "    <tr>\n",
       "      <th>499</th>\n",
       "      <td>499</td>\n",
       "      <td>312026.0</td>\n",
       "      <td>176034.570</td>\n",
       "      <td>-336534.0</td>\n",
       "    </tr>\n",
       "  </tbody>\n",
       "</table>\n",
       "<p>500 rows × 4 columns</p>\n",
       "</div>"
      ],
      "text/plain": [
       "     generation      best      average      worst\n",
       "0             0 -187626.0 -1619343.915 -4437270.0\n",
       "1             1 -100165.0  -876590.090 -2725694.0\n",
       "2             2 -111323.0  -704760.850 -2044265.0\n",
       "3             3 -119431.0  -606759.765 -1900917.0\n",
       "4             4 -122540.0  -592313.495 -1757064.0\n",
       "..          ...       ...          ...        ...\n",
       "495         495  312026.0   156041.680  -332074.0\n",
       "496         496  312026.0   173208.775  -247729.0\n",
       "497         497  312026.0   173580.140  -328107.0\n",
       "498         498  312026.0   164646.280  -428034.0\n",
       "499         499  312026.0   176034.570  -336534.0\n",
       "\n",
       "[500 rows x 4 columns]"
      ]
     },
     "execution_count": 42,
     "metadata": {},
     "output_type": "execute_result"
    }
   ],
   "source": [
    "history"
   ]
  },
  {
   "cell_type": "code",
   "execution_count": 43,
   "metadata": {},
   "outputs": [],
   "source": [
    "history.to_csv(f\"./Training Results/{datetime.datetime.now().strftime('%Y%m%d%H%M')}_training_history_elite.csv\", index=False)"
   ]
  },
  {
   "cell_type": "markdown",
   "metadata": {},
   "source": [
    "Best individual:"
   ]
  },
  {
   "cell_type": "code",
   "execution_count": 44,
   "metadata": {},
   "outputs": [],
   "source": [
    "best_individual_df = df.assign(action = population[np.array(fitnesses).argmax()])\n",
    "best_individual_df.to_csv(f\"./Training Results/{datetime.datetime.now().strftime('%Y%m%d%H%M')}_best_individual_elite.csv\", index=False)"
   ]
  },
  {
   "cell_type": "code",
   "execution_count": 45,
   "metadata": {},
   "outputs": [
    {
     "data": {
      "text/html": [
       "<div>\n",
       "<style scoped>\n",
       "    .dataframe tbody tr th:only-of-type {\n",
       "        vertical-align: middle;\n",
       "    }\n",
       "\n",
       "    .dataframe tbody tr th {\n",
       "        vertical-align: top;\n",
       "    }\n",
       "\n",
       "    .dataframe thead th {\n",
       "        text-align: right;\n",
       "    }\n",
       "</style>\n",
       "<table border=\"1\" class=\"dataframe\">\n",
       "  <thead>\n",
       "    <tr style=\"text-align: right;\">\n",
       "      <th></th>\n",
       "      <th>spot</th>\n",
       "      <th>utc_time</th>\n",
       "      <th>action</th>\n",
       "    </tr>\n",
       "  </thead>\n",
       "  <tbody>\n",
       "    <tr>\n",
       "      <th>0</th>\n",
       "      <td>101.54</td>\n",
       "      <td>2022-01-01 00:00:00+00:00</td>\n",
       "      <td>0</td>\n",
       "    </tr>\n",
       "    <tr>\n",
       "      <th>1</th>\n",
       "      <td>52.13</td>\n",
       "      <td>2022-01-01 01:00:00+00:00</td>\n",
       "      <td>-1</td>\n",
       "    </tr>\n",
       "    <tr>\n",
       "      <th>2</th>\n",
       "      <td>20.78</td>\n",
       "      <td>2022-01-01 02:00:00+00:00</td>\n",
       "      <td>-1</td>\n",
       "    </tr>\n",
       "    <tr>\n",
       "      <th>3</th>\n",
       "      <td>15.66</td>\n",
       "      <td>2022-01-01 03:00:00+00:00</td>\n",
       "      <td>-1</td>\n",
       "    </tr>\n",
       "    <tr>\n",
       "      <th>4</th>\n",
       "      <td>21.47</td>\n",
       "      <td>2022-01-01 04:00:00+00:00</td>\n",
       "      <td>-1</td>\n",
       "    </tr>\n",
       "    <tr>\n",
       "      <th>...</th>\n",
       "      <td>...</td>\n",
       "      <td>...</td>\n",
       "      <td>...</td>\n",
       "    </tr>\n",
       "    <tr>\n",
       "      <th>163</th>\n",
       "      <td>239.02</td>\n",
       "      <td>2022-01-07 19:00:00+00:00</td>\n",
       "      <td>0</td>\n",
       "    </tr>\n",
       "    <tr>\n",
       "      <th>164</th>\n",
       "      <td>223.79</td>\n",
       "      <td>2022-01-07 20:00:00+00:00</td>\n",
       "      <td>0</td>\n",
       "    </tr>\n",
       "    <tr>\n",
       "      <th>165</th>\n",
       "      <td>213.85</td>\n",
       "      <td>2022-01-07 21:00:00+00:00</td>\n",
       "      <td>0</td>\n",
       "    </tr>\n",
       "    <tr>\n",
       "      <th>166</th>\n",
       "      <td>211.64</td>\n",
       "      <td>2022-01-07 22:00:00+00:00</td>\n",
       "      <td>0</td>\n",
       "    </tr>\n",
       "    <tr>\n",
       "      <th>167</th>\n",
       "      <td>215.25</td>\n",
       "      <td>2022-01-07 23:00:00+00:00</td>\n",
       "      <td>0</td>\n",
       "    </tr>\n",
       "  </tbody>\n",
       "</table>\n",
       "<p>168 rows × 3 columns</p>\n",
       "</div>"
      ],
      "text/plain": [
       "       spot                   utc_time  action\n",
       "0    101.54  2022-01-01 00:00:00+00:00       0\n",
       "1     52.13  2022-01-01 01:00:00+00:00      -1\n",
       "2     20.78  2022-01-01 02:00:00+00:00      -1\n",
       "3     15.66  2022-01-01 03:00:00+00:00      -1\n",
       "4     21.47  2022-01-01 04:00:00+00:00      -1\n",
       "..      ...                        ...     ...\n",
       "163  239.02  2022-01-07 19:00:00+00:00       0\n",
       "164  223.79  2022-01-07 20:00:00+00:00       0\n",
       "165  213.85  2022-01-07 21:00:00+00:00       0\n",
       "166  211.64  2022-01-07 22:00:00+00:00       0\n",
       "167  215.25  2022-01-07 23:00:00+00:00       0\n",
       "\n",
       "[168 rows x 3 columns]"
      ]
     },
     "execution_count": 45,
     "metadata": {},
     "output_type": "execute_result"
    }
   ],
   "source": [
    "best_individual_df"
   ]
  },
  {
   "cell_type": "markdown",
   "metadata": {},
   "source": [
    "### Tournament Selection\n",
    "\n",
    "Take the results from tuning"
   ]
  },
  {
   "cell_type": "code",
   "execution_count": 46,
   "metadata": {},
   "outputs": [
    {
     "name": "stderr",
     "output_type": "stream",
     "text": [
      "c:\\Users\\mathi\\miniconda3\\envs\\general\\Lib\\site-packages\\deap\\creator.py:185: RuntimeWarning: A class named 'FitnessMax' has already been created and it will be overwritten. Consider deleting previous creation of that class or rename it.\n",
      "c:\\Users\\mathi\\miniconda3\\envs\\general\\Lib\\site-packages\\deap\\creator.py:185: RuntimeWarning: A class named 'Individual' has already been created and it will be overwritten. Consider deleting previous creation of that class or rename it.\n"
     ]
    },
    {
     "data": {
      "application/vnd.jupyter.widget-view+json": {
       "model_id": "8bb2b79b84e34fabbfd8329a4af46932",
       "version_major": 2,
       "version_minor": 0
      },
      "text/plain": [
       "  0%|          | 0/500 [00:00<?, ?it/s]"
      ]
     },
     "metadata": {},
     "output_type": "display_data"
    }
   ],
   "source": [
    "ga_solver = GA_Actions_Tournament(\n",
    "    plant_params=plant_params, spot=df[\"spot\"], utc_time=df[\"utc_time\"]\n",
    ")\n",
    "\n",
    "population, fitnesses, best_ind, history = ga_solver.train(\n",
    "    config={\n",
    "        \"MUTPB\": 1.0,\n",
    "        \"POP_SIZE\": 200,\n",
    "        \"CXPB\": 0.65,\n",
    "        \"INITIAL_MUTATION_RATE\": 0.05,\n",
    "        \"FINAL_MUTATION_RATE\": 0.01,\n",
    "        \"INITIAL_EXPLORATION\": 0.66,\n",
    "        \"TOURNAMENT_SIZE\": 23,\n",
    "    },\n",
    "    total_generations=500,\n",
    "    tune_mode=False,\n",
    ")"
   ]
  },
  {
   "cell_type": "code",
   "execution_count": 47,
   "metadata": {},
   "outputs": [
    {
     "data": {
      "text/html": [
       "<div>\n",
       "<style scoped>\n",
       "    .dataframe tbody tr th:only-of-type {\n",
       "        vertical-align: middle;\n",
       "    }\n",
       "\n",
       "    .dataframe tbody tr th {\n",
       "        vertical-align: top;\n",
       "    }\n",
       "\n",
       "    .dataframe thead th {\n",
       "        text-align: right;\n",
       "    }\n",
       "</style>\n",
       "<table border=\"1\" class=\"dataframe\">\n",
       "  <thead>\n",
       "    <tr style=\"text-align: right;\">\n",
       "      <th></th>\n",
       "      <th>generation</th>\n",
       "      <th>best</th>\n",
       "      <th>average</th>\n",
       "      <th>worst</th>\n",
       "    </tr>\n",
       "  </thead>\n",
       "  <tbody>\n",
       "    <tr>\n",
       "      <th>0</th>\n",
       "      <td>0</td>\n",
       "      <td>-398543.0</td>\n",
       "      <td>-2074562.130</td>\n",
       "      <td>-4282401.0</td>\n",
       "    </tr>\n",
       "    <tr>\n",
       "      <th>1</th>\n",
       "      <td>1</td>\n",
       "      <td>-184117.0</td>\n",
       "      <td>-876430.295</td>\n",
       "      <td>-2016067.0</td>\n",
       "    </tr>\n",
       "    <tr>\n",
       "      <th>2</th>\n",
       "      <td>2</td>\n",
       "      <td>-165311.0</td>\n",
       "      <td>-544859.505</td>\n",
       "      <td>-1309331.0</td>\n",
       "    </tr>\n",
       "    <tr>\n",
       "      <th>3</th>\n",
       "      <td>3</td>\n",
       "      <td>-109810.0</td>\n",
       "      <td>-402093.465</td>\n",
       "      <td>-1346677.0</td>\n",
       "    </tr>\n",
       "    <tr>\n",
       "      <th>4</th>\n",
       "      <td>4</td>\n",
       "      <td>-80847.0</td>\n",
       "      <td>-371081.315</td>\n",
       "      <td>-970575.0</td>\n",
       "    </tr>\n",
       "    <tr>\n",
       "      <th>...</th>\n",
       "      <td>...</td>\n",
       "      <td>...</td>\n",
       "      <td>...</td>\n",
       "      <td>...</td>\n",
       "    </tr>\n",
       "    <tr>\n",
       "      <th>495</th>\n",
       "      <td>495</td>\n",
       "      <td>319679.0</td>\n",
       "      <td>214725.400</td>\n",
       "      <td>-234963.0</td>\n",
       "    </tr>\n",
       "    <tr>\n",
       "      <th>496</th>\n",
       "      <td>496</td>\n",
       "      <td>319679.0</td>\n",
       "      <td>200512.130</td>\n",
       "      <td>-428733.0</td>\n",
       "    </tr>\n",
       "    <tr>\n",
       "      <th>497</th>\n",
       "      <td>497</td>\n",
       "      <td>319679.0</td>\n",
       "      <td>196947.540</td>\n",
       "      <td>-442634.0</td>\n",
       "    </tr>\n",
       "    <tr>\n",
       "      <th>498</th>\n",
       "      <td>498</td>\n",
       "      <td>319679.0</td>\n",
       "      <td>189284.515</td>\n",
       "      <td>-438425.0</td>\n",
       "    </tr>\n",
       "    <tr>\n",
       "      <th>499</th>\n",
       "      <td>499</td>\n",
       "      <td>320124.0</td>\n",
       "      <td>214301.545</td>\n",
       "      <td>-343694.0</td>\n",
       "    </tr>\n",
       "  </tbody>\n",
       "</table>\n",
       "<p>500 rows × 4 columns</p>\n",
       "</div>"
      ],
      "text/plain": [
       "     generation      best      average      worst\n",
       "0             0 -398543.0 -2074562.130 -4282401.0\n",
       "1             1 -184117.0  -876430.295 -2016067.0\n",
       "2             2 -165311.0  -544859.505 -1309331.0\n",
       "3             3 -109810.0  -402093.465 -1346677.0\n",
       "4             4  -80847.0  -371081.315  -970575.0\n",
       "..          ...       ...          ...        ...\n",
       "495         495  319679.0   214725.400  -234963.0\n",
       "496         496  319679.0   200512.130  -428733.0\n",
       "497         497  319679.0   196947.540  -442634.0\n",
       "498         498  319679.0   189284.515  -438425.0\n",
       "499         499  320124.0   214301.545  -343694.0\n",
       "\n",
       "[500 rows x 4 columns]"
      ]
     },
     "execution_count": 47,
     "metadata": {},
     "output_type": "execute_result"
    }
   ],
   "source": [
    "history"
   ]
  },
  {
   "cell_type": "code",
   "execution_count": 48,
   "metadata": {},
   "outputs": [],
   "source": [
    "history.to_csv(f\"./Training Results/{datetime.datetime.now().strftime('%Y%m%d%H%M')}_training_history_tournament.csv\", index=False)"
   ]
  },
  {
   "cell_type": "markdown",
   "metadata": {},
   "source": [
    "Best individual:"
   ]
  },
  {
   "cell_type": "code",
   "execution_count": 49,
   "metadata": {},
   "outputs": [],
   "source": [
    "best_individual_df = df.assign(action = population[np.array(fitnesses).argmax()])\n",
    "best_individual_df.to_csv(f\"./Training Results/{datetime.datetime.now().strftime('%Y%m%d%H%M')}_best_individual_tournament.csv\", index=False)"
   ]
  },
  {
   "cell_type": "code",
   "execution_count": 50,
   "metadata": {},
   "outputs": [
    {
     "data": {
      "text/html": [
       "<div>\n",
       "<style scoped>\n",
       "    .dataframe tbody tr th:only-of-type {\n",
       "        vertical-align: middle;\n",
       "    }\n",
       "\n",
       "    .dataframe tbody tr th {\n",
       "        vertical-align: top;\n",
       "    }\n",
       "\n",
       "    .dataframe thead th {\n",
       "        text-align: right;\n",
       "    }\n",
       "</style>\n",
       "<table border=\"1\" class=\"dataframe\">\n",
       "  <thead>\n",
       "    <tr style=\"text-align: right;\">\n",
       "      <th></th>\n",
       "      <th>spot</th>\n",
       "      <th>utc_time</th>\n",
       "      <th>action</th>\n",
       "    </tr>\n",
       "  </thead>\n",
       "  <tbody>\n",
       "    <tr>\n",
       "      <th>0</th>\n",
       "      <td>101.54</td>\n",
       "      <td>2022-01-01 00:00:00+00:00</td>\n",
       "      <td>0</td>\n",
       "    </tr>\n",
       "    <tr>\n",
       "      <th>1</th>\n",
       "      <td>52.13</td>\n",
       "      <td>2022-01-01 01:00:00+00:00</td>\n",
       "      <td>-1</td>\n",
       "    </tr>\n",
       "    <tr>\n",
       "      <th>2</th>\n",
       "      <td>20.78</td>\n",
       "      <td>2022-01-01 02:00:00+00:00</td>\n",
       "      <td>-1</td>\n",
       "    </tr>\n",
       "    <tr>\n",
       "      <th>3</th>\n",
       "      <td>15.66</td>\n",
       "      <td>2022-01-01 03:00:00+00:00</td>\n",
       "      <td>-1</td>\n",
       "    </tr>\n",
       "    <tr>\n",
       "      <th>4</th>\n",
       "      <td>21.47</td>\n",
       "      <td>2022-01-01 04:00:00+00:00</td>\n",
       "      <td>-1</td>\n",
       "    </tr>\n",
       "    <tr>\n",
       "      <th>...</th>\n",
       "      <td>...</td>\n",
       "      <td>...</td>\n",
       "      <td>...</td>\n",
       "    </tr>\n",
       "    <tr>\n",
       "      <th>163</th>\n",
       "      <td>239.02</td>\n",
       "      <td>2022-01-07 19:00:00+00:00</td>\n",
       "      <td>0</td>\n",
       "    </tr>\n",
       "    <tr>\n",
       "      <th>164</th>\n",
       "      <td>223.79</td>\n",
       "      <td>2022-01-07 20:00:00+00:00</td>\n",
       "      <td>0</td>\n",
       "    </tr>\n",
       "    <tr>\n",
       "      <th>165</th>\n",
       "      <td>213.85</td>\n",
       "      <td>2022-01-07 21:00:00+00:00</td>\n",
       "      <td>0</td>\n",
       "    </tr>\n",
       "    <tr>\n",
       "      <th>166</th>\n",
       "      <td>211.64</td>\n",
       "      <td>2022-01-07 22:00:00+00:00</td>\n",
       "      <td>0</td>\n",
       "    </tr>\n",
       "    <tr>\n",
       "      <th>167</th>\n",
       "      <td>215.25</td>\n",
       "      <td>2022-01-07 23:00:00+00:00</td>\n",
       "      <td>0</td>\n",
       "    </tr>\n",
       "  </tbody>\n",
       "</table>\n",
       "<p>168 rows × 3 columns</p>\n",
       "</div>"
      ],
      "text/plain": [
       "       spot                   utc_time  action\n",
       "0    101.54  2022-01-01 00:00:00+00:00       0\n",
       "1     52.13  2022-01-01 01:00:00+00:00      -1\n",
       "2     20.78  2022-01-01 02:00:00+00:00      -1\n",
       "3     15.66  2022-01-01 03:00:00+00:00      -1\n",
       "4     21.47  2022-01-01 04:00:00+00:00      -1\n",
       "..      ...                        ...     ...\n",
       "163  239.02  2022-01-07 19:00:00+00:00       0\n",
       "164  223.79  2022-01-07 20:00:00+00:00       0\n",
       "165  213.85  2022-01-07 21:00:00+00:00       0\n",
       "166  211.64  2022-01-07 22:00:00+00:00       0\n",
       "167  215.25  2022-01-07 23:00:00+00:00       0\n",
       "\n",
       "[168 rows x 3 columns]"
      ]
     },
     "execution_count": 50,
     "metadata": {},
     "output_type": "execute_result"
    }
   ],
   "source": [
    "best_individual_df"
   ]
  }
 ],
 "metadata": {
  "kernelspec": {
   "display_name": "general",
   "language": "python",
   "name": "python3"
  },
  "language_info": {
   "codemirror_mode": {
    "name": "ipython",
    "version": 3
   },
   "file_extension": ".py",
   "mimetype": "text/x-python",
   "name": "python",
   "nbconvert_exporter": "python",
   "pygments_lexer": "ipython3",
   "version": "3.11.5"
  }
 },
 "nbformat": 4,
 "nbformat_minor": 2
}
