{
 "cells": [
  {
   "cell_type": "code",
   "execution_count": 1,
   "metadata": {},
   "outputs": [],
   "source": [
    "import numpy as np\n",
    "import pandas as pd\n",
    "\n",
    "from Actions import GA_discrete_actions, evaluate_fitness"
   ]
  },
  {
   "cell_type": "markdown",
   "metadata": {},
   "source": [
    "### Loading the Price Data"
   ]
  },
  {
   "cell_type": "code",
   "execution_count": 2,
   "metadata": {},
   "outputs": [
    {
     "data": {
      "text/html": [
       "<div>\n",
       "<style scoped>\n",
       "    .dataframe tbody tr th:only-of-type {\n",
       "        vertical-align: middle;\n",
       "    }\n",
       "\n",
       "    .dataframe tbody tr th {\n",
       "        vertical-align: top;\n",
       "    }\n",
       "\n",
       "    .dataframe thead th {\n",
       "        text-align: right;\n",
       "    }\n",
       "</style>\n",
       "<table border=\"1\" class=\"dataframe\">\n",
       "  <thead>\n",
       "    <tr style=\"text-align: right;\">\n",
       "      <th></th>\n",
       "      <th>spot</th>\n",
       "      <th>utc_time</th>\n",
       "    </tr>\n",
       "  </thead>\n",
       "  <tbody>\n",
       "    <tr>\n",
       "      <th>0</th>\n",
       "      <td>101.54</td>\n",
       "      <td>2022-01-01 00:00:00+00:00</td>\n",
       "    </tr>\n",
       "    <tr>\n",
       "      <th>1</th>\n",
       "      <td>52.13</td>\n",
       "      <td>2022-01-01 01:00:00+00:00</td>\n",
       "    </tr>\n",
       "    <tr>\n",
       "      <th>2</th>\n",
       "      <td>20.78</td>\n",
       "      <td>2022-01-01 02:00:00+00:00</td>\n",
       "    </tr>\n",
       "    <tr>\n",
       "      <th>3</th>\n",
       "      <td>15.66</td>\n",
       "      <td>2022-01-01 03:00:00+00:00</td>\n",
       "    </tr>\n",
       "    <tr>\n",
       "      <th>4</th>\n",
       "      <td>21.47</td>\n",
       "      <td>2022-01-01 04:00:00+00:00</td>\n",
       "    </tr>\n",
       "  </tbody>\n",
       "</table>\n",
       "</div>"
      ],
      "text/plain": [
       "     spot                   utc_time\n",
       "0  101.54  2022-01-01 00:00:00+00:00\n",
       "1   52.13  2022-01-01 01:00:00+00:00\n",
       "2   20.78  2022-01-01 02:00:00+00:00\n",
       "3   15.66  2022-01-01 03:00:00+00:00\n",
       "4   21.47  2022-01-01 04:00:00+00:00"
      ]
     },
     "execution_count": 2,
     "metadata": {},
     "output_type": "execute_result"
    }
   ],
   "source": [
    "df = pd.read_csv(\"../01 - Data/example_week.csv\")\n",
    "df.head()"
   ]
  },
  {
   "cell_type": "markdown",
   "metadata": {},
   "source": [
    "### The Power Plant"
   ]
  },
  {
   "cell_type": "code",
   "execution_count": 3,
   "metadata": {},
   "outputs": [],
   "source": [
    "plant_params = {\n",
    "    \"EFFICIENCY\": 0.75,\n",
    "    \"MAX_STORAGE_M3\": 5000,\n",
    "    \"MIN_STORAGE_M3\": 0,\n",
    "    \"TURBINE_POWER_MW\": 100,\n",
    "    \"PUMP_POWER_MW\": 100,\n",
    "    \"TURBINE_RATE_M3H\": 500,\n",
    "    \"MIN_STORAGE_MWH\": 0,\n",
    "    \"INITIAL_WATER_LEVEL_PCT\": 0,\n",
    "}\n",
    "plant_params[\"INITIAL_WATER_LEVEL\"] = (\n",
    "    plant_params[\"INITIAL_WATER_LEVEL_PCT\"] * plant_params[\"MAX_STORAGE_M3\"]\n",
    ")\n",
    "plant_params[\"PUMP_RATE_M3H\"] = (\n",
    "    plant_params[\"TURBINE_RATE_M3H\"] * plant_params[\"EFFICIENCY\"]\n",
    ")\n",
    "plant_params[\"MAX_STORAGE_MWH\"] = (\n",
    "    plant_params[\"MAX_STORAGE_M3\"] / plant_params[\"TURBINE_RATE_M3H\"]\n",
    ") * plant_params[\"TURBINE_POWER_MW\"]"
   ]
  },
  {
   "cell_type": "markdown",
   "metadata": {},
   "source": [
    "### Implementing the same structure as DEAP in numpy\n",
    "\n",
    "Because it's horrendously slow. Probably user error but I can't figure out how to make it work, so gotta pay with ground work."
   ]
  },
  {
   "cell_type": "code",
   "execution_count": null,
   "metadata": {},
   "outputs": [],
   "source": []
  },
  {
   "cell_type": "code",
   "execution_count": 3,
   "metadata": {},
   "outputs": [
    {
     "ename": "NameError",
     "evalue": "name 'evaluate_fitness' is not defined",
     "output_type": "error",
     "traceback": [
      "\u001b[1;31m---------------------------------------------------------------------------\u001b[0m",
      "\u001b[1;31mNameError\u001b[0m                                 Traceback (most recent call last)",
      "Cell \u001b[1;32mIn[3], line 1\u001b[0m\n\u001b[1;32m----> 1\u001b[0m \u001b[43mevaluate_fitness\u001b[49m([\u001b[38;5;241m-\u001b[39m\u001b[38;5;241m1\u001b[39m], plant_params, df)\n",
      "\u001b[1;31mNameError\u001b[0m: name 'evaluate_fitness' is not defined"
     ]
    }
   ],
   "source": [
    "evaluate_fitness([-1], plant_params, df)"
   ]
  }
 ],
 "metadata": {
  "kernelspec": {
   "display_name": "general",
   "language": "python",
   "name": "python3"
  },
  "language_info": {
   "codemirror_mode": {
    "name": "ipython",
    "version": 3
   },
   "file_extension": ".py",
   "mimetype": "text/x-python",
   "name": "python",
   "nbconvert_exporter": "python",
   "pygments_lexer": "ipython3",
   "version": "3.11.5"
  }
 },
 "nbformat": 4,
 "nbformat_minor": 2
}
