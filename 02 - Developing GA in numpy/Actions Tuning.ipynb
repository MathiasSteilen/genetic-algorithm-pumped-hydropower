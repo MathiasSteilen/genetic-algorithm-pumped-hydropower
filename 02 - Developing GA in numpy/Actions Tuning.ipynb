{
 "cells": [
  {
   "cell_type": "markdown",
   "metadata": {},
   "source": [
    "# Pumped-Storage Optimisation with Genetic Algorithm and MILP"
   ]
  },
  {
   "cell_type": "code",
   "execution_count": 1,
   "metadata": {},
   "outputs": [],
   "source": [
    "import pandas as pd\n",
    "import datetime\n",
    "import numpy as np\n",
    "import plotnine as pn\n",
    "import plotly.graph_objs as go\n",
    "import plotly.express as px\n",
    "from tqdm.notebook import tqdm\n",
    "from IPython.display import clear_output, display\n",
    "import os\n",
    "from itertools import product\n",
    "\n",
    "# Import own implementations\n",
    "from Actions import GA_discrete_actions\n",
    "\n",
    "# Importing tuning libraries\n",
    "import ray\n",
    "from ray import train, tune\n",
    "from ray.tune.search.optuna import OptunaSearch\n",
    "from ray.tune.schedulers import ASHAScheduler\n",
    "\n",
    "background_colour = \"#F2F2F2\"\n",
    "pn.theme_set(\n",
    "    pn.theme_classic()\n",
    "    + pn.theme(\n",
    "        text=pn.element_text(family=\"monospace\"),\n",
    "        plot_background=pn.element_rect(\n",
    "            fill=background_colour, colour=background_colour\n",
    "        ),\n",
    "        panel_background=pn.element_rect(\n",
    "            fill=background_colour, colour=background_colour\n",
    "        ),\n",
    "        legend_background=pn.element_rect(\n",
    "            fill=background_colour, colour=background_colour\n",
    "        ),\n",
    "    )\n",
    ")\n",
    "\n",
    "%load_ext blackcellmagic"
   ]
  },
  {
   "cell_type": "markdown",
   "metadata": {},
   "source": [
    "## Reading the Price data"
   ]
  },
  {
   "cell_type": "code",
   "execution_count": 2,
   "metadata": {},
   "outputs": [
    {
     "data": {
      "text/html": [
       "<div>\n",
       "<style scoped>\n",
       "    .dataframe tbody tr th:only-of-type {\n",
       "        vertical-align: middle;\n",
       "    }\n",
       "\n",
       "    .dataframe tbody tr th {\n",
       "        vertical-align: top;\n",
       "    }\n",
       "\n",
       "    .dataframe thead th {\n",
       "        text-align: right;\n",
       "    }\n",
       "</style>\n",
       "<table border=\"1\" class=\"dataframe\">\n",
       "  <thead>\n",
       "    <tr style=\"text-align: right;\">\n",
       "      <th></th>\n",
       "      <th>spot</th>\n",
       "      <th>utc_time</th>\n",
       "    </tr>\n",
       "  </thead>\n",
       "  <tbody>\n",
       "    <tr>\n",
       "      <th>0</th>\n",
       "      <td>101.54</td>\n",
       "      <td>2022-01-01 00:00:00+00:00</td>\n",
       "    </tr>\n",
       "    <tr>\n",
       "      <th>1</th>\n",
       "      <td>52.13</td>\n",
       "      <td>2022-01-01 01:00:00+00:00</td>\n",
       "    </tr>\n",
       "  </tbody>\n",
       "</table>\n",
       "</div>"
      ],
      "text/plain": [
       "     spot                   utc_time\n",
       "0  101.54  2022-01-01 00:00:00+00:00\n",
       "1   52.13  2022-01-01 01:00:00+00:00"
      ]
     },
     "execution_count": 2,
     "metadata": {},
     "output_type": "execute_result"
    }
   ],
   "source": [
    "df = pd.read_csv(\"../01 - Data/example_week.csv\")\n",
    "df.head(2)"
   ]
  },
  {
   "cell_type": "code",
   "execution_count": 3,
   "metadata": {},
   "outputs": [
    {
     "name": "stdout",
     "output_type": "stream",
     "text": [
      "<class 'pandas.core.frame.DataFrame'>\n",
      "RangeIndex: 168 entries, 0 to 167\n",
      "Data columns (total 2 columns):\n",
      " #   Column    Non-Null Count  Dtype  \n",
      "---  ------    --------------  -----  \n",
      " 0   spot      168 non-null    float64\n",
      " 1   utc_time  168 non-null    object \n",
      "dtypes: float64(1), object(1)\n",
      "memory usage: 2.8+ KB\n"
     ]
    }
   ],
   "source": [
    "df.info()"
   ]
  },
  {
   "cell_type": "markdown",
   "metadata": {},
   "source": [
    "## The Power Plant"
   ]
  },
  {
   "cell_type": "code",
   "execution_count": 4,
   "metadata": {},
   "outputs": [],
   "source": [
    "plant_params = {\n",
    "    \"EFFICIENCY\": 0.75,\n",
    "    \"MAX_STORAGE_M3\": 5000,\n",
    "    \"MIN_STORAGE_M3\": 0,\n",
    "    \"TURBINE_POWER_MW\": 100,\n",
    "    \"PUMP_POWER_MW\": 100,\n",
    "    \"TURBINE_RATE_M3H\": 500,\n",
    "    \"MIN_STORAGE_MWH\": 0,\n",
    "    \"INITIAL_WATER_LEVEL_PCT\": 0,\n",
    "}\n",
    "plant_params[\"INITIAL_WATER_LEVEL\"] = (\n",
    "    plant_params[\"INITIAL_WATER_LEVEL_PCT\"] * plant_params[\"MAX_STORAGE_M3\"]\n",
    ")\n",
    "plant_params[\"PUMP_RATE_M3H\"] = (\n",
    "    plant_params[\"TURBINE_RATE_M3H\"] * plant_params[\"EFFICIENCY\"]\n",
    ")\n",
    "plant_params[\"MAX_STORAGE_MWH\"] = (\n",
    "    plant_params[\"MAX_STORAGE_M3\"] / plant_params[\"TURBINE_RATE_M3H\"]\n",
    ") * plant_params[\"TURBINE_POWER_MW\"]"
   ]
  },
  {
   "cell_type": "markdown",
   "metadata": {},
   "source": [
    "## GA Actions"
   ]
  },
  {
   "cell_type": "code",
   "execution_count": null,
   "metadata": {},
   "outputs": [],
   "source": [
    "def evaluate_fitness(population, plant_params, prices):\n",
    "\n",
    "    # To be written according to pumped storage optimisation problem\n",
    "    fitness_scores = np.array([])\n",
    "\n",
    "    for parameter_combination in population:\n",
    "\n",
    "        water_level = plant_params[\"INITIAL_WATER_LEVEL\"]\n",
    "        fitness_score = 0\n",
    "\n",
    "        for action, price in zip(parameter_combination, prices[\"spot\"]):\n",
    "            # Pump (-1)\n",
    "            if action == -1:\n",
    "                if water_level + plant_params[\"PUMP_RATE_M3H\"] <= plant_params[\"MAX_STORAGE_M3\"]:\n",
    "                    fitness_score -= plant_params[\"PUMP_POWER_MW\"] * price\n",
    "                    water_level += plant_params[\"PUMP_RATE_M3H\"]\n",
    "                else:\n",
    "                    fitness_score -= 10_000_000\n",
    "            # Turbine (1)\n",
    "            if action == 1:\n",
    "                if water_level - plant_params[\"TURBINE_RATE_M3H\"] >= plant_params[\"MIN_STORAGE_M3\"]:\n",
    "                    fitness_score += plant_params[\"TURBINE_POWER_MW\"] * price\n",
    "                    water_level -= plant_params[\"TURBINE_RATE_M3H\"]\n",
    "                else:\n",
    "                    fitness_score -= 10_000_000\n",
    "            # Do nothing (0)\n",
    "            # Nothing happens to the fitness score and the water level\n",
    "        \n",
    "        fitness_scores = np.append(fitness_scores, fitness_score)\n",
    "\n",
    "    return fitness_scores"
   ]
  },
  {
   "cell_type": "code",
   "execution_count": null,
   "metadata": {},
   "outputs": [],
   "source": [
    "def trainable(config):\n",
    "    ga = GA_discrete_actions(\n",
    "        dna_size=config[\"WINDOW_SIZE\"],\n",
    "        discrete_action_space=[-1, 0, 1],\n",
    "        elitism=config[\"ELITISM\"],\n",
    "        population_size=config[\"POPULATION\"],\n",
    "        mutation_rate=config[\"MUTATION_RATE\"],\n",
    "        survival_rate=config[\"SURVIVAL_RATE\"],\n",
    "        mutation_decay=config[\"MUTATION_DECAY\"],\n",
    "        mutation_limit=config[\"MUTATION_LIMIT\"],\n",
    "    )\n",
    "\n",
    "    population = ga.initial_population\n",
    "    average_fitnesses = []\n",
    "    best_fitnesses = []\n",
    "    generation = 0\n",
    "\n",
    "    for _ in config[\"TOTAL_GENERATIONS\"]:\n",
    "        if (generation == 0) or (np.mean(average_fitnesses[-15:]) < ga.best_fitness * 0.99):\n",
    "            population = ga.evolve(\n",
    "                population=population,\n",
    "                fitnesses=evaluate_fitness(\n",
    "                    population=population, plant_params=plant_params, prices=example\n",
    "                ),\n",
    "            )\n",
    "            average_fitnesses.append(ga.average_fitness)\n",
    "            best_fitnesses.append(ga.best_fitness)\n",
    "\n",
    "            if generation % 25 == 0:\n",
    "                print(\n",
    "                    f\"Generation: {generation}, Best Fitness: {ga.best_fitness}, Average Fitness: {ga.average_fitness}, Mutation Rate: {ga.mutation_rate}\"\n",
    "                )\n",
    "                # clear_output(wait=True)\n",
    "\n",
    "            generation += 1"
   ]
  },
  {
   "cell_type": "code",
   "execution_count": null,
   "metadata": {},
   "outputs": [],
   "source": [
    "ga_solver = GA_Actions_Elite(\n",
    "    plant_params=plant_params, spot=df[\"spot\"], utc_time=df[\"utc_time\"]\n",
    ")"
   ]
  },
  {
   "cell_type": "code",
   "execution_count": null,
   "metadata": {},
   "outputs": [],
   "source": [
    "analysis = ga_solver.tune(\n",
    "    tune_config={\n",
    "        \"MUTPB\": 1,\n",
    "        \"POP_SIZE\": 200,\n",
    "        \"INITIAL_MUTATION_RATE\": tune.choice(np.linspace(0.05, 0.5, 5)),\n",
    "        \"FINAL_MUTATION_RATE\": tune.choice(np.linspace(0.01, 0.05, 5)),\n",
    "        \"INITIAL_EXPLORATION\": 0.66,\n",
    "        \"ELITISM\": tune.choice(np.linspace(0.05, 0.5, 10)),\n",
    "    },\n",
    "    total_generations=500,\n",
    "    timeout_s=60*60*5,\n",
    ")"
   ]
  },
  {
   "cell_type": "code",
   "execution_count": null,
   "metadata": {},
   "outputs": [],
   "source": [
    "analysis.best_config"
   ]
  },
  {
   "cell_type": "code",
   "execution_count": null,
   "metadata": {},
   "outputs": [],
   "source": [
    "pd.concat(analysis.trial_dataframes, axis=0).reset_index(drop=True).to_csv(f\"./Tuning Results/{datetime.datetime.now().strftime('%Y%m%d%H%M')}_GA_Elite.csv\", index=False)"
   ]
  },
  {
   "cell_type": "code",
   "execution_count": null,
   "metadata": {},
   "outputs": [],
   "source": [
    "fig = px.line(\n",
    "    data_frame=pd.concat(analysis.trial_dataframes.values()),\n",
    "    x=\"training_iteration\",\n",
    "    y=\"fitness\",\n",
    "    color=\"trial_id\",\n",
    ")\n",
    "fig.show()"
   ]
  },
  {
   "cell_type": "code",
   "execution_count": null,
   "metadata": {},
   "outputs": [],
   "source": [
    "top_runs = analysis.dataframe().sort_values(\"fitness\", ascending=False).head(10)[\"trial_id\"].to_list()\n",
    "\n",
    "fig = px.line(\n",
    "    data_frame=pd.concat(analysis.trial_dataframes.values()).query(\n",
    "        \"trial_id in @top_runs\"\n",
    "    ),\n",
    "    x=\"training_iteration\",\n",
    "    y=\"fitness\",\n",
    "    color=\"trial_id\",\n",
    ")\n",
    "fig.show()"
   ]
  },
  {
   "cell_type": "code",
   "execution_count": null,
   "metadata": {},
   "outputs": [],
   "source": [
    "# (\n",
    "#     analysis.dataframe()\n",
    "#     .query(\"trial_id == 'd947e4c7'\")\n",
    "#     .filter(regex=\"config\")\n",
    "#     .melt()\n",
    "#     .assign(variable=lambda x: x[\"variable\"].str.replace(\"config/\", \"\"))\n",
    "#     .set_index(\"variable\")\n",
    "#     .to_dict()[\"value\"]\n",
    "# )"
   ]
  },
  {
   "cell_type": "markdown",
   "metadata": {},
   "source": [
    "### Tournament"
   ]
  },
  {
   "cell_type": "code",
   "execution_count": null,
   "metadata": {},
   "outputs": [],
   "source": [
    "ga_solver = GA_Actions_Tournament(\n",
    "    plant_params=plant_params, spot=df[\"spot\"], utc_time=df[\"utc_time\"]\n",
    ")"
   ]
  },
  {
   "cell_type": "code",
   "execution_count": null,
   "metadata": {},
   "outputs": [],
   "source": [
    "analysis = ga_solver.tune(\n",
    "    tune_config={\n",
    "        \"MUTPB\": 1,\n",
    "        \"POP_SIZE\": 200,\n",
    "        \"CXPB\": tune.uniform(0.05, 0.95),\n",
    "        \"INITIAL_MUTATION_RATE\": np.linspace(0.05, 0.5, 5),\n",
    "        \"FINAL_MUTATION_RATE\": np.linspace(0.01, 0.05, 5),\n",
    "        \"INITIAL_EXPLORATION\": 0.66,\n",
    "        \"TOURNAMENT_SIZE\": np.linspace(2, 100, 10),\n",
    "    },\n",
    "    total_generations=500,\n",
    "    timeout_s=60*60*5,\n",
    ")"
   ]
  },
  {
   "cell_type": "code",
   "execution_count": null,
   "metadata": {},
   "outputs": [],
   "source": [
    "analysis.best_config"
   ]
  },
  {
   "cell_type": "code",
   "execution_count": null,
   "metadata": {},
   "outputs": [],
   "source": [
    "pd.concat(analysis.trial_dataframes, axis=0).reset_index(drop=True).to_csv(f\"./Tuning Results/{datetime.datetime.now().strftime('%Y%m%d%H%M')}_GA_Tournament.csv\", index=False)"
   ]
  },
  {
   "cell_type": "code",
   "execution_count": null,
   "metadata": {},
   "outputs": [],
   "source": [
    "fig = px.line(\n",
    "    data_frame=pd.concat(analysis.trial_dataframes.values()),\n",
    "    x=\"training_iteration\",\n",
    "    y=\"fitness\",\n",
    "    color=\"trial_id\",\n",
    ")\n",
    "fig.show()"
   ]
  },
  {
   "cell_type": "code",
   "execution_count": null,
   "metadata": {},
   "outputs": [],
   "source": [
    "top_runs = analysis.dataframe().sort_values(\"fitness\", ascending=False).head(10)[\"trial_id\"].to_list()\n",
    "\n",
    "fig = px.line(\n",
    "    data_frame=pd.concat(analysis.trial_dataframes.values()).query(\n",
    "        \"trial_id in @top_runs\"\n",
    "    ),\n",
    "    x=\"training_iteration\",\n",
    "    y=\"fitness\",\n",
    "    color=\"trial_id\",\n",
    ")\n",
    "fig.show()"
   ]
  },
  {
   "cell_type": "code",
   "execution_count": null,
   "metadata": {},
   "outputs": [],
   "source": [
    "(\n",
    "    analysis.dataframe()\n",
    "    .query(\"trial_id == 'dd531b71'\")\n",
    "    .filter(regex=\"config\")\n",
    "    .melt()\n",
    "    .assign(variable=lambda x: x[\"variable\"].str.replace(\"config/\", \"\"))\n",
    "    .set_index(\"variable\")\n",
    "    .to_dict()[\"value\"]\n",
    ")"
   ]
  }
 ],
 "metadata": {
  "kernelspec": {
   "display_name": "general",
   "language": "python",
   "name": "python3"
  },
  "language_info": {
   "codemirror_mode": {
    "name": "ipython",
    "version": 3
   },
   "file_extension": ".py",
   "mimetype": "text/x-python",
   "name": "python",
   "nbconvert_exporter": "python",
   "pygments_lexer": "ipython3",
   "version": "3.10.14"
  }
 },
 "nbformat": 4,
 "nbformat_minor": 2
}
