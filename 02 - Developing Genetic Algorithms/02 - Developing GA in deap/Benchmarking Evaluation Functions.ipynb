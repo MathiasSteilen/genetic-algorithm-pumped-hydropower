{
 "cells": [
  {
   "cell_type": "markdown",
   "metadata": {},
   "source": [
    "# Benchmarking Fitness Functions for Speed"
   ]
  },
  {
   "cell_type": "code",
   "execution_count": 47,
   "metadata": {},
   "outputs": [
    {
     "name": "stdout",
     "output_type": "stream",
     "text": [
      "The blackcellmagic extension is already loaded. To reload it, use:\n",
      "  %reload_ext blackcellmagic\n"
     ]
    }
   ],
   "source": [
    "import pandas as pd\n",
    "import polars as pl\n",
    "import numpy as np\n",
    "import plotnine as pn\n",
    "import plotly.graph_objs as go\n",
    "import plotly.express as px\n",
    "from tqdm.notebook import tqdm\n",
    "from IPython.display import clear_output, display\n",
    "import os\n",
    "from itertools import product\n",
    "\n",
    "# Import own implementations\n",
    "from milp import MILP\n",
    "import genetic\n",
    "from genetic import GA_Actions_Elite, GA_Actions_Tournament\n",
    "\n",
    "# Importing tuning libraries\n",
    "import ray\n",
    "from ray import train, tune\n",
    "from ray.tune.search.optuna import OptunaSearch\n",
    "from ray.tune.schedulers import ASHAScheduler\n",
    "\n",
    "background_colour = \"#F2F2F2\"\n",
    "pn.theme_set(\n",
    "    pn.theme_classic()\n",
    "    + pn.theme(\n",
    "        text=pn.element_text(family=\"monospace\"),\n",
    "        plot_background=pn.element_rect(\n",
    "            fill=background_colour, colour=background_colour\n",
    "        ),\n",
    "        panel_background=pn.element_rect(\n",
    "            fill=background_colour, colour=background_colour\n",
    "        ),\n",
    "        legend_background=pn.element_rect(\n",
    "            fill=background_colour, colour=background_colour\n",
    "        ),\n",
    "    )\n",
    ")\n",
    "\n",
    "%load_ext blackcellmagic"
   ]
  },
  {
   "cell_type": "markdown",
   "metadata": {},
   "source": [
    "## Reading the Price data"
   ]
  },
  {
   "cell_type": "code",
   "execution_count": 48,
   "metadata": {},
   "outputs": [
    {
     "data": {
      "text/html": [
       "<div>\n",
       "<style scoped>\n",
       "    .dataframe tbody tr th:only-of-type {\n",
       "        vertical-align: middle;\n",
       "    }\n",
       "\n",
       "    .dataframe tbody tr th {\n",
       "        vertical-align: top;\n",
       "    }\n",
       "\n",
       "    .dataframe thead th {\n",
       "        text-align: right;\n",
       "    }\n",
       "</style>\n",
       "<table border=\"1\" class=\"dataframe\">\n",
       "  <thead>\n",
       "    <tr style=\"text-align: right;\">\n",
       "      <th></th>\n",
       "      <th>spot</th>\n",
       "      <th>utc_time</th>\n",
       "    </tr>\n",
       "  </thead>\n",
       "  <tbody>\n",
       "    <tr>\n",
       "      <th>0</th>\n",
       "      <td>101.54</td>\n",
       "      <td>2022-01-01 00:00:00+00:00</td>\n",
       "    </tr>\n",
       "    <tr>\n",
       "      <th>1</th>\n",
       "      <td>52.13</td>\n",
       "      <td>2022-01-01 01:00:00+00:00</td>\n",
       "    </tr>\n",
       "  </tbody>\n",
       "</table>\n",
       "</div>"
      ],
      "text/plain": [
       "     spot                  utc_time\n",
       "0  101.54 2022-01-01 00:00:00+00:00\n",
       "1   52.13 2022-01-01 01:00:00+00:00"
      ]
     },
     "execution_count": 48,
     "metadata": {},
     "output_type": "execute_result"
    }
   ],
   "source": [
    "df = pd.read_csv(\"../01 - Data/example_week.csv\").assign(utc_time=lambda x: pd.to_datetime(x.utc_time))\n",
    "df.head(2)"
   ]
  },
  {
   "cell_type": "code",
   "execution_count": 49,
   "metadata": {},
   "outputs": [
    {
     "name": "stdout",
     "output_type": "stream",
     "text": [
      "<class 'pandas.core.frame.DataFrame'>\n",
      "RangeIndex: 168 entries, 0 to 167\n",
      "Data columns (total 2 columns):\n",
      " #   Column    Non-Null Count  Dtype              \n",
      "---  ------    --------------  -----              \n",
      " 0   spot      168 non-null    float64            \n",
      " 1   utc_time  168 non-null    datetime64[ns, UTC]\n",
      "dtypes: datetime64[ns, UTC](1), float64(1)\n",
      "memory usage: 2.8 KB\n"
     ]
    }
   ],
   "source": [
    "df.info()"
   ]
  },
  {
   "cell_type": "markdown",
   "metadata": {},
   "source": [
    "## The Power Plant"
   ]
  },
  {
   "cell_type": "code",
   "execution_count": 50,
   "metadata": {},
   "outputs": [],
   "source": [
    "plant_params = {\n",
    "    \"EFFICIENCY\": 0.75,\n",
    "    \"MAX_STORAGE_M3\": 5000,\n",
    "    \"MIN_STORAGE_M3\": 0,\n",
    "    \"TURBINE_POWER_MW\": 100,\n",
    "    \"PUMP_POWER_MW\": 100,\n",
    "    \"TURBINE_RATE_M3H\": 500,\n",
    "    \"MIN_STORAGE_MWH\": 0,\n",
    "    \"INITIAL_WATER_LEVEL_PCT\": 0,\n",
    "}\n",
    "plant_params[\"INITIAL_WATER_LEVEL\"] = (\n",
    "    plant_params[\"INITIAL_WATER_LEVEL_PCT\"] * plant_params[\"MAX_STORAGE_M3\"]\n",
    ")\n",
    "plant_params[\"PUMP_RATE_M3H\"] = (\n",
    "    plant_params[\"TURBINE_RATE_M3H\"] * plant_params[\"EFFICIENCY\"]\n",
    ")\n",
    "plant_params[\"MAX_STORAGE_MWH\"] = (\n",
    "    plant_params[\"MAX_STORAGE_M3\"] / plant_params[\"TURBINE_RATE_M3H\"]\n",
    ") * plant_params[\"TURBINE_POWER_MW\"]"
   ]
  },
  {
   "cell_type": "markdown",
   "metadata": {},
   "source": [
    "## The Profit Functions"
   ]
  },
  {
   "cell_type": "markdown",
   "metadata": {},
   "source": [
    "First: For loop"
   ]
  },
  {
   "cell_type": "code",
   "execution_count": 51,
   "metadata": {},
   "outputs": [],
   "source": [
    "def fitness_loop(population, ps_params, prices):\n",
    "\n",
    "    fitness_scores = np.array([])\n",
    "\n",
    "    for parameter_combination in population:\n",
    "\n",
    "        water_level = ps_params[\"INITIAL_WATER_LEVEL\"]\n",
    "        fitness_score = 0\n",
    "\n",
    "        for action, price in zip(parameter_combination, prices[\"spot\"]):\n",
    "            # Pump (-1)\n",
    "            if action == -1:\n",
    "                if (\n",
    "                    water_level + ps_params[\"PUMP_RATE_M3H\"]\n",
    "                    < ps_params[\"MAX_STORAGE_M3\"]\n",
    "                ):\n",
    "                    fitness_score -= ps_params[\"PUMP_POWER_MW\"] * price\n",
    "                    water_level += ps_params[\"PUMP_RATE_M3H\"]\n",
    "                else:\n",
    "                    fitness_score -= 100_000\n",
    "            # Turbine (1)\n",
    "            if action == 1:\n",
    "                if (\n",
    "                    water_level - ps_params[\"TURBINE_RATE_M3H\"]\n",
    "                    > ps_params[\"MIN_STORAGE_M3\"]\n",
    "                ):\n",
    "                    fitness_score += ps_params[\"TURBINE_POWER_MW\"] * price\n",
    "                    water_level -= ps_params[\"TURBINE_RATE_M3H\"]\n",
    "                else:\n",
    "                    fitness_score -= 100_000\n",
    "            # Do nothing (0)\n",
    "            # Nothing happens to the fitness score and the water level\n",
    "\n",
    "        fitness_scores = np.append(fitness_scores, fitness_score)\n",
    "\n",
    "    return fitness_scores"
   ]
  },
  {
   "cell_type": "markdown",
   "metadata": {},
   "source": [
    "Second: numpy arrays"
   ]
  },
  {
   "cell_type": "code",
   "execution_count": 52,
   "metadata": {},
   "outputs": [],
   "source": [
    "def fitness_array(population, plant_params, prices):\n",
    "\n",
    "    fitness_scores = np.array([])\n",
    "\n",
    "    for individual in population:\n",
    "        # Calculate revenues from actions\n",
    "        revenues = np.select(\n",
    "            condlist=[\n",
    "                np.array(individual) == -1,\n",
    "                np.array(individual) == 1,\n",
    "            ],\n",
    "            choicelist=[\n",
    "                -plant_params[\"PUMP_POWER_MW\"] * prices[\"spot\"],\n",
    "                plant_params[\"TURBINE_POWER_MW\"] * prices[\"spot\"],\n",
    "            ],\n",
    "            default=0,\n",
    "        )\n",
    "\n",
    "        # Calculate water level exceedances\n",
    "        water_levels = np.select(\n",
    "            condlist=[\n",
    "                np.array(individual) == -1,\n",
    "                np.array(individual) == 1,\n",
    "            ],\n",
    "            choicelist=[\n",
    "                plant_params[\"PUMP_RATE_M3H\"],\n",
    "                -plant_params[\"TURBINE_RATE_M3H\"],\n",
    "            ],\n",
    "            default=0,\n",
    "        ).cumsum()\n",
    "\n",
    "        exceedances = (\n",
    "            (water_levels >= plant_params[\"MAX_STORAGE_M3\"])\n",
    "            | (water_levels <= plant_params[\"MIN_STORAGE_M3\"])\n",
    "        ).sum()\n",
    "\n",
    "        if exceedances > 0:\n",
    "            fitness_scores = np.append(fitness_scores, revenues.sum() - 1e7)\n",
    "        else:\n",
    "            fitness_scores = np.append(fitness_scores, revenues.sum())\n",
    "        \n",
    "    return fitness_scores"
   ]
  },
  {
   "cell_type": "markdown",
   "metadata": {},
   "source": [
    "## Creating a Random Population"
   ]
  },
  {
   "cell_type": "code",
   "execution_count": 53,
   "metadata": {},
   "outputs": [
    {
     "data": {
      "text/plain": [
       "array([[ 0, -1,  0, ..., -1,  0,  0],\n",
       "       [-1, -1,  0, ...,  1,  0,  0],\n",
       "       [ 1, -1, -1, ..., -1,  1,  0],\n",
       "       ...,\n",
       "       [-1,  0,  0, ..., -1, -1,  1],\n",
       "       [ 1,  0,  1, ...,  0, -1, -1],\n",
       "       [ 0,  0,  0, ...,  0,  0,  1]])"
      ]
     },
     "execution_count": 53,
     "metadata": {},
     "output_type": "execute_result"
    }
   ],
   "source": [
    "population = np.random.choice([-1, 0, 1], size=(100, 168))\n",
    "population"
   ]
  },
  {
   "cell_type": "markdown",
   "metadata": {},
   "source": [
    "## Benchmarking Timem"
   ]
  },
  {
   "cell_type": "code",
   "execution_count": 56,
   "metadata": {},
   "outputs": [
    {
     "name": "stdout",
     "output_type": "stream",
     "text": [
      "4.66 ms ± 227 µs per loop (mean ± std. dev. of 7 runs, 100 loops each)\n"
     ]
    }
   ],
   "source": [
    "%%timeit\n",
    "\n",
    "fitness_loop(population, plant_params, df)"
   ]
  },
  {
   "cell_type": "code",
   "execution_count": 57,
   "metadata": {},
   "outputs": [
    {
     "name": "stdout",
     "output_type": "stream",
     "text": [
      "18.4 ms ± 1.15 ms per loop (mean ± std. dev. of 7 runs, 10 loops each)\n"
     ]
    }
   ],
   "source": [
    "%%timeit\n",
    "\n",
    "fitness_array(population, plant_params, df)"
   ]
  },
  {
   "cell_type": "markdown",
   "metadata": {},
   "source": [
    "The for loop is much faster. Let's keep that one."
   ]
  }
 ],
 "metadata": {
  "kernelspec": {
   "display_name": "general",
   "language": "python",
   "name": "python3"
  },
  "language_info": {
   "codemirror_mode": {
    "name": "ipython",
    "version": 3
   },
   "file_extension": ".py",
   "mimetype": "text/x-python",
   "name": "python",
   "nbconvert_exporter": "python",
   "pygments_lexer": "ipython3",
   "version": "3.11.5"
  }
 },
 "nbformat": 4,
 "nbformat_minor": 2
}
