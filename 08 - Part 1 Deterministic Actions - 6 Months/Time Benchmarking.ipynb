{
 "cells": [
  {
   "cell_type": "markdown",
   "metadata": {},
   "source": [
    "# Pumped-Storage Optimisation with Genetic Algorithm and MILP"
   ]
  },
  {
   "cell_type": "code",
   "execution_count": 61,
   "metadata": {},
   "outputs": [
    {
     "name": "stdout",
     "output_type": "stream",
     "text": [
      "The blackcellmagic extension is already loaded. To reload it, use:\n",
      "  %reload_ext blackcellmagic\n"
     ]
    }
   ],
   "source": [
    "import pandas as pd\n",
    "import numpy as np\n",
    "import plotnine as pn\n",
    "import plotly.graph_objs as go\n",
    "import plotly.express as px\n",
    "from tqdm.notebook import tqdm\n",
    "from IPython.display import clear_output, display\n",
    "import os\n",
    "from itertools import product\n",
    "import datetime\n",
    "import time\n",
    "\n",
    "# Import own implementations\n",
    "from milp import MILP\n",
    "from genetic_numpy import GA_discrete_actions, evaluate_fitness\n",
    "\n",
    "background_colour = \"#F2F2F2\"\n",
    "pn.theme_set(\n",
    "    pn.theme_classic()\n",
    "    + pn.theme(\n",
    "        text=pn.element_text(family=\"monospace\"),\n",
    "        plot_background=pn.element_rect(\n",
    "            fill=background_colour, colour=background_colour\n",
    "        ),\n",
    "        panel_background=pn.element_rect(\n",
    "            fill=background_colour, colour=background_colour\n",
    "        ),\n",
    "        legend_background=pn.element_rect(\n",
    "            fill=background_colour, colour=background_colour\n",
    "        ),\n",
    "    )\n",
    ")\n",
    "\n",
    "%load_ext blackcellmagic"
   ]
  },
  {
   "cell_type": "markdown",
   "metadata": {},
   "source": [
    "## Price Data"
   ]
  },
  {
   "cell_type": "code",
   "execution_count": 62,
   "metadata": {},
   "outputs": [
    {
     "data": {
      "text/html": [
       "<div>\n",
       "<style scoped>\n",
       "    .dataframe tbody tr th:only-of-type {\n",
       "        vertical-align: middle;\n",
       "    }\n",
       "\n",
       "    .dataframe tbody tr th {\n",
       "        vertical-align: top;\n",
       "    }\n",
       "\n",
       "    .dataframe thead th {\n",
       "        text-align: right;\n",
       "    }\n",
       "</style>\n",
       "<table border=\"1\" class=\"dataframe\">\n",
       "  <thead>\n",
       "    <tr style=\"text-align: right;\">\n",
       "      <th></th>\n",
       "      <th>spot</th>\n",
       "      <th>utc_time</th>\n",
       "    </tr>\n",
       "  </thead>\n",
       "  <tbody>\n",
       "    <tr>\n",
       "      <th>0</th>\n",
       "      <td>36.99</td>\n",
       "      <td>2017-12-31 23:00:00+00:00</td>\n",
       "    </tr>\n",
       "    <tr>\n",
       "      <th>1</th>\n",
       "      <td>31.08</td>\n",
       "      <td>2018-01-01 00:00:00+00:00</td>\n",
       "    </tr>\n",
       "  </tbody>\n",
       "</table>\n",
       "</div>"
      ],
      "text/plain": [
       "    spot                   utc_time\n",
       "0  36.99  2017-12-31 23:00:00+00:00\n",
       "1  31.08  2018-01-01 00:00:00+00:00"
      ]
     },
     "execution_count": 62,
     "metadata": {},
     "output_type": "execute_result"
    }
   ],
   "source": [
    "df = pd.read_csv(\"../01 - Data/spot_prices_utc.csv\")\n",
    "df.head(2)"
   ]
  },
  {
   "cell_type": "code",
   "execution_count": 63,
   "metadata": {},
   "outputs": [
    {
     "name": "stdout",
     "output_type": "stream",
     "text": [
      "<class 'pandas.core.frame.DataFrame'>\n",
      "RangeIndex: 48166 entries, 0 to 48165\n",
      "Data columns (total 2 columns):\n",
      " #   Column    Non-Null Count  Dtype  \n",
      "---  ------    --------------  -----  \n",
      " 0   spot      48166 non-null  float64\n",
      " 1   utc_time  48166 non-null  object \n",
      "dtypes: float64(1), object(1)\n",
      "memory usage: 752.7+ KB\n"
     ]
    }
   ],
   "source": [
    "df.info()"
   ]
  },
  {
   "cell_type": "markdown",
   "metadata": {},
   "source": [
    "## The Power Plant"
   ]
  },
  {
   "cell_type": "code",
   "execution_count": 64,
   "metadata": {},
   "outputs": [],
   "source": [
    "plant_params = {\n",
    "    \"EFFICIENCY\": 0.75,\n",
    "    \"MAX_STORAGE_M3\": 5000,\n",
    "    \"MIN_STORAGE_M3\": 0,\n",
    "    \"TURBINE_POWER_MW\": 100,\n",
    "    \"PUMP_POWER_MW\": 100,\n",
    "    \"TURBINE_RATE_M3H\": 500,\n",
    "    \"MIN_STORAGE_MWH\": 0,\n",
    "    \"INITIAL_WATER_LEVEL_PCT\": 0,\n",
    "}\n",
    "plant_params[\"INITIAL_WATER_LEVEL\"] = (\n",
    "    plant_params[\"INITIAL_WATER_LEVEL_PCT\"] * plant_params[\"MAX_STORAGE_M3\"]\n",
    ")\n",
    "plant_params[\"PUMP_RATE_M3H\"] = (\n",
    "    plant_params[\"TURBINE_RATE_M3H\"] * plant_params[\"EFFICIENCY\"]\n",
    ")\n",
    "plant_params[\"MAX_STORAGE_MWH\"] = (\n",
    "    plant_params[\"MAX_STORAGE_M3\"] / plant_params[\"TURBINE_RATE_M3H\"]\n",
    ") * plant_params[\"TURBINE_POWER_MW\"]"
   ]
  },
  {
   "cell_type": "markdown",
   "metadata": {},
   "source": [
    "## Extrapolating MILP Time\n",
    "\n",
    "- define different lengths (in hours, preferably doubling in size)\n",
    "- run MILP for a certain amount of randomly determined sequences and log the time needed\n",
    "- make visualisation using boxplots and extrapolate to periods of full year"
   ]
  },
  {
   "cell_type": "code",
   "execution_count": 65,
   "metadata": {},
   "outputs": [
    {
     "name": "stdout",
     "output_type": "stream",
     "text": [
      "[24, 48, 72, 96, 120, 144]\n",
      "[15796   861 38159 44733 11285  6266]\n"
     ]
    }
   ],
   "source": [
    "runs_per_length = 30\n",
    "horizon_lengths = [24*x for x in np.arange(1, 7)]\n",
    "print(horizon_lengths)\n",
    "\n",
    "np.random.seed(42)\n",
    "rand_slices = np.random.randint(1, df.shape[0] - np.max(horizon_lengths), size=len(horizon_lengths))\n",
    "\n",
    "print(rand_slices)"
   ]
  },
  {
   "cell_type": "code",
   "execution_count": 66,
   "metadata": {},
   "outputs": [
    {
     "data": {
      "application/vnd.jupyter.widget-view+json": {
       "model_id": "2b2c830f858a41148e8a4309afc898b8",
       "version_major": 2,
       "version_minor": 0
      },
      "text/plain": [
       "  0%|          | 0/6 [00:00<?, ?it/s]"
      ]
     },
     "metadata": {},
     "output_type": "display_data"
    },
    {
     "data": {
      "application/vnd.jupyter.widget-view+json": {
       "model_id": "2149140a315f4137a84a704c67b77ab4",
       "version_major": 2,
       "version_minor": 0
      },
      "text/plain": [
       "  0%|          | 0/30 [00:00<?, ?it/s]"
      ]
     },
     "metadata": {},
     "output_type": "display_data"
    },
    {
     "data": {
      "application/vnd.jupyter.widget-view+json": {
       "model_id": "646fcb5c25464439a9a28a9d531d770a",
       "version_major": 2,
       "version_minor": 0
      },
      "text/plain": [
       "  0%|          | 0/30 [00:00<?, ?it/s]"
      ]
     },
     "metadata": {},
     "output_type": "display_data"
    },
    {
     "data": {
      "application/vnd.jupyter.widget-view+json": {
       "model_id": "8dffefa89494426f9ff191f6f6d8c22e",
       "version_major": 2,
       "version_minor": 0
      },
      "text/plain": [
       "  0%|          | 0/30 [00:00<?, ?it/s]"
      ]
     },
     "metadata": {},
     "output_type": "display_data"
    },
    {
     "data": {
      "application/vnd.jupyter.widget-view+json": {
       "model_id": "0c3336f4ef234fccb18a1f53dc2e0479",
       "version_major": 2,
       "version_minor": 0
      },
      "text/plain": [
       "  0%|          | 0/30 [00:00<?, ?it/s]"
      ]
     },
     "metadata": {},
     "output_type": "display_data"
    },
    {
     "data": {
      "application/vnd.jupyter.widget-view+json": {
       "model_id": "2c203bdd90864155ae203039571d9c7c",
       "version_major": 2,
       "version_minor": 0
      },
      "text/plain": [
       "  0%|          | 0/30 [00:00<?, ?it/s]"
      ]
     },
     "metadata": {},
     "output_type": "display_data"
    },
    {
     "data": {
      "application/vnd.jupyter.widget-view+json": {
       "model_id": "8ee953906892420b878d22d8c657b78f",
       "version_major": 2,
       "version_minor": 0
      },
      "text/plain": [
       "  0%|          | 0/30 [00:00<?, ?it/s]"
      ]
     },
     "metadata": {},
     "output_type": "display_data"
    }
   ],
   "source": [
    "hours = []\n",
    "run = []\n",
    "run_time = []\n",
    "\n",
    "\n",
    "\n",
    "for period, rand_slice in tqdm(zip(horizon_lengths, rand_slices)):\n",
    "    for i in tqdm(range(runs_per_length)):\n",
    "        start = time.time()\n",
    "        \n",
    "        # Select a random subperiod\n",
    "        prices = df[\"spot\"].iloc[rand_slice : rand_slice + period].values\n",
    "        times = df[\"utc_time\"].iloc[rand_slice : rand_slice + period].values\n",
    "\n",
    "        # Solve the model\n",
    "        milp_solver = MILP(plant_params=plant_params, spot=prices, utc_time=times)\n",
    "        milp_model, milp_status, milp_profile = milp_solver.solve()\n",
    "\n",
    "        # Save the results\n",
    "\n",
    "        run_time.append(time.time() - start)\n",
    "        hours.append(period)\n",
    "        run.append(i)"
   ]
  },
  {
   "cell_type": "code",
   "execution_count": 67,
   "metadata": {},
   "outputs": [
    {
     "data": {
      "text/html": [
       "<div>\n",
       "<style scoped>\n",
       "    .dataframe tbody tr th:only-of-type {\n",
       "        vertical-align: middle;\n",
       "    }\n",
       "\n",
       "    .dataframe tbody tr th {\n",
       "        vertical-align: top;\n",
       "    }\n",
       "\n",
       "    .dataframe thead th {\n",
       "        text-align: right;\n",
       "    }\n",
       "</style>\n",
       "<table border=\"1\" class=\"dataframe\">\n",
       "  <thead>\n",
       "    <tr style=\"text-align: right;\">\n",
       "      <th></th>\n",
       "      <th>hours</th>\n",
       "      <th>run</th>\n",
       "      <th>run_time</th>\n",
       "    </tr>\n",
       "  </thead>\n",
       "  <tbody>\n",
       "    <tr>\n",
       "      <th>0</th>\n",
       "      <td>24</td>\n",
       "      <td>0</td>\n",
       "      <td>0.100198</td>\n",
       "    </tr>\n",
       "    <tr>\n",
       "      <th>1</th>\n",
       "      <td>24</td>\n",
       "      <td>1</td>\n",
       "      <td>0.060974</td>\n",
       "    </tr>\n",
       "    <tr>\n",
       "      <th>2</th>\n",
       "      <td>24</td>\n",
       "      <td>2</td>\n",
       "      <td>0.083581</td>\n",
       "    </tr>\n",
       "    <tr>\n",
       "      <th>3</th>\n",
       "      <td>24</td>\n",
       "      <td>3</td>\n",
       "      <td>0.066817</td>\n",
       "    </tr>\n",
       "    <tr>\n",
       "      <th>4</th>\n",
       "      <td>24</td>\n",
       "      <td>4</td>\n",
       "      <td>0.065192</td>\n",
       "    </tr>\n",
       "  </tbody>\n",
       "</table>\n",
       "</div>"
      ],
      "text/plain": [
       "  hours  run  run_time\n",
       "0    24    0  0.100198\n",
       "1    24    1  0.060974\n",
       "2    24    2  0.083581\n",
       "3    24    3  0.066817\n",
       "4    24    4  0.065192"
      ]
     },
     "execution_count": 67,
     "metadata": {},
     "output_type": "execute_result"
    }
   ],
   "source": [
    "plot_data = pd.DataFrame({\n",
    "    \"hours\": hours,\n",
    "    \"run\": run,\n",
    "    \"run_time\": run_time\n",
    "}).assign(hours = lambda x: x[\"hours\"].astype(str))\n",
    "\n",
    "plot_data.head()"
   ]
  },
  {
   "cell_type": "code",
   "execution_count": 68,
   "metadata": {},
   "outputs": [
    {
     "data": {
      "image/png": "[encoded data removed]",
      "text/plain": [
       "<Figure size 640x480 with 1 Axes>"
      ]
     },
     "metadata": {
      "image/png": {
       "height": 480,
       "width": 640
      }
     },
     "output_type": "display_data"
    },
    {
     "data": {
      "text/plain": [
       "<Figure Size: (640 x 480)>"
      ]
     },
     "execution_count": 68,
     "metadata": {},
     "output_type": "execute_result"
    }
   ],
   "source": [
    "(\n",
    "    pn.ggplot(data=plot_data, mapping=pn.aes(\"hours\", \"run_time\", group=\"hours\"))\n",
    "    + pn.geom_boxplot()\n",
    "    + pn.scale_x_discrete(limits=[str(x) for x in horizon_lengths])\n",
    ")"
   ]
  },
  {
   "cell_type": "code",
   "execution_count": 69,
   "metadata": {},
   "outputs": [
    {
     "data": {
      "text/html": [
       "<div>\n",
       "<style scoped>\n",
       "    .dataframe tbody tr th:only-of-type {\n",
       "        vertical-align: middle;\n",
       "    }\n",
       "\n",
       "    .dataframe tbody tr th {\n",
       "        vertical-align: top;\n",
       "    }\n",
       "\n",
       "    .dataframe thead th {\n",
       "        text-align: right;\n",
       "    }\n",
       "</style>\n",
       "<table border=\"1\" class=\"dataframe\">\n",
       "  <thead>\n",
       "    <tr style=\"text-align: right;\">\n",
       "      <th></th>\n",
       "      <th>hours</th>\n",
       "      <th>run_time</th>\n",
       "      <th>delta</th>\n",
       "    </tr>\n",
       "  </thead>\n",
       "  <tbody>\n",
       "    <tr>\n",
       "      <th>0</th>\n",
       "      <td>24.0</td>\n",
       "      <td>0.071352</td>\n",
       "      <td>NaN</td>\n",
       "    </tr>\n",
       "    <tr>\n",
       "      <th>1</th>\n",
       "      <td>48.0</td>\n",
       "      <td>0.075556</td>\n",
       "      <td>0.058907</td>\n",
       "    </tr>\n",
       "    <tr>\n",
       "      <th>2</th>\n",
       "      <td>72.0</td>\n",
       "      <td>0.083966</td>\n",
       "      <td>0.111318</td>\n",
       "    </tr>\n",
       "    <tr>\n",
       "      <th>3</th>\n",
       "      <td>96.0</td>\n",
       "      <td>0.131186</td>\n",
       "      <td>0.562363</td>\n",
       "    </tr>\n",
       "    <tr>\n",
       "      <th>4</th>\n",
       "      <td>120.0</td>\n",
       "      <td>0.354609</td>\n",
       "      <td>1.703103</td>\n",
       "    </tr>\n",
       "    <tr>\n",
       "      <th>5</th>\n",
       "      <td>144.0</td>\n",
       "      <td>0.180646</td>\n",
       "      <td>-0.490576</td>\n",
       "    </tr>\n",
       "  </tbody>\n",
       "</table>\n",
       "</div>"
      ],
      "text/plain": [
       "   hours  run_time     delta\n",
       "0   24.0  0.071352       NaN\n",
       "1   48.0  0.075556  0.058907\n",
       "2   72.0  0.083966  0.111318\n",
       "3   96.0  0.131186  0.562363\n",
       "4  120.0  0.354609  1.703103\n",
       "5  144.0  0.180646 -0.490576"
      ]
     },
     "execution_count": 69,
     "metadata": {},
     "output_type": "execute_result"
    }
   ],
   "source": [
    "agg_plot_data = (\n",
    "    plot_data\n",
    "    .assign(hours=lambda x: x.hours.astype(np.float32))\n",
    "    .groupby(\"hours\")\n",
    "    .agg({\"run_time\": \"mean\"})\n",
    "    .reset_index()\n",
    "    .assign(delta=lambda x: (x.run_time / x.run_time.shift()) - 1)\n",
    ")\n",
    "\n",
    "agg_plot_data"
   ]
  },
  {
   "cell_type": "markdown",
   "metadata": {},
   "source": [
    "### Running the Genetic Algorithm for Different Time Horizons"
   ]
  },
  {
   "cell_type": "code",
   "execution_count": 88,
   "metadata": {},
   "outputs": [
    {
     "name": "stdout",
     "output_type": "stream",
     "text": [
      "[168, 840, 1512, 2184, 2856, 3528, 4200]\n",
      "[15796   861 38159 11285  6266 16851 37195]\n"
     ]
    }
   ],
   "source": [
    "runs_per_length = 1\n",
    "horizon_lengths = [24*7*x for x in np.arange(1, 26, 4)]\n",
    "print(horizon_lengths)\n",
    "\n",
    "np.random.seed(42)\n",
    "rand_slices = np.random.randint(1, df.shape[0] - np.max(horizon_lengths), size=len(horizon_lengths))\n",
    "\n",
    "print(rand_slices)"
   ]
  },
  {
   "cell_type": "code",
   "execution_count": 89,
   "metadata": {},
   "outputs": [
    {
     "data": {
      "application/vnd.jupyter.widget-view+json": {
       "model_id": "139a6f3847ee49129b3757991d0c63f7",
       "version_major": 2,
       "version_minor": 0
      },
      "text/plain": [
       "0it [00:00, ?it/s]"
      ]
     },
     "metadata": {},
     "output_type": "display_data"
    },
    {
     "name": "stdout",
     "output_type": "stream",
     "text": [
      "MILP: 31968.0\n"
     ]
    },
    {
     "data": {
      "application/vnd.jupyter.widget-view+json": {
       "model_id": "0e39ecb2d012410088387261cf7e1a9e",
       "version_major": 2,
       "version_minor": 0
      },
      "text/plain": [
       "  0%|          | 0/500 [00:00<?, ?it/s]"
      ]
     },
     "metadata": {},
     "output_type": "display_data"
    },
    {
     "name": "stdout",
     "output_type": "stream",
     "text": [
      "GA: 26244.0\n",
      "MILP: 161471.0\n"
     ]
    },
    {
     "data": {
      "application/vnd.jupyter.widget-view+json": {
       "model_id": "2a3d419ab5144120a9e015605658e954",
       "version_major": 2,
       "version_minor": 0
      },
      "text/plain": [
       "  0%|          | 0/500 [00:00<?, ?it/s]"
      ]
     },
     "metadata": {},
     "output_type": "display_data"
    },
    {
     "name": "stdout",
     "output_type": "stream",
     "text": [
      "GA: -20651.0\n",
      "MILP: 911104.0\n"
     ]
    },
    {
     "data": {
      "application/vnd.jupyter.widget-view+json": {
       "model_id": "3f8461176c4b47e386e6b721d3920f71",
       "version_major": 2,
       "version_minor": 0
      },
      "text/plain": [
       "  0%|          | 0/500 [00:00<?, ?it/s]"
      ]
     },
     "metadata": {},
     "output_type": "display_data"
    },
    {
     "name": "stdout",
     "output_type": "stream",
     "text": [
      "GA: 444949.0\n",
      "MILP: 441522.0\n"
     ]
    },
    {
     "data": {
      "application/vnd.jupyter.widget-view+json": {
       "model_id": "09eaf94fa96e4d06a536846f1b4ca033",
       "version_major": 2,
       "version_minor": 0
      },
      "text/plain": [
       "  0%|          | 0/500 [00:00<?, ?it/s]"
      ]
     },
     "metadata": {},
     "output_type": "display_data"
    },
    {
     "ename": "KeyboardInterrupt",
     "evalue": "",
     "output_type": "error",
     "traceback": [
      "\u001b[1;31m---------------------------------------------------------------------------\u001b[0m",
      "\u001b[1;31mKeyboardInterrupt\u001b[0m                         Traceback (most recent call last)",
      "Cell \u001b[1;32mIn[89], line 39\u001b[0m\n\u001b[0;32m     23\u001b[0m best_config \u001b[38;5;241m=\u001b[39m {\n\u001b[0;32m     24\u001b[0m     \u001b[38;5;124m\"\u001b[39m\u001b[38;5;124mPOP_SIZE\u001b[39m\u001b[38;5;124m\"\u001b[39m: \u001b[38;5;241m500\u001b[39m,\n\u001b[0;32m     25\u001b[0m     \u001b[38;5;124m\"\u001b[39m\u001b[38;5;124mINITIAL_MUTATION_RATE\u001b[39m\u001b[38;5;124m\"\u001b[39m: \u001b[38;5;241m0.7\u001b[39m,\n\u001b[1;32m   (...)\u001b[0m\n\u001b[0;32m     29\u001b[0m     \u001b[38;5;124m\"\u001b[39m\u001b[38;5;124mSURVIVAL_RATE\u001b[39m\u001b[38;5;124m\"\u001b[39m: \u001b[38;5;241m0.4\u001b[39m,\n\u001b[0;32m     30\u001b[0m }\n\u001b[0;32m     32\u001b[0m ga_solver \u001b[38;5;241m=\u001b[39m GA_discrete_actions(\n\u001b[0;32m     33\u001b[0m     plant_params\u001b[38;5;241m=\u001b[39mplant_params,\n\u001b[0;32m     34\u001b[0m     spot\u001b[38;5;241m=\u001b[39mprices,\n\u001b[0;32m     35\u001b[0m     utc_time\u001b[38;5;241m=\u001b[39mtimes,\n\u001b[0;32m     36\u001b[0m     actions_space\u001b[38;5;241m=\u001b[39m[\u001b[38;5;241m-\u001b[39m\u001b[38;5;241m1\u001b[39m, \u001b[38;5;241m0\u001b[39m, \u001b[38;5;241m1\u001b[39m],\n\u001b[0;32m     37\u001b[0m )\n\u001b[1;32m---> 39\u001b[0m population, fitnesses, history \u001b[38;5;241m=\u001b[39m \u001b[43mga_solver\u001b[49m\u001b[38;5;241;43m.\u001b[39;49m\u001b[43mtrain\u001b[49m\u001b[43m(\u001b[49m\n\u001b[0;32m     40\u001b[0m \u001b[43m    \u001b[49m\u001b[43mconfig\u001b[49m\u001b[38;5;241;43m=\u001b[39;49m\u001b[43mbest_config\u001b[49m\u001b[43m,\u001b[49m\n\u001b[0;32m     41\u001b[0m \u001b[43m    \u001b[49m\u001b[43mtotal_generations\u001b[49m\u001b[38;5;241;43m=\u001b[39;49m\u001b[38;5;241;43m500\u001b[39;49m\u001b[43m,\u001b[49m\n\u001b[0;32m     42\u001b[0m \u001b[43m    \u001b[49m\u001b[43mtune_mode\u001b[49m\u001b[38;5;241;43m=\u001b[39;49m\u001b[38;5;28;43;01mFalse\u001b[39;49;00m\u001b[43m,\u001b[49m\n\u001b[0;32m     43\u001b[0m \u001b[43m\u001b[49m\u001b[43m)\u001b[49m\n\u001b[0;32m     44\u001b[0m ga_time \u001b[38;5;241m=\u001b[39m time\u001b[38;5;241m.\u001b[39mtime() \u001b[38;5;241m-\u001b[39m start\n\u001b[0;32m     46\u001b[0m \u001b[38;5;66;03m# Get the best individual from the genetic algorithm\u001b[39;00m\n",
      "File \u001b[1;32mc:\\Users\\mathi\\OneDrive\\Universitaet\\2nd Semester\\5_Supervised Research\\genetic-algorithm-pumped-hydropower\\05 - Part 1 Deterministic Actions\\genetic_numpy.py:46\u001b[0m, in \u001b[0;36mGA_discrete_actions.train\u001b[1;34m(self, config, total_generations, tune_mode)\u001b[0m\n\u001b[0;32m     42\u001b[0m \u001b[38;5;66;03m# Launch the actual evolution loop over total_generations\u001b[39;00m\n\u001b[0;32m     43\u001b[0m \u001b[38;5;28;01mfor\u001b[39;00m generation \u001b[38;5;129;01min\u001b[39;00m (pbar \u001b[38;5;241m:=\u001b[39m tqdm(\u001b[38;5;28mrange\u001b[39m(total_generations), disable\u001b[38;5;241m=\u001b[39mtune_mode)):\n\u001b[0;32m     44\u001b[0m     \n\u001b[0;32m     45\u001b[0m     \u001b[38;5;66;03m# Evaluate the fitness of the population\u001b[39;00m\n\u001b[1;32m---> 46\u001b[0m     fitnesses \u001b[38;5;241m=\u001b[39m \u001b[43mevaluate_fitness\u001b[49m\u001b[43m(\u001b[49m\u001b[38;5;28;43mself\u001b[39;49m\u001b[38;5;241;43m.\u001b[39;49m\u001b[43mpopulation\u001b[49m\u001b[43m,\u001b[49m\u001b[43m \u001b[49m\u001b[38;5;28;43mself\u001b[39;49m\u001b[38;5;241;43m.\u001b[39;49m\u001b[43mplant_params\u001b[49m\u001b[43m,\u001b[49m\u001b[43m \u001b[49m\u001b[38;5;28;43mself\u001b[39;49m\u001b[38;5;241;43m.\u001b[39;49m\u001b[43mspot\u001b[49m\u001b[43m)\u001b[49m\n\u001b[0;32m     48\u001b[0m     \u001b[38;5;66;03m# Sort population ascendingly\u001b[39;00m\n\u001b[0;32m     49\u001b[0m     fitness_indices \u001b[38;5;241m=\u001b[39m fitnesses\u001b[38;5;241m.\u001b[39margsort()\n",
      "File \u001b[1;32mc:\\Users\\mathi\\OneDrive\\Universitaet\\2nd Semester\\5_Supervised Research\\genetic-algorithm-pumped-hydropower\\05 - Part 1 Deterministic Actions\\genetic_numpy.py:229\u001b[0m, in \u001b[0;36mevaluate_fitness\u001b[1;34m(population, ps_params, prices)\u001b[0m\n\u001b[0;32m    225\u001b[0m                 fitness_score \u001b[38;5;241m-\u001b[39m\u001b[38;5;241m=\u001b[39m \u001b[38;5;241m100_000\u001b[39m\n\u001b[0;32m    226\u001b[0m         \u001b[38;5;66;03m# Do nothing (0)\u001b[39;00m\n\u001b[0;32m    227\u001b[0m         \u001b[38;5;66;03m# Nothing happens to the fitness score and the water level\u001b[39;00m\n\u001b[1;32m--> 229\u001b[0m     fitness_scores \u001b[38;5;241m=\u001b[39m \u001b[43mnp\u001b[49m\u001b[38;5;241;43m.\u001b[39;49m\u001b[43mappend\u001b[49m\u001b[43m(\u001b[49m\u001b[43mfitness_scores\u001b[49m\u001b[43m,\u001b[49m\u001b[43m \u001b[49m\u001b[43mfitness_score\u001b[49m\u001b[43m)\u001b[49m\n\u001b[0;32m    231\u001b[0m \u001b[38;5;28;01mreturn\u001b[39;00m fitness_scores\n",
      "File \u001b[1;32mc:\\Users\\mathi\\miniconda3\\envs\\general\\Lib\\site-packages\\numpy\\lib\\function_base.py:5617\u001b[0m, in \u001b[0;36mappend\u001b[1;34m(arr, values, axis)\u001b[0m\n\u001b[0;32m   5615\u001b[0m     values \u001b[38;5;241m=\u001b[39m ravel(values)\n\u001b[0;32m   5616\u001b[0m     axis \u001b[38;5;241m=\u001b[39m arr\u001b[38;5;241m.\u001b[39mndim\u001b[38;5;241m-\u001b[39m\u001b[38;5;241m1\u001b[39m\n\u001b[1;32m-> 5617\u001b[0m \u001b[38;5;28;01mreturn\u001b[39;00m \u001b[43mconcatenate\u001b[49m\u001b[43m(\u001b[49m\u001b[43m(\u001b[49m\u001b[43marr\u001b[49m\u001b[43m,\u001b[49m\u001b[43m \u001b[49m\u001b[43mvalues\u001b[49m\u001b[43m)\u001b[49m\u001b[43m,\u001b[49m\u001b[43m \u001b[49m\u001b[43maxis\u001b[49m\u001b[38;5;241;43m=\u001b[39;49m\u001b[43maxis\u001b[49m\u001b[43m)\u001b[49m\n",
      "\u001b[1;31mKeyboardInterrupt\u001b[0m: "
     ]
    }
   ],
   "source": [
    "hours = []\n",
    "milp_run_time = []\n",
    "ga_run_time = []\n",
    "milp_profits = []\n",
    "ga_profits = []\n",
    "\n",
    "for period, rand_slice in tqdm(zip(horizon_lengths, rand_slices)):\n",
    "\n",
    "    # Select a random subperiod\n",
    "    prices = df[\"spot\"].iloc[rand_slice : rand_slice + period].values\n",
    "    times = df[\"utc_time\"].iloc[rand_slice : rand_slice + period].values\n",
    "\n",
    "    # Solve the MILP model\n",
    "    start = time.time()\n",
    "    milp_solver = MILP(plant_params=plant_params, spot=prices, utc_time=times)\n",
    "    milp_model, milp_status, milp_profile = milp_solver.solve()\n",
    "    milp_time = time.time() - start\n",
    "\n",
    "    print(f\"MILP: {milp_model.objective.value()}\")\n",
    "\n",
    "    # Run the Genetic algorithm\n",
    "    start = time.time()\n",
    "    best_config = {\n",
    "        \"POP_SIZE\": 500,\n",
    "        \"INITIAL_MUTATION_RATE\": 0.7,\n",
    "        \"FINAL_MUTATION_RATE\": 0.15,\n",
    "        \"INITIAL_EXPLORATION\": 0.85,\n",
    "        \"ELITISM\": 0.9,\n",
    "        \"SURVIVAL_RATE\": 0.4,\n",
    "    }\n",
    "\n",
    "    ga_solver = GA_discrete_actions(\n",
    "        plant_params=plant_params,\n",
    "        spot=prices,\n",
    "        utc_time=times,\n",
    "        actions_space=[-1, 0, 1],\n",
    "    )\n",
    "\n",
    "    population, fitnesses, history = ga_solver.train(\n",
    "        config=best_config,\n",
    "        total_generations=500,\n",
    "        tune_mode=False,\n",
    "    )\n",
    "    ga_time = time.time() - start\n",
    "\n",
    "    # Get the best individual from the genetic algorithm\n",
    "    best_individual = [population[np.argmax(fitnesses)]]\n",
    "    best_fitness = evaluate_fitness(\n",
    "        prices=prices, population=best_individual, ps_params=plant_params\n",
    "    )\n",
    "\n",
    "    milp_run_time.append(milp_time)\n",
    "    ga_run_time.append(ga_time)\n",
    "    milp_profits.append(milp_model.objective.value())\n",
    "    ga_profits.append(best_fitness[0])"
   ]
  }
 ],
 "metadata": {
  "kernelspec": {
   "display_name": "general",
   "language": "python",
   "name": "python3"
  },
  "language_info": {
   "codemirror_mode": {
    "name": "ipython",
    "version": 3
   },
   "file_extension": ".py",
   "mimetype": "text/x-python",
   "name": "python",
   "nbconvert_exporter": "python",
   "pygments_lexer": "ipython3",
   "version": "3.11.5"
  }
 },
 "nbformat": 4,
 "nbformat_minor": 2
}
