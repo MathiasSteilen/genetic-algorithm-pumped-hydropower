{
 "cells": [
  {
   "cell_type": "code",
   "execution_count": 4,
   "metadata": {},
   "outputs": [
    {
     "name": "stdout",
     "output_type": "stream",
     "text": [
      "The blackcellmagic extension is already loaded. To reload it, use:\n",
      "  %reload_ext blackcellmagic\n"
     ]
    }
   ],
   "source": [
    "import pandas as pd\n",
    "import polars as pl\n",
    "import polars.selectors as cs\n",
    "import numpy as np\n",
    "import plotnine as pn\n",
    "import plotly.graph_objs as go\n",
    "import plotly.express as px\n",
    "from tqdm.notebook import tqdm\n",
    "from IPython.display import clear_output, display\n",
    "import os\n",
    "from itertools import product\n",
    "\n",
    "from deap import base, creator, tools, algorithms\n",
    "import imageio\n",
    "\n",
    "\n",
    "%load_ext blackcellmagic"
   ]
  },
  {
   "cell_type": "markdown",
   "metadata": {},
   "source": [
    "### Loading the Price Data"
   ]
  },
  {
   "cell_type": "code",
   "execution_count": 7,
   "metadata": {},
   "outputs": [
    {
     "data": {
      "text/html": [
       "<div>\n",
       "<style scoped>\n",
       "    .dataframe tbody tr th:only-of-type {\n",
       "        vertical-align: middle;\n",
       "    }\n",
       "\n",
       "    .dataframe tbody tr th {\n",
       "        vertical-align: top;\n",
       "    }\n",
       "\n",
       "    .dataframe thead th {\n",
       "        text-align: right;\n",
       "    }\n",
       "</style>\n",
       "<table border=\"1\" class=\"dataframe\">\n",
       "  <thead>\n",
       "    <tr style=\"text-align: right;\">\n",
       "      <th></th>\n",
       "      <th>spot</th>\n",
       "      <th>utc_time</th>\n",
       "    </tr>\n",
       "  </thead>\n",
       "  <tbody>\n",
       "    <tr>\n",
       "      <th>0</th>\n",
       "      <td>101.54</td>\n",
       "      <td>2022-01-01 00:00:00+00:00</td>\n",
       "    </tr>\n",
       "    <tr>\n",
       "      <th>1</th>\n",
       "      <td>52.13</td>\n",
       "      <td>2022-01-01 01:00:00+00:00</td>\n",
       "    </tr>\n",
       "    <tr>\n",
       "      <th>2</th>\n",
       "      <td>20.78</td>\n",
       "      <td>2022-01-01 02:00:00+00:00</td>\n",
       "    </tr>\n",
       "    <tr>\n",
       "      <th>3</th>\n",
       "      <td>15.66</td>\n",
       "      <td>2022-01-01 03:00:00+00:00</td>\n",
       "    </tr>\n",
       "    <tr>\n",
       "      <th>4</th>\n",
       "      <td>21.47</td>\n",
       "      <td>2022-01-01 04:00:00+00:00</td>\n",
       "    </tr>\n",
       "  </tbody>\n",
       "</table>\n",
       "</div>"
      ],
      "text/plain": [
       "     spot                   utc_time\n",
       "0  101.54  2022-01-01 00:00:00+00:00\n",
       "1   52.13  2022-01-01 01:00:00+00:00\n",
       "2   20.78  2022-01-01 02:00:00+00:00\n",
       "3   15.66  2022-01-01 03:00:00+00:00\n",
       "4   21.47  2022-01-01 04:00:00+00:00"
      ]
     },
     "execution_count": 7,
     "metadata": {},
     "output_type": "execute_result"
    }
   ],
   "source": [
    "df = pd.read_csv(\"../01 - Data/example_week.csv\")\n",
    "df.head()"
   ]
  },
  {
   "cell_type": "markdown",
   "metadata": {},
   "source": [
    "### The Power Plant"
   ]
  },
  {
   "cell_type": "code",
   "execution_count": 40,
   "metadata": {},
   "outputs": [],
   "source": [
    "plant_params = {\n",
    "    \"EFFICIENCY\": 0.75,\n",
    "    \"MAX_STORAGE_M3\": 5000,\n",
    "    \"MIN_STORAGE_M3\": 0,\n",
    "    \"TURBINE_POWER_MW\": 100,\n",
    "    \"PUMP_POWER_MW\": 100,\n",
    "    \"TURBINE_RATE_M3H\": 500,\n",
    "    \"MIN_STORAGE_MWH\": 0,\n",
    "    \"INITIAL_WATER_LEVEL_PCT\": 0,\n",
    "}\n",
    "plant_params[\"INITIAL_WATER_LEVEL\"] = (\n",
    "    plant_params[\"INITIAL_WATER_LEVEL_PCT\"] * plant_params[\"MAX_STORAGE_M3\"]\n",
    ")\n",
    "plant_params[\"PUMP_RATE_M3H\"] = (\n",
    "    plant_params[\"TURBINE_RATE_M3H\"] * plant_params[\"EFFICIENCY\"]\n",
    ")\n",
    "plant_params[\"MAX_STORAGE_MWH\"] = (\n",
    "    plant_params[\"MAX_STORAGE_M3\"] / plant_params[\"TURBINE_RATE_M3H\"]\n",
    ") * plant_params[\"TURBINE_POWER_MW\"]"
   ]
  },
  {
   "cell_type": "markdown",
   "metadata": {},
   "source": [
    "### Using Genetic Algorithms with DEAP: Understanding the Library\n",
    "\n",
    "Since the actual structure of the required individuals in genetic algorithms does strongly depend on the task at hand, DEAP does not contain any explicit structure. It will rather provide a convenient method for creating containers of attributes, associated with fitnesses, called the deap.creator. Using this method we can create custom individuals in a very simple way."
   ]
  },
  {
   "cell_type": "code",
   "execution_count": 2,
   "metadata": {},
   "outputs": [],
   "source": [
    "creator.create(\"FitnessMax\", base.Fitness, weights=(1.0,))\n",
    "creator.create(\"Individual\", list, fitness=creator.FitnessMax)"
   ]
  },
  {
   "cell_type": "markdown",
   "metadata": {},
   "source": [
    "The creator is a class factory that can build new classes at run-time. It will be called with first the desired name of the new class, second the base class it will inherit, and in addition any subsequent arguments you want to become attributes of your class."
   ]
  },
  {
   "cell_type": "code",
   "execution_count": 8,
   "metadata": {},
   "outputs": [],
   "source": [
    "ind_size = df.shape[0]"
   ]
  },
  {
   "cell_type": "markdown",
   "metadata": {},
   "source": [
    "All the objects we will use on our way, an individual, the population, as well as all functions, operators, and arguments will be stored in a DEAP container called Toolbox. It contains two methods for adding and removing content, register() and unregister()."
   ]
  },
  {
   "cell_type": "code",
   "execution_count": 10,
   "metadata": {},
   "outputs": [],
   "source": [
    "toolbox = base.Toolbox()\n",
    "# Attribute generator \n",
    "toolbox.register(\"attr_action\", np.random.choice, [-1, 0, 1])"
   ]
  },
  {
   "cell_type": "markdown",
   "metadata": {},
   "source": [
    "Initialise a generation function that samples uniformly in the input space."
   ]
  },
  {
   "cell_type": "code",
   "execution_count": 11,
   "metadata": {},
   "outputs": [],
   "source": [
    "# Structure initializers\n",
    "toolbox.register(\"individual\", tools.initRepeat, creator.Individual, toolbox.attr_action, ind_size)\n",
    "toolbox.register(\"population\", tools.initRepeat, list, toolbox.individual)"
   ]
  },
  {
   "cell_type": "code",
   "execution_count": 12,
   "metadata": {},
   "outputs": [],
   "source": [
    "# CXPB  is the probability with which two individuals\n",
    "# are crossed\n",
    "# MUTPB is the probability for mutating an individual\n",
    "CXPB, MUTPB = 0.5, 0.1"
   ]
  },
  {
   "cell_type": "code",
   "execution_count": 72,
   "metadata": {},
   "outputs": [
    {
     "data": {
      "text/plain": [
       "array([-10154.,   5213.,  -2078.,   1566.,   2147.,      0.,  -9533.,\n",
       "            0.,   9543.,      0.,   6088.,   7072.,      0.,      0.,\n",
       "            0.,  12009., -14889.,  14230.,      0.,      0.,      0.,\n",
       "            0., -14177.,   8851.,  -7504.,      0.,  -2370.,  -1584.,\n",
       "         2398.,  -3588.,      0.,   7505.,      0.,   7592.,      0.,\n",
       "         7504.,   4876.,   5825.,      0.,  -9151., -12625.,  12588.,\n",
       "       -11073.,      0.,      0.,      0.,      0.,  -6255.,    966.,\n",
       "         1668.,      0.,      0.,      0.,      0., -19940.,      0.,\n",
       "            0.,      0.,      0.,  19483., -19196., -20410.,      0.,\n",
       "       -22446.,  22021.,      0., -20411., -20110.,      0.,  16578.,\n",
       "            0.,      0.,  11197., -10104.,      0., -10079.,      0.,\n",
       "       -16034.,  19784.,      0.,      0., -20799., -20426.,  19130.,\n",
       "       -18933.,      0., -19993., -20699., -20194., -20580.,      0.,\n",
       "       -19163.,      0., -15284.,      0., -14144., -11712.,  10661.,\n",
       "         9261.,      0., -10597., -15964., -19454.,      0.,      0.,\n",
       "            0., -20163.,      0., -19241.,      0.,  19536., -19946.,\n",
       "       -22614.,  24229.,      0., -20679.,  19323., -18935., -18055.,\n",
       "            0., -17706.,      0.,      0.,      0.,      0.,  19753.,\n",
       "            0., -24910., -24719., -25047., -24105.,      0.,      0.,\n",
       "            0., -23949.,  24598., -26628., -26548.,  25034.,      0.,\n",
       "       -22143.,      0.,  19812.,      0., -19750., -18914.,      0.,\n",
       "        17053., -18293., -20797.,      0.,  26658.,      0., -25687.,\n",
       "       -24552.,      0.,      0.,  23092.,      0.,  24603.,      0.,\n",
       "       -26656., -25667.,      0., -22379.,      0.,      0.,      0.])"
      ]
     },
     "execution_count": 72,
     "metadata": {},
     "output_type": "execute_result"
    }
   ],
   "source": [
    "revenues = np.select(\n",
    "    condlist=[\n",
    "        np.array(toolbox.individual()) == -1,\n",
    "        np.array(toolbox.individual()) == 1,\n",
    "    ],\n",
    "    choicelist=[\n",
    "        -plant_params[\"PUMP_POWER_MW\"] * df[\"spot\"],\n",
    "        plant_params[\"TURBINE_POWER_MW\"] * df[\"spot\"],\n",
    "    ],\n",
    "    default=0,\n",
    ")\n",
    "revenues"
   ]
  },
  {
   "cell_type": "code",
   "execution_count": 70,
   "metadata": {},
   "outputs": [],
   "source": [
    "water_levels = np.select(\n",
    "    condlist=[\n",
    "        np.array(toolbox.individual()) == -1,\n",
    "        np.array(toolbox.individual()) == 1,\n",
    "    ],\n",
    "    choicelist=[plant_params[\"PUMP_RATE_M3H\"], plant_params[\"TURBINE_RATE_M3H\"]],\n",
    "    default=0,\n",
    ").cumsum()\n",
    "\n",
    "exceedances = (\n",
    "    (water_levels >= plant_params[\"MAX_STORAGE_M3\"])\n",
    "    | (water_levels <= plant_params[\"MIN_STORAGE_M3\"])\n",
    ").sum()"
   ]
  },
  {
   "cell_type": "code",
   "execution_count": 75,
   "metadata": {},
   "outputs": [],
   "source": [
    "# Set the evaluation function\n",
    "def evaluate_fitness(individual):\n",
    "\n",
    "    # Calculate revenues from actions\n",
    "    revenues = np.select(\n",
    "        condlist=[\n",
    "            np.array(toolbox.individual()) == -1,\n",
    "            np.array(toolbox.individual()) == 1,\n",
    "        ],\n",
    "        choicelist=[\n",
    "            -plant_params[\"PUMP_POWER_MW\"] * df[\"spot\"],\n",
    "            plant_params[\"TURBINE_POWER_MW\"] * df[\"spot\"],\n",
    "        ],\n",
    "        default=0,\n",
    "    )\n",
    "\n",
    "    # Calculate water level exceedances\n",
    "    water_levels = np.select(\n",
    "        condlist=[\n",
    "            np.array(toolbox.individual()) == -1,\n",
    "            np.array(toolbox.individual()) == 1,\n",
    "        ],\n",
    "        choicelist=[plant_params[\"PUMP_RATE_M3H\"], -plant_params[\"TURBINE_RATE_M3H\"]],\n",
    "        default=0,\n",
    "    ).cumsum()\n",
    "\n",
    "    exceedances = (\n",
    "        (water_levels >= plant_params[\"MAX_STORAGE_M3\"])\n",
    "        | (water_levels <= plant_params[\"MIN_STORAGE_M3\"])\n",
    "    ).sum()\n",
    "\n",
    "    if exceedances > 0:\n",
    "        return revenues.sum() - 1e7\n",
    "    else:\n",
    "        return revenues"
   ]
  },
  {
   "cell_type": "code",
   "execution_count": 50,
   "metadata": {},
   "outputs": [],
   "source": [
    "# Genetic Operators\n",
    "toolbox.register(\"evaluate\", evaluate_fitness)\n",
    "toolbox.register(\"mate\", tools.cxTwoPoint)\n",
    "toolbox.register(\"mutate\", tools.mutGaussian, mu=0, sigma=0.1, indpb=0.05)\n",
    "toolbox.register(\"select\", tools.selTournament, tournsize=5)"
   ]
  },
  {
   "cell_type": "code",
   "execution_count": 51,
   "metadata": {},
   "outputs": [
    {
     "data": {
      "text/plain": [
       "[[2.7702990338584987, -1.5709623590746071],\n",
       " [-2.6073630164636583, 1.4450776442122244],\n",
       " [-1.5060075054665631, 2.0925668056743945],\n",
       " [-3.1887412978038085, -0.801179015312707],\n",
       " [3.8704538099303747, -0.03218703018815283],\n",
       " [-0.06403462859108089, -0.3914765323476974],\n",
       " [-0.8186538461317809, -3.4503656511515315],\n",
       " [-4.074165472877698, -0.3652340672865604],\n",
       " [-1.1831309587654681, -1.3654450915438754],\n",
       " [-3.4894093735557394, -3.4476642977946783]]"
      ]
     },
     "execution_count": 51,
     "metadata": {},
     "output_type": "execute_result"
    }
   ],
   "source": [
    "# Creating popluation\n",
    "population = toolbox.population(n=50)\n",
    "population[:10]"
   ]
  },
  {
   "cell_type": "code",
   "execution_count": 52,
   "metadata": {},
   "outputs": [
    {
     "name": "stdout",
     "output_type": "stream",
     "text": [
      "Generation 10 done...\n",
      "Generation 20 done...\n",
      "Generation 30 done...\n",
      "Generation 40 done...\n",
      "Generation 50 done...\n"
     ]
    }
   ],
   "source": [
    "# Variable keeping track of the number of generations\n",
    "generation = 0\n",
    "total_generations = 50\n",
    "min_values = []\n",
    "mean_values = []\n",
    "max_values = []\n",
    "\n",
    "# Begin the evolution\n",
    "while generation < total_generations:\n",
    "    \n",
    "    # Select the next generation individuals\n",
    "    offspring = toolbox.select(population, len(population))\n",
    "\n",
    "    # Clone the selected individuals\n",
    "    offspring = list(map(toolbox.clone, offspring))\n",
    "\n",
    "    # Apply crossover and mutation on the offspring\n",
    "    for child1, child2 in zip(offspring[::2], offspring[1::2]):\n",
    "        if np.random.random() < CXPB:\n",
    "            toolbox.mate(child1, child2)\n",
    "            del child1.fitness.values\n",
    "            del child2.fitness.values\n",
    "\n",
    "    for mutant in offspring:\n",
    "        if np.random.random() < MUTPB:\n",
    "            toolbox.mutate(mutant)\n",
    "            del mutant.fitness.values\n",
    "\n",
    "    # Evaluate the individuals with an invalid fitness\n",
    "    # Those are the ones that have been deleted\n",
    "    invalid_ind = [ind for ind in offspring if not ind.fitness.valid]\n",
    "    fitnesses = map(toolbox.evaluate, invalid_ind)\n",
    "    for ind, fit in zip(invalid_ind, fitnesses):\n",
    "        ind.fitness.values = fit\n",
    "\n",
    "    # Keep score of values for evaluation after training\n",
    "    fit = [ind.fitness.values[0] for ind in offspring]\n",
    "    min_values.append(np.min(fit))\n",
    "    mean_values.append(np.mean(fit))\n",
    "    max_values.append(np.max(fit))\n",
    "\n",
    "    # Overwrite the current population with the offspring    \n",
    "    population[:] = offspring\n",
    "\n",
    "    # Increment counter\n",
    "    generation += 1\n",
    "    # Print status\n",
    "    if generation % 10 == 0:\n",
    "        print(f\"Generation {generation} done...\")"
   ]
  },
  {
   "cell_type": "code",
   "execution_count": 53,
   "metadata": {},
   "outputs": [
    {
     "data": {
      "application/vnd.plotly.v1+json": {
       "config": {
        "plotlyServerURL": "https://plot.ly"
       },
       "data": [
        {
         "hovertemplate": "variable=min<br>generation=%{x}<br>value=%{y}<extra></extra>",
         "legendgroup": "min",
         "line": {
          "color": "#636efa",
          "dash": "solid"
         },
         "marker": {
          "symbol": "circle"
         },
         "mode": "lines",
         "name": "min",
         "orientation": "v",
         "showlegend": true,
         "type": "scatter",
         "x": [
          1,
          2,
          3,
          4,
          5,
          6,
          7,
          8,
          9,
          10,
          11,
          12,
          13,
          14,
          15,
          16,
          17,
          18,
          19,
          20,
          21,
          22,
          23,
          24,
          25,
          26,
          27,
          28,
          29,
          30,
          31,
          32,
          33,
          34,
          35,
          36,
          37,
          38,
          39,
          40,
          41,
          42,
          43,
          44,
          45,
          46,
          47,
          48,
          49,
          50
         ],
         "xaxis": "x",
         "y": [
          3.316069322503081,
          0.5842634496373957,
          0.5842634496373957,
          0.5842634496373957,
          0.5842634496373957,
          0.27193144997845664,
          0.27193144997845664,
          0.27193144997845664,
          0.27193144997845664,
          0.27193144997845664,
          0.27193144997845664,
          0.27193144997845664,
          0.27193144997845664,
          0.27193144997845664,
          0.27193144997845664,
          0.27193144997845664,
          0.27193144997845664,
          0.27193144997845664,
          0.27193144997845664,
          0.27193144997845664,
          0.27193144997845664,
          0.27193144997845664,
          0.27193144997845664,
          0.27193144997845664,
          0.27193144997845664,
          0.27193144997845664,
          0.27193144997845664,
          0.27193144997845664,
          0.27193144997845664,
          0.27193144997845664,
          0.27193144997845664,
          0.27193144997845664,
          0.27193144997845664,
          0.27193144997845664,
          0.27193144997845664,
          0.27193144997845664,
          0.27193144997845664,
          0.27193144997845664,
          0.27193144997845664,
          0.27193144997845664,
          0.27193144997845664,
          0.27193144997845664,
          0.27193144997845664,
          0.27193144997845664,
          0.27193144997845664,
          0.27193144997845664,
          0.27193144997845664,
          0.27193144997845664,
          0.27193144997845664,
          0.27193144997845664
         ],
         "yaxis": "y"
        },
        {
         "hovertemplate": "variable=mean<br>generation=%{x}<br>value=%{y}<extra></extra>",
         "legendgroup": "mean",
         "line": {
          "color": "#EF553B",
          "dash": "solid"
         },
         "marker": {
          "symbol": "circle"
         },
         "mode": "lines",
         "name": "mean",
         "orientation": "v",
         "showlegend": true,
         "type": "scatter",
         "x": [
          1,
          2,
          3,
          4,
          5,
          6,
          7,
          8,
          9,
          10,
          11,
          12,
          13,
          14,
          15,
          16,
          17,
          18,
          19,
          20,
          21,
          22,
          23,
          24,
          25,
          26,
          27,
          28,
          29,
          30,
          31,
          32,
          33,
          34,
          35,
          36,
          37,
          38,
          39,
          40,
          41,
          42,
          43,
          44,
          45,
          46,
          47,
          48,
          49,
          50
         ],
         "xaxis": "x",
         "y": [
          34.98397554980796,
          20.07908605070461,
          8.400688448701459,
          2.491765616894585,
          0.6011918256125024,
          0.7383407887151903,
          0.5589095785771176,
          0.45933064977382015,
          0.2969180099511718,
          0.31134818512129625,
          0.27193144997845664,
          0.27193144997845664,
          0.28152975312116657,
          0.27193144997845664,
          0.27193144997845664,
          0.27193144997845664,
          0.27193144997845664,
          0.32336166279203754,
          0.31544715720630573,
          0.27193144997845664,
          0.3029543979071191,
          0.27193144997845664,
          0.2988856147266389,
          0.27193144997845664,
          0.275242970753879,
          0.3187451047482179,
          0.305615836084851,
          0.27193144997845664,
          0.27193144997845664,
          0.27193144997845664,
          0.27193144997845664,
          0.2730625181189298,
          0.27193144997845664,
          0.27193144997845664,
          0.27193144997845664,
          0.3074035627794746,
          0.27193144997845664,
          0.27193144997845664,
          0.27193144997845664,
          0.27193144997845664,
          0.30258805906078207,
          0.27193144997845664,
          0.27193144997845664,
          0.27193144997845664,
          0.3455165494148298,
          0.28555838196574174,
          0.27193144997845664,
          0.27193144997845664,
          0.27193144997845664,
          0.27193144997845664
         ],
         "yaxis": "y"
        },
        {
         "hovertemplate": "variable=max<br>generation=%{x}<br>value=%{y}<extra></extra>",
         "legendgroup": "max",
         "line": {
          "color": "#00cc96",
          "dash": "solid"
         },
         "marker": {
          "symbol": "circle"
         },
         "mode": "lines",
         "name": "max",
         "orientation": "v",
         "showlegend": true,
         "type": "scatter",
         "x": [
          1,
          2,
          3,
          4,
          5,
          6,
          7,
          8,
          9,
          10,
          11,
          12,
          13,
          14,
          15,
          16,
          17,
          18,
          19,
          20,
          21,
          22,
          23,
          24,
          25,
          26,
          27,
          28,
          29,
          30,
          31,
          32,
          33,
          34,
          35,
          36,
          37,
          38,
          39,
          40,
          41,
          42,
          43,
          44,
          45,
          46,
          47,
          48,
          49,
          50
         ],
         "xaxis": "x",
         "y": [
          64.27024191669489,
          41.23657871043926,
          19.67388165638966,
          11.368380030518711,
          1.0074728490150608,
          8.600462403186059,
          1.1905618945771312,
          0.5842634496373957,
          0.5842634496373957,
          1.9937493677032414,
          0.27193144997845664,
          0.27193144997845664,
          0.7518466071139542,
          0.27193144997845664,
          0.27193144997845664,
          0.27193144997845664,
          0.27193144997845664,
          2.8434420906575006,
          2.44771681137091,
          0.27193144997845664,
          1.823078846411578,
          0.27193144997845664,
          1.6196396873875685,
          0.27193144997845664,
          0.43750748874957424,
          2.6126141884665195,
          1.8724192478893844,
          0.27193144997845664,
          0.27193144997845664,
          0.27193144997845664,
          0.27193144997845664,
          0.32848485700211505,
          0.27193144997845664,
          0.27193144997845664,
          0.27193144997845664,
          2.045537090029356,
          0.27193144997845664,
          0.27193144997845664,
          0.27193144997845664,
          0.27193144997845664,
          1.6381547494321804,
          0.27193144997845664,
          0.27193144997845664,
          0.27193144997845664,
          3.9511864217971153,
          0.9532780493427122,
          0.27193144997845664,
          0.27193144997845664,
          0.27193144997845664,
          0.27193144997845664
         ],
         "yaxis": "y"
        }
       ],
       "layout": {
        "legend": {
         "title": {
          "text": "variable"
         },
         "tracegroupgap": 0
        },
        "margin": {
         "t": 60
        },
        "template": {
         "data": {
          "bar": [
           {
            "error_x": {
             "color": "#2a3f5f"
            },
            "error_y": {
             "color": "#2a3f5f"
            },
            "marker": {
             "line": {
              "color": "#E5ECF6",
              "width": 0.5
             },
             "pattern": {
              "fillmode": "overlay",
              "size": 10,
              "solidity": 0.2
             }
            },
            "type": "bar"
           }
          ],
          "barpolar": [
           {
            "marker": {
             "line": {
              "color": "#E5ECF6",
              "width": 0.5
             },
             "pattern": {
              "fillmode": "overlay",
              "size": 10,
              "solidity": 0.2
             }
            },
            "type": "barpolar"
           }
          ],
          "carpet": [
           {
            "aaxis": {
             "endlinecolor": "#2a3f5f",
             "gridcolor": "white",
             "linecolor": "white",
             "minorgridcolor": "white",
             "startlinecolor": "#2a3f5f"
            },
            "baxis": {
             "endlinecolor": "#2a3f5f",
             "gridcolor": "white",
             "linecolor": "white",
             "minorgridcolor": "white",
             "startlinecolor": "#2a3f5f"
            },
            "type": "carpet"
           }
          ],
          "choropleth": [
           {
            "colorbar": {
             "outlinewidth": 0,
             "ticks": ""
            },
            "type": "choropleth"
           }
          ],
          "contour": [
           {
            "colorbar": {
             "outlinewidth": 0,
             "ticks": ""
            },
            "colorscale": [
             [
              0,
              "#0d0887"
             ],
             [
              0.1111111111111111,
              "#46039f"
             ],
             [
              0.2222222222222222,
              "#7201a8"
             ],
             [
              0.3333333333333333,
              "#9c179e"
             ],
             [
              0.4444444444444444,
              "#bd3786"
             ],
             [
              0.5555555555555556,
              "#d8576b"
             ],
             [
              0.6666666666666666,
              "#ed7953"
             ],
             [
              0.7777777777777778,
              "#fb9f3a"
             ],
             [
              0.8888888888888888,
              "#fdca26"
             ],
             [
              1,
              "#f0f921"
             ]
            ],
            "type": "contour"
           }
          ],
          "contourcarpet": [
           {
            "colorbar": {
             "outlinewidth": 0,
             "ticks": ""
            },
            "type": "contourcarpet"
           }
          ],
          "heatmap": [
           {
            "colorbar": {
             "outlinewidth": 0,
             "ticks": ""
            },
            "colorscale": [
             [
              0,
              "#0d0887"
             ],
             [
              0.1111111111111111,
              "#46039f"
             ],
             [
              0.2222222222222222,
              "#7201a8"
             ],
             [
              0.3333333333333333,
              "#9c179e"
             ],
             [
              0.4444444444444444,
              "#bd3786"
             ],
             [
              0.5555555555555556,
              "#d8576b"
             ],
             [
              0.6666666666666666,
              "#ed7953"
             ],
             [
              0.7777777777777778,
              "#fb9f3a"
             ],
             [
              0.8888888888888888,
              "#fdca26"
             ],
             [
              1,
              "#f0f921"
             ]
            ],
            "type": "heatmap"
           }
          ],
          "heatmapgl": [
           {
            "colorbar": {
             "outlinewidth": 0,
             "ticks": ""
            },
            "colorscale": [
             [
              0,
              "#0d0887"
             ],
             [
              0.1111111111111111,
              "#46039f"
             ],
             [
              0.2222222222222222,
              "#7201a8"
             ],
             [
              0.3333333333333333,
              "#9c179e"
             ],
             [
              0.4444444444444444,
              "#bd3786"
             ],
             [
              0.5555555555555556,
              "#d8576b"
             ],
             [
              0.6666666666666666,
              "#ed7953"
             ],
             [
              0.7777777777777778,
              "#fb9f3a"
             ],
             [
              0.8888888888888888,
              "#fdca26"
             ],
             [
              1,
              "#f0f921"
             ]
            ],
            "type": "heatmapgl"
           }
          ],
          "histogram": [
           {
            "marker": {
             "pattern": {
              "fillmode": "overlay",
              "size": 10,
              "solidity": 0.2
             }
            },
            "type": "histogram"
           }
          ],
          "histogram2d": [
           {
            "colorbar": {
             "outlinewidth": 0,
             "ticks": ""
            },
            "colorscale": [
             [
              0,
              "#0d0887"
             ],
             [
              0.1111111111111111,
              "#46039f"
             ],
             [
              0.2222222222222222,
              "#7201a8"
             ],
             [
              0.3333333333333333,
              "#9c179e"
             ],
             [
              0.4444444444444444,
              "#bd3786"
             ],
             [
              0.5555555555555556,
              "#d8576b"
             ],
             [
              0.6666666666666666,
              "#ed7953"
             ],
             [
              0.7777777777777778,
              "#fb9f3a"
             ],
             [
              0.8888888888888888,
              "#fdca26"
             ],
             [
              1,
              "#f0f921"
             ]
            ],
            "type": "histogram2d"
           }
          ],
          "histogram2dcontour": [
           {
            "colorbar": {
             "outlinewidth": 0,
             "ticks": ""
            },
            "colorscale": [
             [
              0,
              "#0d0887"
             ],
             [
              0.1111111111111111,
              "#46039f"
             ],
             [
              0.2222222222222222,
              "#7201a8"
             ],
             [
              0.3333333333333333,
              "#9c179e"
             ],
             [
              0.4444444444444444,
              "#bd3786"
             ],
             [
              0.5555555555555556,
              "#d8576b"
             ],
             [
              0.6666666666666666,
              "#ed7953"
             ],
             [
              0.7777777777777778,
              "#fb9f3a"
             ],
             [
              0.8888888888888888,
              "#fdca26"
             ],
             [
              1,
              "#f0f921"
             ]
            ],
            "type": "histogram2dcontour"
           }
          ],
          "mesh3d": [
           {
            "colorbar": {
             "outlinewidth": 0,
             "ticks": ""
            },
            "type": "mesh3d"
           }
          ],
          "parcoords": [
           {
            "line": {
             "colorbar": {
              "outlinewidth": 0,
              "ticks": ""
             }
            },
            "type": "parcoords"
           }
          ],
          "pie": [
           {
            "automargin": true,
            "type": "pie"
           }
          ],
          "scatter": [
           {
            "fillpattern": {
             "fillmode": "overlay",
             "size": 10,
             "solidity": 0.2
            },
            "type": "scatter"
           }
          ],
          "scatter3d": [
           {
            "line": {
             "colorbar": {
              "outlinewidth": 0,
              "ticks": ""
             }
            },
            "marker": {
             "colorbar": {
              "outlinewidth": 0,
              "ticks": ""
             }
            },
            "type": "scatter3d"
           }
          ],
          "scattercarpet": [
           {
            "marker": {
             "colorbar": {
              "outlinewidth": 0,
              "ticks": ""
             }
            },
            "type": "scattercarpet"
           }
          ],
          "scattergeo": [
           {
            "marker": {
             "colorbar": {
              "outlinewidth": 0,
              "ticks": ""
             }
            },
            "type": "scattergeo"
           }
          ],
          "scattergl": [
           {
            "marker": {
             "colorbar": {
              "outlinewidth": 0,
              "ticks": ""
             }
            },
            "type": "scattergl"
           }
          ],
          "scattermapbox": [
           {
            "marker": {
             "colorbar": {
              "outlinewidth": 0,
              "ticks": ""
             }
            },
            "type": "scattermapbox"
           }
          ],
          "scatterpolar": [
           {
            "marker": {
             "colorbar": {
              "outlinewidth": 0,
              "ticks": ""
             }
            },
            "type": "scatterpolar"
           }
          ],
          "scatterpolargl": [
           {
            "marker": {
             "colorbar": {
              "outlinewidth": 0,
              "ticks": ""
             }
            },
            "type": "scatterpolargl"
           }
          ],
          "scatterternary": [
           {
            "marker": {
             "colorbar": {
              "outlinewidth": 0,
              "ticks": ""
             }
            },
            "type": "scatterternary"
           }
          ],
          "surface": [
           {
            "colorbar": {
             "outlinewidth": 0,
             "ticks": ""
            },
            "colorscale": [
             [
              0,
              "#0d0887"
             ],
             [
              0.1111111111111111,
              "#46039f"
             ],
             [
              0.2222222222222222,
              "#7201a8"
             ],
             [
              0.3333333333333333,
              "#9c179e"
             ],
             [
              0.4444444444444444,
              "#bd3786"
             ],
             [
              0.5555555555555556,
              "#d8576b"
             ],
             [
              0.6666666666666666,
              "#ed7953"
             ],
             [
              0.7777777777777778,
              "#fb9f3a"
             ],
             [
              0.8888888888888888,
              "#fdca26"
             ],
             [
              1,
              "#f0f921"
             ]
            ],
            "type": "surface"
           }
          ],
          "table": [
           {
            "cells": {
             "fill": {
              "color": "#EBF0F8"
             },
             "line": {
              "color": "white"
             }
            },
            "header": {
             "fill": {
              "color": "#C8D4E3"
             },
             "line": {
              "color": "white"
             }
            },
            "type": "table"
           }
          ]
         },
         "layout": {
          "annotationdefaults": {
           "arrowcolor": "#2a3f5f",
           "arrowhead": 0,
           "arrowwidth": 1
          },
          "autotypenumbers": "strict",
          "coloraxis": {
           "colorbar": {
            "outlinewidth": 0,
            "ticks": ""
           }
          },
          "colorscale": {
           "diverging": [
            [
             0,
             "#8e0152"
            ],
            [
             0.1,
             "#c51b7d"
            ],
            [
             0.2,
             "#de77ae"
            ],
            [
             0.3,
             "#f1b6da"
            ],
            [
             0.4,
             "#fde0ef"
            ],
            [
             0.5,
             "#f7f7f7"
            ],
            [
             0.6,
             "#e6f5d0"
            ],
            [
             0.7,
             "#b8e186"
            ],
            [
             0.8,
             "#7fbc41"
            ],
            [
             0.9,
             "#4d9221"
            ],
            [
             1,
             "#276419"
            ]
           ],
           "sequential": [
            [
             0,
             "#0d0887"
            ],
            [
             0.1111111111111111,
             "#46039f"
            ],
            [
             0.2222222222222222,
             "#7201a8"
            ],
            [
             0.3333333333333333,
             "#9c179e"
            ],
            [
             0.4444444444444444,
             "#bd3786"
            ],
            [
             0.5555555555555556,
             "#d8576b"
            ],
            [
             0.6666666666666666,
             "#ed7953"
            ],
            [
             0.7777777777777778,
             "#fb9f3a"
            ],
            [
             0.8888888888888888,
             "#fdca26"
            ],
            [
             1,
             "#f0f921"
            ]
           ],
           "sequentialminus": [
            [
             0,
             "#0d0887"
            ],
            [
             0.1111111111111111,
             "#46039f"
            ],
            [
             0.2222222222222222,
             "#7201a8"
            ],
            [
             0.3333333333333333,
             "#9c179e"
            ],
            [
             0.4444444444444444,
             "#bd3786"
            ],
            [
             0.5555555555555556,
             "#d8576b"
            ],
            [
             0.6666666666666666,
             "#ed7953"
            ],
            [
             0.7777777777777778,
             "#fb9f3a"
            ],
            [
             0.8888888888888888,
             "#fdca26"
            ],
            [
             1,
             "#f0f921"
            ]
           ]
          },
          "colorway": [
           "#636efa",
           "#EF553B",
           "#00cc96",
           "#ab63fa",
           "#FFA15A",
           "#19d3f3",
           "#FF6692",
           "#B6E880",
           "#FF97FF",
           "#FECB52"
          ],
          "font": {
           "color": "#2a3f5f"
          },
          "geo": {
           "bgcolor": "white",
           "lakecolor": "white",
           "landcolor": "#E5ECF6",
           "showlakes": true,
           "showland": true,
           "subunitcolor": "white"
          },
          "hoverlabel": {
           "align": "left"
          },
          "hovermode": "closest",
          "mapbox": {
           "style": "light"
          },
          "paper_bgcolor": "white",
          "plot_bgcolor": "#E5ECF6",
          "polar": {
           "angularaxis": {
            "gridcolor": "white",
            "linecolor": "white",
            "ticks": ""
           },
           "bgcolor": "#E5ECF6",
           "radialaxis": {
            "gridcolor": "white",
            "linecolor": "white",
            "ticks": ""
           }
          },
          "scene": {
           "xaxis": {
            "backgroundcolor": "#E5ECF6",
            "gridcolor": "white",
            "gridwidth": 2,
            "linecolor": "white",
            "showbackground": true,
            "ticks": "",
            "zerolinecolor": "white"
           },
           "yaxis": {
            "backgroundcolor": "#E5ECF6",
            "gridcolor": "white",
            "gridwidth": 2,
            "linecolor": "white",
            "showbackground": true,
            "ticks": "",
            "zerolinecolor": "white"
           },
           "zaxis": {
            "backgroundcolor": "#E5ECF6",
            "gridcolor": "white",
            "gridwidth": 2,
            "linecolor": "white",
            "showbackground": true,
            "ticks": "",
            "zerolinecolor": "white"
           }
          },
          "shapedefaults": {
           "line": {
            "color": "#2a3f5f"
           }
          },
          "ternary": {
           "aaxis": {
            "gridcolor": "white",
            "linecolor": "white",
            "ticks": ""
           },
           "baxis": {
            "gridcolor": "white",
            "linecolor": "white",
            "ticks": ""
           },
           "bgcolor": "#E5ECF6",
           "caxis": {
            "gridcolor": "white",
            "linecolor": "white",
            "ticks": ""
           }
          },
          "title": {
           "x": 0.05
          },
          "xaxis": {
           "automargin": true,
           "gridcolor": "white",
           "linecolor": "white",
           "ticks": "",
           "title": {
            "standoff": 15
           },
           "zerolinecolor": "white",
           "zerolinewidth": 2
          },
          "yaxis": {
           "automargin": true,
           "gridcolor": "white",
           "linecolor": "white",
           "ticks": "",
           "title": {
            "standoff": 15
           },
           "zerolinecolor": "white",
           "zerolinewidth": 2
          }
         }
        },
        "xaxis": {
         "anchor": "y",
         "domain": [
          0,
          1
         ],
         "title": {
          "text": "generation"
         }
        },
        "yaxis": {
         "anchor": "x",
         "domain": [
          0,
          1
         ],
         "title": {
          "text": "value"
         }
        }
       }
      }
     },
     "metadata": {},
     "output_type": "display_data"
    }
   ],
   "source": [
    "history = pd.DataFrame(\n",
    "    {\n",
    "        \"generation\": np.arange(1, len(mean_values) + 1),\n",
    "        \"min\": min_values,\n",
    "        \"mean\": mean_values,\n",
    "        \"max\": max_values,\n",
    "    }\n",
    ").melt(id_vars=\"generation\")\n",
    "\n",
    "fig = px.line(data_frame=history, x=\"generation\", y=\"value\", color=\"variable\")\n",
    "fig.show()"
   ]
  },
  {
   "cell_type": "markdown",
   "metadata": {},
   "source": [
    "### Implementing a Clean Version and Making Visualisations\n",
    "\n",
    "Since the actual structure of the required individuals in genetic algorithms does strongly depend on the task at hand, DEAP does not contain any explicit structure. It will rather provide a convenient method for creating containers of attributes, associated with fitnesses, called the deap.creator. Using this method we can create custom individuals in a very simple way."
   ]
  },
  {
   "cell_type": "code",
   "execution_count": 126,
   "metadata": {},
   "outputs": [],
   "source": [
    "# Set the evaluation function\n",
    "def evalOneMin(individual):\n",
    "    return ackley(individual[0], individual[1]), "
   ]
  },
  {
   "cell_type": "code",
   "execution_count": 133,
   "metadata": {},
   "outputs": [
    {
     "name": "stderr",
     "output_type": "stream",
     "text": [
      "c:\\Users\\mathi\\miniconda3\\envs\\general\\Lib\\site-packages\\deap\\creator.py:185: RuntimeWarning:\n",
      "\n",
      "A class named 'FitnessMin' has already been created and it will be overwritten. Consider deleting previous creation of that class or rename it.\n",
      "\n",
      "c:\\Users\\mathi\\miniconda3\\envs\\general\\Lib\\site-packages\\deap\\creator.py:185: RuntimeWarning:\n",
      "\n",
      "A class named 'Individual' has already been created and it will be overwritten. Consider deleting previous creation of that class or rename it.\n",
      "\n"
     ]
    },
    {
     "data": {
      "application/vnd.jupyter.widget-view+json": {
       "model_id": "14c31ee73e1949ab998189ef4ee20e71",
       "version_major": 2,
       "version_minor": 0
      },
      "text/plain": [
       "  0%|          | 0/80 [00:00<?, ?it/s]"
      ]
     },
     "metadata": {},
     "output_type": "display_data"
    }
   ],
   "source": [
    "# Set fixed variables\n",
    "TOTAL_GENERATIONS = 80\n",
    "INDIVIDUAL_SIZE = 2\n",
    "\n",
    "config = {'CXPB': 0.25,\n",
    " 'MUTPB': 0.05,\n",
    " 'MUT_SD': 0.6,\n",
    " 'MUT_IND_PB': 0.5,\n",
    " 'TOURNAMENT_SIZE': 3,\n",
    " 'POP_SIZE': 500}\n",
    "\n",
    "# Objective Direction\n",
    "creator.create(\"FitnessMin\", base.Fitness, weights=(-1.0,))\n",
    "\n",
    "# Invidiaul Structure\n",
    "creator.create(\"Individual\", list, fitness=creator.FitnessMin)\n",
    "\n",
    "# Initialise the toolbox\n",
    "toolbox = base.Toolbox()\n",
    "\n",
    "# Attribute generator for individual genes\n",
    "toolbox.register(\"attr_float\", np.random.uniform, -4, -5)\n",
    "\n",
    "# Structure initializers\n",
    "toolbox.register(\n",
    "    \"individual\",\n",
    "    tools.initRepeat,\n",
    "    creator.Individual,\n",
    "    toolbox.attr_float,\n",
    "    INDIVIDUAL_SIZE,\n",
    ")\n",
    "toolbox.register(\"population\", tools.initRepeat, list, toolbox.individual)\n",
    "\n",
    "# Genetic Operators\n",
    "toolbox.register(\"evaluate\", evalOneMin)\n",
    "toolbox.register(\"mate\", tools.cxOnePoint)\n",
    "toolbox.register(\n",
    "    \"mutate\",\n",
    "    tools.mutGaussian,\n",
    "    mu=0,\n",
    "    sigma=config[\"MUT_SD\"],\n",
    "    indpb=config[\"MUT_IND_PB\"],\n",
    ")\n",
    "toolbox.register(\"select\", tools.selTournament, tournsize=config[\"TOURNAMENT_SIZE\"])\n",
    "\n",
    "# Creating the initial\n",
    "population = toolbox.population(n=config[\"POP_SIZE\"])\n",
    "\n",
    "# Begin the evolution\n",
    "generations = []\n",
    "best_fitnesses = []\n",
    "\n",
    "for generation in tqdm(range(TOTAL_GENERATIONS)):\n",
    "\n",
    "    # Select the next generation individuals\n",
    "    offspring = toolbox.select(population, len(population))\n",
    "\n",
    "    # Clone the selected individuals\n",
    "    offspring = list(map(toolbox.clone, offspring))\n",
    "\n",
    "    # Apply crossover and mutation on the offspring\n",
    "    for child1, child2 in zip(offspring[::2], offspring[1::2]):\n",
    "        if np.random.random() < config[\"CXPB\"]:\n",
    "            toolbox.mate(child1, child2)\n",
    "            del child1.fitness.values\n",
    "            del child2.fitness.values\n",
    "\n",
    "    for mutant in offspring:\n",
    "        if np.random.random() < config[\"MUTPB\"]:\n",
    "            toolbox.mutate(mutant)\n",
    "            del mutant.fitness.values\n",
    "\n",
    "    # Evaluate the individuals with an invalid fitness\n",
    "    # Those are the ones that have been deleted\n",
    "    invalid_ind = [ind for ind in offspring if not ind.fitness.valid]\n",
    "    fitnesses = map(toolbox.evaluate, invalid_ind)\n",
    "    for ind, fit in zip(invalid_ind, fitnesses):\n",
    "        ind.fitness.values = fit\n",
    "\n",
    "    # Overwrite the current population with the offspring\n",
    "    population[:] = offspring\n",
    "\n",
    "    # Increment counter\n",
    "    generation += 1\n",
    "\n",
    "    # Get fitnesses\n",
    "    fitnesses = [ind.fitness.values[0] for ind in population]\n",
    "    fit_avg = np.mean(fitnesses)\n",
    "    fit_best = np.min(fitnesses)\n",
    "\n",
    "    # Get the best individual\n",
    "    best_index = fitnesses.index(np.min(fitnesses))\n",
    "    best_indiv = population[best_index]\n",
    "\n",
    "    # Append the plot information\n",
    "    generations.append(generation)\n",
    "    best_fitnesses.append(fit_best)\n",
    "\n",
    "    # Write the contour plot\n",
    "    fig = go.Figure(data=[go.Contour(z=Z_ackley, x=x_vals, y=y_vals, \n",
    "                                     colorscale=\"Blues\")])\n",
    "    fig.add_trace(\n",
    "        go.Scatter(\n",
    "            x=[ind[0] for ind in population],\n",
    "            y=[ind[1] for ind in population],\n",
    "            mode=\"markers\",\n",
    "            marker=dict(size=3, color=\"black\"),\n",
    "        )\n",
    "    )\n",
    "    fig.add_trace(\n",
    "        go.Scatter(\n",
    "            x=[best_indiv[0]],\n",
    "            y=[best_indiv[1]],\n",
    "            mode=\"markers\",\n",
    "            line=dict(width=1, color=\"black\"),\n",
    "            marker=dict(size=8, color=\"firebrick\"),\n",
    "        )\n",
    "    )\n",
    "    fig.update_layout(\n",
    "        width=600,\n",
    "        height=600,\n",
    "        showlegend=False\n",
    "    )\n",
    "    fig.update_xaxes(range=[-5, 5])\n",
    "    fig.update_yaxes(range=[-5, 5])\n",
    "\n",
    "    fig.write_image(f\"ackley/{generation:04d}.png\", scale=2)\n",
    "    \n",
    "    # Write the line plot\n",
    "    fig = px.line(x=generations, y=best_fitnesses)\n",
    "    fig.update_xaxes(range=[0, TOTAL_GENERATIONS])\n",
    "    fig.update_layout(\n",
    "            title=f\"Generation: {generation} Best: {fit_best:.2f}\",\n",
    "            title_font=dict(size=28),\n",
    "            title_x=0.5,\n",
    "            xaxis_title=\"Generation\",\n",
    "            yaxis_title=\"Best Solution\",\n",
    "            width=1200,\n",
    "            height=300,\n",
    "            showlegend=False\n",
    "        )\n",
    "\n",
    "    fig.write_image(f\"ackley_history/{generation:04d}.png\", scale=2)"
   ]
  },
  {
   "cell_type": "markdown",
   "metadata": {},
   "source": [
    "### Create a GIF from the PNGs"
   ]
  },
  {
   "cell_type": "code",
   "execution_count": 134,
   "metadata": {},
   "outputs": [],
   "source": [
    "def generate_gif(folder_path, output_path):\n",
    "    # Get list of PNG files sorted\n",
    "    file_names = sorted([f for f in os.listdir(folder_path) if f.endswith('.png')])\n",
    "\n",
    "    # Duration of each frame in seconds (assuming 20 frames per second)\n",
    "    frame_duration = 1 / 20\n",
    "\n",
    "    # List to store images\n",
    "    images = []\n",
    "\n",
    "    writer = imageio.get_writer(output_path, fps=10)\n",
    "    # Read PNG files and append to images list\n",
    "    for file_name in file_names:\n",
    "        file_path = os.path.join(folder_path, file_name)\n",
    "        im = imageio.imread(file_path)\n",
    "        writer.append_data(im)\n",
    "\n",
    "    writer.close()"
   ]
  },
  {
   "cell_type": "code",
   "execution_count": 135,
   "metadata": {},
   "outputs": [
    {
     "name": "stderr",
     "output_type": "stream",
     "text": [
      "C:\\Users\\mathi\\AppData\\Local\\Temp\\ipykernel_15156\\139982273.py:15: DeprecationWarning:\n",
      "\n",
      "Starting with ImageIO v3 the behavior of this function will switch to that of iio.v3.imread. To keep the current behavior (and make this warning disappear) use `import imageio.v2 as imageio` or call `imageio.v2.imread` directly.\n",
      "\n",
      "IMAGEIO FFMPEG_WRITER WARNING: input image is not divisible by macro_block_size=16, resizing from (2400, 600) to (2400, 608) to ensure video compatibility with most codecs and players. To prevent resizing, make your input image divisible by the macro_block_size or set the macro_block_size to 1 (risking incompatibility).\n"
     ]
    }
   ],
   "source": [
    "# Ackley contour plot\n",
    "generate_gif(\"ackley\", \"ackley_contour.mp4\")\n",
    "\n",
    "# Ackley history\n",
    "generate_gif(\"ackley_history\", \"ackley_history.mp4\")\n"
   ]
  },
  {
   "cell_type": "code",
   "execution_count": null,
   "metadata": {},
   "outputs": [],
   "source": []
  }
 ],
 "metadata": {
  "kernelspec": {
   "display_name": "general",
   "language": "python",
   "name": "python3"
  },
  "language_info": {
   "codemirror_mode": {
    "name": "ipython",
    "version": 3
   },
   "file_extension": ".py",
   "mimetype": "text/x-python",
   "name": "python",
   "nbconvert_exporter": "python",
   "pygments_lexer": "ipython3",
   "version": "3.11.5"
  }
 },
 "nbformat": 4,
 "nbformat_minor": 2
}
