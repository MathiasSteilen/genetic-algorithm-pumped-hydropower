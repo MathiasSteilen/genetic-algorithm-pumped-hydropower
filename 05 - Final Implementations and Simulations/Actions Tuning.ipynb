{
 "cells": [
  {
   "cell_type": "markdown",
   "metadata": {},
   "source": [
    "# Pumped-Storage Optimisation with Genetic Algorithm and MILP"
   ]
  },
  {
   "cell_type": "code",
   "execution_count": 1,
   "metadata": {},
   "outputs": [],
   "source": [
    "import pandas as pd\n",
    "import numpy as np\n",
    "import plotnine as pn\n",
    "import plotly.graph_objs as go\n",
    "import plotly.express as px\n",
    "from tqdm.notebook import tqdm\n",
    "from IPython.display import clear_output, display\n",
    "import os\n",
    "from itertools import product\n",
    "\n",
    "# Import own implementations\n",
    "from milp import MILP\n",
    "import genetic\n",
    "from genetic import GA_Actions_Elite, GA_Actions_Tournament\n",
    "\n",
    "# Importing tuning libraries\n",
    "import ray\n",
    "from ray import train, tune\n",
    "from ray.tune.search.optuna import OptunaSearch\n",
    "from ray.tune.schedulers import ASHAScheduler\n",
    "\n",
    "background_colour = \"#F2F2F2\"\n",
    "pn.theme_set(\n",
    "    pn.theme_classic()\n",
    "    + pn.theme(\n",
    "        text=pn.element_text(family=\"monospace\"),\n",
    "        plot_background=pn.element_rect(\n",
    "            fill=background_colour, colour=background_colour\n",
    "        ),\n",
    "        panel_background=pn.element_rect(\n",
    "            fill=background_colour, colour=background_colour\n",
    "        ),\n",
    "        legend_background=pn.element_rect(\n",
    "            fill=background_colour, colour=background_colour\n",
    "        ),\n",
    "    )\n",
    ")\n",
    "\n",
    "%load_ext blackcellmagic"
   ]
  },
  {
   "cell_type": "markdown",
   "metadata": {},
   "source": [
    "## Reading the Price data"
   ]
  },
  {
   "cell_type": "code",
   "execution_count": 2,
   "metadata": {},
   "outputs": [
    {
     "data": {
      "text/html": [
       "<div>\n",
       "<style scoped>\n",
       "    .dataframe tbody tr th:only-of-type {\n",
       "        vertical-align: middle;\n",
       "    }\n",
       "\n",
       "    .dataframe tbody tr th {\n",
       "        vertical-align: top;\n",
       "    }\n",
       "\n",
       "    .dataframe thead th {\n",
       "        text-align: right;\n",
       "    }\n",
       "</style>\n",
       "<table border=\"1\" class=\"dataframe\">\n",
       "  <thead>\n",
       "    <tr style=\"text-align: right;\">\n",
       "      <th></th>\n",
       "      <th>spot</th>\n",
       "      <th>utc_time</th>\n",
       "    </tr>\n",
       "  </thead>\n",
       "  <tbody>\n",
       "    <tr>\n",
       "      <th>0</th>\n",
       "      <td>101.54</td>\n",
       "      <td>2022-01-01 00:00:00+00:00</td>\n",
       "    </tr>\n",
       "    <tr>\n",
       "      <th>1</th>\n",
       "      <td>52.13</td>\n",
       "      <td>2022-01-01 01:00:00+00:00</td>\n",
       "    </tr>\n",
       "  </tbody>\n",
       "</table>\n",
       "</div>"
      ],
      "text/plain": [
       "     spot                   utc_time\n",
       "0  101.54  2022-01-01 00:00:00+00:00\n",
       "1   52.13  2022-01-01 01:00:00+00:00"
      ]
     },
     "execution_count": 2,
     "metadata": {},
     "output_type": "execute_result"
    }
   ],
   "source": [
    "df = pd.read_csv(\"../01 - Data/example_week.csv\")\n",
    "df.head(2)"
   ]
  },
  {
   "cell_type": "code",
   "execution_count": 3,
   "metadata": {},
   "outputs": [
    {
     "name": "stdout",
     "output_type": "stream",
     "text": [
      "<class 'pandas.core.frame.DataFrame'>\n",
      "RangeIndex: 168 entries, 0 to 167\n",
      "Data columns (total 2 columns):\n",
      " #   Column    Non-Null Count  Dtype  \n",
      "---  ------    --------------  -----  \n",
      " 0   spot      168 non-null    float64\n",
      " 1   utc_time  168 non-null    object \n",
      "dtypes: float64(1), object(1)\n",
      "memory usage: 2.8+ KB\n"
     ]
    }
   ],
   "source": [
    "df.info()"
   ]
  },
  {
   "cell_type": "markdown",
   "metadata": {},
   "source": [
    "## The Power Plant"
   ]
  },
  {
   "cell_type": "code",
   "execution_count": 4,
   "metadata": {},
   "outputs": [],
   "source": [
    "plant_params = {\n",
    "    \"EFFICIENCY\": 0.75,\n",
    "    \"MAX_STORAGE_M3\": 5000,\n",
    "    \"MIN_STORAGE_M3\": 0,\n",
    "    \"TURBINE_POWER_MW\": 100,\n",
    "    \"PUMP_POWER_MW\": 100,\n",
    "    \"TURBINE_RATE_M3H\": 500,\n",
    "    \"MIN_STORAGE_MWH\": 0,\n",
    "    \"INITIAL_WATER_LEVEL_PCT\": 0,\n",
    "}\n",
    "plant_params[\"INITIAL_WATER_LEVEL\"] = (\n",
    "    plant_params[\"INITIAL_WATER_LEVEL_PCT\"] * plant_params[\"MAX_STORAGE_M3\"]\n",
    ")\n",
    "plant_params[\"PUMP_RATE_M3H\"] = (\n",
    "    plant_params[\"TURBINE_RATE_M3H\"] * plant_params[\"EFFICIENCY\"]\n",
    ")\n",
    "plant_params[\"MAX_STORAGE_MWH\"] = (\n",
    "    plant_params[\"MAX_STORAGE_M3\"] / plant_params[\"TURBINE_RATE_M3H\"]\n",
    ") * plant_params[\"TURBINE_POWER_MW\"]"
   ]
  },
  {
   "cell_type": "markdown",
   "metadata": {},
   "source": [
    "## GA Actions"
   ]
  },
  {
   "cell_type": "markdown",
   "metadata": {},
   "source": [
    "### Elite"
   ]
  },
  {
   "cell_type": "code",
   "execution_count": 5,
   "metadata": {},
   "outputs": [],
   "source": [
    "ga_solver = GA_Actions_Elite(\n",
    "    plant_params=plant_params, spot=df[\"spot\"], utc_time=df[\"utc_time\"]\n",
    ")"
   ]
  },
  {
   "cell_type": "code",
   "execution_count": 6,
   "metadata": {},
   "outputs": [
    {
     "name": "stderr",
     "output_type": "stream",
     "text": [
      "2024-04-01 22:29:30,793\tINFO worker.py:1752 -- Started a local Ray instance.\n",
      "2024-04-01 22:29:30,833\tINFO packaging.py:530 -- Creating a file package for local directory '.'.\n",
      "2024-04-01 22:29:30,861\tINFO packaging.py:358 -- Pushing file package 'gcs://_ray_pkg_ec2567d2ed66506a.zip' (0.35MiB) to Ray cluster...\n",
      "2024-04-01 22:29:30,865\tINFO packaging.py:371 -- Successfully pushed file package 'gcs://_ray_pkg_ec2567d2ed66506a.zip'.\n",
      "2024-04-01 22:29:32,653\tINFO tune.py:613 -- [output] This uses the legacy output and progress reporter, as Jupyter notebooks are not supported by the new engine, yet. For more information, please see https://github.com/ray-project/ray/issues/36949\n",
      "[I 2024-04-01 22:29:32,659] A new study created in memory with name: optuna\n"
     ]
    },
    {
     "data": {
      "text/html": [
       "<div class=\"tuneStatus\">\n",
       "  <div style=\"display: flex;flex-direction: row\">\n",
       "    <div style=\"display: flex;flex-direction: column;\">\n",
       "      <h3>Tune Status</h3>\n",
       "      <table>\n",
       "<tbody>\n",
       "<tr><td>Current time:</td><td>2024-04-01 22:32:16</td></tr>\n",
       "<tr><td>Running for: </td><td>00:02:41.66        </td></tr>\n",
       "<tr><td>Memory:      </td><td>13.6/15.8 GiB      </td></tr>\n",
       "</tbody>\n",
       "</table>\n",
       "    </div>\n",
       "    <div class=\"vDivider\"></div>\n",
       "    <div class=\"systemInfo\">\n",
       "      <h3>System Info</h3>\n",
       "      Using FIFO scheduling algorithm.<br>Logical resource usage: 8.0/8 CPUs, 0/1 GPUs (0.0/1.0 accelerator_type:G)\n",
       "    </div>\n",
       "    \n",
       "  </div>\n",
       "  <div class=\"hDivider\"></div>\n",
       "  <div class=\"trialStatus\">\n",
       "    <h3>Trial Status</h3>\n",
       "    <table>\n",
       "<thead>\n",
       "<tr><th>Trial name    </th><th>status    </th><th>loc            </th><th style=\"text-align: right;\">  ELITISM</th><th style=\"text-align: right;\">  FINAL_MUTATION_RATE</th><th style=\"text-align: right;\">          INITIAL_MUTATION_RAT\n",
       "E</th><th style=\"text-align: right;\">  POP_SIZE</th><th style=\"text-align: right;\">  iter</th><th style=\"text-align: right;\">  total time (s)</th><th style=\"text-align: right;\">     fitness</th></tr>\n",
       "</thead>\n",
       "<tbody>\n",
       "<tr><td>train_225ca86c</td><td>RUNNING   </td><td>127.0.0.1:34484</td><td style=\"text-align: right;\">      0.5</td><td style=\"text-align: right;\">            0.0235142</td><td style=\"text-align: right;\">0.192559 </td><td style=\"text-align: right;\">      1000</td><td style=\"text-align: right;\">    37</td><td style=\"text-align: right;\">        155.342 </td><td style=\"text-align: right;\">-8.91295e+06</td></tr>\n",
       "<tr><td>train_2d7c73c6</td><td>RUNNING   </td><td>127.0.0.1:29040</td><td style=\"text-align: right;\">      0.3</td><td style=\"text-align: right;\">            0.0317728</td><td style=\"text-align: right;\">0.116896 </td><td style=\"text-align: right;\">      2000</td><td style=\"text-align: right;\">    15</td><td style=\"text-align: right;\">        145.103 </td><td style=\"text-align: right;\">-9.60003e+06</td></tr>\n",
       "<tr><td>train_4effc6a0</td><td>RUNNING   </td><td>127.0.0.1:21544</td><td style=\"text-align: right;\">      0.3</td><td style=\"text-align: right;\">            0.0406035</td><td style=\"text-align: right;\">0.488507 </td><td style=\"text-align: right;\">      2000</td><td style=\"text-align: right;\">    14</td><td style=\"text-align: right;\">        136.464 </td><td style=\"text-align: right;\">-9.60034e+06</td></tr>\n",
       "<tr><td>train_cb0d90e0</td><td>RUNNING   </td><td>127.0.0.1:28992</td><td style=\"text-align: right;\">      0.3</td><td style=\"text-align: right;\">            0.0305899</td><td style=\"text-align: right;\">0.479112 </td><td style=\"text-align: right;\">      2000</td><td style=\"text-align: right;\">    12</td><td style=\"text-align: right;\">        125.345 </td><td style=\"text-align: right;\">-9.60041e+06</td></tr>\n",
       "<tr><td>train_97bb5f59</td><td>RUNNING   </td><td>127.0.0.1:25932</td><td style=\"text-align: right;\">      0.2</td><td style=\"text-align: right;\">            0.0209988</td><td style=\"text-align: right;\">0.268192 </td><td style=\"text-align: right;\">       500</td><td style=\"text-align: right;\">    53</td><td style=\"text-align: right;\">        129.513 </td><td style=\"text-align: right;\">-8.24454e+06</td></tr>\n",
       "<tr><td>train_61de8f9a</td><td>RUNNING   </td><td>127.0.0.1:20620</td><td style=\"text-align: right;\">      0.5</td><td style=\"text-align: right;\">            0.0323827</td><td style=\"text-align: right;\">0.164941 </td><td style=\"text-align: right;\">      2000</td><td style=\"text-align: right;\">    10</td><td style=\"text-align: right;\">        112.267 </td><td style=\"text-align: right;\">-9.30593e+06</td></tr>\n",
       "<tr><td>train_63d9d42c</td><td>RUNNING   </td><td>127.0.0.1:30896</td><td style=\"text-align: right;\">      0.3</td><td style=\"text-align: right;\">            0.0436502</td><td style=\"text-align: right;\">0.0526553</td><td style=\"text-align: right;\">      5000</td><td style=\"text-align: right;\">     2</td><td style=\"text-align: right;\">         79.9731</td><td style=\"text-align: right;\">-9.72186e+06</td></tr>\n",
       "<tr><td>train_7a5ee256</td><td>RUNNING   </td><td>127.0.0.1:1432 </td><td style=\"text-align: right;\">      0.4</td><td style=\"text-align: right;\">            0.0185702</td><td style=\"text-align: right;\">0.149994 </td><td style=\"text-align: right;\">      1000</td><td style=\"text-align: right;\">    12</td><td style=\"text-align: right;\">         70.5611</td><td style=\"text-align: right;\">-9.03495e+06</td></tr>\n",
       "<tr><td>train_98fcd809</td><td>PENDING   </td><td>               </td><td style=\"text-align: right;\">      0.5</td><td style=\"text-align: right;\">            0.0360934</td><td style=\"text-align: right;\">0.193036 </td><td style=\"text-align: right;\">      2000</td><td style=\"text-align: right;\">      </td><td style=\"text-align: right;\">                </td><td style=\"text-align: right;\">            </td></tr>\n",
       "<tr><td>train_726ee734</td><td>TERMINATED</td><td>127.0.0.1:15248</td><td style=\"text-align: right;\">      0.3</td><td style=\"text-align: right;\">            0.0418021</td><td style=\"text-align: right;\">0.483453 </td><td style=\"text-align: right;\">       100</td><td style=\"text-align: right;\">   150</td><td style=\"text-align: right;\">         50.3636</td><td style=\"text-align: right;\">-7.61604e+06</td></tr>\n",
       "<tr><td>train_793ea9c4</td><td>TERMINATED</td><td>127.0.0.1:7028 </td><td style=\"text-align: right;\">      0.1</td><td style=\"text-align: right;\">            0.0486034</td><td style=\"text-align: right;\">0.212305 </td><td style=\"text-align: right;\">       100</td><td style=\"text-align: right;\">   150</td><td style=\"text-align: right;\">         57.1853</td><td style=\"text-align: right;\">-7.61273e+06</td></tr>\n",
       "</tbody>\n",
       "</table>\n",
       "  </div>\n",
       "</div>\n",
       "<style>\n",
       ".tuneStatus {\n",
       "  color: var(--jp-ui-font-color1);\n",
       "}\n",
       ".tuneStatus .systemInfo {\n",
       "  display: flex;\n",
       "  flex-direction: column;\n",
       "}\n",
       ".tuneStatus td {\n",
       "  white-space: nowrap;\n",
       "}\n",
       ".tuneStatus .trialStatus {\n",
       "  display: flex;\n",
       "  flex-direction: column;\n",
       "}\n",
       ".tuneStatus h3 {\n",
       "  font-weight: bold;\n",
       "}\n",
       ".tuneStatus .hDivider {\n",
       "  border-bottom-width: var(--jp-border-width);\n",
       "  border-bottom-color: var(--jp-border-color0);\n",
       "  border-bottom-style: solid;\n",
       "}\n",
       ".tuneStatus .vDivider {\n",
       "  border-left-width: var(--jp-border-width);\n",
       "  border-left-color: var(--jp-border-color0);\n",
       "  border-left-style: solid;\n",
       "  margin: 0.5em 1em 0.5em 1em;\n",
       "}\n",
       "</style>\n"
      ],
      "text/plain": [
       "<IPython.core.display.HTML object>"
      ]
     },
     "metadata": {},
     "output_type": "display_data"
    },
    {
     "data": {
      "text/html": [
       "<div class=\"trialProgress\">\n",
       "  <h3>Trial Progress</h3>\n",
       "  <table>\n",
       "<thead>\n",
       "<tr><th>Trial name    </th><th style=\"text-align: right;\">     fitness</th></tr>\n",
       "</thead>\n",
       "<tbody>\n",
       "<tr><td>train_225ca86c</td><td style=\"text-align: right;\">-8.91295e+06</td></tr>\n",
       "<tr><td>train_2d7c73c6</td><td style=\"text-align: right;\">-9.60003e+06</td></tr>\n",
       "<tr><td>train_4effc6a0</td><td style=\"text-align: right;\">-9.60034e+06</td></tr>\n",
       "<tr><td>train_61de8f9a</td><td style=\"text-align: right;\">-9.30593e+06</td></tr>\n",
       "<tr><td>train_63d9d42c</td><td style=\"text-align: right;\">-9.72186e+06</td></tr>\n",
       "<tr><td>train_726ee734</td><td style=\"text-align: right;\">-7.61604e+06</td></tr>\n",
       "<tr><td>train_793ea9c4</td><td style=\"text-align: right;\">-7.61273e+06</td></tr>\n",
       "<tr><td>train_7a5ee256</td><td style=\"text-align: right;\">-9.03495e+06</td></tr>\n",
       "<tr><td>train_97bb5f59</td><td style=\"text-align: right;\">-8.24454e+06</td></tr>\n",
       "<tr><td>train_cb0d90e0</td><td style=\"text-align: right;\">-9.60041e+06</td></tr>\n",
       "</tbody>\n",
       "</table>\n",
       "</div>\n",
       "<style>\n",
       ".trialProgress {\n",
       "  display: flex;\n",
       "  flex-direction: column;\n",
       "  color: var(--jp-ui-font-color1);\n",
       "}\n",
       ".trialProgress h3 {\n",
       "  font-weight: bold;\n",
       "}\n",
       ".trialProgress td {\n",
       "  white-space: nowrap;\n",
       "}\n",
       "</style>\n"
      ],
      "text/plain": [
       "<IPython.core.display.HTML object>"
      ]
     },
     "metadata": {},
     "output_type": "display_data"
    },
    {
     "name": "stderr",
     "output_type": "stream",
     "text": [
      "\u001b[36m(train pid=7028)\u001b[0m C:\\arrow\\cpp\\src\\arrow\\filesystem\\s3fs.cc:2829:  arrow::fs::FinalizeS3 was not called even though S3 was initialized.  This could lead to a segmentation fault at exit\n",
      "2024-04-01 22:32:16,576\tWARNING tune.py:229 -- Stop signal received (e.g. via SIGINT/Ctrl+C), ending Ray Tune run. This will try to checkpoint the experiment state one last time. Press CTRL+C (or send SIGINT/SIGKILL/SIGTERM) to skip. \n",
      "2024-04-01 22:32:16,768\tINFO tune.py:1016 -- Wrote the latest version of all result files and experiment state to 'C:/Users/mathi/ray_results/GA' in 0.1892s.\n",
      "\u001b[36m(train pid=28992)\u001b[0m C:\\arrow\\cpp\\src\\arrow\\filesystem\\s3fs.cc:2829:  arrow::fs::FinalizeS3 was not called even though S3 was initialized.  This could lead to a segmentation fault at exit\n"
     ]
    }
   ],
   "source": [
    "analysis = ga_solver.tune(\n",
    "    tune_config={\n",
    "        \"MUTPB\": 1,\n",
    "        \"POP_SIZE\": tune.choice([100, 500, 1000, 2000, 5000]),\n",
    "        \"INITIAL_MUTATION_RATE\": tune.uniform(0.05, 0.5),\n",
    "        \"FINAL_MUTATION_RATE\": tune.uniform(0.005, 0.05),\n",
    "        \"ELITISM\": tune.choice(np.arange(0.1, 0.6, 0.1)),\n",
    "    },\n",
    "    total_generations=150,\n",
    "    timeout_s=60*4.5,\n",
    ")"
   ]
  },
  {
   "cell_type": "code",
   "execution_count": null,
   "metadata": {},
   "outputs": [],
   "source": [
    "analysis.best_config"
   ]
  },
  {
   "cell_type": "code",
   "execution_count": null,
   "metadata": {},
   "outputs": [],
   "source": [
    "fig = px.line(\n",
    "    data_frame=pd.concat(analysis.trial_dataframes.values()),\n",
    "    x=\"training_iteration\",\n",
    "    y=\"fitness\",\n",
    "    color=\"trial_id\",\n",
    ")\n",
    "fig.show()"
   ]
  },
  {
   "cell_type": "code",
   "execution_count": null,
   "metadata": {},
   "outputs": [],
   "source": [
    "top_runs = analysis.dataframe().sort_values(\"fitness\", ascending=False).head(10)[\"trial_id\"].to_list()\n",
    "\n",
    "fig = px.line(\n",
    "    data_frame=pd.concat(analysis.trial_dataframes.values()).query(\n",
    "        \"trial_id in @top_runs\"\n",
    "    ),\n",
    "    x=\"training_iteration\",\n",
    "    y=\"fitness\",\n",
    "    color=\"trial_id\",\n",
    ")\n",
    "fig.show()"
   ]
  },
  {
   "cell_type": "code",
   "execution_count": null,
   "metadata": {},
   "outputs": [],
   "source": [
    "# (\n",
    "#     analysis.dataframe()\n",
    "#     .query(\"trial_id == 'd947e4c7'\")\n",
    "#     .filter(regex=\"config\")\n",
    "#     .melt()\n",
    "#     .assign(variable=lambda x: x[\"variable\"].str.replace(\"config/\", \"\"))\n",
    "#     .set_index(\"variable\")\n",
    "#     .to_dict()[\"value\"]\n",
    "# )"
   ]
  },
  {
   "cell_type": "markdown",
   "metadata": {},
   "source": [
    "### Tournament"
   ]
  },
  {
   "cell_type": "code",
   "execution_count": null,
   "metadata": {},
   "outputs": [],
   "source": [
    "ga_solver = GA_Actions_Tournament(\n",
    "    plant_params=plant_params, spot=df[\"spot\"], utc_time=df[\"utc_time\"]\n",
    ")"
   ]
  },
  {
   "cell_type": "code",
   "execution_count": null,
   "metadata": {},
   "outputs": [],
   "source": [
    "analysis = ga_solver.tune(\n",
    "    tune_config={\n",
    "        \"MUTPB\": 1,\n",
    "        \"POP_SIZE\": tune.choice([100, 500, 2000, 5000, 10000]),\n",
    "        \"CXPB\": tune.uniform(0.05, 0.95),\n",
    "        \"INITIAL_MUTATION_RATE\": tune.uniform(0.05, 0.5),\n",
    "        \"FINAL_MUTATION_RATE\": tune.uniform(0.005, 0.05),\n",
    "        \"TOURNAMENT_SIZE\": tune.randint(1, 100),\n",
    "    },\n",
    "    total_generations=300,\n",
    "    timeout_s=60*4.5,\n",
    ")"
   ]
  },
  {
   "cell_type": "code",
   "execution_count": null,
   "metadata": {},
   "outputs": [],
   "source": [
    "analysis.best_config"
   ]
  },
  {
   "cell_type": "code",
   "execution_count": null,
   "metadata": {},
   "outputs": [],
   "source": [
    "fig = px.line(\n",
    "    data_frame=pd.concat(analysis.trial_dataframes.values()),\n",
    "    x=\"training_iteration\",\n",
    "    y=\"fitness\",\n",
    "    color=\"trial_id\",\n",
    ")\n",
    "fig.show()"
   ]
  },
  {
   "cell_type": "code",
   "execution_count": null,
   "metadata": {},
   "outputs": [],
   "source": [
    "top_runs = analysis.dataframe().sort_values(\"fitness\", ascending=False).head(10)[\"trial_id\"].to_list()\n",
    "\n",
    "fig = px.line(\n",
    "    data_frame=pd.concat(analysis.trial_dataframes.values()).query(\n",
    "        \"trial_id in @top_runs\"\n",
    "    ),\n",
    "    x=\"training_iteration\",\n",
    "    y=\"fitness\",\n",
    "    color=\"trial_id\",\n",
    ")\n",
    "fig.show()"
   ]
  },
  {
   "cell_type": "code",
   "execution_count": null,
   "metadata": {},
   "outputs": [],
   "source": [
    "# (\n",
    "#     analysis.dataframe()\n",
    "#     .query(\"trial_id == 'd947e4c7'\")\n",
    "#     .filter(regex=\"config\")\n",
    "#     .melt()\n",
    "#     .assign(variable=lambda x: x[\"variable\"].str.replace(\"config/\", \"\"))\n",
    "#     .set_index(\"variable\")\n",
    "#     .to_dict()[\"value\"]\n",
    "# )"
   ]
  }
 ],
 "metadata": {
  "kernelspec": {
   "display_name": "general",
   "language": "python",
   "name": "python3"
  },
  "language_info": {
   "codemirror_mode": {
    "name": "ipython",
    "version": 3
   },
   "file_extension": ".py",
   "mimetype": "text/x-python",
   "name": "python",
   "nbconvert_exporter": "python",
   "pygments_lexer": "ipython3",
   "version": "3.11.5"
  }
 },
 "nbformat": 4,
 "nbformat_minor": 2
}
