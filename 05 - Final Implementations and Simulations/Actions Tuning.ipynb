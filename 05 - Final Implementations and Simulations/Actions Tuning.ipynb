{
 "cells": [
  {
   "cell_type": "markdown",
   "metadata": {},
   "source": [
    "# Pumped-Storage Optimisation with Genetic Algorithm and MILP"
   ]
  },
  {
   "cell_type": "code",
   "execution_count": 1,
   "metadata": {},
   "outputs": [],
   "source": [
    "import pandas as pd\n",
    "import numpy as np\n",
    "import plotnine as pn\n",
    "import plotly.graph_objs as go\n",
    "import plotly.express as px\n",
    "from tqdm.notebook import tqdm\n",
    "from IPython.display import clear_output, display\n",
    "import os\n",
    "from itertools import product\n",
    "\n",
    "# Import own implementations\n",
    "from milp import MILP\n",
    "import genetic\n",
    "from genetic import GA_Actions_Elite, GA_Actions_Tournament\n",
    "\n",
    "# Importing tuning libraries\n",
    "import ray\n",
    "from ray import train, tune\n",
    "from ray.tune.search.optuna import OptunaSearch\n",
    "from ray.tune.schedulers import ASHAScheduler\n",
    "\n",
    "background_colour = \"#F2F2F2\"\n",
    "pn.theme_set(\n",
    "    pn.theme_classic()\n",
    "    + pn.theme(\n",
    "        text=pn.element_text(family=\"monospace\"),\n",
    "        plot_background=pn.element_rect(\n",
    "            fill=background_colour, colour=background_colour\n",
    "        ),\n",
    "        panel_background=pn.element_rect(\n",
    "            fill=background_colour, colour=background_colour\n",
    "        ),\n",
    "        legend_background=pn.element_rect(\n",
    "            fill=background_colour, colour=background_colour\n",
    "        ),\n",
    "    )\n",
    ")\n",
    "\n",
    "%load_ext blackcellmagic"
   ]
  },
  {
   "cell_type": "markdown",
   "metadata": {},
   "source": [
    "## Reading the Price data"
   ]
  },
  {
   "cell_type": "code",
   "execution_count": 2,
   "metadata": {},
   "outputs": [
    {
     "data": {
      "text/html": [
       "<div>\n",
       "<style scoped>\n",
       "    .dataframe tbody tr th:only-of-type {\n",
       "        vertical-align: middle;\n",
       "    }\n",
       "\n",
       "    .dataframe tbody tr th {\n",
       "        vertical-align: top;\n",
       "    }\n",
       "\n",
       "    .dataframe thead th {\n",
       "        text-align: right;\n",
       "    }\n",
       "</style>\n",
       "<table border=\"1\" class=\"dataframe\">\n",
       "  <thead>\n",
       "    <tr style=\"text-align: right;\">\n",
       "      <th></th>\n",
       "      <th>spot</th>\n",
       "      <th>utc_time</th>\n",
       "    </tr>\n",
       "  </thead>\n",
       "  <tbody>\n",
       "    <tr>\n",
       "      <th>0</th>\n",
       "      <td>101.54</td>\n",
       "      <td>2022-01-01 00:00:00+00:00</td>\n",
       "    </tr>\n",
       "    <tr>\n",
       "      <th>1</th>\n",
       "      <td>52.13</td>\n",
       "      <td>2022-01-01 01:00:00+00:00</td>\n",
       "    </tr>\n",
       "  </tbody>\n",
       "</table>\n",
       "</div>"
      ],
      "text/plain": [
       "     spot                   utc_time\n",
       "0  101.54  2022-01-01 00:00:00+00:00\n",
       "1   52.13  2022-01-01 01:00:00+00:00"
      ]
     },
     "execution_count": 2,
     "metadata": {},
     "output_type": "execute_result"
    }
   ],
   "source": [
    "df = pd.read_csv(\"../01 - Data/example_week.csv\")\n",
    "df.head(2)"
   ]
  },
  {
   "cell_type": "code",
   "execution_count": 3,
   "metadata": {},
   "outputs": [
    {
     "name": "stdout",
     "output_type": "stream",
     "text": [
      "<class 'pandas.core.frame.DataFrame'>\n",
      "RangeIndex: 168 entries, 0 to 167\n",
      "Data columns (total 2 columns):\n",
      " #   Column    Non-Null Count  Dtype  \n",
      "---  ------    --------------  -----  \n",
      " 0   spot      168 non-null    float64\n",
      " 1   utc_time  168 non-null    object \n",
      "dtypes: float64(1), object(1)\n",
      "memory usage: 2.8+ KB\n"
     ]
    }
   ],
   "source": [
    "df.info()"
   ]
  },
  {
   "cell_type": "markdown",
   "metadata": {},
   "source": [
    "## The Power Plant"
   ]
  },
  {
   "cell_type": "code",
   "execution_count": 4,
   "metadata": {},
   "outputs": [],
   "source": [
    "plant_params = {\n",
    "    \"EFFICIENCY\": 0.75,\n",
    "    \"MAX_STORAGE_M3\": 5000,\n",
    "    \"MIN_STORAGE_M3\": 0,\n",
    "    \"TURBINE_POWER_MW\": 100,\n",
    "    \"PUMP_POWER_MW\": 100,\n",
    "    \"TURBINE_RATE_M3H\": 500,\n",
    "    \"MIN_STORAGE_MWH\": 0,\n",
    "    \"INITIAL_WATER_LEVEL_PCT\": 0,\n",
    "}\n",
    "plant_params[\"INITIAL_WATER_LEVEL\"] = (\n",
    "    plant_params[\"INITIAL_WATER_LEVEL_PCT\"] * plant_params[\"MAX_STORAGE_M3\"]\n",
    ")\n",
    "plant_params[\"PUMP_RATE_M3H\"] = (\n",
    "    plant_params[\"TURBINE_RATE_M3H\"] * plant_params[\"EFFICIENCY\"]\n",
    ")\n",
    "plant_params[\"MAX_STORAGE_MWH\"] = (\n",
    "    plant_params[\"MAX_STORAGE_M3\"] / plant_params[\"TURBINE_RATE_M3H\"]\n",
    ") * plant_params[\"TURBINE_POWER_MW\"]"
   ]
  },
  {
   "cell_type": "markdown",
   "metadata": {},
   "source": [
    "## GA Actions"
   ]
  },
  {
   "cell_type": "markdown",
   "metadata": {},
   "source": [
    "### Elite"
   ]
  },
  {
   "cell_type": "code",
   "execution_count": 11,
   "metadata": {},
   "outputs": [],
   "source": [
    "ga_solver = GA_Actions_Elite(\n",
    "    plant_params=plant_params, spot=df[\"spot\"], utc_time=df[\"utc_time\"]\n",
    ")"
   ]
  },
  {
   "cell_type": "code",
   "execution_count": 12,
   "metadata": {},
   "outputs": [
    {
     "name": "stderr",
     "output_type": "stream",
     "text": [
      "2024-04-01 19:44:25,018\tINFO worker.py:1752 -- Started a local Ray instance.\n",
      "2024-04-01 19:44:25,079\tINFO packaging.py:530 -- Creating a file package for local directory '.'.\n",
      "2024-04-01 19:44:25,110\tINFO packaging.py:358 -- Pushing file package 'gcs://_ray_pkg_147b67ec4bbe00e7.zip' (0.29MiB) to Ray cluster...\n",
      "2024-04-01 19:44:25,113\tINFO packaging.py:371 -- Successfully pushed file package 'gcs://_ray_pkg_147b67ec4bbe00e7.zip'.\n",
      "2024-04-01 19:44:26,779\tINFO tune.py:613 -- [output] This uses the legacy output and progress reporter, as Jupyter notebooks are not supported by the new engine, yet. For more information, please see https://github.com/ray-project/ray/issues/36949\n",
      "[I 2024-04-01 19:44:26,788] A new study created in memory with name: optuna\n"
     ]
    },
    {
     "data": {
      "text/html": [
       "<div class=\"tuneStatus\">\n",
       "  <div style=\"display: flex;flex-direction: row\">\n",
       "    <div style=\"display: flex;flex-direction: column;\">\n",
       "      <h3>Tune Status</h3>\n",
       "      <table>\n",
       "<tbody>\n",
       "<tr><td>Current time:</td><td>2024-04-01 19:47:21</td></tr>\n",
       "<tr><td>Running for: </td><td>00:02:52.82        </td></tr>\n",
       "<tr><td>Memory:      </td><td>14.3/15.8 GiB      </td></tr>\n",
       "</tbody>\n",
       "</table>\n",
       "    </div>\n",
       "    <div class=\"vDivider\"></div>\n",
       "    <div class=\"systemInfo\">\n",
       "      <h3>System Info</h3>\n",
       "      Using FIFO scheduling algorithm.<br>Logical resource usage: 8.0/8 CPUs, 0/1 GPUs (0.0/1.0 accelerator_type:G)\n",
       "    </div>\n",
       "    <div class=\"vDivider\"></div>\n",
       "<div class=\"messages\">\n",
       "  <h3>Messages</h3>\n",
       "  : ***LOW MEMORY*** less than 10% of the memory on this node is available for use. This can cause unexpected crashes. Consider reducing the memory used by your application or reducing the Ray object store size by setting `object_store_memory` when calling `ray.init`.\n",
       "  \n",
       "  Number of errored trials: 2<br><table>\n",
       "<thead>\n",
       "<tr><th>Trial name    </th><th style=\"text-align: right;\">  # failures</th><th>error file                                                                                                                                              </th></tr>\n",
       "</thead>\n",
       "<tbody>\n",
       "<tr><td>train_39cc4391</td><td style=\"text-align: right;\">           1</td><td>C:/Users/mathi/AppData/Local/Temp/ray/session_2024-04-01_19-44-21_958596_1608/artifacts/2024-04-01_19-44-26/GA/driver_artifacts/train_39cc4391/error.txt</td></tr>\n",
       "<tr><td>train_54b69b76</td><td style=\"text-align: right;\">           1</td><td>C:/Users/mathi/AppData/Local/Temp/ray/session_2024-04-01_19-44-21_958596_1608/artifacts/2024-04-01_19-44-26/GA/driver_artifacts/train_54b69b76/error.txt</td></tr>\n",
       "</tbody>\n",
       "</table>\n",
       "</div>\n",
       "<style>\n",
       ".messages {\n",
       "  color: var(--jp-ui-font-color1);\n",
       "  display: flex;\n",
       "  flex-direction: column;\n",
       "  padding-left: 1em;\n",
       "  overflow-y: auto;\n",
       "}\n",
       ".messages h3 {\n",
       "  font-weight: bold;\n",
       "}\n",
       ".vDivider {\n",
       "  border-left-width: var(--jp-border-width);\n",
       "  border-left-color: var(--jp-border-color0);\n",
       "  border-left-style: solid;\n",
       "  margin: 0.5em 1em 0.5em 1em;\n",
       "}\n",
       "</style>\n",
       "\n",
       "  </div>\n",
       "  <div class=\"hDivider\"></div>\n",
       "  <div class=\"trialStatus\">\n",
       "    <h3>Trial Status</h3>\n",
       "    <table>\n",
       "<thead>\n",
       "<tr><th>Trial name    </th><th>status    </th><th>loc            </th><th style=\"text-align: right;\">  ELITISM</th><th style=\"text-align: right;\">  MUT_IND_PB</th><th style=\"text-align: right;\">  POP_SIZE</th><th style=\"text-align: right;\">  iter</th><th style=\"text-align: right;\">  total time (s)</th><th style=\"text-align: right;\">  avg_fitness</th></tr>\n",
       "</thead>\n",
       "<tbody>\n",
       "<tr><td>train_f459f93f</td><td>RUNNING   </td><td>127.0.0.1:15896</td><td style=\"text-align: right;\">      0.2</td><td style=\"text-align: right;\">   0.404234 </td><td style=\"text-align: right;\">      5000</td><td style=\"text-align: right;\">    11</td><td style=\"text-align: right;\">       112.96   </td><td style=\"text-align: right;\"> -9.94868e+06</td></tr>\n",
       "<tr><td>train_57bdc3c9</td><td>RUNNING   </td><td>127.0.0.1:1820 </td><td style=\"text-align: right;\">      0.4</td><td style=\"text-align: right;\">   0.0992699</td><td style=\"text-align: right;\">      5000</td><td style=\"text-align: right;\">     6</td><td style=\"text-align: right;\">        84.7808 </td><td style=\"text-align: right;\"> -9.40161e+06</td></tr>\n",
       "<tr><td>train_d6f50cd6</td><td>RUNNING   </td><td>127.0.0.1:15876</td><td style=\"text-align: right;\">      0.3</td><td style=\"text-align: right;\">   0.258117 </td><td style=\"text-align: right;\">       500</td><td style=\"text-align: right;\">    98</td><td style=\"text-align: right;\">        79.1833 </td><td style=\"text-align: right;\"> -7.41065e+06</td></tr>\n",
       "<tr><td>train_ec93eefd</td><td>RUNNING   </td><td>127.0.0.1:25776</td><td style=\"text-align: right;\">      0.3</td><td style=\"text-align: right;\">   0.462005 </td><td style=\"text-align: right;\">       500</td><td style=\"text-align: right;\">    87</td><td style=\"text-align: right;\">        65.6941 </td><td style=\"text-align: right;\"> -8.30379e+06</td></tr>\n",
       "<tr><td>train_cf5c607b</td><td>RUNNING   </td><td>127.0.0.1:20876</td><td style=\"text-align: right;\">      0.5</td><td style=\"text-align: right;\">   0.166722 </td><td style=\"text-align: right;\">      5000</td><td style=\"text-align: right;\">     3</td><td style=\"text-align: right;\">        55.1226 </td><td style=\"text-align: right;\"> -9.72749e+06</td></tr>\n",
       "<tr><td>train_4659022a</td><td>RUNNING   </td><td>127.0.0.1:12940</td><td style=\"text-align: right;\">      0.2</td><td style=\"text-align: right;\">   0.236229 </td><td style=\"text-align: right;\">       500</td><td style=\"text-align: right;\">    48</td><td style=\"text-align: right;\">        43.1899 </td><td style=\"text-align: right;\"> -9.61554e+06</td></tr>\n",
       "<tr><td>train_074f0076</td><td>RUNNING   </td><td>127.0.0.1:24464</td><td style=\"text-align: right;\">      0.6</td><td style=\"text-align: right;\">   0.137088 </td><td style=\"text-align: right;\">       500</td><td style=\"text-align: right;\">    32</td><td style=\"text-align: right;\">        34.792  </td><td style=\"text-align: right;\"> -9.01092e+06</td></tr>\n",
       "<tr><td>train_8d7035c7</td><td>RUNNING   </td><td>127.0.0.1:26912</td><td style=\"text-align: right;\">      0.1</td><td style=\"text-align: right;\">   0.0406429</td><td style=\"text-align: right;\">       100</td><td style=\"text-align: right;\">    13</td><td style=\"text-align: right;\">         3.39897</td><td style=\"text-align: right;\"> -8.47919e+06</td></tr>\n",
       "<tr><td>train_c8ceb2e8</td><td>PENDING   </td><td>               </td><td style=\"text-align: right;\">      0.5</td><td style=\"text-align: right;\">   0.396063 </td><td style=\"text-align: right;\">       500</td><td style=\"text-align: right;\">      </td><td style=\"text-align: right;\">                </td><td style=\"text-align: right;\">             </td></tr>\n",
       "<tr><td>train_34dcb378</td><td>TERMINATED</td><td>127.0.0.1:20360</td><td style=\"text-align: right;\">      0.3</td><td style=\"text-align: right;\">   0.146611 </td><td style=\"text-align: right;\">       500</td><td style=\"text-align: right;\">   100</td><td style=\"text-align: right;\">        59.9179 </td><td style=\"text-align: right;\"> -7.31198e+06</td></tr>\n",
       "<tr><td>train_2c8210d4</td><td>TERMINATED</td><td>127.0.0.1:16804</td><td style=\"text-align: right;\">      0.5</td><td style=\"text-align: right;\">   0.424789 </td><td style=\"text-align: right;\">       500</td><td style=\"text-align: right;\">   100</td><td style=\"text-align: right;\">        63.9599 </td><td style=\"text-align: right;\"> -7.88221e+06</td></tr>\n",
       "<tr><td>train_1f88e6bb</td><td>TERMINATED</td><td>127.0.0.1:27640</td><td style=\"text-align: right;\">      0.1</td><td style=\"text-align: right;\">   0.275356 </td><td style=\"text-align: right;\">       500</td><td style=\"text-align: right;\">   100</td><td style=\"text-align: right;\">        63.3344 </td><td style=\"text-align: right;\"> -7.04066e+06</td></tr>\n",
       "<tr><td>train_b042b9d1</td><td>TERMINATED</td><td>127.0.0.1:15956</td><td style=\"text-align: right;\">      0.6</td><td style=\"text-align: right;\">   0.286712 </td><td style=\"text-align: right;\">       500</td><td style=\"text-align: right;\">   100</td><td style=\"text-align: right;\">        67.9214 </td><td style=\"text-align: right;\"> -7.89017e+06</td></tr>\n",
       "<tr><td>train_a2ae2197</td><td>TERMINATED</td><td>127.0.0.1:30648</td><td style=\"text-align: right;\">      0.6</td><td style=\"text-align: right;\">   0.289821 </td><td style=\"text-align: right;\">       500</td><td style=\"text-align: right;\">   100</td><td style=\"text-align: right;\">        72.0612 </td><td style=\"text-align: right;\"> -7.92093e+06</td></tr>\n",
       "<tr><td>train_65c8bfb3</td><td>TERMINATED</td><td>127.0.0.1:27036</td><td style=\"text-align: right;\">      0.6</td><td style=\"text-align: right;\">   0.207726 </td><td style=\"text-align: right;\">       100</td><td style=\"text-align: right;\">   100</td><td style=\"text-align: right;\">        14.9859 </td><td style=\"text-align: right;\"> -7.84536e+06</td></tr>\n",
       "<tr><td>train_c1c69eb7</td><td>TERMINATED</td><td>127.0.0.1:23796</td><td style=\"text-align: right;\">      0.3</td><td style=\"text-align: right;\">   0.112765 </td><td style=\"text-align: right;\">       500</td><td style=\"text-align: right;\">   100</td><td style=\"text-align: right;\">        74.2281 </td><td style=\"text-align: right;\"> -6.0491e+06 </td></tr>\n",
       "<tr><td>train_bed6ff99</td><td>TERMINATED</td><td>127.0.0.1:9128 </td><td style=\"text-align: right;\">      0.6</td><td style=\"text-align: right;\">   0.27949  </td><td style=\"text-align: right;\">       100</td><td style=\"text-align: right;\">   100</td><td style=\"text-align: right;\">        14.9928 </td><td style=\"text-align: right;\"> -8.01083e+06</td></tr>\n",
       "<tr><td>train_39cc4391</td><td>ERROR     </td><td>127.0.0.1:12428</td><td style=\"text-align: right;\">      0.1</td><td style=\"text-align: right;\">   0.208994 </td><td style=\"text-align: right;\">       500</td><td style=\"text-align: right;\">    99</td><td style=\"text-align: right;\">        65.3939 </td><td style=\"text-align: right;\"> -7.31973e+06</td></tr>\n",
       "<tr><td>train_54b69b76</td><td>ERROR     </td><td>127.0.0.1:12160</td><td style=\"text-align: right;\">      0.2</td><td style=\"text-align: right;\">   0.0878358</td><td style=\"text-align: right;\">       500</td><td style=\"text-align: right;\">    91</td><td style=\"text-align: right;\">        68.6885 </td><td style=\"text-align: right;\"> -7.33016e+06</td></tr>\n",
       "</tbody>\n",
       "</table>\n",
       "  </div>\n",
       "</div>\n",
       "<style>\n",
       ".tuneStatus {\n",
       "  color: var(--jp-ui-font-color1);\n",
       "}\n",
       ".tuneStatus .systemInfo {\n",
       "  display: flex;\n",
       "  flex-direction: column;\n",
       "}\n",
       ".tuneStatus td {\n",
       "  white-space: nowrap;\n",
       "}\n",
       ".tuneStatus .trialStatus {\n",
       "  display: flex;\n",
       "  flex-direction: column;\n",
       "}\n",
       ".tuneStatus h3 {\n",
       "  font-weight: bold;\n",
       "}\n",
       ".tuneStatus .hDivider {\n",
       "  border-bottom-width: var(--jp-border-width);\n",
       "  border-bottom-color: var(--jp-border-color0);\n",
       "  border-bottom-style: solid;\n",
       "}\n",
       ".tuneStatus .vDivider {\n",
       "  border-left-width: var(--jp-border-width);\n",
       "  border-left-color: var(--jp-border-color0);\n",
       "  border-left-style: solid;\n",
       "  margin: 0.5em 1em 0.5em 1em;\n",
       "}\n",
       "</style>\n"
      ],
      "text/plain": [
       "<IPython.core.display.HTML object>"
      ]
     },
     "metadata": {},
     "output_type": "display_data"
    },
    {
     "name": "stdout",
     "output_type": "stream",
     "text": [
      "\u001b[36m(train pid=20360)\u001b[0m Selected: 150\n"
     ]
    },
    {
     "data": {
      "text/html": [
       "<div class=\"trialProgress\">\n",
       "  <h3>Trial Progress</h3>\n",
       "  <table>\n",
       "<thead>\n",
       "<tr><th>Trial name    </th><th style=\"text-align: right;\">  avg_fitness</th></tr>\n",
       "</thead>\n",
       "<tbody>\n",
       "<tr><td>train_074f0076</td><td style=\"text-align: right;\"> -9.07074e+06</td></tr>\n",
       "<tr><td>train_1f88e6bb</td><td style=\"text-align: right;\"> -7.04066e+06</td></tr>\n",
       "<tr><td>train_2c8210d4</td><td style=\"text-align: right;\"> -7.88221e+06</td></tr>\n",
       "<tr><td>train_34dcb378</td><td style=\"text-align: right;\"> -7.31198e+06</td></tr>\n",
       "<tr><td>train_39cc4391</td><td style=\"text-align: right;\"> -7.31973e+06</td></tr>\n",
       "<tr><td>train_4659022a</td><td style=\"text-align: right;\"> -9.55388e+06</td></tr>\n",
       "<tr><td>train_54b69b76</td><td style=\"text-align: right;\"> -7.33016e+06</td></tr>\n",
       "<tr><td>train_57bdc3c9</td><td style=\"text-align: right;\"> -9.40161e+06</td></tr>\n",
       "<tr><td>train_65c8bfb3</td><td style=\"text-align: right;\"> -7.84536e+06</td></tr>\n",
       "<tr><td>train_8d7035c7</td><td style=\"text-align: right;\"> -1.00448e+07</td></tr>\n",
       "<tr><td>train_a2ae2197</td><td style=\"text-align: right;\"> -7.92093e+06</td></tr>\n",
       "<tr><td>train_b042b9d1</td><td style=\"text-align: right;\"> -7.89017e+06</td></tr>\n",
       "<tr><td>train_bed6ff99</td><td style=\"text-align: right;\"> -8.01083e+06</td></tr>\n",
       "<tr><td>train_c1c69eb7</td><td style=\"text-align: right;\"> -6.0491e+06 </td></tr>\n",
       "<tr><td>train_cf5c607b</td><td style=\"text-align: right;\"> -9.72749e+06</td></tr>\n",
       "<tr><td>train_d6f50cd6</td><td style=\"text-align: right;\"> -7.5696e+06 </td></tr>\n",
       "<tr><td>train_ec93eefd</td><td style=\"text-align: right;\"> -8.57172e+06</td></tr>\n",
       "<tr><td>train_f459f93f</td><td style=\"text-align: right;\"> -9.94868e+06</td></tr>\n",
       "</tbody>\n",
       "</table>\n",
       "</div>\n",
       "<style>\n",
       ".trialProgress {\n",
       "  display: flex;\n",
       "  flex-direction: column;\n",
       "  color: var(--jp-ui-font-color1);\n",
       "}\n",
       ".trialProgress h3 {\n",
       "  font-weight: bold;\n",
       "}\n",
       ".trialProgress td {\n",
       "  white-space: nowrap;\n",
       "}\n",
       "</style>\n"
      ],
      "text/plain": [
       "<IPython.core.display.HTML object>"
      ]
     },
     "metadata": {},
     "output_type": "display_data"
    },
    {
     "name": "stdout",
     "output_type": "stream",
     "text": [
      "\u001b[36m(train pid=20360)\u001b[0m Selected: 150\n",
      "\u001b[36m(train pid=20360)\u001b[0m Selected: 150\n",
      "\u001b[36m(train pid=20360)\u001b[0m Selected: 150\n",
      "\u001b[36m(train pid=20360)\u001b[0m Selected: 150\n",
      "\u001b[36m(train pid=20360)\u001b[0m Selected: 150\n",
      "\u001b[36m(train pid=20360)\u001b[0m Selected: 150\n",
      "\u001b[36m(train pid=20360)\u001b[0m Selected: 150\n",
      "\u001b[36m(train pid=20360)\u001b[0m Selected: 150\n",
      "\u001b[36m(train pid=20360)\u001b[0m Selected: 150\u001b[32m [repeated 5x across cluster] (Ray deduplicates logs by default. Set RAY_DEDUP_LOGS=0 to disable log deduplication, or see https://docs.ray.io/en/master/ray-observability/ray-logging.html#log-deduplication for more options.)\u001b[0m\n",
      "\u001b[36m(train pid=20360)\u001b[0m Selected: 150\u001b[32m [repeated 22x across cluster]\u001b[0m\n",
      "\u001b[36m(train pid=20360)\u001b[0m Selected: 150\u001b[32m [repeated 33x across cluster]\u001b[0m\n",
      "\u001b[36m(train pid=20360)\u001b[0m Selected: 150\u001b[32m [repeated 40x across cluster]\u001b[0m\n",
      "\u001b[36m(train pid=27640)\u001b[0m Selected: 50\u001b[32m [repeated 45x across cluster]\u001b[0m\n",
      "\u001b[36m(train pid=27036)\u001b[0m Selected: 60\u001b[32m [repeated 69x across cluster]\u001b[0m\n",
      "\u001b[36m(train pid=27036)\u001b[0m Selected: 60\u001b[32m [repeated 78x across cluster]\u001b[0m\n",
      "\u001b[36m(train pid=27036)\u001b[0m Selected: 60\u001b[32m [repeated 82x across cluster]\u001b[0m\n",
      "\u001b[36m(train pid=27640)\u001b[0m Selected: 50\u001b[32m [repeated 60x across cluster]\u001b[0m\n",
      "\u001b[36m(train pid=12160)\u001b[0m Selected: 100\u001b[32m [repeated 50x across cluster]\u001b[0m\n",
      "\u001b[36m(train pid=30648)\u001b[0m Selected: 300\u001b[32m [repeated 52x across cluster]\u001b[0m\n",
      "\u001b[36m(train pid=16804)\u001b[0m Selected: 250\u001b[32m [repeated 50x across cluster]\u001b[0m\n",
      "\u001b[36m(train pid=30648)\u001b[0m Selected: 300\u001b[32m [repeated 45x across cluster]\u001b[0m\n",
      "\u001b[36m(train pid=12428)\u001b[0m Selected: 50\u001b[32m [repeated 39x across cluster]\u001b[0m\n"
     ]
    },
    {
     "name": "stderr",
     "output_type": "stream",
     "text": [
      "\u001b[36m(train pid=27640)\u001b[0m C:\\arrow\\cpp\\src\\arrow\\filesystem\\s3fs.cc:2829:  arrow::fs::FinalizeS3 was not called even though S3 was initialized.  This could lead to a segmentation fault at exit\n"
     ]
    },
    {
     "name": "stdout",
     "output_type": "stream",
     "text": [
      "\u001b[36m(train pid=30648)\u001b[0m Selected: 300\u001b[32m [repeated 36x across cluster]\u001b[0m\n"
     ]
    },
    {
     "name": "stderr",
     "output_type": "stream",
     "text": [
      "\u001b[36m(train pid=15956)\u001b[0m C:\\arrow\\cpp\\src\\arrow\\filesystem\\s3fs.cc:2829:  arrow::fs::FinalizeS3 was not called even though S3 was initialized.  This could lead to a segmentation fault at exit\n"
     ]
    },
    {
     "name": "stdout",
     "output_type": "stream",
     "text": [
      "\u001b[36m(train pid=12428)\u001b[0m Selected: 50\u001b[32m [repeated 37x across cluster]\u001b[0m\n"
     ]
    },
    {
     "name": "stderr",
     "output_type": "stream",
     "text": [
      "2024-04-01 19:45:56,835\tERROR tune_controller.py:1332 -- Trial task failed for trial train_39cc4391\n",
      "Traceback (most recent call last):\n",
      "  File \"c:\\Users\\mathi\\miniconda3\\envs\\general\\Lib\\site-packages\\ray\\air\\execution\\_internal\\event_manager.py\", line 110, in resolve_future\n",
      "    result = ray.get(future)\n",
      "             ^^^^^^^^^^^^^^^\n",
      "  File \"c:\\Users\\mathi\\miniconda3\\envs\\general\\Lib\\site-packages\\ray\\_private\\auto_init_hook.py\", line 21, in auto_init_wrapper\n",
      "    return fn(*args, **kwargs)\n",
      "           ^^^^^^^^^^^^^^^^^^^\n",
      "  File \"c:\\Users\\mathi\\miniconda3\\envs\\general\\Lib\\site-packages\\ray\\_private\\client_mode_hook.py\", line 103, in wrapper\n",
      "    return func(*args, **kwargs)\n",
      "           ^^^^^^^^^^^^^^^^^^^^^\n",
      "  File \"c:\\Users\\mathi\\miniconda3\\envs\\general\\Lib\\site-packages\\ray\\_private\\worker.py\", line 2667, in get\n",
      "    values, debugger_breakpoint = worker.get_objects(object_refs, timeout=timeout)\n",
      "                                  ^^^^^^^^^^^^^^^^^^^^^^^^^^^^^^^^^^^^^^^^^^^^^^^^\n",
      "  File \"c:\\Users\\mathi\\miniconda3\\envs\\general\\Lib\\site-packages\\ray\\_private\\worker.py\", line 864, in get_objects\n",
      "    raise value.as_instanceof_cause()\n",
      "ray.exceptions.RayTaskError(ValueError): \u001b[36mray::ImplicitFunc.train()\u001b[39m (pid=12428, ip=127.0.0.1, actor_id=b603e29fd1bdb801bc58089601000000, repr=train)\n",
      "  File \"python\\ray\\_raylet.pyx\", line 1889, in ray._raylet.execute_task\n",
      "  File \"python\\ray\\_raylet.pyx\", line 1830, in ray._raylet.execute_task.function_executor\n",
      "  File \"c:\\Users\\mathi\\miniconda3\\envs\\general\\Lib\\site-packages\\ray\\_private\\function_manager.py\", line 724, in actor_method_executor\n",
      "    return method(__ray_actor, *args, **kwargs)\n",
      "           ^^^^^^^^^^^^^^^^^^^^^^^^^^^^^^^^^^^^\n",
      "  File \"c:\\Users\\mathi\\miniconda3\\envs\\general\\Lib\\site-packages\\ray\\util\\tracing\\tracing_helper.py\", line 467, in _resume_span\n",
      "    return method(self, *_args, **_kwargs)\n",
      "           ^^^^^^^^^^^^^^^^^^^^^^^^^^^^^^^\n",
      "  File \"c:\\Users\\mathi\\miniconda3\\envs\\general\\Lib\\site-packages\\ray\\tune\\trainable\\trainable.py\", line 334, in train\n",
      "    raise skipped from exception_cause(skipped)\n",
      "  File \"c:\\Users\\mathi\\miniconda3\\envs\\general\\Lib\\site-packages\\ray\\air\\_internal\\util.py\", line 88, in run\n",
      "    self._ret = self._target(*self._args, **self._kwargs)\n",
      "                ^^^^^^^^^^^^^^^^^^^^^^^^^^^^^^^^^^^^^^^^^\n",
      "  File \"c:\\Users\\mathi\\miniconda3\\envs\\general\\Lib\\site-packages\\ray\\tune\\trainable\\function_trainable.py\", line 53, in <lambda>\n",
      "    training_func=lambda: self._trainable_func(self.config),\n",
      "                          ^^^^^^^^^^^^^^^^^^^^^^^^^^^^^^^^^\n",
      "  File \"c:\\Users\\mathi\\miniconda3\\envs\\general\\Lib\\site-packages\\ray\\util\\tracing\\tracing_helper.py\", line 467, in _resume_span\n",
      "    return method(self, *_args, **_kwargs)\n",
      "           ^^^^^^^^^^^^^^^^^^^^^^^^^^^^^^^\n",
      "  File \"c:\\Users\\mathi\\miniconda3\\envs\\general\\Lib\\site-packages\\ray\\tune\\trainable\\function_trainable.py\", line 261, in _trainable_func\n",
      "    output = fn()\n",
      "             ^^^^\n",
      "  File \"c:\\Users\\mathi\\miniconda3\\envs\\general\\Lib\\site-packages\\ray\\tune\\trainable\\util.py\", line 130, in inner\n",
      "    return trainable(config, **fn_kwargs)\n",
      "           ^^^^^^^^^^^^^^^^^^^^^^^^^^^^^^\n",
      "  File \"C:\\Users\\mathi\\AppData\\Local\\Temp\\ray\\session_2024-04-01_19-44-21_958596_1608\\runtime_resources\\working_dir_files\\_ray_pkg_147b67ec4bbe00e7\\genetic.py\", line 320, in train\n",
      "    i1 = np.random.choice(a=len(selected), replace=True, p=fitnesses_weighting)\n",
      "         ^^^^^^^^^^^^^^^^^^^^^^^^^^^^^^^^^^^^^^^^^^^^^^^^^^^^^^^^^^^^^^^^^^^^^^\n",
      "  File \"numpy\\\\random\\\\mtrand.pyx\", line 974, in numpy.random.mtrand.RandomState.choice\n",
      "ValueError: probabilities do not sum to 1\n"
     ]
    },
    {
     "name": "stdout",
     "output_type": "stream",
     "text": [
      "\u001b[36m(train pid=23796)\u001b[0m Selected: 150\u001b[32m [repeated 26x across cluster]\u001b[0m\n",
      "\u001b[36m(train pid=30648)\u001b[0m Selected: 300\u001b[32m [repeated 28x across cluster]\u001b[0m\n"
     ]
    },
    {
     "name": "stderr",
     "output_type": "stream",
     "text": [
      "\u001b[36m(train pid=30648)\u001b[0m C:\\arrow\\cpp\\src\\arrow\\filesystem\\s3fs.cc:2829:  arrow::fs::FinalizeS3 was not called even though S3 was initialized.  This could lead to a segmentation fault at exit\n"
     ]
    },
    {
     "name": "stdout",
     "output_type": "stream",
     "text": [
      "\u001b[36m(train pid=12160)\u001b[0m Selected: 100\u001b[32m [repeated 57x across cluster]\u001b[0m\n",
      "\u001b[36m(train pid=9128)\u001b[0m Selected: 60\u001b[32m [repeated 57x across cluster]\u001b[0m\n"
     ]
    },
    {
     "name": "stderr",
     "output_type": "stream",
     "text": [
      "2024-04-01 19:46:17,761\tERROR tune_controller.py:1332 -- Trial task failed for trial train_54b69b76\n",
      "Traceback (most recent call last):\n",
      "  File \"c:\\Users\\mathi\\miniconda3\\envs\\general\\Lib\\site-packages\\ray\\air\\execution\\_internal\\event_manager.py\", line 110, in resolve_future\n",
      "    result = ray.get(future)\n",
      "             ^^^^^^^^^^^^^^^\n",
      "  File \"c:\\Users\\mathi\\miniconda3\\envs\\general\\Lib\\site-packages\\ray\\_private\\auto_init_hook.py\", line 21, in auto_init_wrapper\n",
      "    return fn(*args, **kwargs)\n",
      "           ^^^^^^^^^^^^^^^^^^^\n",
      "  File \"c:\\Users\\mathi\\miniconda3\\envs\\general\\Lib\\site-packages\\ray\\_private\\client_mode_hook.py\", line 103, in wrapper\n",
      "    return func(*args, **kwargs)\n",
      "           ^^^^^^^^^^^^^^^^^^^^^\n",
      "  File \"c:\\Users\\mathi\\miniconda3\\envs\\general\\Lib\\site-packages\\ray\\_private\\worker.py\", line 2667, in get\n",
      "    values, debugger_breakpoint = worker.get_objects(object_refs, timeout=timeout)\n",
      "                                  ^^^^^^^^^^^^^^^^^^^^^^^^^^^^^^^^^^^^^^^^^^^^^^^^\n",
      "  File \"c:\\Users\\mathi\\miniconda3\\envs\\general\\Lib\\site-packages\\ray\\_private\\worker.py\", line 864, in get_objects\n",
      "    raise value.as_instanceof_cause()\n",
      "ray.exceptions.RayTaskError(ValueError): \u001b[36mray::ImplicitFunc.train()\u001b[39m (pid=12160, ip=127.0.0.1, actor_id=f32d2303e0344fb947c32edd01000000, repr=train)\n",
      "  File \"python\\ray\\_raylet.pyx\", line 1889, in ray._raylet.execute_task\n",
      "  File \"python\\ray\\_raylet.pyx\", line 1830, in ray._raylet.execute_task.function_executor\n",
      "  File \"c:\\Users\\mathi\\miniconda3\\envs\\general\\Lib\\site-packages\\ray\\_private\\function_manager.py\", line 724, in actor_method_executor\n",
      "    return method(__ray_actor, *args, **kwargs)\n",
      "           ^^^^^^^^^^^^^^^^^^^^^^^^^^^^^^^^^^^^\n",
      "  File \"c:\\Users\\mathi\\miniconda3\\envs\\general\\Lib\\site-packages\\ray\\util\\tracing\\tracing_helper.py\", line 467, in _resume_span\n",
      "    return method(self, *_args, **_kwargs)\n",
      "           ^^^^^^^^^^^^^^^^^^^^^^^^^^^^^^^\n",
      "  File \"c:\\Users\\mathi\\miniconda3\\envs\\general\\Lib\\site-packages\\ray\\tune\\trainable\\trainable.py\", line 334, in train\n",
      "    raise skipped from exception_cause(skipped)\n",
      "  File \"c:\\Users\\mathi\\miniconda3\\envs\\general\\Lib\\site-packages\\ray\\air\\_internal\\util.py\", line 88, in run\n",
      "    self._ret = self._target(*self._args, **self._kwargs)\n",
      "                ^^^^^^^^^^^^^^^^^^^^^^^^^^^^^^^^^^^^^^^^^\n",
      "  File \"c:\\Users\\mathi\\miniconda3\\envs\\general\\Lib\\site-packages\\ray\\tune\\trainable\\function_trainable.py\", line 53, in <lambda>\n",
      "    training_func=lambda: self._trainable_func(self.config),\n",
      "                          ^^^^^^^^^^^^^^^^^^^^^^^^^^^^^^^^^\n",
      "  File \"c:\\Users\\mathi\\miniconda3\\envs\\general\\Lib\\site-packages\\ray\\util\\tracing\\tracing_helper.py\", line 467, in _resume_span\n",
      "    return method(self, *_args, **_kwargs)\n",
      "           ^^^^^^^^^^^^^^^^^^^^^^^^^^^^^^^\n",
      "  File \"c:\\Users\\mathi\\miniconda3\\envs\\general\\Lib\\site-packages\\ray\\tune\\trainable\\function_trainable.py\", line 261, in _trainable_func\n",
      "    output = fn()\n",
      "             ^^^^\n",
      "  File \"c:\\Users\\mathi\\miniconda3\\envs\\general\\Lib\\site-packages\\ray\\tune\\trainable\\util.py\", line 130, in inner\n",
      "    return trainable(config, **fn_kwargs)\n",
      "           ^^^^^^^^^^^^^^^^^^^^^^^^^^^^^^\n",
      "  File \"C:\\Users\\mathi\\AppData\\Local\\Temp\\ray\\session_2024-04-01_19-44-21_958596_1608\\runtime_resources\\working_dir_files\\_ray_pkg_147b67ec4bbe00e7\\genetic.py\", line 320, in train\n",
      "    i1 = np.random.choice(a=len(selected), replace=True, p=fitnesses_weighting)\n",
      "         ^^^^^^^^^^^^^^^^^^^^^^^^^^^^^^^^^^^^^^^^^^^^^^^^^^^^^^^^^^^^^^^^^^^^^^\n",
      "  File \"numpy\\\\random\\\\mtrand.pyx\", line 974, in numpy.random.mtrand.RandomState.choice\n",
      "ValueError: probabilities do not sum to 1\n"
     ]
    },
    {
     "name": "stdout",
     "output_type": "stream",
     "text": [
      "\u001b[36m(train pid=9128)\u001b[0m Selected: 60\u001b[32m [repeated 53x across cluster]\u001b[0m\n",
      "\u001b[36m(train pid=15876)\u001b[0m Selected: 150\u001b[32m [repeated 25x across cluster]\u001b[0m\n",
      "\u001b[36m(train pid=15876)\u001b[0m Selected: 150\u001b[32m [repeated 20x across cluster]\u001b[0m\n",
      "\u001b[36m(train pid=23796)\u001b[0m Selected: 150\u001b[32m [repeated 24x across cluster]\u001b[0m\n",
      "\u001b[36m(train pid=12940)\u001b[0m Selected: 100\u001b[32m [repeated 26x across cluster]\u001b[0m\n",
      "\u001b[36m(train pid=25776)\u001b[0m Selected: 150\u001b[32m [repeated 30x across cluster]\u001b[0m\n",
      "\u001b[36m(train pid=23796)\u001b[0m Selected: 150\u001b[32m [repeated 26x across cluster]\u001b[0m\n",
      "\u001b[36m(train pid=12940)\u001b[0m Selected: 100\u001b[32m [repeated 30x across cluster]\u001b[0m\n",
      "\u001b[36m(train pid=25776)\u001b[0m Selected: 150\u001b[32m [repeated 26x across cluster]\u001b[0m\n",
      "\u001b[36m(train pid=25776)\u001b[0m Selected: 150\u001b[32m [repeated 26x across cluster]\u001b[0m\n",
      "\u001b[36m(train pid=12940)\u001b[0m Selected: 100\u001b[32m [repeated 30x across cluster]\u001b[0m\n",
      "\u001b[36m(train pid=12940)\u001b[0m Selected: 100\u001b[32m [repeated 27x across cluster]\u001b[0m\n"
     ]
    },
    {
     "name": "stderr",
     "output_type": "stream",
     "text": [
      "2024-04-01 19:47:21,415\tWARNING tune.py:229 -- Stop signal received (e.g. via SIGINT/Ctrl+C), ending Ray Tune run. This will try to checkpoint the experiment state one last time. Press CTRL+C (or send SIGINT/SIGKILL/SIGTERM) to skip. \n",
      "2024-04-01 19:47:21,462\tWARNING experiment_state.py:205 -- Experiment state snapshotting has been triggered multiple times in the last 5.0 seconds. A snapshot is forced if `CheckpointConfig(num_to_keep)` is set, and a trial has checkpointed >= `num_to_keep` times since the last snapshot.\n",
      "You may want to consider increasing the `CheckpointConfig(num_to_keep)` or decreasing the frequency of saving checkpoints.\n",
      "You can suppress this error by setting the environment variable TUNE_WARN_EXCESSIVE_EXPERIMENT_CHECKPOINT_SYNC_THRESHOLD_S to a smaller value than the current threshold (5.0).\n",
      "2024-04-01 19:47:21,498\tINFO tune.py:1016 -- Wrote the latest version of all result files and experiment state to 'C:/Users/mathi/ray_results/GA' in 0.0810s.\n",
      "\u001b[36m(train pid=15876)\u001b[0m C:\\arrow\\cpp\\src\\arrow\\filesystem\\s3fs.cc:2829:  arrow::fs::FinalizeS3 was not called even though S3 was initialized.  This could lead to a segmentation fault at exit\n",
      "\u001b[36m(train pid=26912)\u001b[0m C:\\arrow\\cpp\\src\\arrow\\filesystem\\s3fs.cc:2829:  arrow::fs::FinalizeS3 was not called even though S3 was initialized.  This could lead to a segmentation fault at exit\n",
      "2024-04-01 19:47:26,227\tERROR tune.py:1044 -- Trials did not complete: [train_39cc4391, train_54b69b76]\n",
      "2024-04-01 19:47:26,230\tINFO tune.py:1048 -- Total run time: 179.45 seconds (172.73 seconds for the tuning loop).\n",
      "2024-04-01 19:47:26,231\tWARNING tune.py:1063 -- Experiment has been interrupted, but the most recent state was saved.\n",
      "Resume experiment with: tune.run(..., resume=True)\n",
      "2024-04-01 19:47:26,612\tWARNING experiment_analysis.py:190 -- Failed to fetch metrics for 1 trial(s):\n",
      "- train_c8ceb2e8: FileNotFoundError('Could not fetch metrics for train_c8ceb2e8: both result.json and progress.csv were not found at C:/Users/mathi/ray_results/GA/train_c8ceb2e8')\n"
     ]
    }
   ],
   "source": [
    "analysis = ga_solver.tune(\n",
    "    tune_config={\n",
    "        \"MUTPB\": 1,\n",
    "        \"POP_SIZE\": tune.choice([100, 500, 5000]),\n",
    "        \"MUT_IND_PB\": tune.uniform(0.01, 0.5),\n",
    "        \"ELITISM\": tune.choice(np.arange(0.1, 0.7, 0.1)),\n",
    "    },\n",
    "    total_generations=100,\n",
    "    timeout_s=60*45,\n",
    ")"
   ]
  },
  {
   "cell_type": "code",
   "execution_count": null,
   "metadata": {},
   "outputs": [],
   "source": [
    "analysis.best_config"
   ]
  },
  {
   "cell_type": "code",
   "execution_count": null,
   "metadata": {},
   "outputs": [],
   "source": [
    "fig = px.line(\n",
    "    data_frame=pd.concat(analysis.trial_dataframes.values()),\n",
    "    x=\"training_iteration\",\n",
    "    y=\"avg_fitness\",\n",
    "    color=\"trial_id\",\n",
    ")\n",
    "fig.show()"
   ]
  },
  {
   "cell_type": "code",
   "execution_count": null,
   "metadata": {},
   "outputs": [],
   "source": [
    "top_runs = analysis.dataframe().sort_values(\"avg_fitness\", ascending=False).head(10)[\"trial_id\"].to_list()\n",
    "\n",
    "fig = px.line(\n",
    "    data_frame=pd.concat(analysis.trial_dataframes.values()).query(\n",
    "        \"trial_id in @top_runs\"\n",
    "    ),\n",
    "    x=\"training_iteration\",\n",
    "    y=\"avg_fitness\",\n",
    "    color=\"trial_id\",\n",
    ")\n",
    "fig.show()"
   ]
  },
  {
   "cell_type": "code",
   "execution_count": null,
   "metadata": {},
   "outputs": [],
   "source": [
    "# (\n",
    "#     analysis.dataframe()\n",
    "#     .query(\"trial_id == 'd947e4c7'\")\n",
    "#     .filter(regex=\"config\")\n",
    "#     .melt()\n",
    "#     .assign(variable=lambda x: x[\"variable\"].str.replace(\"config/\", \"\"))\n",
    "#     .set_index(\"variable\")\n",
    "#     .to_dict()[\"value\"]\n",
    "# )"
   ]
  },
  {
   "cell_type": "markdown",
   "metadata": {},
   "source": [
    "### Tournament"
   ]
  },
  {
   "cell_type": "code",
   "execution_count": 5,
   "metadata": {},
   "outputs": [],
   "source": [
    "ga_solver = GA_Actions_Tournament(\n",
    "    plant_params=plant_params, spot=df[\"spot\"], utc_time=df[\"utc_time\"]\n",
    ")"
   ]
  },
  {
   "cell_type": "code",
   "execution_count": 7,
   "metadata": {},
   "outputs": [
    {
     "name": "stderr",
     "output_type": "stream",
     "text": [
      "2024-04-01 20:21:32,197\tINFO worker.py:1585 -- Calling ray.init() again after it has already been called.\n",
      "2024-04-01 20:21:32,201\tINFO tune.py:613 -- [output] This uses the legacy output and progress reporter, as Jupyter notebooks are not supported by the new engine, yet. For more information, please see https://github.com/ray-project/ray/issues/36949\n",
      "[I 2024-04-01 20:21:32,208] A new study created in memory with name: optuna\n"
     ]
    },
    {
     "data": {
      "text/html": [
       "<div class=\"tuneStatus\">\n",
       "  <div style=\"display: flex;flex-direction: row\">\n",
       "    <div style=\"display: flex;flex-direction: column;\">\n",
       "      <h3>Tune Status</h3>\n",
       "      <table>\n",
       "<tbody>\n",
       "<tr><td>Current time:</td><td>2024-04-01 20:22:58</td></tr>\n",
       "<tr><td>Running for: </td><td>00:01:25.86        </td></tr>\n",
       "<tr><td>Memory:      </td><td>14.1/15.8 GiB      </td></tr>\n",
       "</tbody>\n",
       "</table>\n",
       "    </div>\n",
       "    <div class=\"vDivider\"></div>\n",
       "    <div class=\"systemInfo\">\n",
       "      <h3>System Info</h3>\n",
       "      Using FIFO scheduling algorithm.<br>Logical resource usage: 8.0/8 CPUs, 0/1 GPUs (0.0/1.0 accelerator_type:G)\n",
       "    </div>\n",
       "    \n",
       "  </div>\n",
       "  <div class=\"hDivider\"></div>\n",
       "  <div class=\"trialStatus\">\n",
       "    <h3>Trial Status</h3>\n",
       "    <table>\n",
       "<thead>\n",
       "<tr><th>Trial name    </th><th>status  </th><th>loc            </th><th style=\"text-align: right;\">    CXPB</th><th style=\"text-align: right;\">  FINAL_MUTATION_RATE</th><th style=\"text-align: right;\">          INITIAL_MUTATION_RAT\n",
       "E</th><th style=\"text-align: right;\">  POP_SIZE</th><th style=\"text-align: right;\">  TOURNAMENT_SIZE</th><th style=\"text-align: right;\">  iter</th><th style=\"text-align: right;\">  total time (s)</th><th style=\"text-align: right;\">  avg_fitness</th></tr>\n",
       "</thead>\n",
       "<tbody>\n",
       "<tr><td>train_4bb2f107</td><td>RUNNING </td><td>127.0.0.1:24024</td><td style=\"text-align: right;\">0.947186</td><td style=\"text-align: right;\">           0.0191291 </td><td style=\"text-align: right;\">0.16174  </td><td style=\"text-align: right;\">      5000</td><td style=\"text-align: right;\">               12</td><td style=\"text-align: right;\">     2</td><td style=\"text-align: right;\">         56.4791</td><td style=\"text-align: right;\"> -9.99809e+06</td></tr>\n",
       "<tr><td>train_f8f0d94f</td><td>RUNNING </td><td>127.0.0.1:12884</td><td style=\"text-align: right;\">0.359629</td><td style=\"text-align: right;\">           0.0191647 </td><td style=\"text-align: right;\">0.18341  </td><td style=\"text-align: right;\">      5000</td><td style=\"text-align: right;\">               26</td><td style=\"text-align: right;\">     2</td><td style=\"text-align: right;\">         66.3404</td><td style=\"text-align: right;\"> -9.99647e+06</td></tr>\n",
       "<tr><td>train_250cc752</td><td>RUNNING </td><td>127.0.0.1:14208</td><td style=\"text-align: right;\">0.179242</td><td style=\"text-align: right;\">           0.00859048</td><td style=\"text-align: right;\">0.196958 </td><td style=\"text-align: right;\">       500</td><td style=\"text-align: right;\">               14</td><td style=\"text-align: right;\">    28</td><td style=\"text-align: right;\">         70.7339</td><td style=\"text-align: right;\"> -1.00029e+07</td></tr>\n",
       "<tr><td>train_e04da3c7</td><td>RUNNING </td><td>127.0.0.1:9420 </td><td style=\"text-align: right;\">0.159658</td><td style=\"text-align: right;\">           0.00607809</td><td style=\"text-align: right;\">0.187389 </td><td style=\"text-align: right;\">       100</td><td style=\"text-align: right;\">               43</td><td style=\"text-align: right;\">   130</td><td style=\"text-align: right;\">         67.1992</td><td style=\"text-align: right;\"> -1.00238e+07</td></tr>\n",
       "<tr><td>train_d224302a</td><td>RUNNING </td><td>127.0.0.1:34048</td><td style=\"text-align: right;\">0.10295 </td><td style=\"text-align: right;\">           0.00605543</td><td style=\"text-align: right;\">0.03613  </td><td style=\"text-align: right;\">       100</td><td style=\"text-align: right;\">               33</td><td style=\"text-align: right;\">   116</td><td style=\"text-align: right;\">         62.4274</td><td style=\"text-align: right;\"> -9.97546e+06</td></tr>\n",
       "<tr><td>train_c84fbb2b</td><td>RUNNING </td><td>127.0.0.1:34308</td><td style=\"text-align: right;\">0.423352</td><td style=\"text-align: right;\">           0.00500984</td><td style=\"text-align: right;\">0.0869487</td><td style=\"text-align: right;\">       100</td><td style=\"text-align: right;\">               47</td><td style=\"text-align: right;\">   103</td><td style=\"text-align: right;\">         57.5344</td><td style=\"text-align: right;\"> -1.00409e+07</td></tr>\n",
       "<tr><td>train_f9d17d61</td><td>RUNNING </td><td>127.0.0.1:22848</td><td style=\"text-align: right;\">0.420572</td><td style=\"text-align: right;\">           0.0157898 </td><td style=\"text-align: right;\">0.0710039</td><td style=\"text-align: right;\">       500</td><td style=\"text-align: right;\">               33</td><td style=\"text-align: right;\">    18</td><td style=\"text-align: right;\">         51.1713</td><td style=\"text-align: right;\"> -1e+07      </td></tr>\n",
       "<tr><td>train_7e3a051d</td><td>RUNNING </td><td>127.0.0.1:6560 </td><td style=\"text-align: right;\">0.334031</td><td style=\"text-align: right;\">           0.00577966</td><td style=\"text-align: right;\">0.122528 </td><td style=\"text-align: right;\">       100</td><td style=\"text-align: right;\">                9</td><td style=\"text-align: right;\">    78</td><td style=\"text-align: right;\">         43.1433</td><td style=\"text-align: right;\"> -9.89252e+06</td></tr>\n",
       "<tr><td>train_6ea841bb</td><td>PENDING </td><td>               </td><td style=\"text-align: right;\">0.238355</td><td style=\"text-align: right;\">           0.0175151 </td><td style=\"text-align: right;\">0.162303 </td><td style=\"text-align: right;\">       100</td><td style=\"text-align: right;\">                6</td><td style=\"text-align: right;\">      </td><td style=\"text-align: right;\">                </td><td style=\"text-align: right;\">             </td></tr>\n",
       "</tbody>\n",
       "</table>\n",
       "  </div>\n",
       "</div>\n",
       "<style>\n",
       ".tuneStatus {\n",
       "  color: var(--jp-ui-font-color1);\n",
       "}\n",
       ".tuneStatus .systemInfo {\n",
       "  display: flex;\n",
       "  flex-direction: column;\n",
       "}\n",
       ".tuneStatus td {\n",
       "  white-space: nowrap;\n",
       "}\n",
       ".tuneStatus .trialStatus {\n",
       "  display: flex;\n",
       "  flex-direction: column;\n",
       "}\n",
       ".tuneStatus h3 {\n",
       "  font-weight: bold;\n",
       "}\n",
       ".tuneStatus .hDivider {\n",
       "  border-bottom-width: var(--jp-border-width);\n",
       "  border-bottom-color: var(--jp-border-color0);\n",
       "  border-bottom-style: solid;\n",
       "}\n",
       ".tuneStatus .vDivider {\n",
       "  border-left-width: var(--jp-border-width);\n",
       "  border-left-color: var(--jp-border-color0);\n",
       "  border-left-style: solid;\n",
       "  margin: 0.5em 1em 0.5em 1em;\n",
       "}\n",
       "</style>\n"
      ],
      "text/plain": [
       "<IPython.core.display.HTML object>"
      ]
     },
     "metadata": {},
     "output_type": "display_data"
    },
    {
     "data": {
      "text/html": [
       "<div class=\"trialProgress\">\n",
       "  <h3>Trial Progress</h3>\n",
       "  <table>\n",
       "<thead>\n",
       "<tr><th>Trial name    </th><th style=\"text-align: right;\">  avg_fitness</th></tr>\n",
       "</thead>\n",
       "<tbody>\n",
       "<tr><td>train_250cc752</td><td style=\"text-align: right;\"> -9.98676e+06</td></tr>\n",
       "<tr><td>train_4bb2f107</td><td style=\"text-align: right;\"> -9.99809e+06</td></tr>\n",
       "<tr><td>train_7e3a051d</td><td style=\"text-align: right;\"> -9.90121e+06</td></tr>\n",
       "<tr><td>train_c84fbb2b</td><td style=\"text-align: right;\"> -9.98514e+06</td></tr>\n",
       "<tr><td>train_d224302a</td><td style=\"text-align: right;\"> -9.97546e+06</td></tr>\n",
       "<tr><td>train_e04da3c7</td><td style=\"text-align: right;\"> -9.88841e+06</td></tr>\n",
       "<tr><td>train_f8f0d94f</td><td style=\"text-align: right;\"> -9.99647e+06</td></tr>\n",
       "<tr><td>train_f9d17d61</td><td style=\"text-align: right;\"> -9.99736e+06</td></tr>\n",
       "</tbody>\n",
       "</table>\n",
       "</div>\n",
       "<style>\n",
       ".trialProgress {\n",
       "  display: flex;\n",
       "  flex-direction: column;\n",
       "  color: var(--jp-ui-font-color1);\n",
       "}\n",
       ".trialProgress h3 {\n",
       "  font-weight: bold;\n",
       "}\n",
       ".trialProgress td {\n",
       "  white-space: nowrap;\n",
       "}\n",
       "</style>\n"
      ],
      "text/plain": [
       "<IPython.core.display.HTML object>"
      ]
     },
     "metadata": {},
     "output_type": "display_data"
    }
   ],
   "source": [
    "analysis = ga_solver.tune(\n",
    "    tune_config={\n",
    "        \"MUTPB\": 1,\n",
    "        \"POP_SIZE\": tune.choice([100, 500, 5000]),\n",
    "        \"CXPB\": tune.uniform(0.05, 0.95),\n",
    "        \"INITIAL_MUTATION_RATE\": tune.uniform(0.02, 0.2),\n",
    "        \"FINAL_MUTATION_RATE\": tune.uniform(0.005, 0.02),\n",
    "        \"TOURNAMENT_SIZE\": tune.randint(1, 50),\n",
    "    },\n",
    "    total_generations=300,\n",
    "    timeout_s=120*60,\n",
    ")"
   ]
  },
  {
   "cell_type": "code",
   "execution_count": null,
   "metadata": {},
   "outputs": [],
   "source": [
    "analysis.best_config"
   ]
  },
  {
   "cell_type": "code",
   "execution_count": null,
   "metadata": {},
   "outputs": [],
   "source": [
    "fig = px.line(\n",
    "    data_frame=pd.concat(analysis.trial_dataframes.values()),\n",
    "    x=\"training_iteration\",\n",
    "    y=\"avg_fitness\",\n",
    "    color=\"trial_id\",\n",
    ")\n",
    "fig.show()"
   ]
  },
  {
   "cell_type": "code",
   "execution_count": null,
   "metadata": {},
   "outputs": [],
   "source": [
    "top_runs = analysis.dataframe().sort_values(\"avg_fitness\", ascending=False).head(10)[\"trial_id\"].to_list()\n",
    "\n",
    "fig = px.line(\n",
    "    data_frame=pd.concat(analysis.trial_dataframes.values()).query(\n",
    "        \"trial_id in @top_runs\"\n",
    "    ),\n",
    "    x=\"training_iteration\",\n",
    "    y=\"avg_fitness\",\n",
    "    color=\"trial_id\",\n",
    ")\n",
    "fig.show()"
   ]
  },
  {
   "cell_type": "code",
   "execution_count": null,
   "metadata": {},
   "outputs": [],
   "source": [
    "(\n",
    "    analysis.dataframe()\n",
    "    .query(\"trial_id == 'd947e4c7'\")\n",
    "    .filter(regex=\"config\")\n",
    "    .melt()\n",
    "    .assign(variable=lambda x: x[\"variable\"].str.replace(\"config/\", \"\"))\n",
    "    .set_index(\"variable\")\n",
    "    .to_dict()[\"value\"]\n",
    ")"
   ]
  }
 ],
 "metadata": {
  "kernelspec": {
   "display_name": "general",
   "language": "python",
   "name": "python3"
  },
  "language_info": {
   "codemirror_mode": {
    "name": "ipython",
    "version": 3
   },
   "file_extension": ".py",
   "mimetype": "text/x-python",
   "name": "python",
   "nbconvert_exporter": "python",
   "pygments_lexer": "ipython3",
   "version": "3.11.5"
  }
 },
 "nbformat": 4,
 "nbformat_minor": 2
}
