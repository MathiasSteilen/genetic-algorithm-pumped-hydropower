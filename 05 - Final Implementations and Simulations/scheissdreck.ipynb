{
 "cells": [
  {
   "cell_type": "markdown",
   "metadata": {},
   "source": [
    "# Pumped-Storage Optimisation with Genetic Algorithm and MILP"
   ]
  },
  {
   "cell_type": "code",
   "execution_count": 1,
   "metadata": {},
   "outputs": [],
   "source": [
    "import pandas as pd\n",
    "import numpy as np\n",
    "import plotnine as pn\n",
    "import plotly.graph_objs as go\n",
    "import plotly.express as px\n",
    "from tqdm.notebook import tqdm\n",
    "from IPython.display import clear_output, display\n",
    "import os\n",
    "from itertools import product\n",
    "\n",
    "# Import own implementations\n",
    "from milp import MILP\n",
    "import scheissdreck\n",
    "from scheissdreck import trainable\n",
    "\n",
    "# Importing tuning libraries\n",
    "import ray\n",
    "from ray import train, tune\n",
    "from ray.tune.search.optuna import OptunaSearch\n",
    "from ray.tune.schedulers import ASHAScheduler\n",
    "\n",
    "background_colour = \"#F2F2F2\"\n",
    "pn.theme_set(\n",
    "    pn.theme_classic()\n",
    "    + pn.theme(\n",
    "        text=pn.element_text(family=\"monospace\"),\n",
    "        plot_background=pn.element_rect(\n",
    "            fill=background_colour, colour=background_colour\n",
    "        ),\n",
    "        panel_background=pn.element_rect(\n",
    "            fill=background_colour, colour=background_colour\n",
    "        ),\n",
    "        legend_background=pn.element_rect(\n",
    "            fill=background_colour, colour=background_colour\n",
    "        ),\n",
    "    )\n",
    ")\n",
    "\n",
    "%load_ext blackcellmagic"
   ]
  },
  {
   "cell_type": "code",
   "execution_count": 2,
   "metadata": {},
   "outputs": [
    {
     "data": {
      "text/plain": [
       "['c:\\\\Users\\\\mathi\\\\OneDrive\\\\Universitaet\\\\2nd Semester\\\\5_Supervised Research\\\\genetic-algorithm-pumped-hydropower\\\\05 - Final Implementations and Simulations']"
      ]
     },
     "execution_count": 2,
     "metadata": {},
     "output_type": "execute_result"
    }
   ],
   "source": [
    "scheissdreck.__path__ = [os.getcwd()]\n",
    "\n",
    "scheissdreck.__path__"
   ]
  },
  {
   "cell_type": "code",
   "execution_count": 3,
   "metadata": {},
   "outputs": [
    {
     "name": "stderr",
     "output_type": "stream",
     "text": [
      "2024-04-01 14:28:22,827\tINFO worker.py:1752 -- Started a local Ray instance.\n",
      "2024-04-01 14:28:22,854\tINFO packaging.py:530 -- Creating a file package for local directory '.'.\n",
      "2024-04-01 14:28:22,879\tINFO packaging.py:358 -- Pushing file package 'gcs://_ray_pkg_9dbb502ab7ee35fb.zip' (0.43MiB) to Ray cluster...\n",
      "2024-04-01 14:28:22,883\tINFO packaging.py:371 -- Successfully pushed file package 'gcs://_ray_pkg_9dbb502ab7ee35fb.zip'.\n",
      "2024-04-01 14:28:24,531\tINFO tune.py:613 -- [output] This uses the legacy output and progress reporter, as Jupyter notebooks are not supported by the new engine, yet. For more information, please see https://github.com/ray-project/ray/issues/36949\n",
      "[I 2024-04-01 14:28:24,536] A new study created in memory with name: optuna\n"
     ]
    },
    {
     "data": {
      "text/html": [
       "<div class=\"tuneStatus\">\n",
       "  <div style=\"display: flex;flex-direction: row\">\n",
       "    <div style=\"display: flex;flex-direction: column;\">\n",
       "      <h3>Tune Status</h3>\n",
       "      <table>\n",
       "<tbody>\n",
       "<tr><td>Current time:</td><td>2024-04-01 14:28:52</td></tr>\n",
       "<tr><td>Running for: </td><td>00:00:25.40        </td></tr>\n",
       "<tr><td>Memory:      </td><td>13.4/15.8 GiB      </td></tr>\n",
       "</tbody>\n",
       "</table>\n",
       "    </div>\n",
       "    <div class=\"vDivider\"></div>\n",
       "    <div class=\"systemInfo\">\n",
       "      <h3>System Info</h3>\n",
       "      Using FIFO scheduling algorithm.<br>Logical resource usage: 1.0/8 CPUs, 0/1 GPUs (0.0/1.0 accelerator_type:G)\n",
       "    </div>\n",
       "    \n",
       "  </div>\n",
       "  <div class=\"hDivider\"></div>\n",
       "  <div class=\"trialStatus\">\n",
       "    <h3>Trial Status</h3>\n",
       "    <table>\n",
       "<thead>\n",
       "<tr><th>Trial name        </th><th>status    </th><th>loc            </th><th style=\"text-align: right;\">        x</th><th style=\"text-align: right;\">  iter</th><th style=\"text-align: right;\">  total time (s)</th><th style=\"text-align: right;\">   metric</th></tr>\n",
       "</thead>\n",
       "<tbody>\n",
       "<tr><td>trainable_7de9be29</td><td>PENDING   </td><td>               </td><td style=\"text-align: right;\">-1.23832 </td><td style=\"text-align: right;\">      </td><td style=\"text-align: right;\">                </td><td style=\"text-align: right;\">         </td></tr>\n",
       "<tr><td>trainable_0994cb1b</td><td>TERMINATED</td><td>127.0.0.1:24736</td><td style=\"text-align: right;\"> 3.58371 </td><td style=\"text-align: right;\">     1</td><td style=\"text-align: right;\">     0          </td><td style=\"text-align: right;\">12.8429  </td></tr>\n",
       "<tr><td>trainable_fc431fd2</td><td>TERMINATED</td><td>127.0.0.1:4980 </td><td style=\"text-align: right;\"> 6.40257 </td><td style=\"text-align: right;\">     1</td><td style=\"text-align: right;\">     0.000999689</td><td style=\"text-align: right;\">40.9929  </td></tr>\n",
       "<tr><td>trainable_536e41a1</td><td>TERMINATED</td><td>127.0.0.1:9940 </td><td style=\"text-align: right;\">-4.27687 </td><td style=\"text-align: right;\">     1</td><td style=\"text-align: right;\">     0.00099659 </td><td style=\"text-align: right;\">18.2916  </td></tr>\n",
       "<tr><td>trainable_a4f6c85d</td><td>TERMINATED</td><td>127.0.0.1:21028</td><td style=\"text-align: right;\"> 1.85513 </td><td style=\"text-align: right;\">     1</td><td style=\"text-align: right;\">     0          </td><td style=\"text-align: right;\"> 3.44149 </td></tr>\n",
       "<tr><td>trainable_94a8fa19</td><td>TERMINATED</td><td>127.0.0.1:15016</td><td style=\"text-align: right;\">-8.33175 </td><td style=\"text-align: right;\">     1</td><td style=\"text-align: right;\">     0.000976801</td><td style=\"text-align: right;\">69.418   </td></tr>\n",
       "<tr><td>trainable_ea444b28</td><td>TERMINATED</td><td>127.0.0.1:28600</td><td style=\"text-align: right;\">-5.02347 </td><td style=\"text-align: right;\">     1</td><td style=\"text-align: right;\">     0.000999451</td><td style=\"text-align: right;\">25.2352  </td></tr>\n",
       "<tr><td>trainable_15072b80</td><td>TERMINATED</td><td>127.0.0.1:22040</td><td style=\"text-align: right;\"> 0.489941</td><td style=\"text-align: right;\">     1</td><td style=\"text-align: right;\">     0.000966072</td><td style=\"text-align: right;\"> 0.240042</td></tr>\n",
       "</tbody>\n",
       "</table>\n",
       "  </div>\n",
       "</div>\n",
       "<style>\n",
       ".tuneStatus {\n",
       "  color: var(--jp-ui-font-color1);\n",
       "}\n",
       ".tuneStatus .systemInfo {\n",
       "  display: flex;\n",
       "  flex-direction: column;\n",
       "}\n",
       ".tuneStatus td {\n",
       "  white-space: nowrap;\n",
       "}\n",
       ".tuneStatus .trialStatus {\n",
       "  display: flex;\n",
       "  flex-direction: column;\n",
       "}\n",
       ".tuneStatus h3 {\n",
       "  font-weight: bold;\n",
       "}\n",
       ".tuneStatus .hDivider {\n",
       "  border-bottom-width: var(--jp-border-width);\n",
       "  border-bottom-color: var(--jp-border-color0);\n",
       "  border-bottom-style: solid;\n",
       "}\n",
       ".tuneStatus .vDivider {\n",
       "  border-left-width: var(--jp-border-width);\n",
       "  border-left-color: var(--jp-border-color0);\n",
       "  border-left-style: solid;\n",
       "  margin: 0.5em 1em 0.5em 1em;\n",
       "}\n",
       "</style>\n"
      ],
      "text/plain": [
       "<IPython.core.display.HTML object>"
      ]
     },
     "metadata": {},
     "output_type": "display_data"
    },
    {
     "data": {
      "text/html": [
       "<div class=\"trialProgress\">\n",
       "  <h3>Trial Progress</h3>\n",
       "  <table>\n",
       "<thead>\n",
       "<tr><th>Trial name        </th><th style=\"text-align: right;\">   metric</th></tr>\n",
       "</thead>\n",
       "<tbody>\n",
       "<tr><td>trainable_0994cb1b</td><td style=\"text-align: right;\">12.8429  </td></tr>\n",
       "<tr><td>trainable_15072b80</td><td style=\"text-align: right;\"> 0.240042</td></tr>\n",
       "<tr><td>trainable_536e41a1</td><td style=\"text-align: right;\">18.2916  </td></tr>\n",
       "<tr><td>trainable_7de9be29</td><td style=\"text-align: right;\"> 1.53343 </td></tr>\n",
       "<tr><td>trainable_94a8fa19</td><td style=\"text-align: right;\">69.418   </td></tr>\n",
       "<tr><td>trainable_a4f6c85d</td><td style=\"text-align: right;\"> 3.44149 </td></tr>\n",
       "<tr><td>trainable_ea444b28</td><td style=\"text-align: right;\">25.2352  </td></tr>\n",
       "<tr><td>trainable_fc431fd2</td><td style=\"text-align: right;\">40.9929  </td></tr>\n",
       "</tbody>\n",
       "</table>\n",
       "</div>\n",
       "<style>\n",
       ".trialProgress {\n",
       "  display: flex;\n",
       "  flex-direction: column;\n",
       "  color: var(--jp-ui-font-color1);\n",
       "}\n",
       ".trialProgress h3 {\n",
       "  font-weight: bold;\n",
       "}\n",
       ".trialProgress td {\n",
       "  white-space: nowrap;\n",
       "}\n",
       "</style>\n"
      ],
      "text/plain": [
       "<IPython.core.display.HTML object>"
      ]
     },
     "metadata": {},
     "output_type": "display_data"
    },
    {
     "name": "stderr",
     "output_type": "stream",
     "text": [
      "\u001b[36m(trainable pid=4980)\u001b[0m C:\\arrow\\cpp\\src\\arrow\\filesystem\\s3fs.cc:2829:  arrow::fs::FinalizeS3 was not called even though S3 was initialized.  This could lead to a segmentation fault at exit\n",
      "\u001b[36m(trainable pid=21028)\u001b[0m C:\\arrow\\cpp\\src\\arrow\\filesystem\\s3fs.cc:2829:  arrow::fs::FinalizeS3 was not called even though S3 was initialized.  This could lead to a segmentation fault at exit\u001b[32m [repeated 2x across cluster] (Ray deduplicates logs by default. Set RAY_DEDUP_LOGS=0 to disable log deduplication, or see https://docs.ray.io/en/master/ray-observability/ray-logging.html#log-deduplication for more options.)\u001b[0m\n",
      "\u001b[36m(trainable pid=28600)\u001b[0m C:\\arrow\\cpp\\src\\arrow\\filesystem\\s3fs.cc:2829:  arrow::fs::FinalizeS3 was not called even though S3 was initialized.  This could lead to a segmentation fault at exit\u001b[32m [repeated 2x across cluster]\u001b[0m\n",
      "\u001b[36m(trainable pid=32468)\u001b[0m C:\\arrow\\cpp\\src\\arrow\\filesystem\\s3fs.cc:2829:  arrow::fs::FinalizeS3 was not called even though S3 was initialized.  This could lead to a segmentation fault at exit\u001b[32m [repeated 2x across cluster]\u001b[0m\n"
     ]
    }
   ],
   "source": [
    "TIMEOUT_S = 60\n",
    "ray.init(runtime_env={\"working_dir\": \".\"}, ignore_reinit_error=True)\n",
    "\n",
    "analysis = tune.run(\n",
    "    trainable,\n",
    "    config={\"x\": tune.uniform(-10, 10)},\n",
    "    metric=\"metric\",\n",
    "    mode=\"min\",\n",
    "    search_alg=OptunaSearch(),\n",
    "    time_budget_s=TIMEOUT_S,\n",
    "    num_samples=10_000,\n",
    "    trial_dirname_creator=lambda trial: f\"{trial.trainable_name}_{trial.trial_id}\",\n",
    ")"
   ]
  },
  {
   "cell_type": "code",
   "execution_count": 30,
   "metadata": {},
   "outputs": [],
   "source": [
    "import os\n",
    "\n",
    "module_path=os.getcwd()\n",
    "\n",
    "scheissdreck.__path__=module_path"
   ]
  },
  {
   "cell_type": "code",
   "execution_count": 34,
   "metadata": {},
   "outputs": [
    {
     "data": {
      "text/plain": [
       "['c:\\\\Users\\\\mathi\\\\OneDrive\\\\Universitaet\\\\2nd Semester\\\\5_Supervised Research\\\\genetic-algorithm-pumped-hydropower\\\\05 - Final Implementations and Simulations']"
      ]
     },
     "execution_count": 34,
     "metadata": {},
     "output_type": "execute_result"
    }
   ],
   "source": []
  },
  {
   "cell_type": "code",
   "execution_count": 31,
   "metadata": {},
   "outputs": [
    {
     "data": {
      "text/plain": [
       "'c:\\\\Users\\\\mathi\\\\OneDrive\\\\Universitaet\\\\2nd Semester\\\\5_Supervised Research\\\\genetic-algorithm-pumped-hydropower\\\\05 - Final Implementations and Simulations'"
      ]
     },
     "execution_count": 31,
     "metadata": {},
     "output_type": "execute_result"
    }
   ],
   "source": [
    "scheissdreck.__path__"
   ]
  },
  {
   "cell_type": "code",
   "execution_count": 33,
   "metadata": {},
   "outputs": [
    {
     "data": {
      "text/plain": [
       "['c:\\\\Users\\\\mathi\\\\miniconda3\\\\envs\\\\general\\\\Lib\\\\site-packages\\\\numpy']"
      ]
     },
     "execution_count": 33,
     "metadata": {},
     "output_type": "execute_result"
    }
   ],
   "source": [
    "np.__path__"
   ]
  }
 ],
 "metadata": {
  "kernelspec": {
   "display_name": "general",
   "language": "python",
   "name": "python3"
  },
  "language_info": {
   "codemirror_mode": {
    "name": "ipython",
    "version": 3
   },
   "file_extension": ".py",
   "mimetype": "text/x-python",
   "name": "python",
   "nbconvert_exporter": "python",
   "pygments_lexer": "ipython3",
   "version": "3.11.5"
  }
 },
 "nbformat": 4,
 "nbformat_minor": 2
}
