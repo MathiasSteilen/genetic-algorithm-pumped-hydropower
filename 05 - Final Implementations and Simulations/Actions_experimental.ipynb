{
 "cells": [
  {
   "cell_type": "markdown",
   "metadata": {},
   "source": [
    "# Pumped-Storage Optimisation with Genetic Algorithm and MILP"
   ]
  },
  {
   "cell_type": "code",
   "execution_count": 2,
   "metadata": {},
   "outputs": [],
   "source": [
    "import pandas as pd\n",
    "import numpy as np\n",
    "import plotnine as pn\n",
    "import plotly.graph_objs as go\n",
    "import plotly.express as px\n",
    "from tqdm.notebook import tqdm\n",
    "from IPython.display import clear_output, display\n",
    "import os\n",
    "from itertools import product\n",
    "\n",
    "# Import own implementations\n",
    "from milp import MILP\n",
    "import genetic\n",
    "from genetic import GA_Actions_Elite\n",
    "\n",
    "# Importing tuning libraries\n",
    "import ray\n",
    "from ray import train, tune\n",
    "from ray.tune.search.optuna import OptunaSearch\n",
    "from ray.tune.schedulers import ASHAScheduler\n",
    "\n",
    "background_colour = \"#F2F2F2\"\n",
    "pn.theme_set(\n",
    "    pn.theme_classic()\n",
    "    + pn.theme(\n",
    "        text=pn.element_text(family=\"monospace\"),\n",
    "        plot_background=pn.element_rect(\n",
    "            fill=background_colour, colour=background_colour\n",
    "        ),\n",
    "        panel_background=pn.element_rect(\n",
    "            fill=background_colour, colour=background_colour\n",
    "        ),\n",
    "        legend_background=pn.element_rect(\n",
    "            fill=background_colour, colour=background_colour\n",
    "        ),\n",
    "    )\n",
    ")\n",
    "\n",
    "%load_ext blackcellmagic"
   ]
  },
  {
   "cell_type": "markdown",
   "metadata": {},
   "source": [
    "## Reading the Price data"
   ]
  },
  {
   "cell_type": "code",
   "execution_count": 2,
   "metadata": {},
   "outputs": [
    {
     "data": {
      "text/html": [
       "<div>\n",
       "<style scoped>\n",
       "    .dataframe tbody tr th:only-of-type {\n",
       "        vertical-align: middle;\n",
       "    }\n",
       "\n",
       "    .dataframe tbody tr th {\n",
       "        vertical-align: top;\n",
       "    }\n",
       "\n",
       "    .dataframe thead th {\n",
       "        text-align: right;\n",
       "    }\n",
       "</style>\n",
       "<table border=\"1\" class=\"dataframe\">\n",
       "  <thead>\n",
       "    <tr style=\"text-align: right;\">\n",
       "      <th></th>\n",
       "      <th>spot</th>\n",
       "      <th>utc_time</th>\n",
       "    </tr>\n",
       "  </thead>\n",
       "  <tbody>\n",
       "    <tr>\n",
       "      <th>0</th>\n",
       "      <td>101.54</td>\n",
       "      <td>2022-01-01 00:00:00+00:00</td>\n",
       "    </tr>\n",
       "    <tr>\n",
       "      <th>1</th>\n",
       "      <td>52.13</td>\n",
       "      <td>2022-01-01 01:00:00+00:00</td>\n",
       "    </tr>\n",
       "  </tbody>\n",
       "</table>\n",
       "</div>"
      ],
      "text/plain": [
       "     spot                   utc_time\n",
       "0  101.54  2022-01-01 00:00:00+00:00\n",
       "1   52.13  2022-01-01 01:00:00+00:00"
      ]
     },
     "execution_count": 2,
     "metadata": {},
     "output_type": "execute_result"
    }
   ],
   "source": [
    "df = pd.read_csv(\"../01 - Data/example_week.csv\")\n",
    "df.head(2)"
   ]
  },
  {
   "cell_type": "code",
   "execution_count": 3,
   "metadata": {},
   "outputs": [
    {
     "name": "stdout",
     "output_type": "stream",
     "text": [
      "<class 'pandas.core.frame.DataFrame'>\n",
      "RangeIndex: 168 entries, 0 to 167\n",
      "Data columns (total 2 columns):\n",
      " #   Column    Non-Null Count  Dtype  \n",
      "---  ------    --------------  -----  \n",
      " 0   spot      168 non-null    float64\n",
      " 1   utc_time  168 non-null    object \n",
      "dtypes: float64(1), object(1)\n",
      "memory usage: 2.8+ KB\n"
     ]
    }
   ],
   "source": [
    "df.info()"
   ]
  },
  {
   "cell_type": "markdown",
   "metadata": {},
   "source": [
    "## The Power Plant"
   ]
  },
  {
   "cell_type": "code",
   "execution_count": 4,
   "metadata": {},
   "outputs": [],
   "source": [
    "plant_params = {\n",
    "    \"EFFICIENCY\": 0.75,\n",
    "    \"MAX_STORAGE_M3\": 5000,\n",
    "    \"MIN_STORAGE_M3\": 0,\n",
    "    \"TURBINE_POWER_MW\": 100,\n",
    "    \"PUMP_POWER_MW\": 100,\n",
    "    \"TURBINE_RATE_M3H\": 500,\n",
    "    \"MIN_STORAGE_MWH\": 0,\n",
    "    \"INITIAL_WATER_LEVEL_PCT\": 0,\n",
    "}\n",
    "plant_params[\"INITIAL_WATER_LEVEL\"] = (\n",
    "    plant_params[\"INITIAL_WATER_LEVEL_PCT\"] * plant_params[\"MAX_STORAGE_M3\"]\n",
    ")\n",
    "plant_params[\"PUMP_RATE_M3H\"] = (\n",
    "    plant_params[\"TURBINE_RATE_M3H\"] * plant_params[\"EFFICIENCY\"]\n",
    ")\n",
    "plant_params[\"MAX_STORAGE_MWH\"] = (\n",
    "    plant_params[\"MAX_STORAGE_M3\"] / plant_params[\"TURBINE_RATE_M3H\"]\n",
    ") * plant_params[\"TURBINE_POWER_MW\"]"
   ]
  },
  {
   "cell_type": "markdown",
   "metadata": {},
   "source": [
    "## MILP"
   ]
  },
  {
   "cell_type": "code",
   "execution_count": 5,
   "metadata": {},
   "outputs": [],
   "source": [
    "milp_solver = MILP(plant_params=plant_params, spot=df[\"spot\"], utc_time=df[\"utc_time\"])"
   ]
  },
  {
   "cell_type": "code",
   "execution_count": 6,
   "metadata": {},
   "outputs": [],
   "source": [
    "milp_model, milp_status, milp_profile = milp_solver.solve()"
   ]
  },
  {
   "cell_type": "code",
   "execution_count": 7,
   "metadata": {},
   "outputs": [
    {
     "data": {
      "text/plain": [
       "'Optimal'"
      ]
     },
     "execution_count": 7,
     "metadata": {},
     "output_type": "execute_result"
    }
   ],
   "source": [
    "milp_status"
   ]
  },
  {
   "cell_type": "code",
   "execution_count": 8,
   "metadata": {},
   "outputs": [
    {
     "data": {
      "text/html": [
       "<div>\n",
       "<style scoped>\n",
       "    .dataframe tbody tr th:only-of-type {\n",
       "        vertical-align: middle;\n",
       "    }\n",
       "\n",
       "    .dataframe tbody tr th {\n",
       "        vertical-align: top;\n",
       "    }\n",
       "\n",
       "    .dataframe thead th {\n",
       "        text-align: right;\n",
       "    }\n",
       "</style>\n",
       "<table border=\"1\" class=\"dataframe\">\n",
       "  <thead>\n",
       "    <tr style=\"text-align: right;\">\n",
       "      <th></th>\n",
       "      <th>water_level</th>\n",
       "      <th>action</th>\n",
       "      <th>colour_id</th>\n",
       "      <th>utc_time</th>\n",
       "      <th>spot</th>\n",
       "    </tr>\n",
       "  </thead>\n",
       "  <tbody>\n",
       "    <tr>\n",
       "      <th>0</th>\n",
       "      <td>0.0</td>\n",
       "      <td>0</td>\n",
       "      <td>nothing</td>\n",
       "      <td>2022-01-01 00:00:00+00:00</td>\n",
       "      <td>101.54</td>\n",
       "    </tr>\n",
       "    <tr>\n",
       "      <th>1</th>\n",
       "      <td>375.0</td>\n",
       "      <td>-1</td>\n",
       "      <td>pump</td>\n",
       "      <td>2022-01-01 01:00:00+00:00</td>\n",
       "      <td>52.13</td>\n",
       "    </tr>\n",
       "    <tr>\n",
       "      <th>2</th>\n",
       "      <td>750.0</td>\n",
       "      <td>-1</td>\n",
       "      <td>pump</td>\n",
       "      <td>2022-01-01 02:00:00+00:00</td>\n",
       "      <td>20.78</td>\n",
       "    </tr>\n",
       "    <tr>\n",
       "      <th>3</th>\n",
       "      <td>1125.0</td>\n",
       "      <td>-1</td>\n",
       "      <td>pump</td>\n",
       "      <td>2022-01-01 03:00:00+00:00</td>\n",
       "      <td>15.66</td>\n",
       "    </tr>\n",
       "    <tr>\n",
       "      <th>4</th>\n",
       "      <td>1500.0</td>\n",
       "      <td>-1</td>\n",
       "      <td>pump</td>\n",
       "      <td>2022-01-01 04:00:00+00:00</td>\n",
       "      <td>21.47</td>\n",
       "    </tr>\n",
       "  </tbody>\n",
       "</table>\n",
       "</div>"
      ],
      "text/plain": [
       "   water_level  action colour_id                  utc_time    spot\n",
       "0          0.0       0   nothing 2022-01-01 00:00:00+00:00  101.54\n",
       "1        375.0      -1      pump 2022-01-01 01:00:00+00:00   52.13\n",
       "2        750.0      -1      pump 2022-01-01 02:00:00+00:00   20.78\n",
       "3       1125.0      -1      pump 2022-01-01 03:00:00+00:00   15.66\n",
       "4       1500.0      -1      pump 2022-01-01 04:00:00+00:00   21.47"
      ]
     },
     "execution_count": 8,
     "metadata": {},
     "output_type": "execute_result"
    }
   ],
   "source": [
    "milp_profile.head()"
   ]
  },
  {
   "cell_type": "code",
   "execution_count": 9,
   "metadata": {},
   "outputs": [
    {
     "data": {
      "text/plain": [
       "350291.0"
      ]
     },
     "execution_count": 9,
     "metadata": {},
     "output_type": "execute_result"
    }
   ],
   "source": [
    "global_optimum = milp_model.objective.value()\n",
    "global_optimum"
   ]
  },
  {
   "cell_type": "markdown",
   "metadata": {},
   "source": [
    "## GA Actions"
   ]
  },
  {
   "cell_type": "code",
   "execution_count": 5,
   "metadata": {},
   "outputs": [
    {
     "data": {
      "image/png": "[encoded data removed]",
      "text/plain": [
       "<Figure size 640x480 with 1 Axes>"
      ]
     },
     "metadata": {
      "image/png": {
       "height": 480,
       "width": 640
      }
     },
     "output_type": "display_data"
    },
    {
     "data": {
      "text/plain": [
       "<Figure Size: (640 x 480)>"
      ]
     },
     "execution_count": 5,
     "metadata": {},
     "output_type": "execute_result"
    }
   ],
   "source": [
    "initial_mutation_rate = 0.5\n",
    "final_mutation_rate = 0.02\n",
    "total_generations = 300\n",
    "intersection_point = 0.8\n",
    "\n",
    "decay = (\n",
    "    pd.DataFrame({\"generation\": np.arange(0, 300)}).assign(\n",
    "        mut_rate=lambda x: np.where(\n",
    "            x[\"generation\"] <= int(intersection_point * total_generations),\n",
    "            initial_mutation_rate\n",
    "            * np.exp(\n",
    "                (np.log(final_mutation_rate) - np.log(initial_mutation_rate))\n",
    "                / (intersection_point * total_generations)\n",
    "            )**x[\"generation\"],\n",
    "            0.02,\n",
    "        )\n",
    "    )\n",
    ")\n",
    "\n",
    "(\n",
    "    pn.ggplot(\n",
    "        data=decay,\n",
    "        mapping=pn.aes(x=\"generation\", y=\"mut_rate\"),\n",
    "    )\n",
    "    + pn.geom_line()\n",
    ")"
   ]
  },
  {
   "cell_type": "code",
   "execution_count": 21,
   "metadata": {},
   "outputs": [
    {
     "data": {
      "text/plain": [
       "array([0.33333333, 0.33333333, 0.33333333])"
      ]
     },
     "execution_count": 21,
     "metadata": {},
     "output_type": "execute_result"
    }
   ],
   "source": [
    "np.full_like([1,2,3], 1/len([1,2,3]), dtype=float)"
   ]
  },
  {
   "cell_type": "code",
   "execution_count": 17,
   "metadata": {},
   "outputs": [
    {
     "data": {
      "text/plain": [
       "array([0, 0, 0])"
      ]
     },
     "execution_count": 17,
     "metadata": {},
     "output_type": "execute_result"
    }
   ],
   "source": [
    "np.full_like(, 0.5)"
   ]
  },
  {
   "cell_type": "markdown",
   "metadata": {},
   "source": [
    "### Training\n",
    "\n",
    "The best config during tuning was:\n",
    "\n",
    "```\n",
    "{'CXPB': 0.5529678171381575,\n",
    " 'MUTPB': 0.05004027982289111,\n",
    " 'MUT_IND_PB': 0.6603704827300051,\n",
    " 'TOURNAMENT_SIZE': 8.0,\n",
    " 'POP_SIZE': 5000.0}\n",
    "```\n",
    "\n",
    "Let's use this to train the genetic algorithm."
   ]
  },
  {
   "cell_type": "code",
   "execution_count": null,
   "metadata": {},
   "outputs": [],
   "source": []
  },
  {
   "cell_type": "code",
   "execution_count": 10,
   "metadata": {},
   "outputs": [],
   "source": [
    "best_config = {\n",
    "    \"MUTPB\": 1,\n",
    "    \"POP_SIZE\": 5000,\n",
    "    \"MUT_IND_PB\": 0.05,\n",
    "    \"ELITISM\": 0.1,\n",
    "}"
   ]
  },
  {
   "cell_type": "code",
   "execution_count": 11,
   "metadata": {},
   "outputs": [
    {
     "data": {
      "application/vnd.jupyter.widget-view+json": {
       "model_id": "f6c93d435fc74627b3043bf914a3f279",
       "version_major": 2,
       "version_minor": 0
      },
      "text/plain": [
       "  0%|          | 0/300 [00:00<?, ?it/s]"
      ]
     },
     "metadata": {},
     "output_type": "display_data"
    },
    {
     "name": "stdout",
     "output_type": "stream",
     "text": [
      "Selected: 500\n",
      "Std dev weighting: 0.0014576900175156042\n",
      "Weighting: 500\n",
      "Selected: 500\n",
      "Std dev weighting: 0.010088568708893868\n",
      "Weighting: 500\n",
      "Selected: 500\n",
      "Std dev weighting: 0.002545017915221768\n",
      "Weighting: 500\n",
      "Selected: 500\n",
      "Std dev weighting: 0.0012007022306257272\n",
      "Weighting: 500\n",
      "Selected: 500\n",
      "Std dev weighting: 0.0018088634991950043\n",
      "Weighting: 500\n",
      "Selected: 500\n",
      "Std dev weighting: 0.00192989384807464\n",
      "Weighting: 500\n",
      "Selected: 500\n",
      "Std dev weighting: 0.001666126073012885\n",
      "Weighting: 500\n",
      "Selected: 500\n",
      "Std dev weighting: 0.0016556367633133171\n",
      "Weighting: 500\n",
      "Selected: 500\n",
      "Std dev weighting: 0.0015728734892214036\n",
      "Weighting: 500\n",
      "Selected: 500\n",
      "Std dev weighting: 0.0016014609675594265\n",
      "Weighting: 500\n",
      "Selected: 500\n",
      "Std dev weighting: 0.0015560522161406252\n",
      "Weighting: 500\n",
      "Selected: 500\n",
      "Std dev weighting: 0.0015170747924793731\n",
      "Weighting: 500\n",
      "Selected: 500\n",
      "Std dev weighting: 0.0015124311941767806\n",
      "Weighting: 500\n",
      "Selected: 500\n",
      "Std dev weighting: 0.0016287079859687438\n",
      "Weighting: 500\n",
      "Selected: 500\n",
      "Std dev weighting: 0.0015048196093129242\n",
      "Weighting: 500\n",
      "Selected: 500\n",
      "Std dev weighting: 0.0015865490143542047\n",
      "Weighting: 500\n",
      "Selected: 500\n",
      "Std dev weighting: 0.0015987048999698183\n",
      "Weighting: 500\n",
      "Selected: 500\n",
      "Std dev weighting: 0.0015746333191918684\n",
      "Weighting: 500\n",
      "Selected: 500\n",
      "Std dev weighting: 0.001474032441293192\n",
      "Weighting: 500\n",
      "Selected: 500\n",
      "Std dev weighting: 0.0014693366980238478\n",
      "Weighting: 500\n",
      "Selected: 500\n",
      "Std dev weighting: 0.0014357576325082454\n",
      "Weighting: 500\n",
      "Selected: 500\n",
      "Std dev weighting: 0.00149692544458728\n",
      "Weighting: 500\n",
      "Selected: 500\n",
      "Std dev weighting: 0.001516124945551662\n",
      "Weighting: 500\n",
      "Selected: 500\n",
      "Std dev weighting: 0.0015472203171438795\n",
      "Weighting: 500\n",
      "Selected: 500\n",
      "Std dev weighting: 0.0015359115620297184\n",
      "Weighting: 500\n",
      "Selected: 500\n",
      "Std dev weighting: 0.001510745754021476\n",
      "Weighting: 500\n",
      "Selected: 500\n",
      "Std dev weighting: 0.0014310762139589906\n",
      "Weighting: 500\n",
      "Selected: 500\n",
      "Std dev weighting: 0.0015254123359552476\n",
      "Weighting: 500\n",
      "Selected: 500\n",
      "Std dev weighting: 0.0014932077154990288\n",
      "Weighting: 500\n",
      "Selected: 500\n",
      "Std dev weighting: 0.0015143341812937753\n",
      "Weighting: 500\n",
      "Selected: 500\n",
      "Std dev weighting: 0.0014166728717213298\n",
      "Weighting: 500\n",
      "Selected: 500\n",
      "Std dev weighting: 0.0014582714950832198\n",
      "Weighting: 500\n",
      "Selected: 500\n",
      "Std dev weighting: 0.0014169677518893929\n",
      "Weighting: 500\n",
      "Selected: 500\n",
      "Std dev weighting: 0.0014847924152760958\n",
      "Weighting: 500\n",
      "Selected: 500\n",
      "Std dev weighting: 0.001515327872319187\n",
      "Weighting: 500\n",
      "Selected: 500\n",
      "Std dev weighting: 0.0014992000308297906\n",
      "Weighting: 500\n",
      "Selected: 500\n",
      "Std dev weighting: 0.0014728987916014069\n",
      "Weighting: 500\n",
      "Selected: 500\n",
      "Std dev weighting: 0.001454524165731231\n",
      "Weighting: 500\n",
      "Selected: 500\n",
      "Std dev weighting: 0.0014831033421261448\n",
      "Weighting: 500\n",
      "Selected: 500\n",
      "Std dev weighting: 0.0014761716002274332\n",
      "Weighting: 500\n",
      "Selected: 500\n",
      "Std dev weighting: 0.0014931387027524374\n",
      "Weighting: 500\n",
      "Selected: 500\n",
      "Std dev weighting: 0.0014710698654995663\n",
      "Weighting: 500\n",
      "Selected: 500\n",
      "Std dev weighting: 0.0013556760509533929\n",
      "Weighting: 500\n",
      "Selected: 500\n",
      "Std dev weighting: 0.001412470319234882\n",
      "Weighting: 500\n",
      "Selected: 500\n",
      "Std dev weighting: 0.0014720434104920246\n",
      "Weighting: 500\n",
      "Selected: 500\n",
      "Std dev weighting: 0.0014162602164790683\n",
      "Weighting: 500\n",
      "Selected: 500\n",
      "Std dev weighting: 0.0014800344078012477\n",
      "Weighting: 500\n",
      "Selected: 500\n",
      "Std dev weighting: 0.0014363085007513114\n",
      "Weighting: 500\n",
      "Selected: 500\n",
      "Std dev weighting: 0.0014994430253997702\n",
      "Weighting: 500\n",
      "Selected: 500\n",
      "Std dev weighting: 0.0014281681750192862\n",
      "Weighting: 500\n",
      "Selected: 500\n",
      "Std dev weighting: 0.0013916183062077933\n",
      "Weighting: 500\n",
      "Selected: 500\n",
      "Std dev weighting: 0.0014837120715392872\n",
      "Weighting: 500\n",
      "Selected: 500\n",
      "Std dev weighting: 0.0014075691850267218\n",
      "Weighting: 500\n",
      "Selected: 500\n",
      "Std dev weighting: 0.001385953778483918\n",
      "Weighting: 500\n",
      "Selected: 500\n",
      "Std dev weighting: 0.0015208147074939277\n",
      "Weighting: 500\n",
      "Selected: 500\n",
      "Std dev weighting: 0.0014422542850067563\n",
      "Weighting: 500\n",
      "Selected: 500\n",
      "Std dev weighting: 0.0013921644607884421\n",
      "Weighting: 500\n",
      "Selected: 500\n",
      "Std dev weighting: 0.0013983930527027785\n",
      "Weighting: 500\n",
      "Selected: 500\n",
      "Std dev weighting: 0.001476764584737844\n",
      "Weighting: 500\n",
      "Selected: 500\n",
      "Std dev weighting: 0.0014471050764013457\n",
      "Weighting: 500\n",
      "Selected: 500\n",
      "Std dev weighting: 0.0014661508076532956\n",
      "Weighting: 500\n",
      "Selected: 500\n",
      "Std dev weighting: 0.0013689717607814852\n",
      "Weighting: 500\n",
      "Selected: 500\n",
      "Std dev weighting: 0.0014006148267118994\n",
      "Weighting: 500\n",
      "Selected: 500\n",
      "Std dev weighting: 0.0014063571413001719\n",
      "Weighting: 500\n",
      "Selected: 500\n",
      "Std dev weighting: 0.0013903085660425675\n",
      "Weighting: 500\n",
      "Selected: 500\n",
      "Std dev weighting: 0.0013673372101666009\n",
      "Weighting: 500\n",
      "Selected: 500\n",
      "Std dev weighting: 0.001357240640442246\n",
      "Weighting: 500\n",
      "Selected: 500\n",
      "Std dev weighting: 0.0014035349932859647\n",
      "Weighting: 500\n",
      "Selected: 500\n",
      "Std dev weighting: 0.0013805686847932954\n",
      "Weighting: 500\n",
      "Selected: 500\n",
      "Std dev weighting: 0.0013371111211710174\n",
      "Weighting: 500\n",
      "Selected: 500\n",
      "Std dev weighting: 0.0013790562842621258\n",
      "Weighting: 500\n",
      "Selected: 500\n",
      "Std dev weighting: 0.001446167757755579\n",
      "Weighting: 500\n",
      "Selected: 500\n",
      "Std dev weighting: 0.00133827668041488\n",
      "Weighting: 500\n",
      "Selected: 500\n",
      "Std dev weighting: 0.0012762302435553334\n",
      "Weighting: 500\n",
      "Selected: 500\n",
      "Std dev weighting: 0.0013198382027287013\n",
      "Weighting: 500\n",
      "Selected: 500\n",
      "Std dev weighting: 0.001454549458157325\n",
      "Weighting: 500\n",
      "Selected: 500\n",
      "Std dev weighting: 0.0014093194007706476\n",
      "Weighting: 500\n",
      "Selected: 500\n",
      "Std dev weighting: 0.0013541014816521534\n",
      "Weighting: 500\n",
      "Selected: 500\n",
      "Std dev weighting: 0.0014227241380209159\n",
      "Weighting: 500\n",
      "Selected: 500\n",
      "Std dev weighting: 0.0013712987520537148\n",
      "Weighting: 500\n",
      "Selected: 500\n",
      "Std dev weighting: 0.0013543771991712033\n",
      "Weighting: 500\n",
      "Selected: 500\n",
      "Std dev weighting: 0.0013640393118748194\n",
      "Weighting: 500\n",
      "Selected: 500\n",
      "Std dev weighting: 0.001365538517437152\n",
      "Weighting: 500\n",
      "Selected: 500\n",
      "Std dev weighting: 0.0013504811894009137\n",
      "Weighting: 500\n",
      "Selected: 500\n",
      "Std dev weighting: 0.001334926867576933\n",
      "Weighting: 500\n",
      "Selected: 500\n",
      "Std dev weighting: 0.0012763253059544053\n",
      "Weighting: 500\n",
      "Selected: 500\n",
      "Std dev weighting: 0.0012233074376359055\n",
      "Weighting: 500\n",
      "Selected: 500\n",
      "Std dev weighting: 0.0012725256792626468\n",
      "Weighting: 500\n",
      "Selected: 500\n",
      "Std dev weighting: 0.001241234211286788\n",
      "Weighting: 500\n",
      "Selected: 500\n",
      "Std dev weighting: 0.0011099679987335224\n",
      "Weighting: 500\n",
      "Selected: 500\n",
      "Std dev weighting: 0.001244760465254407\n",
      "Weighting: 500\n",
      "Selected: 500\n",
      "Std dev weighting: 0.0012982829851313955\n",
      "Weighting: 500\n",
      "Selected: 500\n",
      "Std dev weighting: 0.0022402790833934857\n",
      "Weighting: 500\n",
      "Selected: 500\n",
      "Std dev weighting: 0.0028544196998511917\n",
      "Weighting: 500\n",
      "Selected: 500\n",
      "Std dev weighting: 0.0009179162389053109\n",
      "Weighting: 500\n",
      "Selected: 500\n",
      "Std dev weighting: 0.0016734102197004514\n",
      "Weighting: 500\n",
      "Selected: 500\n",
      "Std dev weighting: 0.0016924308079277492\n",
      "Weighting: 500\n",
      "Selected: 500\n",
      "Std dev weighting: 0.0026025670911964133\n",
      "Weighting: 500\n",
      "Selected: 500\n",
      "Std dev weighting: 0.002262703440393393\n",
      "Weighting: 500\n",
      "Selected: 500\n",
      "Std dev weighting: 0.0017182065319581103\n",
      "Weighting: 500\n",
      "Selected: 500\n",
      "Std dev weighting: 0.001590673977631973\n",
      "Weighting: 500\n",
      "Selected: 500\n",
      "Std dev weighting: 0.0032606082374639573\n",
      "Weighting: 500\n",
      "Selected: 500\n",
      "Std dev weighting: 0.002722824283735639\n",
      "Weighting: 500\n",
      "Selected: 500\n",
      "Std dev weighting: 0.002520581786802185\n",
      "Weighting: 500\n",
      "Selected: 500\n",
      "Std dev weighting: 0.005426926979240598\n",
      "Weighting: 500\n",
      "Selected: 500\n",
      "Std dev weighting: 0.0016331265318491836\n",
      "Weighting: 500\n",
      "Selected: 500\n",
      "Std dev weighting: 0.002049890777469531\n",
      "Weighting: 500\n",
      "Selected: 500\n",
      "Std dev weighting: 0.005426450784751691\n",
      "Weighting: 500\n",
      "Selected: 500\n",
      "Std dev weighting: 0.0014832047213415253\n",
      "Weighting: 500\n",
      "Selected: 500\n",
      "Std dev weighting: 0.0010814469645388603\n",
      "Weighting: 500\n",
      "Selected: 500\n",
      "Std dev weighting: 0.03155946767611901\n",
      "Weighting: 500\n",
      "Selected: 500\n",
      "Std dev weighting: 0.0\n",
      "Weighting: 500\n"
     ]
    },
    {
     "ename": "ValueError",
     "evalue": "'p' must be 1-dimensional",
     "output_type": "error",
     "traceback": [
      "\u001b[1;31m---------------------------------------------------------------------------\u001b[0m",
      "\u001b[1;31mValueError\u001b[0m                                Traceback (most recent call last)",
      "Cell \u001b[1;32mIn[11], line 5\u001b[0m\n\u001b[0;32m      1\u001b[0m ga_solver \u001b[38;5;241m=\u001b[39m GA_Actions_Elite(\n\u001b[0;32m      2\u001b[0m     plant_params\u001b[38;5;241m=\u001b[39mplant_params, spot\u001b[38;5;241m=\u001b[39mdf[\u001b[38;5;124m\"\u001b[39m\u001b[38;5;124mspot\u001b[39m\u001b[38;5;124m\"\u001b[39m], utc_time\u001b[38;5;241m=\u001b[39mdf[\u001b[38;5;124m\"\u001b[39m\u001b[38;5;124mutc_time\u001b[39m\u001b[38;5;124m\"\u001b[39m]\n\u001b[0;32m      3\u001b[0m )\n\u001b[1;32m----> 5\u001b[0m population, fitnesses, best_ind, history \u001b[38;5;241m=\u001b[39m \u001b[43mga_solver\u001b[49m\u001b[38;5;241;43m.\u001b[39;49m\u001b[43mtrain\u001b[49m\u001b[43m(\u001b[49m\n\u001b[0;32m      6\u001b[0m \u001b[43m    \u001b[49m\u001b[43mconfig\u001b[49m\u001b[38;5;241;43m=\u001b[39;49m\u001b[43mbest_config\u001b[49m\u001b[43m,\u001b[49m\u001b[43m \u001b[49m\u001b[43mtotal_generations\u001b[49m\u001b[38;5;241;43m=\u001b[39;49m\u001b[38;5;241;43m300\u001b[39;49m\u001b[43m,\u001b[49m\u001b[43m \u001b[49m\u001b[43mtune_mode\u001b[49m\u001b[38;5;241;43m=\u001b[39;49m\u001b[38;5;28;43;01mFalse\u001b[39;49;00m\n\u001b[0;32m      7\u001b[0m \u001b[43m)\u001b[49m\n",
      "File \u001b[1;32mc:\\Users\\mathi\\OneDrive\\Universitaet\\2nd Semester\\5_Supervised Research\\genetic-algorithm-pumped-hydropower\\05 - Final Implementations and Simulations\\genetic.py:320\u001b[0m, in \u001b[0;36mGA_Actions_Elite.train\u001b[1;34m(self, config, total_generations, tune_mode)\u001b[0m\n\u001b[0;32m    318\u001b[0m \u001b[38;5;66;03m# Apply crossover and mutation on the offspring\u001b[39;00m\n\u001b[0;32m    319\u001b[0m \u001b[38;5;28;01mwhile\u001b[39;00m \u001b[38;5;28mlen\u001b[39m(offspring) \u001b[38;5;241m<\u001b[39m \u001b[38;5;28mlen\u001b[39m(population):\n\u001b[1;32m--> 320\u001b[0m     i1 \u001b[38;5;241m=\u001b[39m np\u001b[38;5;241m.\u001b[39mrandom\u001b[38;5;241m.\u001b[39mchoice(a\u001b[38;5;241m=\u001b[39m\u001b[38;5;28mlen\u001b[39m(selected), replace\u001b[38;5;241m=\u001b[39m\u001b[38;5;28;01mTrue\u001b[39;00m, p\u001b[38;5;241m=\u001b[39mfitnesses_weighting)\n\u001b[0;32m    321\u001b[0m     i2 \u001b[38;5;241m=\u001b[39m np\u001b[38;5;241m.\u001b[39mrandom\u001b[38;5;241m.\u001b[39mchoice(a\u001b[38;5;241m=\u001b[39m\u001b[38;5;28mlen\u001b[39m(selected), replace\u001b[38;5;241m=\u001b[39m\u001b[38;5;28;01mTrue\u001b[39;00m, p\u001b[38;5;241m=\u001b[39mfitnesses_weighting)\n\u001b[0;32m    323\u001b[0m     parent1_copy \u001b[38;5;241m=\u001b[39m copy\u001b[38;5;241m.\u001b[39mdeepcopy(selected[i1])\n",
      "File \u001b[1;32mnumpy\\\\random\\\\mtrand.pyx:965\u001b[0m, in \u001b[0;36mnumpy.random.mtrand.RandomState.choice\u001b[1;34m()\u001b[0m\n",
      "\u001b[1;31mValueError\u001b[0m: 'p' must be 1-dimensional"
     ]
    }
   ],
   "source": [
    "ga_solver = GA_Actions_Elite(\n",
    "    plant_params=plant_params, spot=df[\"spot\"], utc_time=df[\"utc_time\"]\n",
    ")\n",
    "\n",
    "population, fitnesses, best_ind, history = ga_solver.train(\n",
    "    config=best_config, total_generations=300, tune_mode=False\n",
    ")"
   ]
  },
  {
   "cell_type": "code",
   "execution_count": null,
   "metadata": {},
   "outputs": [
    {
     "data": {
      "text/html": [
       "<div>\n",
       "<style scoped>\n",
       "    .dataframe tbody tr th:only-of-type {\n",
       "        vertical-align: middle;\n",
       "    }\n",
       "\n",
       "    .dataframe tbody tr th {\n",
       "        vertical-align: top;\n",
       "    }\n",
       "\n",
       "    .dataframe thead th {\n",
       "        text-align: right;\n",
       "    }\n",
       "</style>\n",
       "<table border=\"1\" class=\"dataframe\">\n",
       "  <thead>\n",
       "    <tr style=\"text-align: right;\">\n",
       "      <th></th>\n",
       "      <th>generation</th>\n",
       "      <th>best</th>\n",
       "      <th>average</th>\n",
       "      <th>worst</th>\n",
       "    </tr>\n",
       "  </thead>\n",
       "  <tbody>\n",
       "    <tr>\n",
       "      <th>0</th>\n",
       "      <td>0</td>\n",
       "      <td>-293032.0</td>\n",
       "      <td>-9980398.028</td>\n",
       "      <td>-10460514.0</td>\n",
       "    </tr>\n",
       "    <tr>\n",
       "      <th>1</th>\n",
       "      <td>1</td>\n",
       "      <td>-297433.0</td>\n",
       "      <td>-9738494.206</td>\n",
       "      <td>-10389603.0</td>\n",
       "    </tr>\n",
       "    <tr>\n",
       "      <th>2</th>\n",
       "      <td>2</td>\n",
       "      <td>-243306.0</td>\n",
       "      <td>-9532594.974</td>\n",
       "      <td>-10409811.0</td>\n",
       "    </tr>\n",
       "    <tr>\n",
       "      <th>3</th>\n",
       "      <td>3</td>\n",
       "      <td>-161953.0</td>\n",
       "      <td>-9400322.812</td>\n",
       "      <td>-10345659.0</td>\n",
       "    </tr>\n",
       "    <tr>\n",
       "      <th>4</th>\n",
       "      <td>4</td>\n",
       "      <td>-153819.0</td>\n",
       "      <td>-9079379.224</td>\n",
       "      <td>-10440012.0</td>\n",
       "    </tr>\n",
       "    <tr>\n",
       "      <th>...</th>\n",
       "      <td>...</td>\n",
       "      <td>...</td>\n",
       "      <td>...</td>\n",
       "      <td>...</td>\n",
       "    </tr>\n",
       "    <tr>\n",
       "      <th>295</th>\n",
       "      <td>295</td>\n",
       "      <td>298162.0</td>\n",
       "      <td>-442471.250</td>\n",
       "      <td>-9750296.0</td>\n",
       "    </tr>\n",
       "    <tr>\n",
       "      <th>296</th>\n",
       "      <td>296</td>\n",
       "      <td>298162.0</td>\n",
       "      <td>-142067.478</td>\n",
       "      <td>-9744398.0</td>\n",
       "    </tr>\n",
       "    <tr>\n",
       "      <th>297</th>\n",
       "      <td>297</td>\n",
       "      <td>298162.0</td>\n",
       "      <td>-202000.952</td>\n",
       "      <td>-9749372.0</td>\n",
       "    </tr>\n",
       "    <tr>\n",
       "      <th>298</th>\n",
       "      <td>298</td>\n",
       "      <td>298162.0</td>\n",
       "      <td>-82016.506</td>\n",
       "      <td>-9722400.0</td>\n",
       "    </tr>\n",
       "    <tr>\n",
       "      <th>299</th>\n",
       "      <td>299</td>\n",
       "      <td>298162.0</td>\n",
       "      <td>118074.350</td>\n",
       "      <td>-9746730.0</td>\n",
       "    </tr>\n",
       "  </tbody>\n",
       "</table>\n",
       "<p>300 rows × 4 columns</p>\n",
       "</div>"
      ],
      "text/plain": [
       "     generation      best      average       worst\n",
       "0             0 -293032.0 -9980398.028 -10460514.0\n",
       "1             1 -297433.0 -9738494.206 -10389603.0\n",
       "2             2 -243306.0 -9532594.974 -10409811.0\n",
       "3             3 -161953.0 -9400322.812 -10345659.0\n",
       "4             4 -153819.0 -9079379.224 -10440012.0\n",
       "..          ...       ...          ...         ...\n",
       "295         295  298162.0  -442471.250  -9750296.0\n",
       "296         296  298162.0  -142067.478  -9744398.0\n",
       "297         297  298162.0  -202000.952  -9749372.0\n",
       "298         298  298162.0   -82016.506  -9722400.0\n",
       "299         299  298162.0   118074.350  -9746730.0\n",
       "\n",
       "[300 rows x 4 columns]"
      ]
     },
     "execution_count": 18,
     "metadata": {},
     "output_type": "execute_result"
    }
   ],
   "source": [
    "history"
   ]
  },
  {
   "cell_type": "code",
   "execution_count": null,
   "metadata": {},
   "outputs": [
    {
     "data": {
      "image/png": "[encoded data removed]",
      "text/plain": [
       "<Figure size 600x300 with 1 Axes>"
      ]
     },
     "metadata": {
      "image/png": {
       "height": 300,
       "width": 600
      }
     },
     "output_type": "display_data"
    },
    {
     "data": {
      "text/plain": [
       "<Figure Size: (600 x 300)>"
      ]
     },
     "execution_count": 19,
     "metadata": {},
     "output_type": "execute_result"
    }
   ],
   "source": [
    "(\n",
    "    pn.ggplot(\n",
    "        data=(\n",
    "            history.drop(\"worst\", axis=1)\n",
    "            .melt(id_vars=\"generation\")\n",
    "        ),\n",
    "        mapping=pn.aes(x=\"generation\", y=\"value\", colour=\"variable\"),\n",
    "    )\n",
    "    + pn.geom_line()\n",
    "    + pn.theme(figure_size=[6, 3])\n",
    "    # + pn.scale_y_log10()\n",
    ")"
   ]
  }
 ],
 "metadata": {
  "kernelspec": {
   "display_name": "general",
   "language": "python",
   "name": "python3"
  },
  "language_info": {
   "codemirror_mode": {
    "name": "ipython",
    "version": 3
   },
   "file_extension": ".py",
   "mimetype": "text/x-python",
   "name": "python",
   "nbconvert_exporter": "python",
   "pygments_lexer": "ipython3",
   "version": "3.11.5"
  }
 },
 "nbformat": 4,
 "nbformat_minor": 2
}
