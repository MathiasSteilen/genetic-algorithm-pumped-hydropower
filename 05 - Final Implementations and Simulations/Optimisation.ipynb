{
 "cells": [
  {
   "cell_type": "code",
   "execution_count": 4,
   "metadata": {},
   "outputs": [
    {
     "name": "stdout",
     "output_type": "stream",
     "text": [
      "The blackcellmagic extension is already loaded. To reload it, use:\n",
      "  %reload_ext blackcellmagic\n"
     ]
    }
   ],
   "source": [
    "import pandas as pd\n",
    "import numpy as np\n",
    "import plotnine as pn\n",
    "import plotly.graph_objs as go\n",
    "import plotly.express as px\n",
    "from tqdm.notebook import tqdm\n",
    "from IPython.display import clear_output, display\n",
    "import os\n",
    "from itertools import product\n",
    "from pulp import (\n",
    "    LpMaximize,\n",
    "    LpMinimize,\n",
    "    LpProblem,\n",
    "    LpStatus,\n",
    "    lpSum,\n",
    "    LpVariable,\n",
    "    LpContinuous,\n",
    "    LpInteger,\n",
    "    value\n",
    ")\n",
    "from itertools import product\n",
    "\n",
    "from deap import base, creator, tools, algorithms\n",
    "import imageio\n",
    "\n",
    "# Import own implementations\n",
    "from milp import MILP\n",
    "\n",
    "background_colour = \"#F2F2F2\"\n",
    "pn.theme_set(\n",
    "    pn.theme_classic()\n",
    "    + pn.theme(\n",
    "        text=pn.element_text(family=\"monospace\"),\n",
    "        plot_background=pn.element_rect(\n",
    "            fill=background_colour, colour=background_colour\n",
    "        ),\n",
    "        panel_background=pn.element_rect(\n",
    "            fill=background_colour, colour=background_colour\n",
    "        ),\n",
    "        legend_background=pn.element_rect(\n",
    "            fill=background_colour, colour=background_colour\n",
    "        ),\n",
    "    )\n",
    ")\n",
    "\n",
    "%load_ext blackcellmagic"
   ]
  },
  {
   "cell_type": "markdown",
   "metadata": {},
   "source": [
    "### Reading the Price data"
   ]
  },
  {
   "cell_type": "code",
   "execution_count": 2,
   "metadata": {},
   "outputs": [
    {
     "data": {
      "text/html": [
       "<div>\n",
       "<style scoped>\n",
       "    .dataframe tbody tr th:only-of-type {\n",
       "        vertical-align: middle;\n",
       "    }\n",
       "\n",
       "    .dataframe tbody tr th {\n",
       "        vertical-align: top;\n",
       "    }\n",
       "\n",
       "    .dataframe thead th {\n",
       "        text-align: right;\n",
       "    }\n",
       "</style>\n",
       "<table border=\"1\" class=\"dataframe\">\n",
       "  <thead>\n",
       "    <tr style=\"text-align: right;\">\n",
       "      <th></th>\n",
       "      <th>spot</th>\n",
       "      <th>utc_time</th>\n",
       "    </tr>\n",
       "  </thead>\n",
       "  <tbody>\n",
       "    <tr>\n",
       "      <th>0</th>\n",
       "      <td>101.54</td>\n",
       "      <td>2022-01-01 00:00:00+00:00</td>\n",
       "    </tr>\n",
       "    <tr>\n",
       "      <th>1</th>\n",
       "      <td>52.13</td>\n",
       "      <td>2022-01-01 01:00:00+00:00</td>\n",
       "    </tr>\n",
       "  </tbody>\n",
       "</table>\n",
       "</div>"
      ],
      "text/plain": [
       "     spot                   utc_time\n",
       "0  101.54  2022-01-01 00:00:00+00:00\n",
       "1   52.13  2022-01-01 01:00:00+00:00"
      ]
     },
     "execution_count": 2,
     "metadata": {},
     "output_type": "execute_result"
    }
   ],
   "source": [
    "df = pd.read_csv(\"../01 - Data/example_week.csv\")\n",
    "df.head(2)"
   ]
  },
  {
   "cell_type": "code",
   "execution_count": 3,
   "metadata": {},
   "outputs": [
    {
     "name": "stdout",
     "output_type": "stream",
     "text": [
      "<class 'pandas.core.frame.DataFrame'>\n",
      "RangeIndex: 168 entries, 0 to 167\n",
      "Data columns (total 2 columns):\n",
      " #   Column    Non-Null Count  Dtype  \n",
      "---  ------    --------------  -----  \n",
      " 0   spot      168 non-null    float64\n",
      " 1   utc_time  168 non-null    object \n",
      "dtypes: float64(1), object(1)\n",
      "memory usage: 2.8+ KB\n"
     ]
    }
   ],
   "source": [
    "df.info()"
   ]
  },
  {
   "cell_type": "markdown",
   "metadata": {},
   "source": [
    "### The Power Plant"
   ]
  },
  {
   "cell_type": "code",
   "execution_count": 5,
   "metadata": {},
   "outputs": [],
   "source": [
    "plant_params = {\n",
    "    \"EFFICIENCY\": 0.75,\n",
    "    \"MAX_STORAGE_M3\": 5000,\n",
    "    \"MIN_STORAGE_M3\": 0,\n",
    "    \"TURBINE_POWER_MW\": 100,\n",
    "    \"PUMP_POWER_MW\": 100,\n",
    "    \"TURBINE_RATE_M3H\": 500,\n",
    "    \"MIN_STORAGE_MWH\": 0,\n",
    "    \"INITIAL_WATER_LEVEL_PCT\": 0,\n",
    "}\n",
    "plant_params[\"INITIAL_WATER_LEVEL\"] = (\n",
    "    plant_params[\"INITIAL_WATER_LEVEL_PCT\"] * plant_params[\"MAX_STORAGE_M3\"]\n",
    ")\n",
    "plant_params[\"PUMP_RATE_M3H\"] = (\n",
    "    plant_params[\"TURBINE_RATE_M3H\"] * plant_params[\"EFFICIENCY\"]\n",
    ")\n",
    "plant_params[\"MAX_STORAGE_MWH\"] = (\n",
    "    plant_params[\"MAX_STORAGE_M3\"] / plant_params[\"TURBINE_RATE_M3H\"]\n",
    ") * plant_params[\"TURBINE_POWER_MW\"]"
   ]
  },
  {
   "cell_type": "markdown",
   "metadata": {},
   "source": [
    "### One Week"
   ]
  },
  {
   "cell_type": "code",
   "execution_count": 9,
   "metadata": {},
   "outputs": [],
   "source": [
    "milp_solver = MILP(plant_params=plant_params, spot=df[\"spot\"], utc_time=df[\"utc_time\"])"
   ]
  },
  {
   "cell_type": "code",
   "execution_count": 10,
   "metadata": {},
   "outputs": [],
   "source": [
    "milp_model, milp_status, milp_profile = milp_solver.solve()"
   ]
  },
  {
   "cell_type": "code",
   "execution_count": 11,
   "metadata": {},
   "outputs": [
    {
     "data": {
      "text/plain": [
       "'Optimal'"
      ]
     },
     "execution_count": 11,
     "metadata": {},
     "output_type": "execute_result"
    }
   ],
   "source": [
    "milp_status"
   ]
  },
  {
   "cell_type": "code",
   "execution_count": 13,
   "metadata": {},
   "outputs": [
    {
     "data": {
      "text/html": [
       "<div>\n",
       "<style scoped>\n",
       "    .dataframe tbody tr th:only-of-type {\n",
       "        vertical-align: middle;\n",
       "    }\n",
       "\n",
       "    .dataframe tbody tr th {\n",
       "        vertical-align: top;\n",
       "    }\n",
       "\n",
       "    .dataframe thead th {\n",
       "        text-align: right;\n",
       "    }\n",
       "</style>\n",
       "<table border=\"1\" class=\"dataframe\">\n",
       "  <thead>\n",
       "    <tr style=\"text-align: right;\">\n",
       "      <th></th>\n",
       "      <th>water_level</th>\n",
       "      <th>action</th>\n",
       "      <th>colour_id</th>\n",
       "      <th>utc_time</th>\n",
       "      <th>spot</th>\n",
       "    </tr>\n",
       "  </thead>\n",
       "  <tbody>\n",
       "    <tr>\n",
       "      <th>0</th>\n",
       "      <td>0.0</td>\n",
       "      <td>0</td>\n",
       "      <td>nothing</td>\n",
       "      <td>2022-01-01 00:00:00+00:00</td>\n",
       "      <td>101.54</td>\n",
       "    </tr>\n",
       "    <tr>\n",
       "      <th>1</th>\n",
       "      <td>375.0</td>\n",
       "      <td>-1</td>\n",
       "      <td>pump</td>\n",
       "      <td>2022-01-01 01:00:00+00:00</td>\n",
       "      <td>52.13</td>\n",
       "    </tr>\n",
       "    <tr>\n",
       "      <th>2</th>\n",
       "      <td>750.0</td>\n",
       "      <td>-1</td>\n",
       "      <td>pump</td>\n",
       "      <td>2022-01-01 02:00:00+00:00</td>\n",
       "      <td>20.78</td>\n",
       "    </tr>\n",
       "    <tr>\n",
       "      <th>3</th>\n",
       "      <td>1125.0</td>\n",
       "      <td>-1</td>\n",
       "      <td>pump</td>\n",
       "      <td>2022-01-01 03:00:00+00:00</td>\n",
       "      <td>15.66</td>\n",
       "    </tr>\n",
       "    <tr>\n",
       "      <th>4</th>\n",
       "      <td>1500.0</td>\n",
       "      <td>-1</td>\n",
       "      <td>pump</td>\n",
       "      <td>2022-01-01 04:00:00+00:00</td>\n",
       "      <td>21.47</td>\n",
       "    </tr>\n",
       "  </tbody>\n",
       "</table>\n",
       "</div>"
      ],
      "text/plain": [
       "   water_level  action colour_id                  utc_time    spot\n",
       "0          0.0       0   nothing 2022-01-01 00:00:00+00:00  101.54\n",
       "1        375.0      -1      pump 2022-01-01 01:00:00+00:00   52.13\n",
       "2        750.0      -1      pump 2022-01-01 02:00:00+00:00   20.78\n",
       "3       1125.0      -1      pump 2022-01-01 03:00:00+00:00   15.66\n",
       "4       1500.0      -1      pump 2022-01-01 04:00:00+00:00   21.47"
      ]
     },
     "execution_count": 13,
     "metadata": {},
     "output_type": "execute_result"
    }
   ],
   "source": [
    "milp_profile.head()"
   ]
  }
 ],
 "metadata": {
  "kernelspec": {
   "display_name": "general",
   "language": "python",
   "name": "python3"
  },
  "language_info": {
   "codemirror_mode": {
    "name": "ipython",
    "version": 3
   },
   "file_extension": ".py",
   "mimetype": "text/x-python",
   "name": "python",
   "nbconvert_exporter": "python",
   "pygments_lexer": "ipython3",
   "version": "3.11.5"
  }
 },
 "nbformat": 4,
 "nbformat_minor": 2
}
