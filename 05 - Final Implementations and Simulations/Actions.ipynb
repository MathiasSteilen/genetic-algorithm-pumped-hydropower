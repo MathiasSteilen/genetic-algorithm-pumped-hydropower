{
 "cells": [
  {
   "cell_type": "markdown",
   "metadata": {},
   "source": [
    "# Pumped-Storage Optimisation with Genetic Algorithm and MILP"
   ]
  },
  {
   "cell_type": "code",
   "execution_count": 1,
   "metadata": {},
   "outputs": [
    {
     "ename": "ImportError",
     "evalue": "cannot import name 'GA_Actions' from 'genetic' (c:\\Users\\mathi\\OneDrive\\Universitaet\\2nd Semester\\5_Supervised Research\\genetic-algorithm-pumped-hydropower\\05 - Final Implementations and Simulations\\genetic.py)",
     "output_type": "error",
     "traceback": [
      "\u001b[1;31m---------------------------------------------------------------------------\u001b[0m",
      "\u001b[1;31mImportError\u001b[0m                               Traceback (most recent call last)",
      "Cell \u001b[1;32mIn[1], line 14\u001b[0m\n\u001b[0;32m     12\u001b[0m \u001b[38;5;28;01mfrom\u001b[39;00m \u001b[38;5;21;01mmilp\u001b[39;00m \u001b[38;5;28;01mimport\u001b[39;00m MILP\n\u001b[0;32m     13\u001b[0m \u001b[38;5;28;01mimport\u001b[39;00m \u001b[38;5;21;01mgenetic\u001b[39;00m\n\u001b[1;32m---> 14\u001b[0m \u001b[38;5;28;01mfrom\u001b[39;00m \u001b[38;5;21;01mgenetic\u001b[39;00m \u001b[38;5;28;01mimport\u001b[39;00m GA_Actions\n\u001b[0;32m     16\u001b[0m \u001b[38;5;66;03m# Importing tuning libraries\u001b[39;00m\n\u001b[0;32m     17\u001b[0m \u001b[38;5;28;01mimport\u001b[39;00m \u001b[38;5;21;01mray\u001b[39;00m\n",
      "\u001b[1;31mImportError\u001b[0m: cannot import name 'GA_Actions' from 'genetic' (c:\\Users\\mathi\\OneDrive\\Universitaet\\2nd Semester\\5_Supervised Research\\genetic-algorithm-pumped-hydropower\\05 - Final Implementations and Simulations\\genetic.py)"
     ]
    }
   ],
   "source": [
    "import pandas as pd\n",
    "import numpy as np\n",
    "import plotnine as pn\n",
    "import plotly.graph_objs as go\n",
    "import plotly.express as px\n",
    "from tqdm.notebook import tqdm\n",
    "from IPython.display import clear_output, display\n",
    "import os\n",
    "from itertools import product\n",
    "\n",
    "# Import own implementations\n",
    "from milp import MILP\n",
    "import genetic\n",
    "from genetic import GA_Actions\n",
    "\n",
    "# Importing tuning libraries\n",
    "import ray\n",
    "from ray import train, tune\n",
    "from ray.tune.search.optuna import OptunaSearch\n",
    "from ray.tune.schedulers import ASHAScheduler\n",
    "\n",
    "background_colour = \"#F2F2F2\"\n",
    "pn.theme_set(\n",
    "    pn.theme_classic()\n",
    "    + pn.theme(\n",
    "        text=pn.element_text(family=\"monospace\"),\n",
    "        plot_background=pn.element_rect(\n",
    "            fill=background_colour, colour=background_colour\n",
    "        ),\n",
    "        panel_background=pn.element_rect(\n",
    "            fill=background_colour, colour=background_colour\n",
    "        ),\n",
    "        legend_background=pn.element_rect(\n",
    "            fill=background_colour, colour=background_colour\n",
    "        ),\n",
    "    )\n",
    ")\n",
    "\n",
    "%load_ext blackcellmagic"
   ]
  },
  {
   "cell_type": "markdown",
   "metadata": {},
   "source": [
    "## Reading the Price data"
   ]
  },
  {
   "cell_type": "code",
   "execution_count": null,
   "metadata": {},
   "outputs": [
    {
     "data": {
      "text/html": [
       "<div>\n",
       "<style scoped>\n",
       "    .dataframe tbody tr th:only-of-type {\n",
       "        vertical-align: middle;\n",
       "    }\n",
       "\n",
       "    .dataframe tbody tr th {\n",
       "        vertical-align: top;\n",
       "    }\n",
       "\n",
       "    .dataframe thead th {\n",
       "        text-align: right;\n",
       "    }\n",
       "</style>\n",
       "<table border=\"1\" class=\"dataframe\">\n",
       "  <thead>\n",
       "    <tr style=\"text-align: right;\">\n",
       "      <th></th>\n",
       "      <th>spot</th>\n",
       "      <th>utc_time</th>\n",
       "    </tr>\n",
       "  </thead>\n",
       "  <tbody>\n",
       "    <tr>\n",
       "      <th>0</th>\n",
       "      <td>101.54</td>\n",
       "      <td>2022-01-01 00:00:00+00:00</td>\n",
       "    </tr>\n",
       "    <tr>\n",
       "      <th>1</th>\n",
       "      <td>52.13</td>\n",
       "      <td>2022-01-01 01:00:00+00:00</td>\n",
       "    </tr>\n",
       "  </tbody>\n",
       "</table>\n",
       "</div>"
      ],
      "text/plain": [
       "     spot                   utc_time\n",
       "0  101.54  2022-01-01 00:00:00+00:00\n",
       "1   52.13  2022-01-01 01:00:00+00:00"
      ]
     },
     "execution_count": 2,
     "metadata": {},
     "output_type": "execute_result"
    }
   ],
   "source": [
    "df = pd.read_csv(\"../01 - Data/example_week.csv\")\n",
    "df.head(2)"
   ]
  },
  {
   "cell_type": "code",
   "execution_count": null,
   "metadata": {},
   "outputs": [
    {
     "name": "stdout",
     "output_type": "stream",
     "text": [
      "<class 'pandas.core.frame.DataFrame'>\n",
      "RangeIndex: 168 entries, 0 to 167\n",
      "Data columns (total 2 columns):\n",
      " #   Column    Non-Null Count  Dtype  \n",
      "---  ------    --------------  -----  \n",
      " 0   spot      168 non-null    float64\n",
      " 1   utc_time  168 non-null    object \n",
      "dtypes: float64(1), object(1)\n",
      "memory usage: 2.8+ KB\n"
     ]
    }
   ],
   "source": [
    "df.info()"
   ]
  },
  {
   "cell_type": "markdown",
   "metadata": {},
   "source": [
    "## The Power Plant"
   ]
  },
  {
   "cell_type": "code",
   "execution_count": null,
   "metadata": {},
   "outputs": [],
   "source": [
    "plant_params = {\n",
    "    \"EFFICIENCY\": 0.75,\n",
    "    \"MAX_STORAGE_M3\": 5000,\n",
    "    \"MIN_STORAGE_M3\": 0,\n",
    "    \"TURBINE_POWER_MW\": 100,\n",
    "    \"PUMP_POWER_MW\": 100,\n",
    "    \"TURBINE_RATE_M3H\": 500,\n",
    "    \"MIN_STORAGE_MWH\": 0,\n",
    "    \"INITIAL_WATER_LEVEL_PCT\": 0,\n",
    "}\n",
    "plant_params[\"INITIAL_WATER_LEVEL\"] = (\n",
    "    plant_params[\"INITIAL_WATER_LEVEL_PCT\"] * plant_params[\"MAX_STORAGE_M3\"]\n",
    ")\n",
    "plant_params[\"PUMP_RATE_M3H\"] = (\n",
    "    plant_params[\"TURBINE_RATE_M3H\"] * plant_params[\"EFFICIENCY\"]\n",
    ")\n",
    "plant_params[\"MAX_STORAGE_MWH\"] = (\n",
    "    plant_params[\"MAX_STORAGE_M3\"] / plant_params[\"TURBINE_RATE_M3H\"]\n",
    ") * plant_params[\"TURBINE_POWER_MW\"]"
   ]
  },
  {
   "cell_type": "markdown",
   "metadata": {},
   "source": [
    "## MILP"
   ]
  },
  {
   "cell_type": "code",
   "execution_count": null,
   "metadata": {},
   "outputs": [],
   "source": [
    "milp_solver = MILP(plant_params=plant_params, spot=df[\"spot\"], utc_time=df[\"utc_time\"])"
   ]
  },
  {
   "cell_type": "code",
   "execution_count": null,
   "metadata": {},
   "outputs": [],
   "source": [
    "milp_model, milp_status, milp_profile = milp_solver.solve()"
   ]
  },
  {
   "cell_type": "code",
   "execution_count": null,
   "metadata": {},
   "outputs": [
    {
     "data": {
      "text/plain": [
       "'Optimal'"
      ]
     },
     "execution_count": 7,
     "metadata": {},
     "output_type": "execute_result"
    }
   ],
   "source": [
    "milp_status"
   ]
  },
  {
   "cell_type": "code",
   "execution_count": null,
   "metadata": {},
   "outputs": [
    {
     "data": {
      "text/html": [
       "<div>\n",
       "<style scoped>\n",
       "    .dataframe tbody tr th:only-of-type {\n",
       "        vertical-align: middle;\n",
       "    }\n",
       "\n",
       "    .dataframe tbody tr th {\n",
       "        vertical-align: top;\n",
       "    }\n",
       "\n",
       "    .dataframe thead th {\n",
       "        text-align: right;\n",
       "    }\n",
       "</style>\n",
       "<table border=\"1\" class=\"dataframe\">\n",
       "  <thead>\n",
       "    <tr style=\"text-align: right;\">\n",
       "      <th></th>\n",
       "      <th>water_level</th>\n",
       "      <th>action</th>\n",
       "      <th>colour_id</th>\n",
       "      <th>utc_time</th>\n",
       "      <th>spot</th>\n",
       "    </tr>\n",
       "  </thead>\n",
       "  <tbody>\n",
       "    <tr>\n",
       "      <th>0</th>\n",
       "      <td>0.0</td>\n",
       "      <td>0</td>\n",
       "      <td>nothing</td>\n",
       "      <td>2022-01-01 00:00:00+00:00</td>\n",
       "      <td>101.54</td>\n",
       "    </tr>\n",
       "    <tr>\n",
       "      <th>1</th>\n",
       "      <td>375.0</td>\n",
       "      <td>-1</td>\n",
       "      <td>pump</td>\n",
       "      <td>2022-01-01 01:00:00+00:00</td>\n",
       "      <td>52.13</td>\n",
       "    </tr>\n",
       "    <tr>\n",
       "      <th>2</th>\n",
       "      <td>750.0</td>\n",
       "      <td>-1</td>\n",
       "      <td>pump</td>\n",
       "      <td>2022-01-01 02:00:00+00:00</td>\n",
       "      <td>20.78</td>\n",
       "    </tr>\n",
       "    <tr>\n",
       "      <th>3</th>\n",
       "      <td>1125.0</td>\n",
       "      <td>-1</td>\n",
       "      <td>pump</td>\n",
       "      <td>2022-01-01 03:00:00+00:00</td>\n",
       "      <td>15.66</td>\n",
       "    </tr>\n",
       "    <tr>\n",
       "      <th>4</th>\n",
       "      <td>1500.0</td>\n",
       "      <td>-1</td>\n",
       "      <td>pump</td>\n",
       "      <td>2022-01-01 04:00:00+00:00</td>\n",
       "      <td>21.47</td>\n",
       "    </tr>\n",
       "  </tbody>\n",
       "</table>\n",
       "</div>"
      ],
      "text/plain": [
       "   water_level  action colour_id                  utc_time    spot\n",
       "0          0.0       0   nothing 2022-01-01 00:00:00+00:00  101.54\n",
       "1        375.0      -1      pump 2022-01-01 01:00:00+00:00   52.13\n",
       "2        750.0      -1      pump 2022-01-01 02:00:00+00:00   20.78\n",
       "3       1125.0      -1      pump 2022-01-01 03:00:00+00:00   15.66\n",
       "4       1500.0      -1      pump 2022-01-01 04:00:00+00:00   21.47"
      ]
     },
     "execution_count": 8,
     "metadata": {},
     "output_type": "execute_result"
    }
   ],
   "source": [
    "milp_profile.head()"
   ]
  },
  {
   "cell_type": "markdown",
   "metadata": {},
   "source": [
    "## GA Actions"
   ]
  },
  {
   "cell_type": "code",
   "execution_count": 13,
   "metadata": {},
   "outputs": [
    {
     "data": {
      "text/html": [
       "<div>\n",
       "<style scoped>\n",
       "    .dataframe tbody tr th:only-of-type {\n",
       "        vertical-align: middle;\n",
       "    }\n",
       "\n",
       "    .dataframe tbody tr th {\n",
       "        vertical-align: top;\n",
       "    }\n",
       "\n",
       "    .dataframe thead th {\n",
       "        text-align: right;\n",
       "    }\n",
       "</style>\n",
       "<table border=\"1\" class=\"dataframe\">\n",
       "  <thead>\n",
       "    <tr style=\"text-align: right;\">\n",
       "      <th></th>\n",
       "      <th>gen</th>\n",
       "      <th>mut</th>\n",
       "    </tr>\n",
       "  </thead>\n",
       "  <tbody>\n",
       "    <tr>\n",
       "      <th>0</th>\n",
       "      <td>0</td>\n",
       "      <td>1.000000</td>\n",
       "    </tr>\n",
       "    <tr>\n",
       "      <th>1</th>\n",
       "      <td>1</td>\n",
       "      <td>0.999000</td>\n",
       "    </tr>\n",
       "    <tr>\n",
       "      <th>2</th>\n",
       "      <td>2</td>\n",
       "      <td>0.998001</td>\n",
       "    </tr>\n",
       "    <tr>\n",
       "      <th>3</th>\n",
       "      <td>3</td>\n",
       "      <td>0.997003</td>\n",
       "    </tr>\n",
       "    <tr>\n",
       "      <th>4</th>\n",
       "      <td>4</td>\n",
       "      <td>0.996006</td>\n",
       "    </tr>\n",
       "    <tr>\n",
       "      <th>...</th>\n",
       "      <td>...</td>\n",
       "      <td>...</td>\n",
       "    </tr>\n",
       "    <tr>\n",
       "      <th>295</th>\n",
       "      <td>295</td>\n",
       "      <td>0.744422</td>\n",
       "    </tr>\n",
       "    <tr>\n",
       "      <th>296</th>\n",
       "      <td>296</td>\n",
       "      <td>0.743677</td>\n",
       "    </tr>\n",
       "    <tr>\n",
       "      <th>297</th>\n",
       "      <td>297</td>\n",
       "      <td>0.742934</td>\n",
       "    </tr>\n",
       "    <tr>\n",
       "      <th>298</th>\n",
       "      <td>298</td>\n",
       "      <td>0.742191</td>\n",
       "    </tr>\n",
       "    <tr>\n",
       "      <th>299</th>\n",
       "      <td>299</td>\n",
       "      <td>0.741448</td>\n",
       "    </tr>\n",
       "  </tbody>\n",
       "</table>\n",
       "<p>300 rows × 2 columns</p>\n",
       "</div>"
      ],
      "text/plain": [
       "     gen       mut\n",
       "0      0  1.000000\n",
       "1      1  0.999000\n",
       "2      2  0.998001\n",
       "3      3  0.997003\n",
       "4      4  0.996006\n",
       "..   ...       ...\n",
       "295  295  0.744422\n",
       "296  296  0.743677\n",
       "297  297  0.742934\n",
       "298  298  0.742191\n",
       "299  299  0.741448\n",
       "\n",
       "[300 rows x 2 columns]"
      ]
     },
     "execution_count": 13,
     "metadata": {},
     "output_type": "execute_result"
    }
   ],
   "source": [
    "pd.DataFrame({\n",
    "    \"gen\": np.arange(0, 300)\n",
    "}).assign(mut = lambda x: 0.999**x[\"gen\"])"
   ]
  },
  {
   "cell_type": "markdown",
   "metadata": {},
   "source": [
    "Define:\n",
    "- G: 0.8*total_generations\n",
    "- I = Initial mutation rate\n",
    "- c = threshold reached at G"
   ]
  },
  {
   "cell_type": "code",
   "execution_count": 20,
   "metadata": {},
   "outputs": [
    {
     "data": {
      "text/plain": [
       "0.9838320318344105"
      ]
     },
     "execution_count": 20,
     "metadata": {},
     "output_type": "execute_result"
    }
   ],
   "source": [
    "np.exp((np.log(0.01) - np.log(0.5))/(300*0.8))"
   ]
  },
  {
   "cell_type": "markdown",
   "metadata": {},
   "source": [
    "### Training\n",
    "\n",
    "The best config during tuning was:\n",
    "\n",
    "```\n",
    "{'CXPB': 0.5529678171381575,\n",
    " 'MUTPB': 0.05004027982289111,\n",
    " 'MUT_IND_PB': 0.6603704827300051,\n",
    " 'TOURNAMENT_SIZE': 8.0,\n",
    " 'POP_SIZE': 5000.0}\n",
    "```\n",
    "\n",
    "Let's use this to train the genetic algorithm."
   ]
  },
  {
   "cell_type": "code",
   "execution_count": null,
   "metadata": {},
   "outputs": [],
   "source": [
    "best_config = {\n",
    "    \"MUTPB\": 1,\n",
    "    \"POP_SIZE\": 500,\n",
    "    \"CXPB\": 0.3,\n",
    "    \"MUT_IND_PB\": 0.05,\n",
    "    \"TOURNAMENT_SIZE\": 50,\n",
    "}"
   ]
  },
  {
   "cell_type": "code",
   "execution_count": null,
   "metadata": {},
   "outputs": [
    {
     "data": {
      "application/vnd.jupyter.widget-view+json": {
       "model_id": "3b1c6a857fb04e8d80b6281b4c9ba43f",
       "version_major": 2,
       "version_minor": 0
      },
      "text/plain": [
       "  0%|          | 0/300 [00:00<?, ?it/s]"
      ]
     },
     "metadata": {},
     "output_type": "display_data"
    },
    {
     "ename": "KeyboardInterrupt",
     "evalue": "",
     "output_type": "error",
     "traceback": [
      "\u001b[1;31m---------------------------------------------------------------------------\u001b[0m",
      "\u001b[1;31mKeyboardInterrupt\u001b[0m                         Traceback (most recent call last)",
      "Cell \u001b[1;32mIn[25], line 5\u001b[0m\n\u001b[0;32m      1\u001b[0m ga_solver \u001b[38;5;241m=\u001b[39m GA_Actions(\n\u001b[0;32m      2\u001b[0m     plant_params\u001b[38;5;241m=\u001b[39mplant_params, spot\u001b[38;5;241m=\u001b[39mdf[\u001b[38;5;124m\"\u001b[39m\u001b[38;5;124mspot\u001b[39m\u001b[38;5;124m\"\u001b[39m], utc_time\u001b[38;5;241m=\u001b[39mdf[\u001b[38;5;124m\"\u001b[39m\u001b[38;5;124mutc_time\u001b[39m\u001b[38;5;124m\"\u001b[39m]\n\u001b[0;32m      3\u001b[0m )\n\u001b[1;32m----> 5\u001b[0m population, fitnesses, best_ind, history \u001b[38;5;241m=\u001b[39m \u001b[43mga_solver\u001b[49m\u001b[38;5;241;43m.\u001b[39;49m\u001b[43mtrain\u001b[49m\u001b[43m(\u001b[49m\n\u001b[0;32m      6\u001b[0m \u001b[43m    \u001b[49m\u001b[43mconfig\u001b[49m\u001b[38;5;241;43m=\u001b[39;49m\u001b[43mbest_config\u001b[49m\u001b[43m,\u001b[49m\u001b[43m \u001b[49m\u001b[43mtotal_generations\u001b[49m\u001b[38;5;241;43m=\u001b[39;49m\u001b[38;5;241;43m300\u001b[39;49m\u001b[43m,\u001b[49m\u001b[43m \u001b[49m\u001b[43mtune_mode\u001b[49m\u001b[38;5;241;43m=\u001b[39;49m\u001b[38;5;28;43;01mFalse\u001b[39;49;00m\n\u001b[0;32m      7\u001b[0m \u001b[43m)\u001b[49m\n",
      "File \u001b[1;32mc:\\Users\\mathi\\OneDrive\\Universitaet\\2nd Semester\\5_Supervised Research\\genetic-algorithm-pumped-hydropower\\05 - Final Implementations and Simulations\\genetic.py:91\u001b[0m, in \u001b[0;36mGA_Actions.train\u001b[1;34m(self, config, total_generations, tune_mode)\u001b[0m\n\u001b[0;32m     88\u001b[0m offspring \u001b[38;5;241m=\u001b[39m toolbox\u001b[38;5;241m.\u001b[39mselect(population, \u001b[38;5;28mlen\u001b[39m(population))\n\u001b[0;32m     90\u001b[0m \u001b[38;5;66;03m# Clone the selected individuals\u001b[39;00m\n\u001b[1;32m---> 91\u001b[0m offspring \u001b[38;5;241m=\u001b[39m \u001b[38;5;28mlist\u001b[39m(\u001b[38;5;28mmap\u001b[39m(toolbox\u001b[38;5;241m.\u001b[39mclone, offspring))\n\u001b[0;32m     93\u001b[0m \u001b[38;5;66;03m# Apply crossover and mutation on the offspring\u001b[39;00m\n\u001b[0;32m     94\u001b[0m \u001b[38;5;28;01mfor\u001b[39;00m child1, child2 \u001b[38;5;129;01min\u001b[39;00m \u001b[38;5;28mzip\u001b[39m(offspring[::\u001b[38;5;241m2\u001b[39m], offspring[\u001b[38;5;241m1\u001b[39m::\u001b[38;5;241m2\u001b[39m]):\n",
      "File \u001b[1;32mc:\\Users\\mathi\\miniconda3\\envs\\general\\Lib\\copy.py:172\u001b[0m, in \u001b[0;36mdeepcopy\u001b[1;34m(x, memo, _nil)\u001b[0m\n\u001b[0;32m    170\u001b[0m                 y \u001b[38;5;241m=\u001b[39m x\n\u001b[0;32m    171\u001b[0m             \u001b[38;5;28;01melse\u001b[39;00m:\n\u001b[1;32m--> 172\u001b[0m                 y \u001b[38;5;241m=\u001b[39m \u001b[43m_reconstruct\u001b[49m\u001b[43m(\u001b[49m\u001b[43mx\u001b[49m\u001b[43m,\u001b[49m\u001b[43m \u001b[49m\u001b[43mmemo\u001b[49m\u001b[43m,\u001b[49m\u001b[43m \u001b[49m\u001b[38;5;241;43m*\u001b[39;49m\u001b[43mrv\u001b[49m\u001b[43m)\u001b[49m\n\u001b[0;32m    174\u001b[0m \u001b[38;5;66;03m# If is its own copy, don't memoize.\u001b[39;00m\n\u001b[0;32m    175\u001b[0m \u001b[38;5;28;01mif\u001b[39;00m y \u001b[38;5;129;01mis\u001b[39;00m \u001b[38;5;129;01mnot\u001b[39;00m x:\n",
      "File \u001b[1;32mc:\\Users\\mathi\\miniconda3\\envs\\general\\Lib\\copy.py:288\u001b[0m, in \u001b[0;36m_reconstruct\u001b[1;34m(x, memo, func, args, state, listiter, dictiter, deepcopy)\u001b[0m\n\u001b[0;32m    286\u001b[0m \u001b[38;5;28;01mif\u001b[39;00m deep:\n\u001b[0;32m    287\u001b[0m     \u001b[38;5;28;01mfor\u001b[39;00m item \u001b[38;5;129;01min\u001b[39;00m listiter:\n\u001b[1;32m--> 288\u001b[0m         item \u001b[38;5;241m=\u001b[39m \u001b[43mdeepcopy\u001b[49m\u001b[43m(\u001b[49m\u001b[43mitem\u001b[49m\u001b[43m,\u001b[49m\u001b[43m \u001b[49m\u001b[43mmemo\u001b[49m\u001b[43m)\u001b[49m\n\u001b[0;32m    289\u001b[0m         y\u001b[38;5;241m.\u001b[39mappend(item)\n\u001b[0;32m    290\u001b[0m \u001b[38;5;28;01melse\u001b[39;00m:\n",
      "File \u001b[1;32mc:\\Users\\mathi\\miniconda3\\envs\\general\\Lib\\copy.py:177\u001b[0m, in \u001b[0;36mdeepcopy\u001b[1;34m(x, memo, _nil)\u001b[0m\n\u001b[0;32m    175\u001b[0m \u001b[38;5;28;01mif\u001b[39;00m y \u001b[38;5;129;01mis\u001b[39;00m \u001b[38;5;129;01mnot\u001b[39;00m x:\n\u001b[0;32m    176\u001b[0m     memo[d] \u001b[38;5;241m=\u001b[39m y\n\u001b[1;32m--> 177\u001b[0m     \u001b[43m_keep_alive\u001b[49m\u001b[43m(\u001b[49m\u001b[43mx\u001b[49m\u001b[43m,\u001b[49m\u001b[43m \u001b[49m\u001b[43mmemo\u001b[49m\u001b[43m)\u001b[49m \u001b[38;5;66;03m# Make sure x lives at least as long as d\u001b[39;00m\n\u001b[0;32m    178\u001b[0m \u001b[38;5;28;01mreturn\u001b[39;00m y\n",
      "File \u001b[1;32mc:\\Users\\mathi\\miniconda3\\envs\\general\\Lib\\copy.py:243\u001b[0m, in \u001b[0;36m_keep_alive\u001b[1;34m(x, memo)\u001b[0m\n\u001b[0;32m    239\u001b[0m d[types\u001b[38;5;241m.\u001b[39mMethodType] \u001b[38;5;241m=\u001b[39m _deepcopy_method\n\u001b[0;32m    241\u001b[0m \u001b[38;5;28;01mdel\u001b[39;00m d\n\u001b[1;32m--> 243\u001b[0m \u001b[38;5;28;01mdef\u001b[39;00m \u001b[38;5;21m_keep_alive\u001b[39m(x, memo):\n\u001b[0;32m    244\u001b[0m \u001b[38;5;250m    \u001b[39m\u001b[38;5;124;03m\"\"\"Keeps a reference to the object x in the memo.\u001b[39;00m\n\u001b[0;32m    245\u001b[0m \n\u001b[0;32m    246\u001b[0m \u001b[38;5;124;03m    Because we remember objects by their id, we have\u001b[39;00m\n\u001b[1;32m   (...)\u001b[0m\n\u001b[0;32m    251\u001b[0m \u001b[38;5;124;03m    the memo itself...\u001b[39;00m\n\u001b[0;32m    252\u001b[0m \u001b[38;5;124;03m    \"\"\"\u001b[39;00m\n\u001b[0;32m    253\u001b[0m     \u001b[38;5;28;01mtry\u001b[39;00m:\n",
      "\u001b[1;31mKeyboardInterrupt\u001b[0m: "
     ]
    }
   ],
   "source": [
    "ga_solver = GA_Actions(\n",
    "    plant_params=plant_params, spot=df[\"spot\"], utc_time=df[\"utc_time\"]\n",
    ")\n",
    "\n",
    "population, fitnesses, best_ind, history = ga_solver.train(\n",
    "    config=best_config, total_generations=300, tune_mode=False\n",
    ")"
   ]
  },
  {
   "cell_type": "code",
   "execution_count": 18,
   "metadata": {},
   "outputs": [
    {
     "data": {
      "text/html": [
       "<div>\n",
       "<style scoped>\n",
       "    .dataframe tbody tr th:only-of-type {\n",
       "        vertical-align: middle;\n",
       "    }\n",
       "\n",
       "    .dataframe tbody tr th {\n",
       "        vertical-align: top;\n",
       "    }\n",
       "\n",
       "    .dataframe thead th {\n",
       "        text-align: right;\n",
       "    }\n",
       "</style>\n",
       "<table border=\"1\" class=\"dataframe\">\n",
       "  <thead>\n",
       "    <tr style=\"text-align: right;\">\n",
       "      <th></th>\n",
       "      <th>generation</th>\n",
       "      <th>best</th>\n",
       "      <th>average</th>\n",
       "      <th>worst</th>\n",
       "    </tr>\n",
       "  </thead>\n",
       "  <tbody>\n",
       "    <tr>\n",
       "      <th>0</th>\n",
       "      <td>0</td>\n",
       "      <td>-293032.0</td>\n",
       "      <td>-9980398.028</td>\n",
       "      <td>-10460514.0</td>\n",
       "    </tr>\n",
       "    <tr>\n",
       "      <th>1</th>\n",
       "      <td>1</td>\n",
       "      <td>-297433.0</td>\n",
       "      <td>-9738494.206</td>\n",
       "      <td>-10389603.0</td>\n",
       "    </tr>\n",
       "    <tr>\n",
       "      <th>2</th>\n",
       "      <td>2</td>\n",
       "      <td>-243306.0</td>\n",
       "      <td>-9532594.974</td>\n",
       "      <td>-10409811.0</td>\n",
       "    </tr>\n",
       "    <tr>\n",
       "      <th>3</th>\n",
       "      <td>3</td>\n",
       "      <td>-161953.0</td>\n",
       "      <td>-9400322.812</td>\n",
       "      <td>-10345659.0</td>\n",
       "    </tr>\n",
       "    <tr>\n",
       "      <th>4</th>\n",
       "      <td>4</td>\n",
       "      <td>-153819.0</td>\n",
       "      <td>-9079379.224</td>\n",
       "      <td>-10440012.0</td>\n",
       "    </tr>\n",
       "    <tr>\n",
       "      <th>...</th>\n",
       "      <td>...</td>\n",
       "      <td>...</td>\n",
       "      <td>...</td>\n",
       "      <td>...</td>\n",
       "    </tr>\n",
       "    <tr>\n",
       "      <th>295</th>\n",
       "      <td>295</td>\n",
       "      <td>298162.0</td>\n",
       "      <td>-442471.250</td>\n",
       "      <td>-9750296.0</td>\n",
       "    </tr>\n",
       "    <tr>\n",
       "      <th>296</th>\n",
       "      <td>296</td>\n",
       "      <td>298162.0</td>\n",
       "      <td>-142067.478</td>\n",
       "      <td>-9744398.0</td>\n",
       "    </tr>\n",
       "    <tr>\n",
       "      <th>297</th>\n",
       "      <td>297</td>\n",
       "      <td>298162.0</td>\n",
       "      <td>-202000.952</td>\n",
       "      <td>-9749372.0</td>\n",
       "    </tr>\n",
       "    <tr>\n",
       "      <th>298</th>\n",
       "      <td>298</td>\n",
       "      <td>298162.0</td>\n",
       "      <td>-82016.506</td>\n",
       "      <td>-9722400.0</td>\n",
       "    </tr>\n",
       "    <tr>\n",
       "      <th>299</th>\n",
       "      <td>299</td>\n",
       "      <td>298162.0</td>\n",
       "      <td>118074.350</td>\n",
       "      <td>-9746730.0</td>\n",
       "    </tr>\n",
       "  </tbody>\n",
       "</table>\n",
       "<p>300 rows × 4 columns</p>\n",
       "</div>"
      ],
      "text/plain": [
       "     generation      best      average       worst\n",
       "0             0 -293032.0 -9980398.028 -10460514.0\n",
       "1             1 -297433.0 -9738494.206 -10389603.0\n",
       "2             2 -243306.0 -9532594.974 -10409811.0\n",
       "3             3 -161953.0 -9400322.812 -10345659.0\n",
       "4             4 -153819.0 -9079379.224 -10440012.0\n",
       "..          ...       ...          ...         ...\n",
       "295         295  298162.0  -442471.250  -9750296.0\n",
       "296         296  298162.0  -142067.478  -9744398.0\n",
       "297         297  298162.0  -202000.952  -9749372.0\n",
       "298         298  298162.0   -82016.506  -9722400.0\n",
       "299         299  298162.0   118074.350  -9746730.0\n",
       "\n",
       "[300 rows x 4 columns]"
      ]
     },
     "execution_count": 18,
     "metadata": {},
     "output_type": "execute_result"
    }
   ],
   "source": [
    "history"
   ]
  },
  {
   "cell_type": "code",
   "execution_count": 19,
   "metadata": {},
   "outputs": [
    {
     "data": {
      "image/png": "[encoded data removed]",
      "text/plain": [
       "<Figure size 600x300 with 1 Axes>"
      ]
     },
     "metadata": {
      "image/png": {
       "height": 300,
       "width": 600
      }
     },
     "output_type": "display_data"
    },
    {
     "data": {
      "text/plain": [
       "<Figure Size: (600 x 300)>"
      ]
     },
     "execution_count": 19,
     "metadata": {},
     "output_type": "execute_result"
    }
   ],
   "source": [
    "(\n",
    "    pn.ggplot(\n",
    "        data=(\n",
    "            history.drop(\"worst\", axis=1)\n",
    "            .melt(id_vars=\"generation\")\n",
    "        ),\n",
    "        mapping=pn.aes(x=\"generation\", y=\"value\", colour=\"variable\"),\n",
    "    )\n",
    "    + pn.geom_line()\n",
    "    + pn.theme(figure_size=[6, 3])\n",
    "    # + pn.scale_y_log10()\n",
    ")"
   ]
  }
 ],
 "metadata": {
  "kernelspec": {
   "display_name": "general",
   "language": "python",
   "name": "python3"
  },
  "language_info": {
   "codemirror_mode": {
    "name": "ipython",
    "version": 3
   },
   "file_extension": ".py",
   "mimetype": "text/x-python",
   "name": "python",
   "nbconvert_exporter": "python",
   "pygments_lexer": "ipython3",
   "version": "3.11.5"
  }
 },
 "nbformat": 4,
 "nbformat_minor": 2
}
